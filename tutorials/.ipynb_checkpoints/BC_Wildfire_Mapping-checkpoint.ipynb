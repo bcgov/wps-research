{
 "cells": [
  {
   "cell_type": "markdown",
   "metadata": {
    "id": "Q4cJY74nZBVE"
   },
   "source": [
    "# **BC Wildfire Mapping**"
   ]
  },
  {
   "cell_type": "markdown",
   "metadata": {
    "id": "dsujLjYRakaY"
   },
   "source": [
    "<img src=\"https://i.cbc.ca/1.2423005.1384212710!/fileImage/httpImage/image.jpg_gen/derivatives/16x9_780/nero-recovers.jpg\" width=800>\n",
    "\n",
    "\n",
    "[Photo Source](https://www.cbc.ca/news/canada/calgary/badly-burned-puppy-nero-receives-outpouring-of-support-1.2422753)"
   ]
  },
  {
   "cell_type": "markdown",
   "metadata": {},
   "source": [
    "[Click here to access to the original Google Colab notebook](https://drive.google.com/file/d/1R7l9kQHj6Y142MoGKLWfprD7itmuPN6C/view?usp=sharing)"
   ]
  },
  {
   "cell_type": "markdown",
   "metadata": {
    "id": "TLIFDxNunvRW"
   },
   "source": [
    "## Introduction\n",
    "\n",
    "In Canada's westernmost province, British Columbia, the uptick in the severity and occurrence of wildfires have caused substantial damage to the social and ecological systems in the province. For instance, in 2023 alone, 2,245 total wildfires burned in the province amounting to 2.84 million hectares of land going up in smoke (BC Public Service, 2023). Although British Columbia is a large region in terms of land mass with diverse terrain, the total acres burnt was truly an anomaly as it had more than doubled the previous record of 1.215 million acres in 2018 (BC Public Service, 2023). As a result of these wildfires, tens of thousands of people were forced to evacuate their homes. While those fortunate were able to flee from the crisis, there were plenty of other living creatures who didn't have the means, ability, or fortune to escape such an agonizing fate. And so far, no estimates have been released on the amount of wildlife that perished in those flames.\n",
    "\n",
    "Whether a wildfire was caused through natural means like lightning strikes or by humans, detecting it and estimating its perimeter is one of the most challenging, yet impactful ways to minimize their destruction. One reason the early detection of a wildfire can be so impactful is that those that spark in remote forests can grow to unmanageable proportions before they spread close enough to an urban centre for locals to report it. Especially when we have a province as large as British Columbia with vast amounts of terrain such as dense forests, rocky mountains, or dry grasslands, communities on the ground may not be able to detect wildfires as easily if they start in a remote area until it's already burnt hundreds or thousands of acres and wildlife. As an example, on May 12th, 2023, a lightning strike in [Donnie Creek](https://maps.app.goo.gl/c6zBveq2N529DkHX9) which is an area about 136 km southeast of the nearest urban centre, Fort Nelson, lit the fuse for a wildfire to burn about 5,700 square km before it was finally contained (Kulkarni, 2023).\n",
    "\n",
    "However, with the recent advances in satellite technology and remote sensing techniques, we can now combine raw images from various orbiting satellites with maps to build estimations of a wildfire perimeter. In this article, we'll use the raw images from the Sentinel-2 and the GOES-16/17 satellites stored in the [Google Cloud Earth Engine data catalogue](https://developers.google.com/earth-engine/datasets/catalog/NOAA_GOES_16_FDCF#bands) to build a wildfire perimeter that we can overlay on a map that serves as a reference point to urban centres and other significant landmarks. By accessing image data from various satellite sources, we can highlight the strengths and weaknesses of the two approaches to have a broader foundation in wildfire detection and remote-sending more broadly.\n",
    "\n",
    "Let's begin."
   ]
  },
  {
   "cell_type": "markdown",
   "metadata": {
    "id": "XpBio11WQMyF"
   },
   "source": [
    "<img src=\"https://ichef.bbci.co.uk/news/1024/cpsprodpb/414E/production/_109781761_gettyimages-1188627293.jpg.webp\" width=800>\n",
    "\n",
    "\n",
    "[Photo Source](https://www.bbc.com/news/world-australia-50511963)"
   ]
  },
  {
   "cell_type": "markdown",
   "metadata": {
    "id": "YJj05qlbrwuu"
   },
   "source": [
    "First, a bit of bookkeeping. Let's ensure that we're using the same versions of packages required in this article to ensure reproducibility and to follow coding best practices."
   ]
  },
  {
   "cell_type": "code",
   "execution_count": 1,
   "metadata": {
    "colab": {
     "base_uri": "https://localhost:8080/"
    },
    "id": "k_xsUtyuYs_7",
    "outputId": "cd90e8f0-f062-49b9-dc83-0bf77f7916fc"
   },
   "outputs": [
    {
     "name": "stdout",
     "output_type": "stream",
     "text": [
      "Requirement already satisfied: earthengine-api==0.1.406 in c:\\users\\owner\\documents\\anaconda package\\lib\\site-packages (from -r requirements.txt (line 1)) (0.1.406)\n",
      "Requirement already satisfied: folium==0.14.0 in c:\\users\\owner\\documents\\anaconda package\\lib\\site-packages (from -r requirements.txt (line 2)) (0.14.0)\n"
     ]
    },
    {
     "name": "stderr",
     "output_type": "stream",
     "text": [
      "WARNING: Ignoring invalid distribution -rotobuf (c:\\users\\owner\\documents\\anaconda package\\lib\\site-packages)\n",
      "ERROR: Ignored the following versions that require a different python version: 0.20.5 Requires-Python >=3.8; 0.20.6 Requires-Python >=3.8; 0.20.7 Requires-Python >=3.8; 0.21.0 Requires-Python >=3.8; 0.22.0 Requires-Python >=3.8; 0.22.1 Requires-Python >=3.8; 0.23.0 Requires-Python >=3.8; 0.23.1 Requires-Python >=3.8; 0.23.2 Requires-Python >=3.8; 0.24.0 Requires-Python >=3.8; 0.24.1 Requires-Python >=3.8; 0.24.2 Requires-Python >=3.8; 0.24.3 Requires-Python >=3.8; 0.24.4 Requires-Python >=3.8; 0.25.0 Requires-Python >=3.8; 0.26.0 Requires-Python >=3.8; 0.27.0 Requires-Python >=3.8; 0.27.1 Requires-Python >=3.8; 0.27.2 Requires-Python >=3.8; 0.27.3 Requires-Python >=3.8; 0.27.4 Requires-Python >=3.8; 0.28.0 Requires-Python >=3.8; 0.28.1 Requires-Python >=3.8; 0.28.2 Requires-Python >=3.8; 0.29.0 Requires-Python >=3.8; 0.29.1 Requires-Python >=3.8; 0.29.2 Requires-Python >=3.8; 0.29.3 Requires-Python >=3.8; 0.29.4 Requires-Python >=3.8; 0.29.5 Requires-Python >=3.8; 0.29.6 Requires-Python >=3.8; 0.30.0 Requires-Python >=3.8; 0.30.1 Requires-Python >=3.8; 0.30.2 Requires-Python >=3.8; 0.30.3 Requires-Python >=3.8; 0.30.4 Requires-Python >=3.8; 0.31.0 Requires-Python >=3.8; 0.32.0 Requires-Python >=3.8; 0.32.1 Requires-Python >=3.8; 0.33.0 Requires-Python >=3.8; 0.33.1 Requires-Python >=3.8; 0.34.0 Requires-Python >=3.8\n",
      "ERROR: Could not find a version that satisfies the requirement geemap==0.32.1 (from versions: 0.1.0, 0.1.1, 0.1.2, 0.1.3, 0.1.4, 0.1.5, 0.1.6, 0.1.7, 0.2.0, 0.2.1, 0.3.0, 0.3.1, 0.3.2, 0.4.0, 0.4.1, 0.4.2, 0.5.0, 0.5.1, 0.5.2, 0.5.3, 0.5.4, 0.5.5, 0.6.0, 0.6.1, 0.6.2, 0.6.3, 0.6.4, 0.6.5, 0.6.6, 0.6.7, 0.6.8, 0.6.9, 0.6.10, 0.6.11, 0.6.12, 0.6.13, 0.6.14, 0.7.0, 0.7.1, 0.7.2, 0.7.3, 0.7.4, 0.7.5, 0.7.6, 0.7.7, 0.7.8, 0.7.9, 0.7.10, 0.7.11, 0.7.12, 0.7.13, 0.8.0, 0.8.1, 0.8.2, 0.8.3, 0.8.4, 0.8.5, 0.8.6, 0.8.7, 0.8.8, 0.8.9, 0.8.10, 0.8.11, 0.8.12, 0.8.13, 0.8.14, 0.8.15, 0.8.16, 0.8.17, 0.8.18, 0.9.0, 0.9.1, 0.9.2, 0.9.3, 0.9.4, 0.9.5, 0.10.0, 0.10.1, 0.10.2, 0.11.0, 0.11.1, 0.11.2, 0.11.3, 0.11.4, 0.11.5, 0.11.6, 0.11.7, 0.11.8, 0.12.0, 0.12.1, 0.13.0, 0.13.1, 0.13.2, 0.13.3, 0.13.4, 0.13.5, 0.13.6, 0.13.7, 0.13.8, 0.13.9, 0.13.10, 0.13.11, 0.14.0, 0.14.1, 0.14.2, 0.14.3, 0.15.0, 0.15.1, 0.15.2, 0.15.3, 0.15.4, 0.15.5, 0.16.0, 0.16.1, 0.16.2, 0.16.3, 0.16.4, 0.16.5, 0.16.6, 0.16.7, 0.16.8, 0.16.9, 0.17.0, 0.17.1, 0.17.2, 0.17.3, 0.18.0, 0.18.1, 0.18.2, 0.18.3, 0.19.0, 0.19.1, 0.19.2, 0.19.3, 0.19.4, 0.19.5, 0.19.6, 0.20.0, 0.20.1, 0.20.2, 0.20.3, 0.20.4)\n",
      "ERROR: No matching distribution found for geemap==0.32.1\n"
     ]
    }
   ],
   "source": [
    "# !pip install -r requirements.txt"
   ]
  },
  {
   "cell_type": "code",
   "execution_count": 2,
   "metadata": {
    "id": "rilgOE8QYs6j"
   },
   "outputs": [],
   "source": [
    "import ee\n",
    "import folium\n",
    "import geemap # geemap.core as geemap\n",
    "import pytz\n",
    "import os\n",
    "import numpy as np\n",
    "import pandas as pd\n",
    "import matplotlib.pyplot as plt\n",
    "from IPython.display import Image\n",
    "from datetime import datetime"
   ]
  },
  {
   "cell_type": "markdown",
   "metadata": {
    "id": "ivsdkiewzsIl"
   },
   "source": [
    "Next, we'll need to authenticate our Google accounts so that we're able to access the images and computing power associated with this task. For our teaching purposes, we should be able to access the resources we need for free. Here's a quick guide on accessing the Earth Engine API from the perspective of someone who's never registered a Google Cloud project. For those who have, feel free to skip this section."
   ]
  },
  {
   "cell_type": "markdown",
   "metadata": {
    "id": "gInlg484yP3N"
   },
   "source": [
    "#### [Setting up Google Earth Engine Cloud Project](https://developers.google.com/earth-engine/cloud/earthengine_cloud_project_setup)\n",
    "\n",
    "1. **Sign up for access to Google Earth Engine**\n",
    "   - Visit the [Google Earth Engine sign-up page](https://earthengine.google.com/signup/)\n",
    "   - Follow the instructions to request access:\n",
    "    - For this exercise, we recommend registering the project as for noncommercial, unpaid usage.\n",
    "    - Select the project type that most resembles your usage.\n",
    "    - If you don't already have an existing Google Cloud Project you'd want to register for the Earth Engine API, we recommend the option to \"Create a new Google Cloud Project\" that you can name accordingly.\n",
    "\n",
    "2. **[Create a Google Cloud Project](https://developers.google.com/earth-engine/cloud/earthengine_cloud_project_setup)**\n",
    "   - Go to the [Google Cloud Console projects page](https://console.cloud.google.com/cloud-resource-manager)\n",
    "   - Click on \"Create a project\" at the top of the page\n",
    "   - Provide a name for your `project name` in the appropriate field and specify the `location` or organization if necessary.\n",
    "   - Click \"create\" at the bottom of the page.\n",
    "\n",
    "3. **[Enable the Earth Engine API](https://console.cloud.google.com/apis/library/earthengine.googleapis.com)**\n",
    "   - In the Google Cloud Console, navigate to \"APIs & Services\" > \"Library\"\n",
    "   - Search for \"Earth Engine\"\n",
    "   - Click on \"Earth Engine API\" and then \"Enable\"\n",
    "\n",
    "4. **Enter the project id**\n",
    "  - Once you've created a Google Cloud Project, return to the [projects page]((https://console.cloud.google.com/cloud-resource-manager) and you should see your project listed under \"Resources\"\n",
    "  - Beside the \"name\" column is a column named `ID`. Copy the ID value associated to your project and enter it in the `project` argument of the `ee.Initialize()` function below.\n",
    "\n",
    "5. **Create credentials for Earth Engine**\n",
    "   - In the Google Cloud Console, go to \"APIs & Services\" > \"Credentials\"\n",
    "   - Click \"Create Credentials\" and under \"Select an API\" dropdown, choose \"Google Earth Engine API\"\n",
    "   - Fill in the details in the \"Service Account details\" step to create a service account.\n",
    "   - Generate a JSON key for this service account\n",
    "   - [Documentation: Creating Service Account Keys](https://cloud.google.com/iam/docs/creating-managing-service-account-keys)\n",
    "\n",
    "Note: You may need to wait for approval after signing up for Earth Engine access. The process usually takes a few days to a week."
   ]
  },
  {
   "cell_type": "markdown",
   "metadata": {
    "id": "D0yx_D8DxvBN"
   },
   "source": [
    "Now, enter Google cloud project name credentials in the `project` argument to authenticate our Earth Engine account."
   ]
  },
  {
   "cell_type": "code",
   "execution_count": 3,
   "metadata": {
    "colab": {
     "base_uri": "https://localhost:8080/",
     "height": 17
    },
    "id": "b_cXIM3vYs4N",
    "outputId": "b26fe635-c1f0-4057-b19a-29fa0abe3e4a"
   },
   "outputs": [
    {
     "data": {
      "text/html": [
       "\n",
       "            <style>\n",
       "                .geemap-dark {\n",
       "                    --jp-widgets-color: white;\n",
       "                    --jp-widgets-label-color: white;\n",
       "                    --jp-ui-font-color1: white;\n",
       "                    --jp-layout-color2: #454545;\n",
       "                    background-color: #383838;\n",
       "                }\n",
       "\n",
       "                .geemap-dark .jupyter-button {\n",
       "                    --jp-layout-color3: #383838;\n",
       "                }\n",
       "\n",
       "                .geemap-colab {\n",
       "                    background-color: var(--colab-primary-surface-color, white);\n",
       "                }\n",
       "\n",
       "                .geemap-colab .jupyter-button {\n",
       "                    --jp-layout-color3: var(--colab-primary-surface-color, white);\n",
       "                }\n",
       "            </style>\n",
       "            "
      ],
      "text/plain": [
       "<IPython.core.display.HTML object>"
      ]
     },
     "metadata": {},
     "output_type": "display_data"
    },
    {
     "name": "stdout",
     "output_type": "stream",
     "text": [
      "None\n"
     ]
    }
   ],
   "source": [
    "# Trigger the authentication flow.\n",
    "ee.Authenticate()\n",
    "\n",
    "# Initialize the library.\n",
    "project_name = os.environ.get(\"CYBERSE\")\n",
    "ee.Initialize(project=project_name) # \"bc-wildfire-422905\""
   ]
  },
  {
   "cell_type": "markdown",
   "metadata": {
    "id": "oe73qYHtZS6N"
   },
   "source": [
    "With our libraries and packages set up, let's now zoom in on a particular area of interest. One major fire we can study was the tragic [Lytton Creek wildfire](https://en.wikipedia.org/wiki/Lytton_wildfire) which began on June 30th, 2021 and ravaged for several weeks (Lindsay & Dickson, 2021). The outcome left about 2,000 residents without a home as the fire burned down the entire village and killed two people in the process (Lindsay & Dickson, 2021).\n",
    "\n",
    "The cause of the fire stemmed from a recipe of extreme climate events which severely elevated the risk of natural disasters in the area. For starters, just the day before the wildfire started, Lytton set an all-time record of having the highest temperature ever recorded in Canada with a high of 49.6$^{\\circ}$ that day. Under those extreme drought conditions with winds travelling up to 71 km an hour that day, the fire spread incredibly fast leaving residents and firefighters with little time to prepare for the fire.\n",
    "\n",
    "To get a first-hand glance at the severity of the Lytton Creek wildfire, let's start by pulling images from the Sentinel-2 satellite. For the rest of this analysis, we'll use the following latitude and longitude coordinates of the old Lytton library as the central point of our satellite data, specify a 40 km radius for GOES satellites, and a time range between `2024-06-15` and `2024-07-15` so that we have a view of Lytton before and after the fire. With our Sentinel-2 data, the 40km radius won't matter as much as when we explore the images from the GOES satellites because, as we'll see shortly, it takes large snapshots of the areas below which covers large sections of land."
   ]
  },
  {
   "cell_type": "code",
   "execution_count": 4,
   "metadata": {
    "colab": {
     "base_uri": "https://localhost:8080/",
     "height": 17
    },
    "id": "f5aWXtRJYs1q",
    "outputId": "c5ceaefe-f63f-4cbb-884e-536983a0be77"
   },
   "outputs": [
    {
     "data": {
      "text/html": [
       "\n",
       "            <style>\n",
       "                .geemap-dark {\n",
       "                    --jp-widgets-color: white;\n",
       "                    --jp-widgets-label-color: white;\n",
       "                    --jp-ui-font-color1: white;\n",
       "                    --jp-layout-color2: #454545;\n",
       "                    background-color: #383838;\n",
       "                }\n",
       "\n",
       "                .geemap-dark .jupyter-button {\n",
       "                    --jp-layout-color3: #383838;\n",
       "                }\n",
       "\n",
       "                .geemap-colab {\n",
       "                    background-color: var(--colab-primary-surface-color, white);\n",
       "                }\n",
       "\n",
       "                .geemap-colab .jupyter-button {\n",
       "                    --jp-layout-color3: var(--colab-primary-surface-color, white);\n",
       "                }\n",
       "            </style>\n",
       "            "
      ],
      "text/plain": [
       "<IPython.core.display.HTML object>"
      ]
     },
     "metadata": {},
     "output_type": "display_data"
    }
   ],
   "source": [
    "# Getting coordinates of the point of interest\n",
    "# which is the Lytton library as the poi for the Lytton Creek wildfire that started on 2021-06-30\n",
    "lat =  50.23124506328952\n",
    "lon = -121.58154057521354\n",
    "\n",
    "# start date of range to filter for\n",
    "start_date = \"2021-06-15\"\n",
    "\n",
    "# end date\n",
    "end_date = \"2021-07-15\" #\"2021-10-31\"\n",
    "\n",
    "# radius of interest in meters\n",
    "radius_of_interest_meters = 40000\n",
    "\n",
    "# point of interest as an ee.Geometry\n",
    "poi = ee.Geometry.Point([lon, lat]).buffer(radius_of_interest_meters)\n",
    "\n",
    "datetime_format = \"%Y-%m-%d %H:%M:%S\""
   ]
  },
  {
   "cell_type": "markdown",
   "metadata": {
    "id": "9oKsAcNW-wlh"
   },
   "source": [
    "## Data Extraction (Part 1)"
   ]
  },
  {
   "cell_type": "markdown",
   "metadata": {
    "id": "dKATh27eZ_Qx"
   },
   "source": [
    "### Extracting Sentinel-2 satellite data\n",
    "\n",
    "Before we go further, let's do a brief overview of what Sentinel-2 is and how it differs from other satellites. **Sentinel-2** is a set of twin satellites deployed by the European Space Agency with the stated mission of gaining a \"new perspective of our land and vegetation\" through the 13 spectral bands (European Space Agency, 2024).\n",
    "\n",
    "For those new to satellite imaging or remote sensing, **spectral bands** refer to the wavelength of light that is either reflected or absorbed from the Earth's surface and can be detected through satellite sensors. Examples of bands we'll be using here include short-wave infrared (SWIR) bands, near-infrared (NIR) bands, and red, green, and blue bands. In the context of remote sensing, we can analyze the light from these bands to make inferences about the state of the Earth's surface. Not only can we use this information to determine the location of wildfires, but we can also use it to ascertain information about an area's water quality or quantify its amount of forest cover.\n",
    "\n",
    "The way that Sentinel-2 gathers data is by orbiting around the Earth and taking snapshots of the surface approximately every 5 days (European Space Agency, 2024). Each image covers about 290 km which is great because it allows us to monitor large swaths of land with just a single image, given that it's clear and largely free from clouds or smoke blocking the surface.\n",
    "\n",
    "In addition to the image data, we'll also make use of some functions written by Justin Braaten (2022) and his team at Google to aid us in our analysis. The first is the `mask_s2_cloud()` function which helps us reduce the noise from the cloud for clearer imaging (Braaten, 2022). The second is the `add_ee_layer()` which essentially allows us to overlay satellite images on top of a Google map-like interface from the `folium` package so that we're able to cross-reference our raw image data with all the symbols and markers we'd typically see on a map (Braaten, 2022)."
   ]
  },
  {
   "cell_type": "code",
   "execution_count": 5,
   "metadata": {
    "colab": {
     "base_uri": "https://localhost:8080/",
     "height": 17
    },
    "id": "Agm19ss4Z-Cf",
    "outputId": "7ed3179e-f46f-4efd-b2de-55bea11f98ce"
   },
   "outputs": [
    {
     "data": {
      "text/html": [
       "\n",
       "            <style>\n",
       "                .geemap-dark {\n",
       "                    --jp-widgets-color: white;\n",
       "                    --jp-widgets-label-color: white;\n",
       "                    --jp-ui-font-color1: white;\n",
       "                    --jp-layout-color2: #454545;\n",
       "                    background-color: #383838;\n",
       "                }\n",
       "\n",
       "                .geemap-dark .jupyter-button {\n",
       "                    --jp-layout-color3: #383838;\n",
       "                }\n",
       "\n",
       "                .geemap-colab {\n",
       "                    background-color: var(--colab-primary-surface-color, white);\n",
       "                }\n",
       "\n",
       "                .geemap-colab .jupyter-button {\n",
       "                    --jp-layout-color3: var(--colab-primary-surface-color, white);\n",
       "                }\n",
       "            </style>\n",
       "            "
      ],
      "text/plain": [
       "<IPython.core.display.HTML object>"
      ]
     },
     "metadata": {},
     "output_type": "display_data"
    }
   ],
   "source": [
    "def mask_s2_clouds(image):\n",
    "  \"\"\"Masks clouds in a Sentinel-2 image using the QA band.\n",
    "\n",
    "  Args:\n",
    "      image (ee.Image): A Sentinel-2 image.\n",
    "\n",
    "  Returns:\n",
    "      ee.Image: A cloud-masked Sentinel-2 image.\n",
    "  \"\"\"\n",
    "  qa = image.select(\"QA60\")\n",
    "\n",
    "  # Bits 10 and 11 are clouds and cirrus, respectively.\n",
    "  cloud_bit_mask = 1 << 10\n",
    "  cirrus_bit_mask = 1 << 11\n",
    "\n",
    "  # Both flags should be set to zero, indicating clear conditions.\n",
    "  mask = (\n",
    "      qa.bitwiseAnd(cloud_bit_mask)\n",
    "      .eq(0)\n",
    "      .And(qa.bitwiseAnd(cirrus_bit_mask).eq(0))\n",
    "  )\n",
    "\n",
    "  return image.updateMask(mask).divide(10000)"
   ]
  },
  {
   "cell_type": "code",
   "execution_count": 6,
   "metadata": {
    "colab": {
     "base_uri": "https://localhost:8080/",
     "height": 17
    },
    "id": "POj82YNEzyE_",
    "outputId": "d888cbe7-cdfe-4060-902a-b5638e4b16c1"
   },
   "outputs": [
    {
     "data": {
      "text/html": [
       "\n",
       "            <style>\n",
       "                .geemap-dark {\n",
       "                    --jp-widgets-color: white;\n",
       "                    --jp-widgets-label-color: white;\n",
       "                    --jp-ui-font-color1: white;\n",
       "                    --jp-layout-color2: #454545;\n",
       "                    background-color: #383838;\n",
       "                }\n",
       "\n",
       "                .geemap-dark .jupyter-button {\n",
       "                    --jp-layout-color3: #383838;\n",
       "                }\n",
       "\n",
       "                .geemap-colab {\n",
       "                    background-color: var(--colab-primary-surface-color, white);\n",
       "                }\n",
       "\n",
       "                .geemap-colab .jupyter-button {\n",
       "                    --jp-layout-color3: var(--colab-primary-surface-color, white);\n",
       "                }\n",
       "            </style>\n",
       "            "
      ],
      "text/plain": [
       "<IPython.core.display.HTML object>"
      ]
     },
     "metadata": {},
     "output_type": "display_data"
    }
   ],
   "source": [
    "# Google function that allows ee layers on folium\n",
    "def add_ee_layer(self, ee_image_object, vis_params, name):\n",
    "    \"\"\"\n",
    "    Adds a method for displaying Earth Engine image tiles to folium map.\n",
    "    \"\"\"\n",
    "\n",
    "    map_id_dict = ee.Image(ee_image_object).getMapId(vis_params)\n",
    "    folium.raster_layers.TileLayer(\n",
    "        tiles=map_id_dict['tile_fetcher'].url_format,\n",
    "        attr='Map Data &copy; <a href=\"https://earthengine.google.com/\">Google Earth Engine</a>',\n",
    "        name=name,\n",
    "        overlay=True,\n",
    "        control=True\n",
    "    ).add_to(self)\n",
    "\n",
    "# Add Earth Engine drawing method to folium\n",
    "folium.Map.add_ee_layer = add_ee_layer"
   ]
  },
  {
   "cell_type": "markdown",
   "metadata": {
    "id": "tAOb4NZroFDG"
   },
   "source": [
    "With our date and geocoordinate parameters, we were able to extract 27 [Sentinel-2](https://developers.google.com/earth-engine/datasets/catalog/COPERNICUS_S2_SR_HARMONIZED#description) satellite images from the Google Earth Engine data catalogue and store it in our `s2_dataset` object."
   ]
  },
  {
   "cell_type": "code",
   "execution_count": 7,
   "metadata": {
    "colab": {
     "base_uri": "https://localhost:8080/",
     "height": 34
    },
    "id": "yx1OYij_Z95P",
    "outputId": "bbdf2a3f-628d-4723-a683-a2504895dfa8"
   },
   "outputs": [
    {
     "data": {
      "text/html": [
       "\n",
       "            <style>\n",
       "                .geemap-dark {\n",
       "                    --jp-widgets-color: white;\n",
       "                    --jp-widgets-label-color: white;\n",
       "                    --jp-ui-font-color1: white;\n",
       "                    --jp-layout-color2: #454545;\n",
       "                    background-color: #383838;\n",
       "                }\n",
       "\n",
       "                .geemap-dark .jupyter-button {\n",
       "                    --jp-layout-color3: #383838;\n",
       "                }\n",
       "\n",
       "                .geemap-colab {\n",
       "                    background-color: var(--colab-primary-surface-color, white);\n",
       "                }\n",
       "\n",
       "                .geemap-colab .jupyter-button {\n",
       "                    --jp-layout-color3: var(--colab-primary-surface-color, white);\n",
       "                }\n",
       "            </style>\n",
       "            "
      ],
      "text/plain": [
       "<IPython.core.display.HTML object>"
      ]
     },
     "metadata": {},
     "output_type": "display_data"
    },
    {
     "name": "stdout",
     "output_type": "stream",
     "text": [
      "Total number: 27\n"
     ]
    }
   ],
   "source": [
    "s2_dataset = ee.ImageCollection(\"COPERNICUS/S2_SR_HARMONIZED\").filterDate(start_date, end_date).filterBounds(poi).filter(ee.Filter.lt(\"CLOUDY_PIXEL_PERCENTAGE\", 20)).map(mask_s2_clouds)\n",
    "\n",
    "# how many images did we get?\n",
    "print(\"Total number:\", s2_dataset.size().getInfo())"
   ]
  },
  {
   "cell_type": "code",
   "execution_count": 8,
   "metadata": {
    "colab": {
     "base_uri": "https://localhost:8080/",
     "height": 1000
    },
    "id": "2htR-4b92JLL",
    "outputId": "4d57d634-2a94-4475-d04f-cfd2fa2e5202"
   },
   "outputs": [
    {
     "data": {
      "text/html": [
       "\n",
       "            <style>\n",
       "                .geemap-dark {\n",
       "                    --jp-widgets-color: white;\n",
       "                    --jp-widgets-label-color: white;\n",
       "                    --jp-ui-font-color1: white;\n",
       "                    --jp-layout-color2: #454545;\n",
       "                    background-color: #383838;\n",
       "                }\n",
       "\n",
       "                .geemap-dark .jupyter-button {\n",
       "                    --jp-layout-color3: #383838;\n",
       "                }\n",
       "\n",
       "                .geemap-colab {\n",
       "                    background-color: var(--colab-primary-surface-color, white);\n",
       "                }\n",
       "\n",
       "                .geemap-colab .jupyter-button {\n",
       "                    --jp-layout-color3: var(--colab-primary-surface-color, white);\n",
       "                }\n",
       "            </style>\n",
       "            "
      ],
      "text/plain": [
       "<IPython.core.display.HTML object>"
      ]
     },
     "metadata": {},
     "output_type": "display_data"
    },
    {
     "data": {
      "text/plain": [
       "{'type': 'Image',\n",
       " 'bands': [{'id': 'B1',\n",
       "   'data_type': {'type': 'PixelType',\n",
       "    'precision': 'float',\n",
       "    'min': 0,\n",
       "    'max': 6.553500175476074},\n",
       "   'dimensions': [1830, 1830],\n",
       "   'crs': 'EPSG:32610',\n",
       "   'crs_transform': [60, 0, 499980, 0, -60, 5600040]},\n",
       "  {'id': 'B2',\n",
       "   'data_type': {'type': 'PixelType',\n",
       "    'precision': 'float',\n",
       "    'min': 0,\n",
       "    'max': 6.553500175476074},\n",
       "   'dimensions': [10980, 10980],\n",
       "   'crs': 'EPSG:32610',\n",
       "   'crs_transform': [10, 0, 499980, 0, -10, 5600040]},\n",
       "  {'id': 'B3',\n",
       "   'data_type': {'type': 'PixelType',\n",
       "    'precision': 'float',\n",
       "    'min': 0,\n",
       "    'max': 6.553500175476074},\n",
       "   'dimensions': [10980, 10980],\n",
       "   'crs': 'EPSG:32610',\n",
       "   'crs_transform': [10, 0, 499980, 0, -10, 5600040]},\n",
       "  {'id': 'B4',\n",
       "   'data_type': {'type': 'PixelType',\n",
       "    'precision': 'float',\n",
       "    'min': 0,\n",
       "    'max': 6.553500175476074},\n",
       "   'dimensions': [10980, 10980],\n",
       "   'crs': 'EPSG:32610',\n",
       "   'crs_transform': [10, 0, 499980, 0, -10, 5600040]},\n",
       "  {'id': 'B5',\n",
       "   'data_type': {'type': 'PixelType',\n",
       "    'precision': 'float',\n",
       "    'min': 0,\n",
       "    'max': 6.553500175476074},\n",
       "   'dimensions': [5490, 5490],\n",
       "   'crs': 'EPSG:32610',\n",
       "   'crs_transform': [20, 0, 499980, 0, -20, 5600040]},\n",
       "  {'id': 'B6',\n",
       "   'data_type': {'type': 'PixelType',\n",
       "    'precision': 'float',\n",
       "    'min': 0,\n",
       "    'max': 6.553500175476074},\n",
       "   'dimensions': [5490, 5490],\n",
       "   'crs': 'EPSG:32610',\n",
       "   'crs_transform': [20, 0, 499980, 0, -20, 5600040]},\n",
       "  {'id': 'B7',\n",
       "   'data_type': {'type': 'PixelType',\n",
       "    'precision': 'float',\n",
       "    'min': 0,\n",
       "    'max': 6.553500175476074},\n",
       "   'dimensions': [5490, 5490],\n",
       "   'crs': 'EPSG:32610',\n",
       "   'crs_transform': [20, 0, 499980, 0, -20, 5600040]},\n",
       "  {'id': 'B8',\n",
       "   'data_type': {'type': 'PixelType',\n",
       "    'precision': 'float',\n",
       "    'min': 0,\n",
       "    'max': 6.553500175476074},\n",
       "   'dimensions': [10980, 10980],\n",
       "   'crs': 'EPSG:32610',\n",
       "   'crs_transform': [10, 0, 499980, 0, -10, 5600040]},\n",
       "  {'id': 'B8A',\n",
       "   'data_type': {'type': 'PixelType',\n",
       "    'precision': 'float',\n",
       "    'min': 0,\n",
       "    'max': 6.553500175476074},\n",
       "   'dimensions': [5490, 5490],\n",
       "   'crs': 'EPSG:32610',\n",
       "   'crs_transform': [20, 0, 499980, 0, -20, 5600040]},\n",
       "  {'id': 'B9',\n",
       "   'data_type': {'type': 'PixelType',\n",
       "    'precision': 'float',\n",
       "    'min': 0,\n",
       "    'max': 6.553500175476074},\n",
       "   'dimensions': [1830, 1830],\n",
       "   'crs': 'EPSG:32610',\n",
       "   'crs_transform': [60, 0, 499980, 0, -60, 5600040]},\n",
       "  {'id': 'B11',\n",
       "   'data_type': {'type': 'PixelType',\n",
       "    'precision': 'float',\n",
       "    'min': 0,\n",
       "    'max': 6.553500175476074},\n",
       "   'dimensions': [5490, 5490],\n",
       "   'crs': 'EPSG:32610',\n",
       "   'crs_transform': [20, 0, 499980, 0, -20, 5600040]},\n",
       "  {'id': 'B12',\n",
       "   'data_type': {'type': 'PixelType',\n",
       "    'precision': 'float',\n",
       "    'min': 0,\n",
       "    'max': 6.553500175476074},\n",
       "   'dimensions': [5490, 5490],\n",
       "   'crs': 'EPSG:32610',\n",
       "   'crs_transform': [20, 0, 499980, 0, -20, 5600040]},\n",
       "  {'id': 'AOT',\n",
       "   'data_type': {'type': 'PixelType',\n",
       "    'precision': 'float',\n",
       "    'min': 0,\n",
       "    'max': 6.553500175476074},\n",
       "   'dimensions': [10980, 10980],\n",
       "   'crs': 'EPSG:32610',\n",
       "   'crs_transform': [10, 0, 499980, 0, -10, 5600040]},\n",
       "  {'id': 'WVP',\n",
       "   'data_type': {'type': 'PixelType',\n",
       "    'precision': 'float',\n",
       "    'min': 0,\n",
       "    'max': 429496.75},\n",
       "   'dimensions': [10980, 10980],\n",
       "   'crs': 'EPSG:32610',\n",
       "   'crs_transform': [10, 0, 499980, 0, -10, 5600040]},\n",
       "  {'id': 'SCL',\n",
       "   'data_type': {'type': 'PixelType',\n",
       "    'precision': 'float',\n",
       "    'min': 0,\n",
       "    'max': 0.02550000138580799},\n",
       "   'dimensions': [5490, 5490],\n",
       "   'crs': 'EPSG:32610',\n",
       "   'crs_transform': [20, 0, 499980, 0, -20, 5600040]},\n",
       "  {'id': 'TCI_R',\n",
       "   'data_type': {'type': 'PixelType',\n",
       "    'precision': 'float',\n",
       "    'min': 0,\n",
       "    'max': 0.02550000138580799},\n",
       "   'dimensions': [10980, 10980],\n",
       "   'crs': 'EPSG:32610',\n",
       "   'crs_transform': [10, 0, 499980, 0, -10, 5600040]},\n",
       "  {'id': 'TCI_G',\n",
       "   'data_type': {'type': 'PixelType',\n",
       "    'precision': 'float',\n",
       "    'min': 0,\n",
       "    'max': 0.02550000138580799},\n",
       "   'dimensions': [10980, 10980],\n",
       "   'crs': 'EPSG:32610',\n",
       "   'crs_transform': [10, 0, 499980, 0, -10, 5600040]},\n",
       "  {'id': 'TCI_B',\n",
       "   'data_type': {'type': 'PixelType',\n",
       "    'precision': 'float',\n",
       "    'min': 0,\n",
       "    'max': 0.02550000138580799},\n",
       "   'dimensions': [10980, 10980],\n",
       "   'crs': 'EPSG:32610',\n",
       "   'crs_transform': [10, 0, 499980, 0, -10, 5600040]},\n",
       "  {'id': 'MSK_CLDPRB',\n",
       "   'data_type': {'type': 'PixelType',\n",
       "    'precision': 'float',\n",
       "    'min': 0,\n",
       "    'max': 0.02550000138580799},\n",
       "   'dimensions': [5490, 5490],\n",
       "   'crs': 'EPSG:32610',\n",
       "   'crs_transform': [20, 0, 499980, 0, -20, 5600040]},\n",
       "  {'id': 'MSK_SNWPRB',\n",
       "   'data_type': {'type': 'PixelType',\n",
       "    'precision': 'float',\n",
       "    'min': 0,\n",
       "    'max': 0.02550000138580799},\n",
       "   'dimensions': [5490, 5490],\n",
       "   'crs': 'EPSG:32610',\n",
       "   'crs_transform': [20, 0, 499980, 0, -20, 5600040]},\n",
       "  {'id': 'QA10',\n",
       "   'data_type': {'type': 'PixelType',\n",
       "    'precision': 'float',\n",
       "    'min': 0,\n",
       "    'max': 6.553500175476074},\n",
       "   'dimensions': [10980, 10980],\n",
       "   'crs': 'EPSG:32610',\n",
       "   'crs_transform': [10, 0, 499980, 0, -10, 5600040]},\n",
       "  {'id': 'QA20',\n",
       "   'data_type': {'type': 'PixelType',\n",
       "    'precision': 'float',\n",
       "    'min': 0,\n",
       "    'max': 429496.75},\n",
       "   'dimensions': [5490, 5490],\n",
       "   'crs': 'EPSG:32610',\n",
       "   'crs_transform': [20, 0, 499980, 0, -20, 5600040]},\n",
       "  {'id': 'QA60',\n",
       "   'data_type': {'type': 'PixelType',\n",
       "    'precision': 'float',\n",
       "    'min': 0,\n",
       "    'max': 6.553500175476074},\n",
       "   'dimensions': [1830, 1830],\n",
       "   'crs': 'EPSG:32610',\n",
       "   'crs_transform': [60, 0, 499980, 0, -60, 5600040]},\n",
       "  {'id': 'MSK_CLASSI_OPAQUE',\n",
       "   'data_type': {'type': 'PixelType',\n",
       "    'precision': 'float',\n",
       "    'min': 0,\n",
       "    'max': 0.02550000138580799},\n",
       "   'crs': 'EPSG:4326',\n",
       "   'crs_transform': [1, 0, 0, 0, 1, 0]},\n",
       "  {'id': 'MSK_CLASSI_CIRRUS',\n",
       "   'data_type': {'type': 'PixelType',\n",
       "    'precision': 'float',\n",
       "    'min': 0,\n",
       "    'max': 0.02550000138580799},\n",
       "   'crs': 'EPSG:4326',\n",
       "   'crs_transform': [1, 0, 0, 0, 1, 0]},\n",
       "  {'id': 'MSK_CLASSI_SNOW_ICE',\n",
       "   'data_type': {'type': 'PixelType',\n",
       "    'precision': 'float',\n",
       "    'min': 0,\n",
       "    'max': 0.02550000138580799},\n",
       "   'crs': 'EPSG:4326',\n",
       "   'crs_transform': [1, 0, 0, 0, 1, 0]}],\n",
       " 'properties': {'system:footprint': {'type': 'LinearRing',\n",
       "   'coordinates': [[-122.14795105746178, 49.56171188412999],\n",
       "    [-122.14790729300596, 49.561707970022596],\n",
       "    [-121.48241050636712, 49.55489352105015],\n",
       "    [-121.48226960340271, 49.55496128313161],\n",
       "    [-121.46675880041288, 50.048507122600746],\n",
       "    [-121.4508124104042, 50.54198671004312],\n",
       "    [-121.4509189803275, 50.542078108087395],\n",
       "    [-121.75711809372756, 50.54574935708296],\n",
       "    [-121.75716507148948, 50.54572402339127],\n",
       "    [-121.75723134979857, 50.54571899943225],\n",
       "    [-121.75900275964747, 50.54355299175503],\n",
       "    [-121.76260511189456, 50.53548757569572],\n",
       "    [-121.76802146843227, 50.522593146684116],\n",
       "    [-122.085461682415, 49.72846537606213],\n",
       "    [-122.092463120295, 49.71017094157173],\n",
       "    [-122.1483051727211, 49.56271071386906],\n",
       "    [-122.14831939269564, 49.5618909054019],\n",
       "    [-122.14828018587892, 49.561861416962806],\n",
       "    [-122.14827217485382, 49.56181930543502],\n",
       "    [-122.14795105746178, 49.56171188412999]]},\n",
       "  'system:index': '20210621T185921_20210621T190713_T10UEA'}}"
      ]
     },
     "execution_count": 8,
     "metadata": {},
     "output_type": "execute_result"
    }
   ],
   "source": [
    "# Getting a feel of the resulting data structure\n",
    "s2_dataset.first().getInfo()"
   ]
  },
  {
   "cell_type": "markdown",
   "metadata": {
    "id": "kCGgago99wLM"
   },
   "source": [
    "If we look at each of the 27 images pulled from the Earth Engine bucket, we'll find that the image quality on most of them isn't great as there are often clouds or smoke blocking our view of Lytton. Therefore, we've decided to manually select those with the best image quality, store the list in our `interesting_images` object, and display them to get a visual of the raw images we'll be working with."
   ]
  },
  {
   "cell_type": "code",
   "execution_count": 9,
   "metadata": {
    "colab": {
     "base_uri": "https://localhost:8080/",
     "height": 1000
    },
    "id": "zGX67k_8eFUp",
    "outputId": "dd4843a8-7f2b-45f5-9901-68024f5c0455"
   },
   "outputs": [
    {
     "data": {
      "text/html": [
       "\n",
       "            <style>\n",
       "                .geemap-dark {\n",
       "                    --jp-widgets-color: white;\n",
       "                    --jp-widgets-label-color: white;\n",
       "                    --jp-ui-font-color1: white;\n",
       "                    --jp-layout-color2: #454545;\n",
       "                    background-color: #383838;\n",
       "                }\n",
       "\n",
       "                .geemap-dark .jupyter-button {\n",
       "                    --jp-layout-color3: #383838;\n",
       "                }\n",
       "\n",
       "                .geemap-colab {\n",
       "                    background-color: var(--colab-primary-surface-color, white);\n",
       "                }\n",
       "\n",
       "                .geemap-colab .jupyter-button {\n",
       "                    --jp-layout-color3: var(--colab-primary-surface-color, white);\n",
       "                }\n",
       "            </style>\n",
       "            "
      ],
      "text/plain": [
       "<IPython.core.display.HTML object>"
      ]
     },
     "metadata": {},
     "output_type": "display_data"
    },
    {
     "name": "stdout",
     "output_type": "stream",
     "text": [
      "Image #5 / Date: 2021-06-26 11:59:19 PST/PDT\n"
     ]
    },
    {
     "data": {
      "text/html": [
       "<img src=\"https://earthengine.googleapis.com/v1/projects/earthengine-legacy/thumbnails/dfb0c070630ecd5a8013f6231d4cc694-1f062edcfbd8543ee608caabd9c322bf:getPixels\"/>"
      ],
      "text/plain": [
       "<IPython.core.display.Image object>"
      ]
     },
     "metadata": {},
     "output_type": "display_data"
    },
    {
     "name": "stdout",
     "output_type": "stream",
     "text": [
      "Image #9 / Date: 2021-06-29 12:09:19 PST/PDT\n"
     ]
    },
    {
     "data": {
      "text/html": [
       "<img src=\"https://earthengine.googleapis.com/v1/projects/earthengine-legacy/thumbnails/2c0e15eb5cc214d8d9b7542aa726b02c-b91fbc11ec82c54885d73e8c0931ab72:getPixels\"/>"
      ],
      "text/plain": [
       "<IPython.core.display.Image object>"
      ]
     },
     "metadata": {},
     "output_type": "display_data"
    },
    {
     "name": "stdout",
     "output_type": "stream",
     "text": [
      "Image #11 / Date: 2021-07-01 11:59:21 PST/PDT\n"
     ]
    },
    {
     "data": {
      "text/html": [
       "<img src=\"https://earthengine.googleapis.com/v1/projects/earthengine-legacy/thumbnails/9de826559647f1daa3484179967ebce0-f88308cf56d1866639de5ebad50b9813:getPixels\"/>"
      ],
      "text/plain": [
       "<IPython.core.display.Image object>"
      ]
     },
     "metadata": {},
     "output_type": "display_data"
    },
    {
     "name": "stdout",
     "output_type": "stream",
     "text": [
      "Image #12 / Date: 2021-07-01 11:59:21 PST/PDT\n"
     ]
    },
    {
     "data": {
      "text/html": [
       "<img src=\"https://earthengine.googleapis.com/v1/projects/earthengine-legacy/thumbnails/a926b0d4b19874d9ea6db33e27e31d4c-489a188c07d012d7d0165bd765142f20:getPixels\"/>"
      ],
      "text/plain": [
       "<IPython.core.display.Image object>"
      ]
     },
     "metadata": {},
     "output_type": "display_data"
    },
    {
     "name": "stdout",
     "output_type": "stream",
     "text": [
      "Image #15 / Date: 2021-07-06 11:59:19 PST/PDT\n"
     ]
    },
    {
     "data": {
      "text/html": [
       "<img src=\"https://earthengine.googleapis.com/v1/projects/earthengine-legacy/thumbnails/62c0a789b36c5043d003ff9e7a9054f5-3e8a5d6507279b97ba65a0a9c78267f5:getPixels\"/>"
      ],
      "text/plain": [
       "<IPython.core.display.Image object>"
      ]
     },
     "metadata": {},
     "output_type": "display_data"
    },
    {
     "name": "stdout",
     "output_type": "stream",
     "text": [
      "Image #18 / Date: 2021-07-09 12:09:19 PST/PDT\n"
     ]
    },
    {
     "data": {
      "text/html": [
       "<img src=\"https://earthengine.googleapis.com/v1/projects/earthengine-legacy/thumbnails/830bda6bdd6661ec06dde43047e45e2b-e3271985b9f388e1f2fe059d7b6a6cb1:getPixels\"/>"
      ],
      "text/plain": [
       "<IPython.core.display.Image object>"
      ]
     },
     "metadata": {},
     "output_type": "display_data"
    },
    {
     "name": "stdout",
     "output_type": "stream",
     "text": [
      "Image #26 / Date: 2021-07-14 12:09:21 PST/PDT\n"
     ]
    },
    {
     "data": {
      "text/html": [
       "<img src=\"https://earthengine.googleapis.com/v1/projects/earthengine-legacy/thumbnails/d6e76b765f50ea560511c8ef7b738392-6e45d34bd56568e223ae4e8aca0ecad1:getPixels\"/>"
      ],
      "text/plain": [
       "<IPython.core.display.Image object>"
      ]
     },
     "metadata": {},
     "output_type": "display_data"
    }
   ],
   "source": [
    "s2_params = {\n",
    "      \"bands\": [\"B4\", \"B3\", \"B2\"],  # True color (RGB)\n",
    "      \"min\": 0,\n",
    "      \"max\": 0.3,  # Adjust min and max values as needed\n",
    "      \"dimensions\": 512,\n",
    "      \"region\": poi\n",
    "  }\n",
    "\n",
    "# Generating an image list for s2 data\n",
    "s2_image_list = s2_dataset.toList(s2_dataset.size())\n",
    "\n",
    "# Selecting the images with decent quality\n",
    "# To access all the scraped images, replace the following objects:\n",
    "# interesting_images = range(s2_dataset.size().getInfo())\n",
    "interesting_images = [5, 9, 11, 12, 15, 18, 26]\n",
    "\n",
    "for i in interesting_images:\n",
    "  try:\n",
    "\n",
    "    # Extract the timestamp string\n",
    "    s2_property = s2_image_list.get(i).getInfo()\n",
    "    timestamp_str = s2_property[\"properties\"][\"system:index\"].split(\"_\")[0]\n",
    "\n",
    "    # Convert to datetime object\n",
    "    datetime_obj = datetime.strptime(timestamp_str, \"%Y%m%dT%H%M%S\")\n",
    "\n",
    "    # Make the UTC datetime timezone-aware\n",
    "    dt_utc = pytz.utc.localize(datetime_obj)\n",
    "\n",
    "    # Convert to Pacific Time\n",
    "    pacific_tz = pytz.timezone(\"America/Los_Angeles\")\n",
    "    dt_pacific = dt_utc.astimezone(pacific_tz).strftime(datetime_format)\n",
    "\n",
    "    print(f\"Image #{i} / Date: {dt_pacific} PST/PDT\")\n",
    "\n",
    "    s2_image = ee.Image(s2_image_list.get(i))\n",
    "    s2_url = s2_image.getThumbUrl(s2_params)\n",
    "    display(Image(url=s2_url))\n",
    "\n",
    "  except:\n",
    "    pass"
   ]
  },
  {
   "cell_type": "markdown",
   "metadata": {
    "id": "q-WxjFbC9-CR"
   },
   "source": [
    "### Data Transformation: Applying Normalized Burn Ratio (NBR) layers from extracted images\n",
    "\n",
    "Now that we've extracted our raw images, we can see how difficult it is to spot activity from the naked eye. This is where the importance of spectral bands comes into play. Since Sentinel-2 is capable of gathering data from shortwave infrared (SWIR) and near-infrared (NIR) bands, we can use a combination of the two to transform our image data and give us a better understanding of the area that's been burnt (or burning).\n",
    "\n",
    "What we're describing here is a **normalized burn ratio (NBR)** which uses the following formula to identify the burned areas in a particular and visually quantify the severity of the burn:\n",
    "\n",
    "$ NBR = (NIR - SWIR) / (NIR + SWIR) $\n",
    "\n",
    "The NBR formula uses the difference between NIR and SWIR reflectance, normalized by their sum, to quantify burned areas based on the numerical values we observe from the NIR and SWIR bands (United Nations, n.d.). Without going too deep into the maths, let's briefly describe the purpose of each underlying band.\n",
    "\n",
    "**Near-infrared (NIR)** light is often reflected the more healthier or greener the vegetation is on a given land surface. In areas that have been burnt, we'll see less of this spectral wave reflected from the Earth's surface (United Nations, n.d.).\n",
    "\n",
    "On the other hand, **short-wave infrared (SWIR)** light is reflected based on the moisture content of the underlying surface. Areas with high moisture, and presumably healthier vegetation, tend to absorb this spectral wavelength which means less of it is reflected and picked up by our satellites (United Nations, n.d.). In contrast, drier areas will reflect higher levels of SWIR light since there is less capability to absorb it.\n",
    "\n",
    "The contrast between these two bands helps us easily distinguish between areas with healthy and burnt vegetation in addition to the severity of the burn (United Nations, n.d.). The resulting NBR values we can observe from this equation range from -1 to 1 where:\n",
    "\n",
    "- Negative values often indicate bare ground or recently burned areas\n",
    "- Values close to zero indicate urban or water areas\n",
    "- Positive values typically represent vegetated areas"
   ]
  },
  {
   "cell_type": "code",
   "execution_count": 10,
   "metadata": {
    "colab": {
     "base_uri": "https://localhost:8080/",
     "height": 17
    },
    "id": "NtWbuiUxwyAl",
    "outputId": "27d06ea6-819b-4f75-e6c6-2273afbdd13e"
   },
   "outputs": [
    {
     "data": {
      "text/html": [
       "\n",
       "            <style>\n",
       "                .geemap-dark {\n",
       "                    --jp-widgets-color: white;\n",
       "                    --jp-widgets-label-color: white;\n",
       "                    --jp-ui-font-color1: white;\n",
       "                    --jp-layout-color2: #454545;\n",
       "                    background-color: #383838;\n",
       "                }\n",
       "\n",
       "                .geemap-dark .jupyter-button {\n",
       "                    --jp-layout-color3: #383838;\n",
       "                }\n",
       "\n",
       "                .geemap-colab {\n",
       "                    background-color: var(--colab-primary-surface-color, white);\n",
       "                }\n",
       "\n",
       "                .geemap-colab .jupyter-button {\n",
       "                    --jp-layout-color3: var(--colab-primary-surface-color, white);\n",
       "                }\n",
       "            </style>\n",
       "            "
      ],
      "text/plain": [
       "<IPython.core.display.HTML object>"
      ]
     },
     "metadata": {},
     "output_type": "display_data"
    }
   ],
   "source": [
    "# Function to calculate NBR\n",
    "def calculate_nbr(image):\n",
    "  \"\"\"\n",
    "  Calculate the Normalized Burn Ratio (NBR) for a given satellite image using the Near-Infrared (NIR) and Short-Wave Infrared (SWIR) bands,\n",
    "  typically used for burn severity assessment in wildfire studies.\n",
    "\n",
    "  NBR = (NIR - SWIR) / (NIR + SWIR)\n",
    "\n",
    "  The resulting value typically range from -1 to 1, where:\n",
    "    * Negative values often indicate bare ground or recently burned areas\n",
    "    * Values close to zero indicate urban or water areas\n",
    "    * Positive values typically represent vegetated areas\n",
    "  \"\"\"\n",
    "  nbr = image.normalizedDifference([\"B8\", \"B12\"]).rename(\"NBR\")\n",
    "  return image.addBands(nbr)"
   ]
  },
  {
   "cell_type": "markdown",
   "metadata": {
    "id": "vcqL_tgBLAnz"
   },
   "source": [
    "### Data Visualization\n",
    "\n",
    "Now that we have a better understanding of NBR, let's apply it to each of the \"interesting images\" we've extracted from Sentinel-2 and layer them over an open-source map."
   ]
  },
  {
   "cell_type": "code",
   "execution_count": 11,
   "metadata": {
    "colab": {
     "base_uri": "https://localhost:8080/",
     "height": 531
    },
    "id": "opi5waGAw2Nm",
    "outputId": "3aa1f91b-4e87-4547-d561-0812dd9de714"
   },
   "outputs": [
    {
     "data": {
      "text/html": [
       "\n",
       "            <style>\n",
       "                .geemap-dark {\n",
       "                    --jp-widgets-color: white;\n",
       "                    --jp-widgets-label-color: white;\n",
       "                    --jp-ui-font-color1: white;\n",
       "                    --jp-layout-color2: #454545;\n",
       "                    background-color: #383838;\n",
       "                }\n",
       "\n",
       "                .geemap-dark .jupyter-button {\n",
       "                    --jp-layout-color3: #383838;\n",
       "                }\n",
       "\n",
       "                .geemap-colab {\n",
       "                    background-color: var(--colab-primary-surface-color, white);\n",
       "                }\n",
       "\n",
       "                .geemap-colab .jupyter-button {\n",
       "                    --jp-layout-color3: var(--colab-primary-surface-color, white);\n",
       "                }\n",
       "            </style>\n",
       "            "
      ],
      "text/plain": [
       "<IPython.core.display.HTML object>"
      ]
     },
     "metadata": {},
     "output_type": "display_data"
    },
    {
     "data": {
      "text/html": [
       "<div style=\"width:100%;\"><div style=\"position:relative;width:100%;height:0;padding-bottom:60%;\"><span style=\"color:#565656\">Make this Notebook Trusted to load map: File -> Trust Notebook</span><iframe srcdoc=\"&lt;!DOCTYPE html&gt;\n",
       "&lt;html&gt;\n",
       "&lt;head&gt;\n",
       "    \n",
       "    &lt;meta http-equiv=&quot;content-type&quot; content=&quot;text/html; charset=UTF-8&quot; /&gt;\n",
       "    \n",
       "        &lt;script&gt;\n",
       "            L_NO_TOUCH = false;\n",
       "            L_DISABLE_3D = false;\n",
       "        &lt;/script&gt;\n",
       "    \n",
       "    &lt;style&gt;html, body {width: 100%;height: 100%;margin: 0;padding: 0;}&lt;/style&gt;\n",
       "    &lt;style&gt;#map {position:absolute;top:0;bottom:0;right:0;left:0;}&lt;/style&gt;\n",
       "    &lt;script src=&quot;https://cdn.jsdelivr.net/npm/leaflet@1.9.3/dist/leaflet.js&quot;&gt;&lt;/script&gt;\n",
       "    &lt;script src=&quot;https://code.jquery.com/jquery-1.12.4.min.js&quot;&gt;&lt;/script&gt;\n",
       "    &lt;script src=&quot;https://cdn.jsdelivr.net/npm/bootstrap@5.2.2/dist/js/bootstrap.bundle.min.js&quot;&gt;&lt;/script&gt;\n",
       "    &lt;script src=&quot;https://cdnjs.cloudflare.com/ajax/libs/Leaflet.awesome-markers/2.0.2/leaflet.awesome-markers.js&quot;&gt;&lt;/script&gt;\n",
       "    &lt;link rel=&quot;stylesheet&quot; href=&quot;https://cdn.jsdelivr.net/npm/leaflet@1.9.3/dist/leaflet.css&quot;/&gt;\n",
       "    &lt;link rel=&quot;stylesheet&quot; href=&quot;https://cdn.jsdelivr.net/npm/bootstrap@5.2.2/dist/css/bootstrap.min.css&quot;/&gt;\n",
       "    &lt;link rel=&quot;stylesheet&quot; href=&quot;https://netdna.bootstrapcdn.com/bootstrap/3.0.0/css/bootstrap.min.css&quot;/&gt;\n",
       "    &lt;link rel=&quot;stylesheet&quot; href=&quot;https://cdn.jsdelivr.net/npm/@fortawesome/fontawesome-free@6.2.0/css/all.min.css&quot;/&gt;\n",
       "    &lt;link rel=&quot;stylesheet&quot; href=&quot;https://cdnjs.cloudflare.com/ajax/libs/Leaflet.awesome-markers/2.0.2/leaflet.awesome-markers.css&quot;/&gt;\n",
       "    &lt;link rel=&quot;stylesheet&quot; href=&quot;https://cdn.jsdelivr.net/gh/python-visualization/folium/folium/templates/leaflet.awesome.rotate.min.css&quot;/&gt;\n",
       "    \n",
       "            &lt;meta name=&quot;viewport&quot; content=&quot;width=device-width,\n",
       "                initial-scale=1.0, maximum-scale=1.0, user-scalable=no&quot; /&gt;\n",
       "            &lt;style&gt;\n",
       "                #map_1d5a71638f9e81fcf45e539a3eeae7df {\n",
       "                    position: relative;\n",
       "                    width: 100.0%;\n",
       "                    height: 100.0%;\n",
       "                    left: 0.0%;\n",
       "                    top: 0.0%;\n",
       "                }\n",
       "                .leaflet-container { font-size: 1rem; }\n",
       "            &lt;/style&gt;\n",
       "        \n",
       "&lt;/head&gt;\n",
       "&lt;body&gt;\n",
       "    \n",
       "    \n",
       "            &lt;div class=&quot;folium-map&quot; id=&quot;map_1d5a71638f9e81fcf45e539a3eeae7df&quot; &gt;&lt;/div&gt;\n",
       "        \n",
       "&lt;/body&gt;\n",
       "&lt;script&gt;\n",
       "    \n",
       "    \n",
       "            var map_1d5a71638f9e81fcf45e539a3eeae7df = L.map(\n",
       "                &quot;map_1d5a71638f9e81fcf45e539a3eeae7df&quot;,\n",
       "                {\n",
       "                    center: [50.23124506328952, -121.58154057521354],\n",
       "                    crs: L.CRS.EPSG3857,\n",
       "                    zoom: 10,\n",
       "                    zoomControl: true,\n",
       "                    preferCanvas: false,\n",
       "                }\n",
       "            );\n",
       "\n",
       "            \n",
       "\n",
       "        \n",
       "    \n",
       "            var tile_layer_bb8ca86ff2b78983a20c70a3c33fbf60 = L.tileLayer(\n",
       "                &quot;https://{s}.tile.openstreetmap.org/{z}/{x}/{y}.png&quot;,\n",
       "                {&quot;attribution&quot;: &quot;Data by \\u0026copy; \\u003ca target=\\&quot;_blank\\&quot; href=\\&quot;http://openstreetmap.org\\&quot;\\u003eOpenStreetMap\\u003c/a\\u003e, under \\u003ca target=\\&quot;_blank\\&quot; href=\\&quot;http://www.openstreetmap.org/copyright\\&quot;\\u003eODbL\\u003c/a\\u003e.&quot;, &quot;detectRetina&quot;: false, &quot;maxNativeZoom&quot;: 18, &quot;maxZoom&quot;: 18, &quot;minZoom&quot;: 0, &quot;noWrap&quot;: false, &quot;opacity&quot;: 1, &quot;subdomains&quot;: &quot;abc&quot;, &quot;tms&quot;: false}\n",
       "            ).addTo(map_1d5a71638f9e81fcf45e539a3eeae7df);\n",
       "        \n",
       "    \n",
       "            var tile_layer_735d89abfe4650e2dd69b6ff17d16a38 = L.tileLayer(\n",
       "                &quot;https://earthengine.googleapis.com/v1/projects/earthengine-legacy/maps/bb6bdf4dab45d60d201f772446b3f6e3-3cbddd39e0c3660f51971ea1a2175f95/tiles/{z}/{x}/{y}&quot;,\n",
       "                {&quot;attribution&quot;: &quot;Map Data \\u0026copy; \\u003ca href=\\&quot;https://earthengine.google.com/\\&quot;\\u003eGoogle Earth Engine\\u003c/a\\u003e&quot;, &quot;detectRetina&quot;: false, &quot;maxNativeZoom&quot;: 18, &quot;maxZoom&quot;: 18, &quot;minZoom&quot;: 0, &quot;noWrap&quot;: false, &quot;opacity&quot;: 1, &quot;subdomains&quot;: &quot;abc&quot;, &quot;tms&quot;: false}\n",
       "            ).addTo(map_1d5a71638f9e81fcf45e539a3eeae7df);\n",
       "        \n",
       "    \n",
       "            var tile_layer_eee8cdbe3afe23a15db53f594fd63ca5 = L.tileLayer(\n",
       "                &quot;https://earthengine.googleapis.com/v1/projects/earthengine-legacy/maps/355e2b1687235a6534a768449c5793be-82d269675cf795ac4e9eff2cb1b0ce8a/tiles/{z}/{x}/{y}&quot;,\n",
       "                {&quot;attribution&quot;: &quot;Map Data \\u0026copy; \\u003ca href=\\&quot;https://earthengine.google.com/\\&quot;\\u003eGoogle Earth Engine\\u003c/a\\u003e&quot;, &quot;detectRetina&quot;: false, &quot;maxNativeZoom&quot;: 18, &quot;maxZoom&quot;: 18, &quot;minZoom&quot;: 0, &quot;noWrap&quot;: false, &quot;opacity&quot;: 1, &quot;subdomains&quot;: &quot;abc&quot;, &quot;tms&quot;: false}\n",
       "            ).addTo(map_1d5a71638f9e81fcf45e539a3eeae7df);\n",
       "        \n",
       "    \n",
       "            var tile_layer_4b2cbac119656219c4730b49e13b969e = L.tileLayer(\n",
       "                &quot;https://earthengine.googleapis.com/v1/projects/earthengine-legacy/maps/430ac435f74a035d9f3571dac8f98b38-2c3a2d5ce6dbc47f9d3a6cb8cf8cba8e/tiles/{z}/{x}/{y}&quot;,\n",
       "                {&quot;attribution&quot;: &quot;Map Data \\u0026copy; \\u003ca href=\\&quot;https://earthengine.google.com/\\&quot;\\u003eGoogle Earth Engine\\u003c/a\\u003e&quot;, &quot;detectRetina&quot;: false, &quot;maxNativeZoom&quot;: 18, &quot;maxZoom&quot;: 18, &quot;minZoom&quot;: 0, &quot;noWrap&quot;: false, &quot;opacity&quot;: 1, &quot;subdomains&quot;: &quot;abc&quot;, &quot;tms&quot;: false}\n",
       "            ).addTo(map_1d5a71638f9e81fcf45e539a3eeae7df);\n",
       "        \n",
       "    \n",
       "            var tile_layer_fac7773dc8350920aaf2acc9cc7239e1 = L.tileLayer(\n",
       "                &quot;https://earthengine.googleapis.com/v1/projects/earthengine-legacy/maps/59e2c12bd278f0a9020acf8101da6232-c53827ab61fff5c9ed06a5a37ae4cd61/tiles/{z}/{x}/{y}&quot;,\n",
       "                {&quot;attribution&quot;: &quot;Map Data \\u0026copy; \\u003ca href=\\&quot;https://earthengine.google.com/\\&quot;\\u003eGoogle Earth Engine\\u003c/a\\u003e&quot;, &quot;detectRetina&quot;: false, &quot;maxNativeZoom&quot;: 18, &quot;maxZoom&quot;: 18, &quot;minZoom&quot;: 0, &quot;noWrap&quot;: false, &quot;opacity&quot;: 1, &quot;subdomains&quot;: &quot;abc&quot;, &quot;tms&quot;: false}\n",
       "            ).addTo(map_1d5a71638f9e81fcf45e539a3eeae7df);\n",
       "        \n",
       "    \n",
       "            var tile_layer_6ef2dd08bb0ca96d512e326b337c0869 = L.tileLayer(\n",
       "                &quot;https://earthengine.googleapis.com/v1/projects/earthengine-legacy/maps/1e9d6b8b168272de3ef2d9698b13e500-e5f87787905f95741fcb4b61dcfc50d5/tiles/{z}/{x}/{y}&quot;,\n",
       "                {&quot;attribution&quot;: &quot;Map Data \\u0026copy; \\u003ca href=\\&quot;https://earthengine.google.com/\\&quot;\\u003eGoogle Earth Engine\\u003c/a\\u003e&quot;, &quot;detectRetina&quot;: false, &quot;maxNativeZoom&quot;: 18, &quot;maxZoom&quot;: 18, &quot;minZoom&quot;: 0, &quot;noWrap&quot;: false, &quot;opacity&quot;: 1, &quot;subdomains&quot;: &quot;abc&quot;, &quot;tms&quot;: false}\n",
       "            ).addTo(map_1d5a71638f9e81fcf45e539a3eeae7df);\n",
       "        \n",
       "    \n",
       "            var tile_layer_d9634c8d3c7c7c38fe0c01776166a353 = L.tileLayer(\n",
       "                &quot;https://earthengine.googleapis.com/v1/projects/earthengine-legacy/maps/74d133bdb1b89f79f6cdd8ce5e6cb4b0-8aa5634ff3bb8f1fb0161610e7d1fa92/tiles/{z}/{x}/{y}&quot;,\n",
       "                {&quot;attribution&quot;: &quot;Map Data \\u0026copy; \\u003ca href=\\&quot;https://earthengine.google.com/\\&quot;\\u003eGoogle Earth Engine\\u003c/a\\u003e&quot;, &quot;detectRetina&quot;: false, &quot;maxNativeZoom&quot;: 18, &quot;maxZoom&quot;: 18, &quot;minZoom&quot;: 0, &quot;noWrap&quot;: false, &quot;opacity&quot;: 1, &quot;subdomains&quot;: &quot;abc&quot;, &quot;tms&quot;: false}\n",
       "            ).addTo(map_1d5a71638f9e81fcf45e539a3eeae7df);\n",
       "        \n",
       "    \n",
       "            var tile_layer_8d2f4134cd22f2d44b17268a127a816f = L.tileLayer(\n",
       "                &quot;https://earthengine.googleapis.com/v1/projects/earthengine-legacy/maps/71e4f5a55c72a5c7988f4eb6a9321c80-f5eb711f58173c6e6ea84eae3a8bddc8/tiles/{z}/{x}/{y}&quot;,\n",
       "                {&quot;attribution&quot;: &quot;Map Data \\u0026copy; \\u003ca href=\\&quot;https://earthengine.google.com/\\&quot;\\u003eGoogle Earth Engine\\u003c/a\\u003e&quot;, &quot;detectRetina&quot;: false, &quot;maxNativeZoom&quot;: 18, &quot;maxZoom&quot;: 18, &quot;minZoom&quot;: 0, &quot;noWrap&quot;: false, &quot;opacity&quot;: 1, &quot;subdomains&quot;: &quot;abc&quot;, &quot;tms&quot;: false}\n",
       "            ).addTo(map_1d5a71638f9e81fcf45e539a3eeae7df);\n",
       "        \n",
       "    \n",
       "            var layer_control_71ecda7ba18ec6652b855b693b2c9adc = {\n",
       "                base_layers : {\n",
       "                    &quot;openstreetmap&quot; : tile_layer_bb8ca86ff2b78983a20c70a3c33fbf60,\n",
       "                },\n",
       "                overlays :  {\n",
       "                    &quot;Sentinel-2 SWIR Image #5 / Date: 2021-06-26 11:59:19 PST/PDT&quot; : tile_layer_735d89abfe4650e2dd69b6ff17d16a38,\n",
       "                    &quot;Sentinel-2 SWIR Image #9 / Date: 2021-06-29 12:09:19 PST/PDT&quot; : tile_layer_eee8cdbe3afe23a15db53f594fd63ca5,\n",
       "                    &quot;Sentinel-2 SWIR Image #11 / Date: 2021-07-01 11:59:21 PST/PDT&quot; : tile_layer_4b2cbac119656219c4730b49e13b969e,\n",
       "                    &quot;Sentinel-2 SWIR Image #12 / Date: 2021-07-01 11:59:21 PST/PDT&quot; : tile_layer_fac7773dc8350920aaf2acc9cc7239e1,\n",
       "                    &quot;Sentinel-2 SWIR Image #15 / Date: 2021-07-06 11:59:19 PST/PDT&quot; : tile_layer_6ef2dd08bb0ca96d512e326b337c0869,\n",
       "                    &quot;Sentinel-2 SWIR Image #18 / Date: 2021-07-09 12:09:19 PST/PDT&quot; : tile_layer_d9634c8d3c7c7c38fe0c01776166a353,\n",
       "                    &quot;Sentinel-2 SWIR Image #26 / Date: 2021-07-14 12:09:21 PST/PDT&quot; : tile_layer_8d2f4134cd22f2d44b17268a127a816f,\n",
       "                },\n",
       "            };\n",
       "            L.control.layers(\n",
       "                layer_control_71ecda7ba18ec6652b855b693b2c9adc.base_layers,\n",
       "                layer_control_71ecda7ba18ec6652b855b693b2c9adc.overlays,\n",
       "                {&quot;autoZIndex&quot;: true, &quot;collapsed&quot;: false, &quot;position&quot;: &quot;topright&quot;}\n",
       "            ).addTo(map_1d5a71638f9e81fcf45e539a3eeae7df);\n",
       "        \n",
       "&lt;/script&gt;\n",
       "&lt;/html&gt;\" style=\"position:absolute;width:100%;height:100%;left:0;top:0;border:none !important;\" allowfullscreen webkitallowfullscreen mozallowfullscreen></iframe></div></div>"
      ],
      "text/plain": [
       "<folium.folium.Map at 0x24ed114ab90>"
      ]
     },
     "metadata": {},
     "output_type": "display_data"
    }
   ],
   "source": [
    "# Apply NBR calculation\n",
    "s2_nbr = s2_dataset.map(calculate_nbr)\n",
    "\n",
    "# Get the first image and visualize\n",
    "s2nbr_list = s2_nbr.toList(s2_nbr.size())\n",
    "\n",
    "s2_vis_params = {\n",
    "    # B4 = Red band - useful for calculating vegetation indices\n",
    "    # B8 = Near Infrared (NIR) band - also useful for calculating vegetation and burn severity.\n",
    "    # B12 = Shortwave Infrared (SWIR) band - great for detecting fires and hot spots.\n",
    "    \"bands\": [\"B12\", \"B8\", \"B4\"], # Ash's bands: [\"B12\", \"B11\", \"B9\"]\n",
    "    \"min\": 0.0,\n",
    "    \"max\": 0.3,\n",
    "    \"gamma\": 1.4\n",
    "}\n",
    "\n",
    "\n",
    "# Create a map\n",
    "wildfire_map = folium.Map(location=[lat, lon], zoom_start=10)\n",
    "\n",
    "# Add a layer for each satellite image of interest (before, during and after)\n",
    "for i in interesting_images:\n",
    "\n",
    "  # Extract the timestamp string\n",
    "  s2nbr_list_property = s2nbr_list.get(i).getInfo()\n",
    "  timestamp_str = s2nbr_list_property[\"properties\"][\"system:index\"].split(\"_\")[0]\n",
    "\n",
    "  # Convert to datetime object\n",
    "  s2_datetime = datetime.strptime(timestamp_str, \"%Y%m%dT%H%M%S\")\n",
    "\n",
    "  # Make the UTC datetime timezone-aware\n",
    "  dt_utc = pytz.utc.localize(s2_datetime)\n",
    "\n",
    "  # Convert to Pacific Time\n",
    "  pacific_tz = pytz.timezone(\"America/Los_Angeles\")\n",
    "  s2_datetime_pst = dt_utc.astimezone(pacific_tz).strftime(datetime_format)\n",
    "\n",
    "  # Image title\n",
    "  title = f\"Sentinel-2 SWIR Image #{i} / Date: {s2_datetime_pst} PST/PDT\"\n",
    "\n",
    "  # Extract the image from the list\n",
    "  s2_nbr_image = ee.Image(s2nbr_list.get(i))\n",
    "\n",
    "  # Add the image layerto the map\n",
    "  wildfire_map.add_ee_layer(s2_nbr_image, s2_vis_params, name=title)\n",
    "\n",
    "# Add a layer control panel to the map\n",
    "folium.LayerControl(collapsed=False).add_to(wildfire_map)\n",
    "\n",
    "# Display the map.\n",
    "display(wildfire_map)"
   ]
  },
  {
   "cell_type": "markdown",
   "metadata": {
    "id": "XXkt20jFN9kV"
   },
   "source": [
    "From the NBR-transformed, satellite imaging we collected of the area surrounding Lytton between June to July 15th, we can see distinct areas that were ravaged by the fires in 2021. Removing all the layers by de-selecting the images gives us a bearing on where the town of Lytton is in the satellite image.\n",
    "\n",
    "However, if we select image layers #9, 11, 12, and 26, we'll find another fire perimeter northeast of Lytton, one that looks slightly larger. Because the Sentinel-2 images cover such a large area and with some further research, we were surprisingly able to discover that the [Sparks Lake wildfire](https://www.eoas.ubc.ca/courses/atsc413/cases/sparks_lake_BC/index.html) was an emergency event that was occurring the same time as our Lytton Creek wildfire on June 29th, 2021 (Watson & Lindsay, 2021). The Sparks Lake wildfire also turned out to be one of B.C.'s most devastating fires in history due to the heat dome the province experienced that year. The fire appeared to have been human-caused by a nearby marijuana growth operation which burned down about 960 km$^2$ for 69 days before firefighters eventually got control of it.\n",
    "\n",
    "\n",
    "While the data from Sentinel-2 does a fine job in identifying and mapping out burnt areas of the region, it suffers some heavy drawbacks in its inability to provide real-time information to emergency responders and members of the public. Because Sentinel-2 needs time to orbit and image other areas of the globe, there is a 2-5 day lag between every snapshot at a particular point of interest (POI), depending on how close it is to the equator (European Space Agency, 2024). In situations where a natural disaster is unfolding rapidly and emergency responders need prompt access to information for rapid and high-stakes decisions, Sentinel-2 data will not be sufficient for this purpose so we must turn to other tools to fill the gap.\n",
    "\n",
    "Additional concerns with Sentinel-2 images are the presence of clouds or smoke over our POI which can massively reduce the image quality because they limit the amount of light the Earth can reflect to its sensors. Sentinel-2 is also limited to operating during the day due to its reliance on sunlight so any opportunity to gather data at night is out of the question."
   ]
  },
  {
   "cell_type": "markdown",
   "metadata": {
    "id": "TVlUEmqih3yx"
   },
   "source": [
    "## Data Extraction (Part 2)"
   ]
  },
  {
   "cell_type": "markdown",
   "metadata": {
    "id": "ODbxX7hhcenC"
   },
   "source": [
    "### Extracting GOES-16 & GOES-17 satellite data\n",
    "\n",
    "As we've explored the strengths of the Sentinel-2 data and highlighted its weaknesses, luckily, we have other systems to shore up these vulnerabilities such as the GOES-16 and GOES-17 satellites. The [**Geostationary Operational Environmental Satellites (GOES)**](https://www.goes-r.gov/downloads/resources/documents/Beginners_Guide_to_GOES-R_Series_Data.pdf) are a set of geostationary satellites which takes high temporal resolution images every 5-15 min, with each pixel having a resolution of about 0.5 to 2 km (NOAA & NASA, 2024). When we refer to a satellite as *geostationary*, it means that it orbits the Earth in the same direction about 35,000 km above the equator and at about the same speed so that from the perspective of a ground-bound observer, the satellite appears nearly stationary. Among the two satellites we mentioned earlier, GOES-16 does the majority of the image capture over the North and South American continent while GOES-17 functions as a ready spare when necessary (NOAA & NASA, 2024).\n",
    "\n",
    "On board each GOES satellite is the [Advanced Baseline Imager (ABI)](https://www.goes-r.gov/spacesegment/abi.html) instrument for imaging the Earth's weather, oceans, and environment through its 16 different spectral bands (NOAA & NASA, n.d.). While tracking the flow of wildfire is the use case we're most interested in, these satellites can also provide independent data sources for monitoring things like cloud formation, land surface temperature, ocean dynamics, volcanic ash plumes, vegetative health and more. Because our GOES satellites can take snapshots every 5-15 minutes, decision-makers can rely on the monitoring and fire perimeter we build from this data to inform their emergency response. In contrast to Sentinel-2, GOES satellites are also capable of gathering data 24/7 through their thermal infrared bands which do not rely on sunlight (NOAA & NASA, n.d.). Additionally, it is also capable of penetrating cloud cover by snapping images during windows where the cover is less dense (NOAA & NASA, n.d.).\n",
    "\n",
    "Now that we've gotten the brief overview of the GOES-16/17 satellites out of the way, let's start extracting data again from the [Earth Engine Data Catalog](https://developers.google.com/earth-engine/datasets/catalog/NOAA_GOES_16_FDCF#bands) using the same parameters we used earlier to locate the Lytton Creek wildfire during the end of June 2021. As we can see, we extracted over 4,000 images from each satellite due to its ability to snap images in lightning-quick 5-15 minute intervals."
   ]
  },
  {
   "cell_type": "code",
   "execution_count": 12,
   "metadata": {
    "colab": {
     "base_uri": "https://localhost:8080/",
     "height": 52
    },
    "id": "zNMqPDWsYski",
    "outputId": "431d45de-0835-4dea-e01c-93215f9d1468"
   },
   "outputs": [
    {
     "data": {
      "text/html": [
       "\n",
       "            <style>\n",
       "                .geemap-dark {\n",
       "                    --jp-widgets-color: white;\n",
       "                    --jp-widgets-label-color: white;\n",
       "                    --jp-ui-font-color1: white;\n",
       "                    --jp-layout-color2: #454545;\n",
       "                    background-color: #383838;\n",
       "                }\n",
       "\n",
       "                .geemap-dark .jupyter-button {\n",
       "                    --jp-layout-color3: #383838;\n",
       "                }\n",
       "\n",
       "                .geemap-colab {\n",
       "                    background-color: var(--colab-primary-surface-color, white);\n",
       "                }\n",
       "\n",
       "                .geemap-colab .jupyter-button {\n",
       "                    --jp-layout-color3: var(--colab-primary-surface-color, white);\n",
       "                }\n",
       "            </style>\n",
       "            "
      ],
      "text/plain": [
       "<IPython.core.display.HTML object>"
      ]
     },
     "metadata": {},
     "output_type": "display_data"
    },
    {
     "name": "stdout",
     "output_type": "stream",
     "text": [
      "Number of GOES-16 images: 4273\n",
      "Number of GOES-17 images: 4245\n"
     ]
    }
   ],
   "source": [
    "# Gathering satellite data\n",
    "goes_16 = ee.ImageCollection(\"NOAA/GOES/16/FDCF\").filterDate(start_date, end_date).filterBounds(poi)\n",
    "\n",
    "goes_17 = ee.ImageCollection(\"NOAA/GOES/17/FDCF\").filterDate(start_date, end_date).filterBounds(poi)\n",
    "\n",
    "# Example: print the number of images in the collections (optional)\n",
    "print(f\"Number of GOES-16 images: {goes_16.size().getInfo()}\")\n",
    "print(f\"Number of GOES-17 images: {goes_17.size().getInfo()}\")"
   ]
  },
  {
   "cell_type": "markdown",
   "metadata": {
    "id": "RR1ovhHLY_pL"
   },
   "source": [
    "Let's also load the `map_from_map_codes_to_confidence_values()` and `apply_scale_factors()` functions the team at Google [provided us](https://medium.com/google-earth/how-to-generate-wildfire-boundary-maps-with-earth-engine-b38eadc97a38) to process our data."
   ]
  },
  {
   "cell_type": "code",
   "execution_count": 13,
   "metadata": {
    "colab": {
     "base_uri": "https://localhost:8080/",
     "height": 17
    },
    "id": "I45V4_jnYszD",
    "outputId": "f542ed6f-4621-45f5-cb57-d2b27a1abb31"
   },
   "outputs": [
    {
     "data": {
      "text/html": [
       "\n",
       "            <style>\n",
       "                .geemap-dark {\n",
       "                    --jp-widgets-color: white;\n",
       "                    --jp-widgets-label-color: white;\n",
       "                    --jp-ui-font-color1: white;\n",
       "                    --jp-layout-color2: #454545;\n",
       "                    background-color: #383838;\n",
       "                }\n",
       "\n",
       "                .geemap-dark .jupyter-button {\n",
       "                    --jp-layout-color3: #383838;\n",
       "                }\n",
       "\n",
       "                .geemap-colab {\n",
       "                    background-color: var(--colab-primary-surface-color, white);\n",
       "                }\n",
       "\n",
       "                .geemap-colab .jupyter-button {\n",
       "                    --jp-layout-color3: var(--colab-primary-surface-color, white);\n",
       "                }\n",
       "            </style>\n",
       "            "
      ],
      "text/plain": [
       "<IPython.core.display.HTML object>"
      ]
     },
     "metadata": {},
     "output_type": "display_data"
    }
   ],
   "source": [
    "def map_from_mask_codes_to_confidence_values(image):\n",
    "    return image.clip(poi).remap(fire_mask_codes, confidence_values, default_confidence_value)"
   ]
  },
  {
   "cell_type": "code",
   "execution_count": 14,
   "metadata": {
    "colab": {
     "base_uri": "https://localhost:8080/",
     "height": 17
    },
    "id": "fFCZ5ojkYsv7",
    "outputId": "f3e88198-a677-497a-92a5-ef81f8a344b1"
   },
   "outputs": [
    {
     "data": {
      "text/html": [
       "\n",
       "            <style>\n",
       "                .geemap-dark {\n",
       "                    --jp-widgets-color: white;\n",
       "                    --jp-widgets-label-color: white;\n",
       "                    --jp-ui-font-color1: white;\n",
       "                    --jp-layout-color2: #454545;\n",
       "                    background-color: #383838;\n",
       "                }\n",
       "\n",
       "                .geemap-dark .jupyter-button {\n",
       "                    --jp-layout-color3: #383838;\n",
       "                }\n",
       "\n",
       "                .geemap-colab {\n",
       "                    background-color: var(--colab-primary-surface-color, white);\n",
       "                }\n",
       "\n",
       "                .geemap-colab .jupyter-button {\n",
       "                    --jp-layout-color3: var(--colab-primary-surface-color, white);\n",
       "                }\n",
       "            </style>\n",
       "            "
      ],
      "text/plain": [
       "<IPython.core.display.HTML object>"
      ]
     },
     "metadata": {},
     "output_type": "display_data"
    }
   ],
   "source": [
    "# Applies scaling factors.\n",
    "def apply_scale_factors(image):\n",
    "  optical_bands = image.select(\"SR_B.\").multiply(0.0000275).add(-0.2)\n",
    "  thermal_bands = image.select(\"ST_B.*\").multiply(0.00341802).add(149.0)\n",
    "  return image.addBands(optical_bands, None, True).addBands(\n",
    "      thermal_bands, None, True\n",
    "  )"
   ]
  },
  {
   "cell_type": "markdown",
   "metadata": {
    "id": "cspKemgsvxUQ"
   },
   "source": [
    "#### Overview of the Fire Detection Characterization (FDC) Algorithm\n",
    "\n",
    "Now that we've talked a little bit about the satellites used to generate the data, let's discuss how we are to detect the presence of wildfires based on these images. Luckily for us, Google makes this easy by giving developers easy access to the [FDC Fire Detection algorithm](https://www.star.nesdis.noaa.gov/goesr/docs/ATBD/Fire.pdf) which was developed by a research team at the University of Wisconsin-Madison.\n",
    "\n",
    "The primary objective of the **FDC Fire Detection algorithm** is to return the likelihood of a fire based on the pixel data of an input image (Restif & Hoffman, 2020). For those interested, below is a brief overview of the steps that the FDC Fire detection algorithm takes to accomplish this objective:\n",
    "\n",
    "1) First, the algorithm takes the data from the **thermal infrared (TIR)** band of the satellite sensor (band 14), as well as the **shortwave infrared (SWIR)** band (7), and converts the brightness of each pixel to a temperature;\n",
    "\n",
    "2) Next, it flags certain TIR pixels based on whether they exceed a certain threshold. Examples of such thresholds include:\n",
    "- *Absolute threshold* based on a set temperature;\n",
    "- *Relative threshold* based on the delta between a pixel's temperature and its neighbour's exceeding a set amount.\n",
    "\n",
    "3) If a pixel is flagged, it checks for false positives by evaluating the temperature of its neighbouring pixels just like in the previous step. When checking the temperature of the pixel, we can choose to apply a different threshold from step 2 if we wish. And in the case of our code example below, we do just that by applying a relative threshold instead.\n",
    "\n",
    "4) If our neighbouring pixel also exceeds the threshold, it will then apply one last check for false positives by evaluating whether the *delta/difference* between the pixel temperature produced by the TIR (band 14) and the SWIR (band 7) band exceeds a relative threshold.\n",
    "\n",
    "5) And if the difference between the TIR and SWIR pixel temperatures exceeds our relative threshold, the algorithm will return a 1 or a `True` result, confirming that the pixel in question is indeed a fire pixel.\n",
    "\n",
    "Our code below is a simplified demonstration of Steps 1-5 of the FDC algorithm. However, our explanation only covers the presence of a fire based on the pixel's brightness so the final result of our simplified FDC algorithm is a binary `True`/`False` value."
   ]
  },
  {
   "cell_type": "code",
   "execution_count": 15,
   "metadata": {
    "colab": {
     "base_uri": "https://localhost:8080/",
     "height": 17
    },
    "id": "mgp4IJ_K9txq",
    "outputId": "67192ca4-9524-4aef-8065-e56955d110c8"
   },
   "outputs": [
    {
     "data": {
      "text/html": [
       "\n",
       "            <style>\n",
       "                .geemap-dark {\n",
       "                    --jp-widgets-color: white;\n",
       "                    --jp-widgets-label-color: white;\n",
       "                    --jp-ui-font-color1: white;\n",
       "                    --jp-layout-color2: #454545;\n",
       "                    background-color: #383838;\n",
       "                }\n",
       "\n",
       "                .geemap-dark .jupyter-button {\n",
       "                    --jp-layout-color3: #383838;\n",
       "                }\n",
       "\n",
       "                .geemap-colab {\n",
       "                    background-color: var(--colab-primary-surface-color, white);\n",
       "                }\n",
       "\n",
       "                .geemap-colab .jupyter-button {\n",
       "                    --jp-layout-color3: var(--colab-primary-surface-color, white);\n",
       "                }\n",
       "            </style>\n",
       "            "
      ],
      "text/plain": [
       "<IPython.core.display.HTML object>"
      ]
     },
     "metadata": {},
     "output_type": "display_data"
    }
   ],
   "source": [
    "# Fire Detection Characterization (FDC) Algorithm example implementation\n",
    "\n",
    "# Simulated satellite image data\n",
    "def create_simulated_data(width=50, height=50):\n",
    "\n",
    "    # Create background temperature (avg 290 Kelvin or 16.85 degrees Celsius)\n",
    "    background = np.random.normal(290, 2, (height, width))\n",
    "\n",
    "    # Add some hotter spots (potential fires) with temperatures between 310 to 330 Kelvins (i.e. 36.85 to 56.85 degrees Celsius)\n",
    "    num_hotspots = 5\n",
    "    for _ in range(num_hotspots):\n",
    "        x, y = np.random.randint(0, width), np.random.randint(0, height)\n",
    "        hotspot_temp = np.random.uniform(310, 330)\n",
    "        background[y, x] = hotspot_temp\n",
    "\n",
    "    return background\n",
    "\n",
    "# Simplified FDC algorithm - our absolute thereshold is 310K or 36.85 degrees\n",
    "def simplified_fdc(image_4um, image_11um, absolute_threshold=310, relative_threshold=10):\n",
    "  height, width = image_4um.shape\n",
    "  fire_mask = np.zeros((height, width), dtype=bool)\n",
    "\n",
    "  for i in range(1, height-1):\n",
    "      for j in range(1, width-1):\n",
    "          # Step 1: Check absolute threshold\n",
    "          if image_4um[i, j] > absolute_threshold:\n",
    "              # Step 2: Calculate background\n",
    "              background = np.mean(image_4um[i-1:i+2, j-1:j+2])\n",
    "\n",
    "              # Step 3: Check relative threshold\n",
    "              if image_4um[i, j] - background > relative_threshold:\n",
    "                  # Step 4: Multi-channel confirmation\n",
    "                  if image_4um[i, j] - image_11um[i, j] > 10:\n",
    "                      fire_mask[i, j] = True\n",
    "\n",
    "  return fire_mask\n",
    "\n",
    "# Create simulated data\n",
    "image_4um = create_simulated_data()\n",
    "image_11um = image_4um - np.random.normal(10, 2, image_4um.shape)  # 11um channel is typically cooler"
   ]
  },
  {
   "cell_type": "code",
   "execution_count": 16,
   "metadata": {
    "colab": {
     "base_uri": "https://localhost:8080/",
     "height": 414
    },
    "id": "GftMLsQZxYl5",
    "outputId": "5b096c7a-9da1-46d8-83a5-e342ade7e30e"
   },
   "outputs": [
    {
     "data": {
      "text/html": [
       "\n",
       "            <style>\n",
       "                .geemap-dark {\n",
       "                    --jp-widgets-color: white;\n",
       "                    --jp-widgets-label-color: white;\n",
       "                    --jp-ui-font-color1: white;\n",
       "                    --jp-layout-color2: #454545;\n",
       "                    background-color: #383838;\n",
       "                }\n",
       "\n",
       "                .geemap-dark .jupyter-button {\n",
       "                    --jp-layout-color3: #383838;\n",
       "                }\n",
       "\n",
       "                .geemap-colab {\n",
       "                    background-color: var(--colab-primary-surface-color, white);\n",
       "                }\n",
       "\n",
       "                .geemap-colab .jupyter-button {\n",
       "                    --jp-layout-color3: var(--colab-primary-surface-color, white);\n",
       "                }\n",
       "            </style>\n",
       "            "
      ],
      "text/plain": [
       "<IPython.core.display.HTML object>"
      ]
     },
     "metadata": {},
     "output_type": "display_data"
    },
    {
     "data": {
      "image/png": "[encoded data removed]",
      "text/plain": [
       "<Figure size 1200x500 with 3 Axes>"
      ]
     },
     "metadata": {},
     "output_type": "display_data"
    },
    {
     "name": "stdout",
     "output_type": "stream",
     "text": [
      "Number of fire pixels detected: 2\n"
     ]
    }
   ],
   "source": [
    "# Apply simplified FDC algorithm\n",
    "fire_detections = simplified_fdc(image_4um, image_11um)\n",
    "\n",
    "# Visualize results\n",
    "fig, (ax1, ax2) = plt.subplots(1, 2, figsize=(12, 5))\n",
    "\n",
    "im1 = ax1.imshow(image_4um, cmap=\"hot\")\n",
    "ax1.set_title(\"Simulated 4μm Channel\")\n",
    "plt.colorbar(im1, ax=ax1, label=\"Temperature (K)\")\n",
    "\n",
    "ax2.imshow(image_4um, cmap=\"gray\")\n",
    "ax2.imshow(fire_detections, cmap=\"Reds\", alpha=0.5)\n",
    "ax2.set_title(\"FDC Algorithm Fire Detections\")\n",
    "\n",
    "plt.tight_layout()\n",
    "plt.show()\n",
    "\n",
    "print(f\"Number of fire pixels detected: {np.sum(fire_detections)}\")"
   ]
  },
  {
   "cell_type": "code",
   "execution_count": 17,
   "metadata": {
    "colab": {
     "base_uri": "https://localhost:8080/",
     "height": 414
    },
    "id": "3ZQx_2SQdUx8",
    "outputId": "0f1044d6-b757-431c-8041-263c1ea7032a"
   },
   "outputs": [
    {
     "data": {
      "text/html": [
       "\n",
       "            <style>\n",
       "                .geemap-dark {\n",
       "                    --jp-widgets-color: white;\n",
       "                    --jp-widgets-label-color: white;\n",
       "                    --jp-ui-font-color1: white;\n",
       "                    --jp-layout-color2: #454545;\n",
       "                    background-color: #383838;\n",
       "                }\n",
       "\n",
       "                .geemap-dark .jupyter-button {\n",
       "                    --jp-layout-color3: #383838;\n",
       "                }\n",
       "\n",
       "                .geemap-colab {\n",
       "                    background-color: var(--colab-primary-surface-color, white);\n",
       "                }\n",
       "\n",
       "                .geemap-colab .jupyter-button {\n",
       "                    --jp-layout-color3: var(--colab-primary-surface-color, white);\n",
       "                }\n",
       "            </style>\n",
       "            "
      ],
      "text/plain": [
       "<IPython.core.display.HTML object>"
      ]
     },
     "metadata": {},
     "output_type": "display_data"
    },
    {
     "data": {
      "image/png": "[encoded data removed]",
      "text/plain": [
       "<Figure size 1200x500 with 3 Axes>"
      ]
     },
     "metadata": {},
     "output_type": "display_data"
    },
    {
     "name": "stdout",
     "output_type": "stream",
     "text": [
      "Number of fire pixels detected: 2\n"
     ]
    }
   ],
   "source": [
    "# Visualize results\n",
    "fig1, (ax3, ax4) = plt.subplots(1, 2, figsize=(12, 5))\n",
    "\n",
    "im2 = ax3.imshow(image_11um, cmap=\"hot\")\n",
    "ax3.set_title(\"Simulated 11μm Channel\")\n",
    "plt.colorbar(im2, ax=ax3, label=\"Temperature (K)\")\n",
    "\n",
    "ax4.imshow(image_11um, cmap=\"gray\")\n",
    "ax4.imshow(fire_detections, cmap=\"Reds\", alpha=0.5)\n",
    "ax4.set_title(\"FDC Algorithm Fire Detections\")\n",
    "\n",
    "plt.tight_layout()\n",
    "plt.show()\n",
    "\n",
    "print(f\"Number of fire pixels detected: {np.sum(fire_detections)}\")"
   ]
  },
  {
   "cell_type": "markdown",
   "metadata": {
    "id": "pFhtnzFIjgJD"
   },
   "source": [
    "### Data Transformation: Applying the Fire Detection Algorithm (FDC)\n",
    "\n",
    "There are additional steps associated with the algorithm such as estimating its **fire radiative power (FRP)** which represents the brightness or intensity of a fire in the confirmed pixel. From there, the algorithm then assigns a confidence value towards the probability of an actual fire being reflected from the pixel and plots it on a map to build a fire perimeter.\n",
    "\n",
    "For the sake of brevity, we can cover the complexities behind these confidence values in a future article so for now, take these explanations at face value. At this point in the code, we are now assigning `confidence_values` between 50-100% to the outputs produced by the algorithm. With a single output, if the algorithm returns a value of `15`, it's classifying it as a low probability fire pixel at 50% and in contrast, if it returns a value of `10`, there's a near 100% probability that it is a processed fire pixel (Restif & Hoffman, 2020). The resulting values from this process are captured in the `goes_16_confidence` and `goes_17_confidence` objects in the following code."
   ]
  },
  {
   "cell_type": "code",
   "execution_count": 18,
   "metadata": {
    "colab": {
     "base_uri": "https://localhost:8080/",
     "height": 17
    },
    "id": "Hin2lrkHYshb",
    "outputId": "382b47a0-880c-4e44-86ee-fd57732bc362"
   },
   "outputs": [
    {
     "data": {
      "text/html": [
       "\n",
       "            <style>\n",
       "                .geemap-dark {\n",
       "                    --jp-widgets-color: white;\n",
       "                    --jp-widgets-label-color: white;\n",
       "                    --jp-ui-font-color1: white;\n",
       "                    --jp-layout-color2: #454545;\n",
       "                    background-color: #383838;\n",
       "                }\n",
       "\n",
       "                .geemap-dark .jupyter-button {\n",
       "                    --jp-layout-color3: #383838;\n",
       "                }\n",
       "\n",
       "                .geemap-colab {\n",
       "                    background-color: var(--colab-primary-surface-color, white);\n",
       "                }\n",
       "\n",
       "                .geemap-colab .jupyter-button {\n",
       "                    --jp-layout-color3: var(--colab-primary-surface-color, white);\n",
       "                }\n",
       "            </style>\n",
       "            "
      ],
      "text/plain": [
       "<IPython.core.display.HTML object>"
      ]
     },
     "metadata": {},
     "output_type": "display_data"
    }
   ],
   "source": [
    "# Conversion from mask codes to confidence values.\n",
    "fire_mask_codes = [10, 30, 11, 31, 12, 32, 13, 33, 14, 34, 15, 35]\n",
    "confidence_values = [1.0, 1.0, 0.9, 0.9, 0.8, 0.8, 0.5, 0.5, 0.3, 0.3, 0.1, 0.1]\n",
    "default_confidence_value = 0\n",
    "\n",
    "# Processing the GOES-16 satellite images\n",
    "goes_16_confidence = goes_16.select([\"Mask\"]).map(map_from_mask_codes_to_confidence_values)\n",
    "goes_16_max_confidence = goes_16_confidence.reduce(ee.Reducer.max())\n",
    "\n",
    "# Processing the GOES-17 satellite images\n",
    "goes_17_confidence = goes_17.select([\"Mask\"]).map(map_from_mask_codes_to_confidence_values)\n",
    "goes_17_max_confidence = goes_17_confidence.reduce(ee.Reducer.max())"
   ]
  },
  {
   "cell_type": "markdown",
   "metadata": {
    "id": "iiq-Rd_SmZEQ"
   },
   "source": [
    "### Data Visualization\n",
    "\n",
    "Now, one last thing. Since the satellites collect data over a specific time range, the probability of a fire in a given pixel may vary greatly due to the evolving nature of the on-ground event. Although the temporal aspect of the data itself contains plenty of valuable information, in this instance, we're more concerned with generating a broad outline of the fire boundary. To do so, we can use the `ee.Reducer.max()` function to return the highest confidence value of each pixel within the specified time range (Restif & Hoffman, 2020). We'll apply this to both the `goes_16_confidence` and the `goes_17_confidence` objects before overlaying the specific pixel plots on our map below."
   ]
  },
  {
   "cell_type": "code",
   "execution_count": 19,
   "metadata": {
    "colab": {
     "base_uri": "https://localhost:8080/",
     "height": 621,
     "referenced_widgets": [
      "08f0f19461344683944e82bab6e8e94b",
      "270f0b09d80e4f9aa8d7096d71e04849",
      "8b5b78e46c3e41b3932ada4f92044be8",
      "37b68431e2c44a7e8874f653186df53b",
      "f540c3dee5a44276abbe3ba39bc765ba",
      "8103c34d180f44aab6f738a48c0456d3",
      "cb4f321868a94b1a854a58dea6ea4ff6",
      "1e4500c7d38d44bda675df81c8b60b69",
      "71889b510d4b4d64a056f11725aede63",
      "2737318b2b4a42148a2f2f9fe5eb56f4",
      "9547b579543646a792960633f501254a",
      "5ec90d0e31f548989dff3539bfbe3679",
      "c8b39848fef5436fb316d8acfd0015de",
      "353cdea545c94a83a152ced3ec5cef41",
      "9db37cf9a2a049b7af9a4e229eae60da",
      "acaa5388f41d4d5ea0eaa5043bd932ed",
      "a167ed744e1246abacf61b13456fa5ee",
      "21f4fb968b124d24a75315c0a6e4833b",
      "b33cf3c7481745c18a2e0e3f3fcf8a6d",
      "37aad12fe0fb4d2a888829e6df9702f3"
     ]
    },
    "id": "lh4HOGb7dU-b",
    "outputId": "ac8f4ff4-f292-49e6-cd5a-571ff781c424"
   },
   "outputs": [
    {
     "data": {
      "text/html": [
       "\n",
       "            <style>\n",
       "                .geemap-dark {\n",
       "                    --jp-widgets-color: white;\n",
       "                    --jp-widgets-label-color: white;\n",
       "                    --jp-ui-font-color1: white;\n",
       "                    --jp-layout-color2: #454545;\n",
       "                    background-color: #383838;\n",
       "                }\n",
       "\n",
       "                .geemap-dark .jupyter-button {\n",
       "                    --jp-layout-color3: #383838;\n",
       "                }\n",
       "\n",
       "                .geemap-colab {\n",
       "                    background-color: var(--colab-primary-surface-color, white);\n",
       "                }\n",
       "\n",
       "                .geemap-colab .jupyter-button {\n",
       "                    --jp-layout-color3: var(--colab-primary-surface-color, white);\n",
       "                }\n",
       "            </style>\n",
       "            "
      ],
      "text/plain": [
       "<IPython.core.display.HTML object>"
      ]
     },
     "metadata": {},
     "output_type": "display_data"
    },
    {
     "data": {
      "application/vnd.jupyter.widget-view+json": {
       "model_id": "d066f1802666466aa9fb23f7476ceebd",
       "version_major": 2,
       "version_minor": 0
      },
      "text/plain": [
       "Map(center=[50.23128609777502, -121.58153879631847], controls=(WidgetControl(options=['position', 'transparent…"
      ]
     },
     "execution_count": 19,
     "metadata": {},
     "output_type": "execute_result"
    }
   ],
   "source": [
    "# We can visualize that initial data processing step from each satellite, using:\n",
    "affected_area_palette = [\"white\", \"yellow\", \"orange\", \"red\", \"purple\"]\n",
    "\n",
    "earth_engine_viz = {\n",
    "    \"opacity\": 0.3,\n",
    "    \"min\": 0,\n",
    "    \"max\": 1,\n",
    "    \"palette\": affected_area_palette\n",
    "  }\n",
    "\n",
    "# Create a map.\n",
    "Map = geemap.Map()\n",
    "Map.centerObject(poi, 9)\n",
    "Map.addLayer(poi, {\"color\": \"green\"}, \"Area of interest\", True, 0.2)\n",
    "Map.addLayer(goes_16_max_confidence, earth_engine_viz, \"GOES-16 maximum confidence\")\n",
    "Map.addLayer(goes_17_max_confidence, earth_engine_viz, \"GOES-17 maximum confidence\")\n",
    "Map"
   ]
  },
  {
   "cell_type": "markdown",
   "metadata": {
    "id": "IkWC8o-feLwz"
   },
   "source": [
    "From our initial results, we can see two iterations of the FDC Algorithm layered over top of each other on the map. We can combine the results of our two satellite images to increase the spatial resolution of our wildfire perimeter using the `ee.Reducer.min()` function which returns the lesser of the two confidence values where the two layers intersect (Restif & Hoffman, 2020)."
   ]
  },
  {
   "cell_type": "code",
   "execution_count": 20,
   "metadata": {
    "colab": {
     "base_uri": "https://localhost:8080/",
     "height": 621,
     "referenced_widgets": [
      "9e1e981340d541508d3c50fbb13c9a4f",
      "b340ab8fc3ba4fe8b25492bf00e15ff4",
      "89f6c8afd47745acb2efd6561f3e0d20",
      "a9341b84b1f845af9c4ed51ff0f6851a",
      "86e847999bdc459d8bd47ad405de4da9",
      "dc49271ba47d4ba294b391db1d6c98cb",
      "38271e103e504a9a9a8708866fe12381",
      "c685420f396a40ac9c19b31463f80aa1",
      "2a0c3ea182d94f3da1ebf3283bf4e0b4",
      "a6064dc3dc5844e1966279ef12abfaa9",
      "d17c2c6aadbf47c585ea903fcecce90a",
      "c83c59f9d16a4c9aba35ab0b6fa18249",
      "a615505a73c04fa5ab0cc8ddb4aaba1d",
      "844de01c8c8e4038b456105a473b945e",
      "d00f7a4e8817409f9c7a4c80616f4c05",
      "db56b42380904dae8ebfeaec64958338",
      "20985c9295cf4df8a62c53ac065b12ed",
      "d5e7fecb564b48c1b71d19e6bb5bca54",
      "e2130dcf36524d62ae89c911e3224938"
     ]
    },
    "id": "rVEaK3EgdU7T",
    "outputId": "536cab9f-6042-4cf1-9800-d977cd136f80"
   },
   "outputs": [
    {
     "data": {
      "text/html": [
       "\n",
       "            <style>\n",
       "                .geemap-dark {\n",
       "                    --jp-widgets-color: white;\n",
       "                    --jp-widgets-label-color: white;\n",
       "                    --jp-ui-font-color1: white;\n",
       "                    --jp-layout-color2: #454545;\n",
       "                    background-color: #383838;\n",
       "                }\n",
       "\n",
       "                .geemap-dark .jupyter-button {\n",
       "                    --jp-layout-color3: #383838;\n",
       "                }\n",
       "\n",
       "                .geemap-colab {\n",
       "                    background-color: var(--colab-primary-surface-color, white);\n",
       "                }\n",
       "\n",
       "                .geemap-colab .jupyter-button {\n",
       "                    --jp-layout-color3: var(--colab-primary-surface-color, white);\n",
       "                }\n",
       "            </style>\n",
       "            "
      ],
      "text/plain": [
       "<IPython.core.display.HTML object>"
      ]
     },
     "metadata": {},
     "output_type": "display_data"
    },
    {
     "data": {
      "application/vnd.jupyter.widget-view+json": {
       "model_id": "b1180311a03847ed8059154885374b4f",
       "version_major": 2,
       "version_minor": 0
      },
      "text/plain": [
       "Map(center=[50.23128609777502, -121.58153879631847], controls=(WidgetControl(options=['position', 'transparent…"
      ]
     },
     "execution_count": 20,
     "metadata": {},
     "output_type": "execute_result"
    }
   ],
   "source": [
    "# Combine the confidence values from both GOES-16 and GOES-17 using the minimum reducer\n",
    "combined_confidence = ee.ImageCollection([goes_16_max_confidence, goes_17_max_confidence]).reduce(ee.Reducer.min())\n",
    "\n",
    "# Create a map\n",
    "Map = geemap.Map()\n",
    "Map.centerObject(poi, 9)\n",
    "Map.addLayer(poi, {\"color\": \"green\"}, \"Area of interest\", True, 0.2)\n",
    "Map.addLayer(combined_confidence, earth_engine_viz, \"Combined confidence\")\n",
    "\n",
    "# Display the map\n",
    "Map"
   ]
  },
  {
   "cell_type": "markdown",
   "metadata": {
    "id": "ZLtAfskkgXF_"
   },
   "source": [
    "With the results of our two satellites combined, notice how the generated boundary is highly pixelated due to the image quality of the satellites. One last thing we can do to our wildfire boundary is to smooth the boundaries between the combined fire masks using the `ee.Image.reduceNeighborhood()` function."
   ]
  },
  {
   "cell_type": "code",
   "execution_count": 21,
   "metadata": {
    "colab": {
     "base_uri": "https://localhost:8080/",
     "height": 621,
     "referenced_widgets": [
      "67a93b3a425f4b9e8db8e83c15df83d8",
      "b69780e9ca654b2284ecd1a8e3b83361",
      "3d0c82534d1347da894d0c871514baed",
      "8dcf4d5a47d644a8b35f379f04ef2917",
      "94447c2b9a39443d969246c9dff7d41b",
      "2ab0396286d04acaabf963befe7a3d5d",
      "bfa82379cd8340ddb71b25889690678f",
      "07ea8f1f3b8d4e5889210666c2898a03",
      "7b16dea7d3a94c7d90863ffd0413441c",
      "32188401a5e644b4a834fb50dd9dde26",
      "4ca30a06afad48f9ad4b942a0749213b",
      "16ba89e23dec4b6c99a7fe29691436a0",
      "a56bed4574684b99be462131535c3b3c",
      "6dc2376d061140a0819cfce54228327c",
      "3cb81621ddc54281910d5b9567a99cfb",
      "8d3e33f834814d3f8722c278f1668887",
      "53e6069883264815bb45a2ebfbfa22a1",
      "defdd05753414bc9adf6a9abc4c90f83",
      "c2980cf1a53f418c93ec63616ba6480c"
     ]
    },
    "id": "invP31ehdU2T",
    "outputId": "80c2aba1-f7f7-43b6-9f5e-ce7d347469a9"
   },
   "outputs": [
    {
     "data": {
      "text/html": [
       "\n",
       "            <style>\n",
       "                .geemap-dark {\n",
       "                    --jp-widgets-color: white;\n",
       "                    --jp-widgets-label-color: white;\n",
       "                    --jp-ui-font-color1: white;\n",
       "                    --jp-layout-color2: #454545;\n",
       "                    background-color: #383838;\n",
       "                }\n",
       "\n",
       "                .geemap-dark .jupyter-button {\n",
       "                    --jp-layout-color3: #383838;\n",
       "                }\n",
       "\n",
       "                .geemap-colab {\n",
       "                    background-color: var(--colab-primary-surface-color, white);\n",
       "                }\n",
       "\n",
       "                .geemap-colab .jupyter-button {\n",
       "                    --jp-layout-color3: var(--colab-primary-surface-color, white);\n",
       "                }\n",
       "            </style>\n",
       "            "
      ],
      "text/plain": [
       "<IPython.core.display.HTML object>"
      ]
     },
     "metadata": {},
     "output_type": "display_data"
    },
    {
     "data": {
      "application/vnd.jupyter.widget-view+json": {
       "model_id": "5f89a2bde8d94c7e9349e07e4ef9cc23",
       "version_major": 2,
       "version_minor": 0
      },
      "text/plain": [
       "Map(center=[50.23128609777502, -121.58153879631847], controls=(WidgetControl(options=['position', 'transparent…"
      ]
     },
     "execution_count": 21,
     "metadata": {},
     "output_type": "execute_result"
    }
   ],
   "source": [
    "# Define the kernel for smoothing\n",
    "kernel = ee.Kernel.square(2000, \"meters\", True)\n",
    "\n",
    "# Apply the smoothing using reduceNeighborhood with the mean reducer\n",
    "smoothed_confidence = combined_confidence.reduceNeighborhood(\n",
    "    reducer=ee.Reducer.mean(),\n",
    "    kernel=kernel,\n",
    "    optimization=\"boxcar\"\n",
    ")\n",
    "\n",
    "# Create a map\n",
    "Map = geemap.Map()\n",
    "Map.centerObject(poi, 9)\n",
    "Map.addLayer(poi, {\"color\": \"green\"}, \"Area of interest\", True, 0.2)\n",
    "Map.addLayer(smoothed_confidence, earth_engine_viz, \"Smoothed confidence\")\n",
    "\n",
    "# Display the map\n",
    "Map"
   ]
  },
  {
   "cell_type": "markdown",
   "metadata": {
    "id": "AgELtmT6i-re"
   },
   "source": [
    "There you have it! A near real-time wildfire boundary using Python to deploy the FDC Algorithm on GOES-16 and 17 satellite images from Google's Data Catalog platform. However, as with most technologies, the use of the FDC on GOES-16/17 images doesn't come without its weaknesses which we'll discuss to have a better understanding of the situations where other technologies would be more appropriate.\n",
    "\n",
    "One risk with using the FDC algorithm on GOES-16/17 images is its tendency to detect false positives with an image. For example, reflective surfaces from buildings in urban areas or lakes and dry vegetation in a forest may be misconstrued as a fire.\n",
    "\n",
    "Additionally, the image resolution from GOES-16/17 satellites is poorer compared to other data collection techniques. We saw this first-hand from the pixelated fire perimeter we produced in our initial effort applying the FDC algorithm. The reason why the wildfire perimeter was so pixelated is because each pixel captures anywhere between 4-36 $km^2$ depending on how far the area is from the centre of the image. Due to the spherical shape of the Earth and the satellite's position, the farther an area is from the centre of an image, the lower its image quality. For wildfire detection, what this means is that activities smaller than the pixel size may either be mischaracterized or missed completely.\n",
    "\n",
    "Another aspect to consider is the terrain of the area of interest. This risk is mostly attributed to mountainous terrain where the lee ward side of a mountain may obfuscate a satellite's view in that area.\n",
    "\n",
    "To mitigate these risks, we must use other imaging techniques and technologies alongside GOES-16/17 data to gain a clearer understanding of the ground situation. As we've previously discussed, high-resolution data from Sentinel-2 and Landsat satellites can be highly complementary when they're available as it allows us to cross-validate our resulting wildfire boundaries. On top of that, ground observations and aerial drone surveys add another layer of validation to a highly dynamic event.\n",
    "\n",
    "By executing the FDC algorithm on GOES-16/17 data, there's little doubt that this approach can be a powerful asset in helping us build wildfire perimeters in real time as part of a broader mitigation strategy with other sensory techniques."
   ]
  },
  {
   "cell_type": "markdown",
   "metadata": {
    "id": "CyITs90YzY-I"
   },
   "source": [
    "If you've made it this far, thank you as always for taking the time to read through this tutorial! We hope that we played a role in reducing the barrier to entry in remote sensing and have empowered you with the tools to get started. As our summers get warmer and the proliferation of climate emergencies increases, the work of data science professionals will only become more essential in helping emergency teams save lives, protect property, and reduce suffering."
   ]
  },
  {
   "cell_type": "markdown",
   "metadata": {
    "id": "VbdqtRlgp29J"
   },
   "source": [
    "## Resources\n",
    "\n",
    "- Braaten, J. (2022, January, 7). Sentinel-2 Cloud Masking with s2cloudless. *Google Earth Engine.* https://developers.google.com/earth-engine/tutorials/community/sentinel-2-s2cloudless\n",
    "\n",
    "- BC Public Service. (2023, December 7). *Wildfire Season Summary*. https://www2.gov.bc.ca/gov/content/safety/wildfire-status/about-bcws/wildfire-history/wildfire-season-summary\n",
    "\n",
    "- European Space Agency. (2024). S2 mission. https://sentiwiki.copernicus.eu/web/s2-mission\n",
    "\n",
    "- Kulkarni, A. (2023, July 3). *What happens after the Donnie Creek wildfire, now larger than P.E.I., stops burning? CBC.* https://www.cbc.ca/news/canada/british-columbia/donnie-creek-wildfire-aftermath-1.6892294\n",
    "\n",
    "- Lindsay, B. & Dickson, C. (2021, July 1). *Village of Lytton, B.C., evacuated as mayor says 'the whole town is on fire.' CBC.* https://www.cbc.ca/news/canada/british-columbia/bc-wildfires-june-30-2021-1.6085919\n",
    "\n",
    "- National Oceananic and Atmospheric Association (NOAA) & National Aeronautics and Space Administration (NASA). (2024). Beginner's guide to GOES-R series data: How to acquire, analyze, and visualize GOES-R Series data. https://www.goes-r.gov/downloads/resources/documents/Beginners_Guide_to_GOES-R_Series_Data.pdf\n",
    "\n",
    "- National Oceananic and Atmospheric Association (NOAA) & National Aeronautics and Space Administration (NASA). (n.d.). Instruments: Advanced baseline imager (ABI). https://www.goes-r.gov/spacesegment/abi.html\n",
    "\n",
    "- Restif, C. & Hoffman, A. (2020, November 20). How to generate wildfire boundary maps with Earth Engine. *Medium*. https://medium.com/google-earth/how-to-generate-wildfire-boundary-maps-with-earth-engine-b38eadc97a38\n",
    "\n",
    "- Schmidt, C., Hoffman, J., Prins, E., & Lindstrom, S. (2012, July 30). GOES-R Advanced Baseline Imager (ABI) algorithm theoretical basis document for\n",
    "fire / hot spot characterization. NOAA NESDIS Center for Satellite Applications and Research. https://www.star.nesdis.noaa.gov/goesr/docs/ATBD/Fire.pdf\n",
    "\n",
    "- Stull, R. & Rodell, C. (2023, November 18). Case: Sparks Lake, BC. *UBC Earth, Ocean, and Atomspheric Sciences.* https://www.eoas.ubc.ca/courses/atsc413/cases/sparks_lake_BC/index.html\n",
    "\n",
    "- Watson, B. & Lindsay, B. (2021, June 29). *Homes evacuated as out-of-control wildfires grow in B.C.'s Interior CBC.* https://www.cbc.ca/news/canada/british-columbia/wildfires-interior-bc-1.6084445\n",
    "\n",
    "- United Nations: Office for Outer Space Affairs. (n.d.). Normalized Burn Ratio (NBR). https://un-spider.org/advisory-support/recommended-practices/recommended-practice-burn-severity/in-detail/normalized-burn-ratio"
   ]
  },
  {
   "cell_type": "code",
   "execution_count": null,
   "metadata": {
    "id": "Nnlar9EvgCfk"
   },
   "outputs": [],
   "source": []
  }
 ],
 "metadata": {
  "colab": {
   "provenance": [],
   "toc_visible": true
  },
  "kernelspec": {
   "display_name": "cyberse_wildfire",
   "language": "python",
   "name": "cyberse_wildfire"
  },
  "language_info": {
   "codemirror_mode": {
    "name": "ipython",
    "version": 3
   },
   "file_extension": ".py",
   "mimetype": "text/x-python",
   "name": "python",
   "nbconvert_exporter": "python",
   "pygments_lexer": "ipython3",
   "version": "3.10.12"
  },
  "widgets": {
   "application/vnd.jupyter.widget-state+json": {
    "07ea8f1f3b8d4e5889210666c2898a03": {
     "model_module": "jupyter-leaflet",
     "model_module_version": "^0.18",
     "model_name": "LeafletMapStyleModel",
     "state": {
      "_model_module": "jupyter-leaflet",
      "_model_module_version": "^0.18",
      "_model_name": "LeafletMapStyleModel",
      "_view_count": null,
      "_view_module": "@jupyter-widgets/base",
      "_view_module_version": "1.2.0",
      "_view_name": "StyleView",
      "cursor": "grab"
     }
    },
    "08f0f19461344683944e82bab6e8e94b": {
     "model_module": "jupyter-leaflet",
     "model_module_version": "^0.18",
     "model_name": "LeafletMapModel",
     "state": {
      "_dom_classes": [],
      "_model_module": "jupyter-leaflet",
      "_model_module_version": "^0.18",
      "_model_name": "LeafletMapModel",
      "_view_count": null,
      "_view_module": "jupyter-leaflet",
      "_view_module_version": "^0.18",
      "_view_name": "LeafletMapView",
      "bottom": 44621,
      "bounce_at_zoom_limits": true,
      "box_zoom": true,
      "center": [
       50.23128609777502,
       -121.58153879631847
      ],
      "close_popup_on_click": true,
      "controls": [
       "IPY_MODEL_270f0b09d80e4f9aa8d7096d71e04849",
       "IPY_MODEL_8b5b78e46c3e41b3932ada4f92044be8",
       "IPY_MODEL_37b68431e2c44a7e8874f653186df53b",
       "IPY_MODEL_f540c3dee5a44276abbe3ba39bc765ba",
       "IPY_MODEL_8103c34d180f44aab6f738a48c0456d3",
       "IPY_MODEL_cb4f321868a94b1a854a58dea6ea4ff6"
      ],
      "crs": {
       "custom": false,
       "name": "EPSG3857"
      },
      "default_style": "IPY_MODEL_1e4500c7d38d44bda675df81c8b60b69",
      "double_click_zoom": true,
      "dragging": true,
      "dragging_style": "IPY_MODEL_71889b510d4b4d64a056f11725aede63",
      "east": -120.41015625000001,
      "fullscreen": false,
      "inertia": true,
      "inertia_deceleration": 3000,
      "inertia_max_speed": 1500,
      "interpolation": "bilinear",
      "keyboard": true,
      "keyboard_pan_offset": 80,
      "keyboard_zoom_offset": 1,
      "layers": [
       "IPY_MODEL_2737318b2b4a42148a2f2f9fe5eb56f4",
       "IPY_MODEL_9547b579543646a792960633f501254a",
       "IPY_MODEL_5ec90d0e31f548989dff3539bfbe3679",
       "IPY_MODEL_c8b39848fef5436fb316d8acfd0015de"
      ],
      "layout": "IPY_MODEL_353cdea545c94a83a152ced3ec5cef41",
      "left": 20844,
      "max_zoom": null,
      "min_zoom": null,
      "modisdate": "2024-08-17",
      "north": 50.75557231232454,
      "options": [
       "bounce_at_zoom_limits",
       "box_zoom",
       "center",
       "close_popup_on_click",
       "double_click_zoom",
       "dragging",
       "fullscreen",
       "inertia",
       "inertia_deceleration",
       "inertia_max_speed",
       "interpolation",
       "keyboard",
       "keyboard_pan_offset",
       "keyboard_zoom_offset",
       "max_zoom",
       "min_zoom",
       "prefer_canvas",
       "scroll_wheel_zoom",
       "tap",
       "tap_tolerance",
       "touch_zoom",
       "world_copy_jump",
       "zoom",
       "zoom_animation_threshold",
       "zoom_delta",
       "zoom_snap"
      ],
      "panes": {},
      "prefer_canvas": false,
      "right": 21696,
      "scroll_wheel_zoom": true,
      "south": 49.70139134233472,
      "style": "IPY_MODEL_9db37cf9a2a049b7af9a4e229eae60da",
      "tap": true,
      "tap_tolerance": 15,
      "top": 44021,
      "touch_zoom": true,
      "west": -122.75024414062501,
      "window_url": "https://w6szj7vami-496ff2e9c6d22116-0-colab.googleusercontent.com/outputframe.html?vrz=colab_20240814-060115_RC00_662843208",
      "world_copy_jump": false,
      "zoom": 9,
      "zoom_animation_threshold": 4,
      "zoom_delta": 1,
      "zoom_snap": 1
     }
    },
    "16ba89e23dec4b6c99a7fe29691436a0": {
     "model_module": "jupyter-leaflet",
     "model_module_version": "^0.18",
     "model_name": "LeafletTileLayerModel",
     "state": {
      "_model_module": "jupyter-leaflet",
      "_model_module_version": "^0.18",
      "_model_name": "LeafletTileLayerModel",
      "_view_count": null,
      "_view_module": "jupyter-leaflet",
      "_view_module_version": "^0.18",
      "_view_name": "LeafletTileLayerView",
      "attribution": "Google Earth Engine",
      "base": false,
      "bottom": true,
      "bounds": null,
      "detect_retina": false,
      "loading": false,
      "max_native_zoom": null,
      "max_zoom": 24,
      "min_native_zoom": null,
      "min_zoom": 0,
      "name": "Smoothed confidence",
      "no_wrap": false,
      "opacity": 1,
      "options": [
       "attribution",
       "bounds",
       "detect_retina",
       "max_native_zoom",
       "max_zoom",
       "min_native_zoom",
       "min_zoom",
       "no_wrap",
       "tile_size",
       "tms",
       "zoom_offset"
      ],
      "pane": "",
      "popup": null,
      "popup_max_height": null,
      "popup_max_width": 300,
      "popup_min_width": 50,
      "show_loading": false,
      "subitems": [],
      "tile_size": 256,
      "tms": false,
      "url": "https://earthengine.googleapis.com/v1/projects/bc-wildfire-422905/maps/cdcba73a5e0ba8c10b7db5cee2cdb669-cac07fae95a8ea07feee44acf5aa28d3/tiles/{z}/{x}/{y}",
      "visible": true,
      "zoom_offset": 0
     }
    },
    "1e4500c7d38d44bda675df81c8b60b69": {
     "model_module": "jupyter-leaflet",
     "model_module_version": "^0.18",
     "model_name": "LeafletMapStyleModel",
     "state": {
      "_model_module": "jupyter-leaflet",
      "_model_module_version": "^0.18",
      "_model_name": "LeafletMapStyleModel",
      "_view_count": null,
      "_view_module": "@jupyter-widgets/base",
      "_view_module_version": "1.2.0",
      "_view_name": "StyleView",
      "cursor": "grab"
     }
    },
    "20985c9295cf4df8a62c53ac065b12ed": {
     "model_module": "@jupyter-widgets/base",
     "model_module_version": "1.2.0",
     "model_name": "LayoutModel",
     "state": {
      "_model_module": "@jupyter-widgets/base",
      "_model_module_version": "1.2.0",
      "_model_name": "LayoutModel",
      "_view_count": null,
      "_view_module": "@jupyter-widgets/base",
      "_view_module_version": "1.2.0",
      "_view_name": "LayoutView",
      "align_content": null,
      "align_items": null,
      "align_self": null,
      "border": null,
      "bottom": null,
      "display": null,
      "flex": null,
      "flex_flow": null,
      "grid_area": null,
      "grid_auto_columns": null,
      "grid_auto_flow": null,
      "grid_auto_rows": null,
      "grid_column": null,
      "grid_gap": null,
      "grid_row": null,
      "grid_template_areas": null,
      "grid_template_columns": null,
      "grid_template_rows": null,
      "height": null,
      "justify_content": null,
      "justify_items": null,
      "left": null,
      "margin": null,
      "max_height": null,
      "max_width": null,
      "min_height": null,
      "min_width": null,
      "object_fit": null,
      "object_position": null,
      "order": null,
      "overflow": null,
      "overflow_x": null,
      "overflow_y": null,
      "padding": null,
      "right": null,
      "top": null,
      "visibility": null,
      "width": null
     }
    },
    "21f4fb968b124d24a75315c0a6e4833b": {
     "model_module": "@jupyter-widgets/base",
     "model_module_version": "1.2.0",
     "model_name": "LayoutModel",
     "state": {
      "_model_module": "@jupyter-widgets/base",
      "_model_module_version": "1.2.0",
      "_model_name": "LayoutModel",
      "_view_count": null,
      "_view_module": "@jupyter-widgets/base",
      "_view_module_version": "1.2.0",
      "_view_name": "LayoutView",
      "align_content": null,
      "align_items": null,
      "align_self": null,
      "border": null,
      "bottom": null,
      "display": null,
      "flex": null,
      "flex_flow": null,
      "grid_area": null,
      "grid_auto_columns": null,
      "grid_auto_flow": null,
      "grid_auto_rows": null,
      "grid_column": null,
      "grid_gap": null,
      "grid_row": null,
      "grid_template_areas": null,
      "grid_template_columns": null,
      "grid_template_rows": null,
      "height": null,
      "justify_content": null,
      "justify_items": null,
      "left": null,
      "margin": null,
      "max_height": null,
      "max_width": null,
      "min_height": null,
      "min_width": null,
      "object_fit": null,
      "object_position": null,
      "order": null,
      "overflow": null,
      "overflow_x": null,
      "overflow_y": null,
      "padding": null,
      "right": null,
      "top": null,
      "visibility": null,
      "width": null
     }
    },
    "270f0b09d80e4f9aa8d7096d71e04849": {
     "model_module": "jupyter-leaflet",
     "model_module_version": "^0.18",
     "model_name": "LeafletZoomControlModel",
     "state": {
      "_model_module": "jupyter-leaflet",
      "_model_module_version": "^0.18",
      "_model_name": "LeafletZoomControlModel",
      "_view_count": null,
      "_view_module": "jupyter-leaflet",
      "_view_module_version": "^0.18",
      "_view_name": "LeafletZoomControlView",
      "options": [
       "position",
       "zoom_in_text",
       "zoom_in_title",
       "zoom_out_text",
       "zoom_out_title"
      ],
      "position": "topleft",
      "zoom_in_text": "+",
      "zoom_in_title": "Zoom in",
      "zoom_out_text": "-",
      "zoom_out_title": "Zoom out"
     }
    },
    "2737318b2b4a42148a2f2f9fe5eb56f4": {
     "model_module": "jupyter-leaflet",
     "model_module_version": "^0.18",
     "model_name": "LeafletTileLayerModel",
     "state": {
      "_model_module": "jupyter-leaflet",
      "_model_module_version": "^0.18",
      "_model_name": "LeafletTileLayerModel",
      "_view_count": null,
      "_view_module": "jupyter-leaflet",
      "_view_module_version": "^0.18",
      "_view_name": "LeafletTileLayerView",
      "attribution": "&copy; <a href=\"https://www.openstreetmap.org/copyright\">OpenStreetMap</a> contributors",
      "base": true,
      "bottom": true,
      "bounds": null,
      "detect_retina": false,
      "loading": false,
      "max_native_zoom": null,
      "max_zoom": 19,
      "min_native_zoom": null,
      "min_zoom": 1,
      "name": "OpenStreetMap.Mapnik",
      "no_wrap": false,
      "opacity": 1,
      "options": [
       "attribution",
       "bounds",
       "detect_retina",
       "max_native_zoom",
       "max_zoom",
       "min_native_zoom",
       "min_zoom",
       "no_wrap",
       "tile_size",
       "tms",
       "zoom_offset"
      ],
      "pane": "",
      "popup": null,
      "popup_max_height": null,
      "popup_max_width": 300,
      "popup_min_width": 50,
      "show_loading": false,
      "subitems": [],
      "tile_size": 256,
      "tms": false,
      "url": "https://tile.openstreetmap.org/{z}/{x}/{y}.png",
      "visible": true,
      "zoom_offset": 0
     }
    },
    "2a0c3ea182d94f3da1ebf3283bf4e0b4": {
     "model_module": "jupyter-leaflet",
     "model_module_version": "^0.18",
     "model_name": "LeafletMapStyleModel",
     "state": {
      "_model_module": "jupyter-leaflet",
      "_model_module_version": "^0.18",
      "_model_name": "LeafletMapStyleModel",
      "_view_count": null,
      "_view_module": "@jupyter-widgets/base",
      "_view_module_version": "1.2.0",
      "_view_name": "StyleView",
      "cursor": "move"
     }
    },
    "2ab0396286d04acaabf963befe7a3d5d": {
     "model_module": "jupyter-leaflet",
     "model_module_version": "^0.18",
     "model_name": "LeafletWidgetControlModel",
     "state": {
      "_model_module": "jupyter-leaflet",
      "_model_module_version": "^0.18",
      "_model_name": "LeafletWidgetControlModel",
      "_view_count": null,
      "_view_module": "jupyter-leaflet",
      "_view_module_version": "^0.18",
      "_view_name": "LeafletWidgetControlView",
      "max_height": null,
      "max_width": null,
      "min_height": null,
      "min_width": null,
      "options": [
       "position",
       "transparent_bg"
      ],
      "position": "topright",
      "transparent_bg": false,
      "widget": "IPY_MODEL_3cb81621ddc54281910d5b9567a99cfb"
     }
    },
    "32188401a5e644b4a834fb50dd9dde26": {
     "model_module": "jupyter-leaflet",
     "model_module_version": "^0.18",
     "model_name": "LeafletTileLayerModel",
     "state": {
      "_model_module": "jupyter-leaflet",
      "_model_module_version": "^0.18",
      "_model_name": "LeafletTileLayerModel",
      "_view_count": null,
      "_view_module": "jupyter-leaflet",
      "_view_module_version": "^0.18",
      "_view_name": "LeafletTileLayerView",
      "attribution": "&copy; <a href=\"https://www.openstreetmap.org/copyright\">OpenStreetMap</a> contributors",
      "base": true,
      "bottom": true,
      "bounds": null,
      "detect_retina": false,
      "loading": false,
      "max_native_zoom": null,
      "max_zoom": 19,
      "min_native_zoom": null,
      "min_zoom": 1,
      "name": "OpenStreetMap.Mapnik",
      "no_wrap": false,
      "opacity": 1,
      "options": [
       "attribution",
       "bounds",
       "detect_retina",
       "max_native_zoom",
       "max_zoom",
       "min_native_zoom",
       "min_zoom",
       "no_wrap",
       "tile_size",
       "tms",
       "zoom_offset"
      ],
      "pane": "",
      "popup": null,
      "popup_max_height": null,
      "popup_max_width": 300,
      "popup_min_width": 50,
      "show_loading": false,
      "subitems": [],
      "tile_size": 256,
      "tms": false,
      "url": "https://tile.openstreetmap.org/{z}/{x}/{y}.png",
      "visible": true,
      "zoom_offset": 0
     }
    },
    "353cdea545c94a83a152ced3ec5cef41": {
     "model_module": "@jupyter-widgets/base",
     "model_module_version": "1.2.0",
     "model_name": "LayoutModel",
     "state": {
      "_model_module": "@jupyter-widgets/base",
      "_model_module_version": "1.2.0",
      "_model_name": "LayoutModel",
      "_view_count": null,
      "_view_module": "@jupyter-widgets/base",
      "_view_module_version": "1.2.0",
      "_view_name": "LayoutView",
      "align_content": null,
      "align_items": null,
      "align_self": null,
      "border": null,
      "bottom": null,
      "display": null,
      "flex": null,
      "flex_flow": null,
      "grid_area": null,
      "grid_auto_columns": null,
      "grid_auto_flow": null,
      "grid_auto_rows": null,
      "grid_column": null,
      "grid_gap": null,
      "grid_row": null,
      "grid_template_areas": null,
      "grid_template_columns": null,
      "grid_template_rows": null,
      "height": "600px",
      "justify_content": null,
      "justify_items": null,
      "left": null,
      "margin": null,
      "max_height": null,
      "max_width": null,
      "min_height": null,
      "min_width": null,
      "object_fit": null,
      "object_position": null,
      "order": null,
      "overflow": null,
      "overflow_x": null,
      "overflow_y": null,
      "padding": null,
      "right": null,
      "top": null,
      "visibility": null,
      "width": null
     }
    },
    "37aad12fe0fb4d2a888829e6df9702f3": {
     "model_module": "@jupyter-widgets/controls",
     "model_module_version": "1.5.0",
     "model_name": "DescriptionStyleModel",
     "state": {
      "_model_module": "@jupyter-widgets/controls",
      "_model_module_version": "1.5.0",
      "_model_name": "DescriptionStyleModel",
      "_view_count": null,
      "_view_module": "@jupyter-widgets/base",
      "_view_module_version": "1.2.0",
      "_view_name": "StyleView",
      "description_width": ""
     }
    },
    "37b68431e2c44a7e8874f653186df53b": {
     "model_module": "jupyter-leaflet",
     "model_module_version": "^0.18",
     "model_name": "LeafletDrawControlModel",
     "state": {
      "_model_module": "jupyter-leaflet",
      "_model_module_version": "^0.18",
      "_model_name": "LeafletDrawControlModel",
      "_view_count": null,
      "_view_module": "jupyter-leaflet",
      "_view_module_version": "^0.18",
      "_view_name": "LeafletDrawControlView",
      "circle": {},
      "circlemarker": {},
      "data": [],
      "edit": true,
      "marker": {
       "shapeOptions": {
        "color": "#3388ff"
       }
      },
      "options": [
       "position"
      ],
      "polygon": {
       "shapeOptions": {}
      },
      "polyline": {
       "shapeOptions": {}
      },
      "position": "topleft",
      "rectangle": {
       "shapeOptions": {
        "color": "#3388ff"
       }
      },
      "remove": true
     }
    },
    "38271e103e504a9a9a8708866fe12381": {
     "model_module": "jupyter-leaflet",
     "model_module_version": "^0.18",
     "model_name": "LeafletAttributionControlModel",
     "state": {
      "_model_module": "jupyter-leaflet",
      "_model_module_version": "^0.18",
      "_model_name": "LeafletAttributionControlModel",
      "_view_count": null,
      "_view_module": "jupyter-leaflet",
      "_view_module_version": "^0.18",
      "_view_name": "LeafletAttributionControlView",
      "options": [
       "position",
       "prefix"
      ],
      "position": "bottomright",
      "prefix": "ipyleaflet"
     }
    },
    "3cb81621ddc54281910d5b9567a99cfb": {
     "model_module": "@jupyter-widgets/controls",
     "model_module_version": "1.5.0",
     "model_name": "VBoxModel",
     "state": {
      "_dom_classes": [
       "geemap-colab"
      ],
      "_model_module": "@jupyter-widgets/controls",
      "_model_module_version": "1.5.0",
      "_model_name": "VBoxModel",
      "_view_count": null,
      "_view_module": "@jupyter-widgets/controls",
      "_view_module_version": "1.5.0",
      "_view_name": "VBoxView",
      "box_style": "",
      "children": [
       "IPY_MODEL_8d3e33f834814d3f8722c278f1668887"
      ],
      "layout": "IPY_MODEL_53e6069883264815bb45a2ebfbfa22a1"
     }
    },
    "3d0c82534d1347da894d0c871514baed": {
     "model_module": "jupyter-leaflet",
     "model_module_version": "^0.18",
     "model_name": "LeafletFullScreenControlModel",
     "state": {
      "_model_module": "jupyter-leaflet",
      "_model_module_version": "^0.18",
      "_model_name": "LeafletFullScreenControlModel",
      "_view_count": null,
      "_view_module": "jupyter-leaflet",
      "_view_module_version": "^0.18",
      "_view_name": "LeafletFullScreenControlView",
      "options": [
       "position"
      ],
      "position": "topleft"
     }
    },
    "4ca30a06afad48f9ad4b942a0749213b": {
     "model_module": "jupyter-leaflet",
     "model_module_version": "^0.18",
     "model_name": "LeafletTileLayerModel",
     "state": {
      "_model_module": "jupyter-leaflet",
      "_model_module_version": "^0.18",
      "_model_name": "LeafletTileLayerModel",
      "_view_count": null,
      "_view_module": "jupyter-leaflet",
      "_view_module_version": "^0.18",
      "_view_name": "LeafletTileLayerView",
      "attribution": "Google Earth Engine",
      "base": false,
      "bottom": true,
      "bounds": null,
      "detect_retina": false,
      "loading": false,
      "max_native_zoom": null,
      "max_zoom": 24,
      "min_native_zoom": null,
      "min_zoom": 0,
      "name": "Area of interest",
      "no_wrap": false,
      "opacity": 0.2,
      "options": [
       "attribution",
       "bounds",
       "detect_retina",
       "max_native_zoom",
       "max_zoom",
       "min_native_zoom",
       "min_zoom",
       "no_wrap",
       "tile_size",
       "tms",
       "zoom_offset"
      ],
      "pane": "",
      "popup": null,
      "popup_max_height": null,
      "popup_max_width": 300,
      "popup_min_width": 50,
      "show_loading": false,
      "subitems": [],
      "tile_size": 256,
      "tms": false,
      "url": "https://earthengine.googleapis.com/v1/projects/bc-wildfire-422905/maps/949cdc3eaef037d03d1f783d22744dda-3ddb3f78bcdf7a82d360b661a2b1f4db/tiles/{z}/{x}/{y}",
      "visible": true,
      "zoom_offset": 0
     }
    },
    "53e6069883264815bb45a2ebfbfa22a1": {
     "model_module": "@jupyter-widgets/base",
     "model_module_version": "1.2.0",
     "model_name": "LayoutModel",
     "state": {
      "_model_module": "@jupyter-widgets/base",
      "_model_module_version": "1.2.0",
      "_model_name": "LayoutModel",
      "_view_count": null,
      "_view_module": "@jupyter-widgets/base",
      "_view_module_version": "1.2.0",
      "_view_name": "LayoutView",
      "align_content": null,
      "align_items": null,
      "align_self": null,
      "border": null,
      "bottom": null,
      "display": null,
      "flex": null,
      "flex_flow": null,
      "grid_area": null,
      "grid_auto_columns": null,
      "grid_auto_flow": null,
      "grid_auto_rows": null,
      "grid_column": null,
      "grid_gap": null,
      "grid_row": null,
      "grid_template_areas": null,
      "grid_template_columns": null,
      "grid_template_rows": null,
      "height": null,
      "justify_content": null,
      "justify_items": null,
      "left": null,
      "margin": null,
      "max_height": null,
      "max_width": null,
      "min_height": null,
      "min_width": null,
      "object_fit": null,
      "object_position": null,
      "order": null,
      "overflow": null,
      "overflow_x": null,
      "overflow_y": null,
      "padding": null,
      "right": null,
      "top": null,
      "visibility": null,
      "width": null
     }
    },
    "5ec90d0e31f548989dff3539bfbe3679": {
     "model_module": "jupyter-leaflet",
     "model_module_version": "^0.18",
     "model_name": "LeafletTileLayerModel",
     "state": {
      "_model_module": "jupyter-leaflet",
      "_model_module_version": "^0.18",
      "_model_name": "LeafletTileLayerModel",
      "_view_count": null,
      "_view_module": "jupyter-leaflet",
      "_view_module_version": "^0.18",
      "_view_name": "LeafletTileLayerView",
      "attribution": "Google Earth Engine",
      "base": false,
      "bottom": true,
      "bounds": null,
      "detect_retina": false,
      "loading": false,
      "max_native_zoom": null,
      "max_zoom": 24,
      "min_native_zoom": null,
      "min_zoom": 0,
      "name": "GOES-16 maximum confidence",
      "no_wrap": false,
      "opacity": 1,
      "options": [
       "attribution",
       "bounds",
       "detect_retina",
       "max_native_zoom",
       "max_zoom",
       "min_native_zoom",
       "min_zoom",
       "no_wrap",
       "tile_size",
       "tms",
       "zoom_offset"
      ],
      "pane": "",
      "popup": null,
      "popup_max_height": null,
      "popup_max_width": 300,
      "popup_min_width": 50,
      "show_loading": false,
      "subitems": [],
      "tile_size": 256,
      "tms": false,
      "url": "https://earthengine.googleapis.com/v1/projects/bc-wildfire-422905/maps/7f9a8718ac3daf3ba567deda0ae7db56-1b4c448cba9075ff7aee06a03ba99852/tiles/{z}/{x}/{y}",
      "visible": true,
      "zoom_offset": 0
     }
    },
    "67a93b3a425f4b9e8db8e83c15df83d8": {
     "model_module": "jupyter-leaflet",
     "model_module_version": "^0.18",
     "model_name": "LeafletMapModel",
     "state": {
      "_dom_classes": [],
      "_model_module": "jupyter-leaflet",
      "_model_module_version": "^0.18",
      "_model_name": "LeafletMapModel",
      "_view_count": null,
      "_view_module": "jupyter-leaflet",
      "_view_module_version": "^0.18",
      "_view_name": "LeafletMapView",
      "bottom": 44621,
      "bounce_at_zoom_limits": true,
      "box_zoom": true,
      "center": [
       50.23128609777502,
       -121.58153879631847
      ],
      "close_popup_on_click": true,
      "controls": [
       "IPY_MODEL_b69780e9ca654b2284ecd1a8e3b83361",
       "IPY_MODEL_3d0c82534d1347da894d0c871514baed",
       "IPY_MODEL_8dcf4d5a47d644a8b35f379f04ef2917",
       "IPY_MODEL_94447c2b9a39443d969246c9dff7d41b",
       "IPY_MODEL_2ab0396286d04acaabf963befe7a3d5d",
       "IPY_MODEL_bfa82379cd8340ddb71b25889690678f"
      ],
      "crs": {
       "custom": false,
       "name": "EPSG3857"
      },
      "default_style": "IPY_MODEL_07ea8f1f3b8d4e5889210666c2898a03",
      "double_click_zoom": true,
      "dragging": true,
      "dragging_style": "IPY_MODEL_7b16dea7d3a94c7d90863ffd0413441c",
      "east": -120.41015625000001,
      "fullscreen": false,
      "inertia": true,
      "inertia_deceleration": 3000,
      "inertia_max_speed": 1500,
      "interpolation": "bilinear",
      "keyboard": true,
      "keyboard_pan_offset": 80,
      "keyboard_zoom_offset": 1,
      "layers": [
       "IPY_MODEL_32188401a5e644b4a834fb50dd9dde26",
       "IPY_MODEL_4ca30a06afad48f9ad4b942a0749213b",
       "IPY_MODEL_16ba89e23dec4b6c99a7fe29691436a0"
      ],
      "layout": "IPY_MODEL_a56bed4574684b99be462131535c3b3c",
      "left": 20844,
      "max_zoom": null,
      "min_zoom": null,
      "modisdate": "2024-08-17",
      "north": 50.75557231232454,
      "options": [
       "bounce_at_zoom_limits",
       "box_zoom",
       "center",
       "close_popup_on_click",
       "double_click_zoom",
       "dragging",
       "fullscreen",
       "inertia",
       "inertia_deceleration",
       "inertia_max_speed",
       "interpolation",
       "keyboard",
       "keyboard_pan_offset",
       "keyboard_zoom_offset",
       "max_zoom",
       "min_zoom",
       "prefer_canvas",
       "scroll_wheel_zoom",
       "tap",
       "tap_tolerance",
       "touch_zoom",
       "world_copy_jump",
       "zoom",
       "zoom_animation_threshold",
       "zoom_delta",
       "zoom_snap"
      ],
      "panes": {},
      "prefer_canvas": false,
      "right": 21696,
      "scroll_wheel_zoom": true,
      "south": 49.70139134233472,
      "style": "IPY_MODEL_6dc2376d061140a0819cfce54228327c",
      "tap": true,
      "tap_tolerance": 15,
      "top": 44021,
      "touch_zoom": true,
      "west": -122.75024414062501,
      "window_url": "https://w6szj7vami-496ff2e9c6d22116-0-colab.googleusercontent.com/outputframe.html?vrz=colab_20240814-060115_RC00_662843208",
      "world_copy_jump": false,
      "zoom": 9,
      "zoom_animation_threshold": 4,
      "zoom_delta": 1,
      "zoom_snap": 1
     }
    },
    "6dc2376d061140a0819cfce54228327c": {
     "model_module": "jupyter-leaflet",
     "model_module_version": "^0.18",
     "model_name": "LeafletMapStyleModel",
     "state": {
      "_model_module": "jupyter-leaflet",
      "_model_module_version": "^0.18",
      "_model_name": "LeafletMapStyleModel",
      "_view_count": null,
      "_view_module": "@jupyter-widgets/base",
      "_view_module_version": "1.2.0",
      "_view_name": "StyleView",
      "cursor": "grab"
     }
    },
    "71889b510d4b4d64a056f11725aede63": {
     "model_module": "jupyter-leaflet",
     "model_module_version": "^0.18",
     "model_name": "LeafletMapStyleModel",
     "state": {
      "_model_module": "jupyter-leaflet",
      "_model_module_version": "^0.18",
      "_model_name": "LeafletMapStyleModel",
      "_view_count": null,
      "_view_module": "@jupyter-widgets/base",
      "_view_module_version": "1.2.0",
      "_view_name": "StyleView",
      "cursor": "move"
     }
    },
    "7b16dea7d3a94c7d90863ffd0413441c": {
     "model_module": "jupyter-leaflet",
     "model_module_version": "^0.18",
     "model_name": "LeafletMapStyleModel",
     "state": {
      "_model_module": "jupyter-leaflet",
      "_model_module_version": "^0.18",
      "_model_name": "LeafletMapStyleModel",
      "_view_count": null,
      "_view_module": "@jupyter-widgets/base",
      "_view_module_version": "1.2.0",
      "_view_name": "StyleView",
      "cursor": "move"
     }
    },
    "8103c34d180f44aab6f738a48c0456d3": {
     "model_module": "jupyter-leaflet",
     "model_module_version": "^0.18",
     "model_name": "LeafletWidgetControlModel",
     "state": {
      "_model_module": "jupyter-leaflet",
      "_model_module_version": "^0.18",
      "_model_name": "LeafletWidgetControlModel",
      "_view_count": null,
      "_view_module": "jupyter-leaflet",
      "_view_module_version": "^0.18",
      "_view_name": "LeafletWidgetControlView",
      "max_height": null,
      "max_width": null,
      "min_height": null,
      "min_width": null,
      "options": [
       "position",
       "transparent_bg"
      ],
      "position": "topright",
      "transparent_bg": false,
      "widget": "IPY_MODEL_acaa5388f41d4d5ea0eaa5043bd932ed"
     }
    },
    "844de01c8c8e4038b456105a473b945e": {
     "model_module": "jupyter-leaflet",
     "model_module_version": "^0.18",
     "model_name": "LeafletMapStyleModel",
     "state": {
      "_model_module": "jupyter-leaflet",
      "_model_module_version": "^0.18",
      "_model_name": "LeafletMapStyleModel",
      "_view_count": null,
      "_view_module": "@jupyter-widgets/base",
      "_view_module_version": "1.2.0",
      "_view_name": "StyleView",
      "cursor": "grab"
     }
    },
    "86e847999bdc459d8bd47ad405de4da9": {
     "model_module": "jupyter-leaflet",
     "model_module_version": "^0.18",
     "model_name": "LeafletScaleControlModel",
     "state": {
      "_model_module": "jupyter-leaflet",
      "_model_module_version": "^0.18",
      "_model_name": "LeafletScaleControlModel",
      "_view_count": null,
      "_view_module": "jupyter-leaflet",
      "_view_module_version": "^0.18",
      "_view_name": "LeafletScaleControlView",
      "imperial": true,
      "max_width": 100,
      "metric": true,
      "options": [
       "imperial",
       "max_width",
       "metric",
       "position",
       "update_when_idle"
      ],
      "position": "bottomleft",
      "update_when_idle": false
     }
    },
    "89f6c8afd47745acb2efd6561f3e0d20": {
     "model_module": "jupyter-leaflet",
     "model_module_version": "^0.18",
     "model_name": "LeafletFullScreenControlModel",
     "state": {
      "_model_module": "jupyter-leaflet",
      "_model_module_version": "^0.18",
      "_model_name": "LeafletFullScreenControlModel",
      "_view_count": null,
      "_view_module": "jupyter-leaflet",
      "_view_module_version": "^0.18",
      "_view_name": "LeafletFullScreenControlView",
      "options": [
       "position"
      ],
      "position": "topleft"
     }
    },
    "8b5b78e46c3e41b3932ada4f92044be8": {
     "model_module": "jupyter-leaflet",
     "model_module_version": "^0.18",
     "model_name": "LeafletFullScreenControlModel",
     "state": {
      "_model_module": "jupyter-leaflet",
      "_model_module_version": "^0.18",
      "_model_name": "LeafletFullScreenControlModel",
      "_view_count": null,
      "_view_module": "jupyter-leaflet",
      "_view_module_version": "^0.18",
      "_view_name": "LeafletFullScreenControlView",
      "options": [
       "position"
      ],
      "position": "topleft"
     }
    },
    "8d3e33f834814d3f8722c278f1668887": {
     "model_module": "@jupyter-widgets/controls",
     "model_module_version": "1.5.0",
     "model_name": "ToggleButtonModel",
     "state": {
      "_dom_classes": [],
      "_model_module": "@jupyter-widgets/controls",
      "_model_module_version": "1.5.0",
      "_model_name": "ToggleButtonModel",
      "_view_count": null,
      "_view_module": "@jupyter-widgets/controls",
      "_view_module_version": "1.5.0",
      "_view_name": "ToggleButtonView",
      "button_style": "",
      "description": "",
      "description_tooltip": null,
      "disabled": false,
      "icon": "wrench",
      "layout": "IPY_MODEL_defdd05753414bc9adf6a9abc4c90f83",
      "style": "IPY_MODEL_c2980cf1a53f418c93ec63616ba6480c",
      "tooltip": "Toolbar",
      "value": false
     }
    },
    "8dcf4d5a47d644a8b35f379f04ef2917": {
     "model_module": "jupyter-leaflet",
     "model_module_version": "^0.18",
     "model_name": "LeafletDrawControlModel",
     "state": {
      "_model_module": "jupyter-leaflet",
      "_model_module_version": "^0.18",
      "_model_name": "LeafletDrawControlModel",
      "_view_count": null,
      "_view_module": "jupyter-leaflet",
      "_view_module_version": "^0.18",
      "_view_name": "LeafletDrawControlView",
      "circle": {},
      "circlemarker": {},
      "data": [],
      "edit": true,
      "marker": {
       "shapeOptions": {
        "color": "#3388ff"
       }
      },
      "options": [
       "position"
      ],
      "polygon": {
       "shapeOptions": {}
      },
      "polyline": {
       "shapeOptions": {}
      },
      "position": "topleft",
      "rectangle": {
       "shapeOptions": {
        "color": "#3388ff"
       }
      },
      "remove": true
     }
    },
    "94447c2b9a39443d969246c9dff7d41b": {
     "model_module": "jupyter-leaflet",
     "model_module_version": "^0.18",
     "model_name": "LeafletScaleControlModel",
     "state": {
      "_model_module": "jupyter-leaflet",
      "_model_module_version": "^0.18",
      "_model_name": "LeafletScaleControlModel",
      "_view_count": null,
      "_view_module": "jupyter-leaflet",
      "_view_module_version": "^0.18",
      "_view_name": "LeafletScaleControlView",
      "imperial": true,
      "max_width": 100,
      "metric": true,
      "options": [
       "imperial",
       "max_width",
       "metric",
       "position",
       "update_when_idle"
      ],
      "position": "bottomleft",
      "update_when_idle": false
     }
    },
    "9547b579543646a792960633f501254a": {
     "model_module": "jupyter-leaflet",
     "model_module_version": "^0.18",
     "model_name": "LeafletTileLayerModel",
     "state": {
      "_model_module": "jupyter-leaflet",
      "_model_module_version": "^0.18",
      "_model_name": "LeafletTileLayerModel",
      "_view_count": null,
      "_view_module": "jupyter-leaflet",
      "_view_module_version": "^0.18",
      "_view_name": "LeafletTileLayerView",
      "attribution": "Google Earth Engine",
      "base": false,
      "bottom": true,
      "bounds": null,
      "detect_retina": false,
      "loading": false,
      "max_native_zoom": null,
      "max_zoom": 24,
      "min_native_zoom": null,
      "min_zoom": 0,
      "name": "Area of interest",
      "no_wrap": false,
      "opacity": 0.2,
      "options": [
       "attribution",
       "bounds",
       "detect_retina",
       "max_native_zoom",
       "max_zoom",
       "min_native_zoom",
       "min_zoom",
       "no_wrap",
       "tile_size",
       "tms",
       "zoom_offset"
      ],
      "pane": "",
      "popup": null,
      "popup_max_height": null,
      "popup_max_width": 300,
      "popup_min_width": 50,
      "show_loading": false,
      "subitems": [],
      "tile_size": 256,
      "tms": false,
      "url": "https://earthengine.googleapis.com/v1/projects/bc-wildfire-422905/maps/949cdc3eaef037d03d1f783d22744dda-87f49f57a52f21cd87397c41371263b2/tiles/{z}/{x}/{y}",
      "visible": true,
      "zoom_offset": 0
     }
    },
    "9db37cf9a2a049b7af9a4e229eae60da": {
     "model_module": "jupyter-leaflet",
     "model_module_version": "^0.18",
     "model_name": "LeafletMapStyleModel",
     "state": {
      "_model_module": "jupyter-leaflet",
      "_model_module_version": "^0.18",
      "_model_name": "LeafletMapStyleModel",
      "_view_count": null,
      "_view_module": "@jupyter-widgets/base",
      "_view_module_version": "1.2.0",
      "_view_name": "StyleView",
      "cursor": "grab"
     }
    },
    "9e1e981340d541508d3c50fbb13c9a4f": {
     "model_module": "jupyter-leaflet",
     "model_module_version": "^0.18",
     "model_name": "LeafletMapModel",
     "state": {
      "_dom_classes": [],
      "_model_module": "jupyter-leaflet",
      "_model_module_version": "^0.18",
      "_model_name": "LeafletMapModel",
      "_view_count": null,
      "_view_module": "jupyter-leaflet",
      "_view_module_version": "^0.18",
      "_view_name": "LeafletMapView",
      "bottom": 44621,
      "bounce_at_zoom_limits": true,
      "box_zoom": true,
      "center": [
       50.23128609777502,
       -121.58153879631847
      ],
      "close_popup_on_click": true,
      "controls": [
       "IPY_MODEL_b340ab8fc3ba4fe8b25492bf00e15ff4",
       "IPY_MODEL_89f6c8afd47745acb2efd6561f3e0d20",
       "IPY_MODEL_a9341b84b1f845af9c4ed51ff0f6851a",
       "IPY_MODEL_86e847999bdc459d8bd47ad405de4da9",
       "IPY_MODEL_dc49271ba47d4ba294b391db1d6c98cb",
       "IPY_MODEL_38271e103e504a9a9a8708866fe12381"
      ],
      "crs": {
       "custom": false,
       "name": "EPSG3857"
      },
      "default_style": "IPY_MODEL_c685420f396a40ac9c19b31463f80aa1",
      "double_click_zoom": true,
      "dragging": true,
      "dragging_style": "IPY_MODEL_2a0c3ea182d94f3da1ebf3283bf4e0b4",
      "east": -120.41015625000001,
      "fullscreen": false,
      "inertia": true,
      "inertia_deceleration": 3000,
      "inertia_max_speed": 1500,
      "interpolation": "bilinear",
      "keyboard": true,
      "keyboard_pan_offset": 80,
      "keyboard_zoom_offset": 1,
      "layers": [
       "IPY_MODEL_a6064dc3dc5844e1966279ef12abfaa9",
       "IPY_MODEL_d17c2c6aadbf47c585ea903fcecce90a",
       "IPY_MODEL_c83c59f9d16a4c9aba35ab0b6fa18249"
      ],
      "layout": "IPY_MODEL_a615505a73c04fa5ab0cc8ddb4aaba1d",
      "left": 20844,
      "max_zoom": null,
      "min_zoom": null,
      "modisdate": "2024-08-17",
      "north": 50.75557231232454,
      "options": [
       "bounce_at_zoom_limits",
       "box_zoom",
       "center",
       "close_popup_on_click",
       "double_click_zoom",
       "dragging",
       "fullscreen",
       "inertia",
       "inertia_deceleration",
       "inertia_max_speed",
       "interpolation",
       "keyboard",
       "keyboard_pan_offset",
       "keyboard_zoom_offset",
       "max_zoom",
       "min_zoom",
       "prefer_canvas",
       "scroll_wheel_zoom",
       "tap",
       "tap_tolerance",
       "touch_zoom",
       "world_copy_jump",
       "zoom",
       "zoom_animation_threshold",
       "zoom_delta",
       "zoom_snap"
      ],
      "panes": {},
      "prefer_canvas": false,
      "right": 21696,
      "scroll_wheel_zoom": true,
      "south": 49.70139134233472,
      "style": "IPY_MODEL_844de01c8c8e4038b456105a473b945e",
      "tap": true,
      "tap_tolerance": 15,
      "top": 44021,
      "touch_zoom": true,
      "west": -122.75024414062501,
      "window_url": "https://w6szj7vami-496ff2e9c6d22116-0-colab.googleusercontent.com/outputframe.html?vrz=colab_20240814-060115_RC00_662843208",
      "world_copy_jump": false,
      "zoom": 9,
      "zoom_animation_threshold": 4,
      "zoom_delta": 1,
      "zoom_snap": 1
     }
    },
    "a167ed744e1246abacf61b13456fa5ee": {
     "model_module": "@jupyter-widgets/controls",
     "model_module_version": "1.5.0",
     "model_name": "ToggleButtonModel",
     "state": {
      "_dom_classes": [],
      "_model_module": "@jupyter-widgets/controls",
      "_model_module_version": "1.5.0",
      "_model_name": "ToggleButtonModel",
      "_view_count": null,
      "_view_module": "@jupyter-widgets/controls",
      "_view_module_version": "1.5.0",
      "_view_name": "ToggleButtonView",
      "button_style": "",
      "description": "",
      "description_tooltip": null,
      "disabled": false,
      "icon": "wrench",
      "layout": "IPY_MODEL_b33cf3c7481745c18a2e0e3f3fcf8a6d",
      "style": "IPY_MODEL_37aad12fe0fb4d2a888829e6df9702f3",
      "tooltip": "Toolbar",
      "value": false
     }
    },
    "a56bed4574684b99be462131535c3b3c": {
     "model_module": "@jupyter-widgets/base",
     "model_module_version": "1.2.0",
     "model_name": "LayoutModel",
     "state": {
      "_model_module": "@jupyter-widgets/base",
      "_model_module_version": "1.2.0",
      "_model_name": "LayoutModel",
      "_view_count": null,
      "_view_module": "@jupyter-widgets/base",
      "_view_module_version": "1.2.0",
      "_view_name": "LayoutView",
      "align_content": null,
      "align_items": null,
      "align_self": null,
      "border": null,
      "bottom": null,
      "display": null,
      "flex": null,
      "flex_flow": null,
      "grid_area": null,
      "grid_auto_columns": null,
      "grid_auto_flow": null,
      "grid_auto_rows": null,
      "grid_column": null,
      "grid_gap": null,
      "grid_row": null,
      "grid_template_areas": null,
      "grid_template_columns": null,
      "grid_template_rows": null,
      "height": "600px",
      "justify_content": null,
      "justify_items": null,
      "left": null,
      "margin": null,
      "max_height": null,
      "max_width": null,
      "min_height": null,
      "min_width": null,
      "object_fit": null,
      "object_position": null,
      "order": null,
      "overflow": null,
      "overflow_x": null,
      "overflow_y": null,
      "padding": null,
      "right": null,
      "top": null,
      "visibility": null,
      "width": null
     }
    },
    "a6064dc3dc5844e1966279ef12abfaa9": {
     "model_module": "jupyter-leaflet",
     "model_module_version": "^0.18",
     "model_name": "LeafletTileLayerModel",
     "state": {
      "_model_module": "jupyter-leaflet",
      "_model_module_version": "^0.18",
      "_model_name": "LeafletTileLayerModel",
      "_view_count": null,
      "_view_module": "jupyter-leaflet",
      "_view_module_version": "^0.18",
      "_view_name": "LeafletTileLayerView",
      "attribution": "&copy; <a href=\"https://www.openstreetmap.org/copyright\">OpenStreetMap</a> contributors",
      "base": true,
      "bottom": true,
      "bounds": null,
      "detect_retina": false,
      "loading": false,
      "max_native_zoom": null,
      "max_zoom": 19,
      "min_native_zoom": null,
      "min_zoom": 1,
      "name": "OpenStreetMap.Mapnik",
      "no_wrap": false,
      "opacity": 1,
      "options": [
       "attribution",
       "bounds",
       "detect_retina",
       "max_native_zoom",
       "max_zoom",
       "min_native_zoom",
       "min_zoom",
       "no_wrap",
       "tile_size",
       "tms",
       "zoom_offset"
      ],
      "pane": "",
      "popup": null,
      "popup_max_height": null,
      "popup_max_width": 300,
      "popup_min_width": 50,
      "show_loading": false,
      "subitems": [],
      "tile_size": 256,
      "tms": false,
      "url": "https://tile.openstreetmap.org/{z}/{x}/{y}.png",
      "visible": true,
      "zoom_offset": 0
     }
    },
    "a615505a73c04fa5ab0cc8ddb4aaba1d": {
     "model_module": "@jupyter-widgets/base",
     "model_module_version": "1.2.0",
     "model_name": "LayoutModel",
     "state": {
      "_model_module": "@jupyter-widgets/base",
      "_model_module_version": "1.2.0",
      "_model_name": "LayoutModel",
      "_view_count": null,
      "_view_module": "@jupyter-widgets/base",
      "_view_module_version": "1.2.0",
      "_view_name": "LayoutView",
      "align_content": null,
      "align_items": null,
      "align_self": null,
      "border": null,
      "bottom": null,
      "display": null,
      "flex": null,
      "flex_flow": null,
      "grid_area": null,
      "grid_auto_columns": null,
      "grid_auto_flow": null,
      "grid_auto_rows": null,
      "grid_column": null,
      "grid_gap": null,
      "grid_row": null,
      "grid_template_areas": null,
      "grid_template_columns": null,
      "grid_template_rows": null,
      "height": "600px",
      "justify_content": null,
      "justify_items": null,
      "left": null,
      "margin": null,
      "max_height": null,
      "max_width": null,
      "min_height": null,
      "min_width": null,
      "object_fit": null,
      "object_position": null,
      "order": null,
      "overflow": null,
      "overflow_x": null,
      "overflow_y": null,
      "padding": null,
      "right": null,
      "top": null,
      "visibility": null,
      "width": null
     }
    },
    "a9341b84b1f845af9c4ed51ff0f6851a": {
     "model_module": "jupyter-leaflet",
     "model_module_version": "^0.18",
     "model_name": "LeafletDrawControlModel",
     "state": {
      "_model_module": "jupyter-leaflet",
      "_model_module_version": "^0.18",
      "_model_name": "LeafletDrawControlModel",
      "_view_count": null,
      "_view_module": "jupyter-leaflet",
      "_view_module_version": "^0.18",
      "_view_name": "LeafletDrawControlView",
      "circle": {},
      "circlemarker": {},
      "data": [],
      "edit": true,
      "marker": {
       "shapeOptions": {
        "color": "#3388ff"
       }
      },
      "options": [
       "position"
      ],
      "polygon": {
       "shapeOptions": {}
      },
      "polyline": {
       "shapeOptions": {}
      },
      "position": "topleft",
      "rectangle": {
       "shapeOptions": {
        "color": "#3388ff"
       }
      },
      "remove": true
     }
    },
    "acaa5388f41d4d5ea0eaa5043bd932ed": {
     "model_module": "@jupyter-widgets/controls",
     "model_module_version": "1.5.0",
     "model_name": "VBoxModel",
     "state": {
      "_dom_classes": [
       "geemap-colab"
      ],
      "_model_module": "@jupyter-widgets/controls",
      "_model_module_version": "1.5.0",
      "_model_name": "VBoxModel",
      "_view_count": null,
      "_view_module": "@jupyter-widgets/controls",
      "_view_module_version": "1.5.0",
      "_view_name": "VBoxView",
      "box_style": "",
      "children": [
       "IPY_MODEL_a167ed744e1246abacf61b13456fa5ee"
      ],
      "layout": "IPY_MODEL_21f4fb968b124d24a75315c0a6e4833b"
     }
    },
    "b33cf3c7481745c18a2e0e3f3fcf8a6d": {
     "model_module": "@jupyter-widgets/base",
     "model_module_version": "1.2.0",
     "model_name": "LayoutModel",
     "state": {
      "_model_module": "@jupyter-widgets/base",
      "_model_module_version": "1.2.0",
      "_model_name": "LayoutModel",
      "_view_count": null,
      "_view_module": "@jupyter-widgets/base",
      "_view_module_version": "1.2.0",
      "_view_name": "LayoutView",
      "align_content": null,
      "align_items": null,
      "align_self": null,
      "border": null,
      "bottom": null,
      "display": null,
      "flex": null,
      "flex_flow": null,
      "grid_area": null,
      "grid_auto_columns": null,
      "grid_auto_flow": null,
      "grid_auto_rows": null,
      "grid_column": null,
      "grid_gap": null,
      "grid_row": null,
      "grid_template_areas": null,
      "grid_template_columns": null,
      "grid_template_rows": null,
      "height": "28px",
      "justify_content": null,
      "justify_items": null,
      "left": null,
      "margin": null,
      "max_height": null,
      "max_width": null,
      "min_height": null,
      "min_width": null,
      "object_fit": null,
      "object_position": null,
      "order": null,
      "overflow": null,
      "overflow_x": null,
      "overflow_y": null,
      "padding": "0px 0px 0px 4px",
      "right": null,
      "top": null,
      "visibility": null,
      "width": "28px"
     }
    },
    "b340ab8fc3ba4fe8b25492bf00e15ff4": {
     "model_module": "jupyter-leaflet",
     "model_module_version": "^0.18",
     "model_name": "LeafletZoomControlModel",
     "state": {
      "_model_module": "jupyter-leaflet",
      "_model_module_version": "^0.18",
      "_model_name": "LeafletZoomControlModel",
      "_view_count": null,
      "_view_module": "jupyter-leaflet",
      "_view_module_version": "^0.18",
      "_view_name": "LeafletZoomControlView",
      "options": [
       "position",
       "zoom_in_text",
       "zoom_in_title",
       "zoom_out_text",
       "zoom_out_title"
      ],
      "position": "topleft",
      "zoom_in_text": "+",
      "zoom_in_title": "Zoom in",
      "zoom_out_text": "-",
      "zoom_out_title": "Zoom out"
     }
    },
    "b69780e9ca654b2284ecd1a8e3b83361": {
     "model_module": "jupyter-leaflet",
     "model_module_version": "^0.18",
     "model_name": "LeafletZoomControlModel",
     "state": {
      "_model_module": "jupyter-leaflet",
      "_model_module_version": "^0.18",
      "_model_name": "LeafletZoomControlModel",
      "_view_count": null,
      "_view_module": "jupyter-leaflet",
      "_view_module_version": "^0.18",
      "_view_name": "LeafletZoomControlView",
      "options": [
       "position",
       "zoom_in_text",
       "zoom_in_title",
       "zoom_out_text",
       "zoom_out_title"
      ],
      "position": "topleft",
      "zoom_in_text": "+",
      "zoom_in_title": "Zoom in",
      "zoom_out_text": "-",
      "zoom_out_title": "Zoom out"
     }
    },
    "bfa82379cd8340ddb71b25889690678f": {
     "model_module": "jupyter-leaflet",
     "model_module_version": "^0.18",
     "model_name": "LeafletAttributionControlModel",
     "state": {
      "_model_module": "jupyter-leaflet",
      "_model_module_version": "^0.18",
      "_model_name": "LeafletAttributionControlModel",
      "_view_count": null,
      "_view_module": "jupyter-leaflet",
      "_view_module_version": "^0.18",
      "_view_name": "LeafletAttributionControlView",
      "options": [
       "position",
       "prefix"
      ],
      "position": "bottomright",
      "prefix": "ipyleaflet"
     }
    },
    "c2980cf1a53f418c93ec63616ba6480c": {
     "model_module": "@jupyter-widgets/controls",
     "model_module_version": "1.5.0",
     "model_name": "DescriptionStyleModel",
     "state": {
      "_model_module": "@jupyter-widgets/controls",
      "_model_module_version": "1.5.0",
      "_model_name": "DescriptionStyleModel",
      "_view_count": null,
      "_view_module": "@jupyter-widgets/base",
      "_view_module_version": "1.2.0",
      "_view_name": "StyleView",
      "description_width": ""
     }
    },
    "c685420f396a40ac9c19b31463f80aa1": {
     "model_module": "jupyter-leaflet",
     "model_module_version": "^0.18",
     "model_name": "LeafletMapStyleModel",
     "state": {
      "_model_module": "jupyter-leaflet",
      "_model_module_version": "^0.18",
      "_model_name": "LeafletMapStyleModel",
      "_view_count": null,
      "_view_module": "@jupyter-widgets/base",
      "_view_module_version": "1.2.0",
      "_view_name": "StyleView",
      "cursor": "grab"
     }
    },
    "c83c59f9d16a4c9aba35ab0b6fa18249": {
     "model_module": "jupyter-leaflet",
     "model_module_version": "^0.18",
     "model_name": "LeafletTileLayerModel",
     "state": {
      "_model_module": "jupyter-leaflet",
      "_model_module_version": "^0.18",
      "_model_name": "LeafletTileLayerModel",
      "_view_count": null,
      "_view_module": "jupyter-leaflet",
      "_view_module_version": "^0.18",
      "_view_name": "LeafletTileLayerView",
      "attribution": "Google Earth Engine",
      "base": false,
      "bottom": true,
      "bounds": null,
      "detect_retina": false,
      "loading": false,
      "max_native_zoom": null,
      "max_zoom": 24,
      "min_native_zoom": null,
      "min_zoom": 0,
      "name": "Combined confidence",
      "no_wrap": false,
      "opacity": 1,
      "options": [
       "attribution",
       "bounds",
       "detect_retina",
       "max_native_zoom",
       "max_zoom",
       "min_native_zoom",
       "min_zoom",
       "no_wrap",
       "tile_size",
       "tms",
       "zoom_offset"
      ],
      "pane": "",
      "popup": null,
      "popup_max_height": null,
      "popup_max_width": 300,
      "popup_min_width": 50,
      "show_loading": false,
      "subitems": [],
      "tile_size": 256,
      "tms": false,
      "url": "https://earthengine.googleapis.com/v1/projects/bc-wildfire-422905/maps/de75fdac9cb3a9aa4b3ffe8cc315a53e-9cef2b25a3d9d352ef35b50070650002/tiles/{z}/{x}/{y}",
      "visible": true,
      "zoom_offset": 0
     }
    },
    "c8b39848fef5436fb316d8acfd0015de": {
     "model_module": "jupyter-leaflet",
     "model_module_version": "^0.18",
     "model_name": "LeafletTileLayerModel",
     "state": {
      "_model_module": "jupyter-leaflet",
      "_model_module_version": "^0.18",
      "_model_name": "LeafletTileLayerModel",
      "_view_count": null,
      "_view_module": "jupyter-leaflet",
      "_view_module_version": "^0.18",
      "_view_name": "LeafletTileLayerView",
      "attribution": "Google Earth Engine",
      "base": false,
      "bottom": true,
      "bounds": null,
      "detect_retina": false,
      "loading": false,
      "max_native_zoom": null,
      "max_zoom": 24,
      "min_native_zoom": null,
      "min_zoom": 0,
      "name": "GOES-17 maximum confidence",
      "no_wrap": false,
      "opacity": 1,
      "options": [
       "attribution",
       "bounds",
       "detect_retina",
       "max_native_zoom",
       "max_zoom",
       "min_native_zoom",
       "min_zoom",
       "no_wrap",
       "tile_size",
       "tms",
       "zoom_offset"
      ],
      "pane": "",
      "popup": null,
      "popup_max_height": null,
      "popup_max_width": 300,
      "popup_min_width": 50,
      "show_loading": false,
      "subitems": [],
      "tile_size": 256,
      "tms": false,
      "url": "https://earthengine.googleapis.com/v1/projects/bc-wildfire-422905/maps/b456f335114c35c4960fa991a4ddb7a7-a334f3220a5535d780958e500f459dd9/tiles/{z}/{x}/{y}",
      "visible": true,
      "zoom_offset": 0
     }
    },
    "cb4f321868a94b1a854a58dea6ea4ff6": {
     "model_module": "jupyter-leaflet",
     "model_module_version": "^0.18",
     "model_name": "LeafletAttributionControlModel",
     "state": {
      "_model_module": "jupyter-leaflet",
      "_model_module_version": "^0.18",
      "_model_name": "LeafletAttributionControlModel",
      "_view_count": null,
      "_view_module": "jupyter-leaflet",
      "_view_module_version": "^0.18",
      "_view_name": "LeafletAttributionControlView",
      "options": [
       "position",
       "prefix"
      ],
      "position": "bottomright",
      "prefix": "ipyleaflet"
     }
    },
    "d00f7a4e8817409f9c7a4c80616f4c05": {
     "model_module": "@jupyter-widgets/controls",
     "model_module_version": "1.5.0",
     "model_name": "VBoxModel",
     "state": {
      "_dom_classes": [
       "geemap-colab"
      ],
      "_model_module": "@jupyter-widgets/controls",
      "_model_module_version": "1.5.0",
      "_model_name": "VBoxModel",
      "_view_count": null,
      "_view_module": "@jupyter-widgets/controls",
      "_view_module_version": "1.5.0",
      "_view_name": "VBoxView",
      "box_style": "",
      "children": [
       "IPY_MODEL_db56b42380904dae8ebfeaec64958338"
      ],
      "layout": "IPY_MODEL_20985c9295cf4df8a62c53ac065b12ed"
     }
    },
    "d17c2c6aadbf47c585ea903fcecce90a": {
     "model_module": "jupyter-leaflet",
     "model_module_version": "^0.18",
     "model_name": "LeafletTileLayerModel",
     "state": {
      "_model_module": "jupyter-leaflet",
      "_model_module_version": "^0.18",
      "_model_name": "LeafletTileLayerModel",
      "_view_count": null,
      "_view_module": "jupyter-leaflet",
      "_view_module_version": "^0.18",
      "_view_name": "LeafletTileLayerView",
      "attribution": "Google Earth Engine",
      "base": false,
      "bottom": true,
      "bounds": null,
      "detect_retina": false,
      "loading": false,
      "max_native_zoom": null,
      "max_zoom": 24,
      "min_native_zoom": null,
      "min_zoom": 0,
      "name": "Area of interest",
      "no_wrap": false,
      "opacity": 0.2,
      "options": [
       "attribution",
       "bounds",
       "detect_retina",
       "max_native_zoom",
       "max_zoom",
       "min_native_zoom",
       "min_zoom",
       "no_wrap",
       "tile_size",
       "tms",
       "zoom_offset"
      ],
      "pane": "",
      "popup": null,
      "popup_max_height": null,
      "popup_max_width": 300,
      "popup_min_width": 50,
      "show_loading": false,
      "subitems": [],
      "tile_size": 256,
      "tms": false,
      "url": "https://earthengine.googleapis.com/v1/projects/bc-wildfire-422905/maps/949cdc3eaef037d03d1f783d22744dda-fceae3056a5581f619ab4701f1e93609/tiles/{z}/{x}/{y}",
      "visible": true,
      "zoom_offset": 0
     }
    },
    "d5e7fecb564b48c1b71d19e6bb5bca54": {
     "model_module": "@jupyter-widgets/base",
     "model_module_version": "1.2.0",
     "model_name": "LayoutModel",
     "state": {
      "_model_module": "@jupyter-widgets/base",
      "_model_module_version": "1.2.0",
      "_model_name": "LayoutModel",
      "_view_count": null,
      "_view_module": "@jupyter-widgets/base",
      "_view_module_version": "1.2.0",
      "_view_name": "LayoutView",
      "align_content": null,
      "align_items": null,
      "align_self": null,
      "border": null,
      "bottom": null,
      "display": null,
      "flex": null,
      "flex_flow": null,
      "grid_area": null,
      "grid_auto_columns": null,
      "grid_auto_flow": null,
      "grid_auto_rows": null,
      "grid_column": null,
      "grid_gap": null,
      "grid_row": null,
      "grid_template_areas": null,
      "grid_template_columns": null,
      "grid_template_rows": null,
      "height": "28px",
      "justify_content": null,
      "justify_items": null,
      "left": null,
      "margin": null,
      "max_height": null,
      "max_width": null,
      "min_height": null,
      "min_width": null,
      "object_fit": null,
      "object_position": null,
      "order": null,
      "overflow": null,
      "overflow_x": null,
      "overflow_y": null,
      "padding": "0px 0px 0px 4px",
      "right": null,
      "top": null,
      "visibility": null,
      "width": "28px"
     }
    },
    "db56b42380904dae8ebfeaec64958338": {
     "model_module": "@jupyter-widgets/controls",
     "model_module_version": "1.5.0",
     "model_name": "ToggleButtonModel",
     "state": {
      "_dom_classes": [],
      "_model_module": "@jupyter-widgets/controls",
      "_model_module_version": "1.5.0",
      "_model_name": "ToggleButtonModel",
      "_view_count": null,
      "_view_module": "@jupyter-widgets/controls",
      "_view_module_version": "1.5.0",
      "_view_name": "ToggleButtonView",
      "button_style": "",
      "description": "",
      "description_tooltip": null,
      "disabled": false,
      "icon": "wrench",
      "layout": "IPY_MODEL_d5e7fecb564b48c1b71d19e6bb5bca54",
      "style": "IPY_MODEL_e2130dcf36524d62ae89c911e3224938",
      "tooltip": "Toolbar",
      "value": false
     }
    },
    "dc49271ba47d4ba294b391db1d6c98cb": {
     "model_module": "jupyter-leaflet",
     "model_module_version": "^0.18",
     "model_name": "LeafletWidgetControlModel",
     "state": {
      "_model_module": "jupyter-leaflet",
      "_model_module_version": "^0.18",
      "_model_name": "LeafletWidgetControlModel",
      "_view_count": null,
      "_view_module": "jupyter-leaflet",
      "_view_module_version": "^0.18",
      "_view_name": "LeafletWidgetControlView",
      "max_height": null,
      "max_width": null,
      "min_height": null,
      "min_width": null,
      "options": [
       "position",
       "transparent_bg"
      ],
      "position": "topright",
      "transparent_bg": false,
      "widget": "IPY_MODEL_d00f7a4e8817409f9c7a4c80616f4c05"
     }
    },
    "defdd05753414bc9adf6a9abc4c90f83": {
     "model_module": "@jupyter-widgets/base",
     "model_module_version": "1.2.0",
     "model_name": "LayoutModel",
     "state": {
      "_model_module": "@jupyter-widgets/base",
      "_model_module_version": "1.2.0",
      "_model_name": "LayoutModel",
      "_view_count": null,
      "_view_module": "@jupyter-widgets/base",
      "_view_module_version": "1.2.0",
      "_view_name": "LayoutView",
      "align_content": null,
      "align_items": null,
      "align_self": null,
      "border": null,
      "bottom": null,
      "display": null,
      "flex": null,
      "flex_flow": null,
      "grid_area": null,
      "grid_auto_columns": null,
      "grid_auto_flow": null,
      "grid_auto_rows": null,
      "grid_column": null,
      "grid_gap": null,
      "grid_row": null,
      "grid_template_areas": null,
      "grid_template_columns": null,
      "grid_template_rows": null,
      "height": "28px",
      "justify_content": null,
      "justify_items": null,
      "left": null,
      "margin": null,
      "max_height": null,
      "max_width": null,
      "min_height": null,
      "min_width": null,
      "object_fit": null,
      "object_position": null,
      "order": null,
      "overflow": null,
      "overflow_x": null,
      "overflow_y": null,
      "padding": "0px 0px 0px 4px",
      "right": null,
      "top": null,
      "visibility": null,
      "width": "28px"
     }
    },
    "e2130dcf36524d62ae89c911e3224938": {
     "model_module": "@jupyter-widgets/controls",
     "model_module_version": "1.5.0",
     "model_name": "DescriptionStyleModel",
     "state": {
      "_model_module": "@jupyter-widgets/controls",
      "_model_module_version": "1.5.0",
      "_model_name": "DescriptionStyleModel",
      "_view_count": null,
      "_view_module": "@jupyter-widgets/base",
      "_view_module_version": "1.2.0",
      "_view_name": "StyleView",
      "description_width": ""
     }
    },
    "f540c3dee5a44276abbe3ba39bc765ba": {
     "model_module": "jupyter-leaflet",
     "model_module_version": "^0.18",
     "model_name": "LeafletScaleControlModel",
     "state": {
      "_model_module": "jupyter-leaflet",
      "_model_module_version": "^0.18",
      "_model_name": "LeafletScaleControlModel",
      "_view_count": null,
      "_view_module": "jupyter-leaflet",
      "_view_module_version": "^0.18",
      "_view_name": "LeafletScaleControlView",
      "imperial": true,
      "max_width": 100,
      "metric": true,
      "options": [
       "imperial",
       "max_width",
       "metric",
       "position",
       "update_when_idle"
      ],
      "position": "bottomleft",
      "update_when_idle": false
     }
    }
   }
  }
 },
 "nbformat": 4,
 "nbformat_minor": 4
}
