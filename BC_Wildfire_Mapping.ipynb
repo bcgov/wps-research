{
  "nbformat": 4,
  "nbformat_minor": 0,
  "metadata": {
    "colab": {
      "provenance": [],
      "include_colab_link": true
    },
    "kernelspec": {
      "name": "python3",
      "display_name": "Python 3"
    },
    "language_info": {
      "name": "python"
    },
    "widgets": {
      "application/vnd.jupyter.widget-state+json": {
        "2c836f2e35614aacbea91806c1239bba": {
          "model_module": "jupyter-leaflet",
          "model_name": "LeafletMapModel",
          "model_module_version": "^0.18",
          "state": {
            "_dom_classes": [],
            "_model_module": "jupyter-leaflet",
            "_model_module_version": "^0.18",
            "_model_name": "LeafletMapModel",
            "_view_count": null,
            "_view_module": "jupyter-leaflet",
            "_view_module_version": "^0.18",
            "_view_name": "LeafletMapView",
            "bottom": 44621,
            "bounce_at_zoom_limits": true,
            "box_zoom": true,
            "center": [
              50.23128609777502,
              -121.58153879631847
            ],
            "close_popup_on_click": true,
            "controls": [
              "IPY_MODEL_4ed6651272e5495c8d74843ad38c470b",
              "IPY_MODEL_d1b6e668f03c4c5480024b5b6478cbdc",
              "IPY_MODEL_bf2474b1f70e427bb28490053f63a4f3",
              "IPY_MODEL_94712fb99cd54945b4dba0c3312142d3",
              "IPY_MODEL_3e86d049c93342edb58aab13aa8455d5",
              "IPY_MODEL_980f93f7fd284cc5aa742810413fa584"
            ],
            "crs": {
              "name": "EPSG3857",
              "custom": false
            },
            "default_style": "IPY_MODEL_92c46e85f5f34d1d9d75ee6349e819bb",
            "double_click_zoom": true,
            "dragging": true,
            "dragging_style": "IPY_MODEL_884445082ade405cbf5c9096fb3a8a18",
            "east": -119.99816894531251,
            "fullscreen": false,
            "inertia": true,
            "inertia_deceleration": 3000,
            "inertia_max_speed": 1500,
            "interpolation": "bilinear",
            "keyboard": true,
            "keyboard_pan_offset": 80,
            "keyboard_zoom_offset": 1,
            "layers": [
              "IPY_MODEL_6be4bcc4999b4f4ea804cdf4bc591d5f",
              "IPY_MODEL_95d930229e6b40c998800435616d8b62",
              "IPY_MODEL_9d53fe93fe8d46a9bc4b48853975711b",
              "IPY_MODEL_93f09d4884b54828a7ed261b9805e534"
            ],
            "layout": "IPY_MODEL_c1d8f93f5f0c44379f5768678b4752f0",
            "left": 20694,
            "max_zoom": null,
            "min_zoom": null,
            "modisdate": "2024-10-09",
            "north": 50.75557231232454,
            "options": [
              "bounce_at_zoom_limits",
              "box_zoom",
              "center",
              "close_popup_on_click",
              "double_click_zoom",
              "dragging",
              "fullscreen",
              "inertia",
              "inertia_deceleration",
              "inertia_max_speed",
              "interpolation",
              "keyboard",
              "keyboard_pan_offset",
              "keyboard_zoom_offset",
              "max_zoom",
              "min_zoom",
              "prefer_canvas",
              "scroll_wheel_zoom",
              "tap",
              "tap_tolerance",
              "touch_zoom",
              "world_copy_jump",
              "zoom",
              "zoom_animation_threshold",
              "zoom_delta",
              "zoom_snap"
            ],
            "panes": {},
            "prefer_canvas": false,
            "right": 21846,
            "scroll_wheel_zoom": true,
            "south": 49.70139134233472,
            "style": "IPY_MODEL_c7eb49b6d4314c8aa57344fa4f0e42a0",
            "tap": true,
            "tap_tolerance": 15,
            "top": 44021,
            "touch_zoom": true,
            "west": -123.16223144531251,
            "window_url": "https://2dpi66cbsyc-496ff2e9c6d22116-0-colab.googleusercontent.com/outputframe.html?vrz=colab_20241007-060114_RC01_683255037",
            "world_copy_jump": false,
            "zoom": 9,
            "zoom_animation_threshold": 4,
            "zoom_delta": 1,
            "zoom_snap": 1
          }
        },
        "4ed6651272e5495c8d74843ad38c470b": {
          "model_module": "jupyter-leaflet",
          "model_name": "LeafletZoomControlModel",
          "model_module_version": "^0.18",
          "state": {
            "_model_module": "jupyter-leaflet",
            "_model_module_version": "^0.18",
            "_model_name": "LeafletZoomControlModel",
            "_view_count": null,
            "_view_module": "jupyter-leaflet",
            "_view_module_version": "^0.18",
            "_view_name": "LeafletZoomControlView",
            "options": [
              "position",
              "zoom_in_text",
              "zoom_in_title",
              "zoom_out_text",
              "zoom_out_title"
            ],
            "position": "topleft",
            "zoom_in_text": "+",
            "zoom_in_title": "Zoom in",
            "zoom_out_text": "-",
            "zoom_out_title": "Zoom out"
          }
        },
        "d1b6e668f03c4c5480024b5b6478cbdc": {
          "model_module": "jupyter-leaflet",
          "model_name": "LeafletFullScreenControlModel",
          "model_module_version": "^0.18",
          "state": {
            "_model_module": "jupyter-leaflet",
            "_model_module_version": "^0.18",
            "_model_name": "LeafletFullScreenControlModel",
            "_view_count": null,
            "_view_module": "jupyter-leaflet",
            "_view_module_version": "^0.18",
            "_view_name": "LeafletFullScreenControlView",
            "options": [
              "position"
            ],
            "position": "topleft"
          }
        },
        "bf2474b1f70e427bb28490053f63a4f3": {
          "model_module": "jupyter-leaflet",
          "model_name": "LeafletDrawControlModel",
          "model_module_version": "^0.18",
          "state": {
            "_model_module": "jupyter-leaflet",
            "_model_module_version": "^0.18",
            "_model_name": "LeafletDrawControlModel",
            "_view_count": null,
            "_view_module": "jupyter-leaflet",
            "_view_module_version": "^0.18",
            "_view_name": "LeafletDrawControlView",
            "circle": {},
            "circlemarker": {},
            "data": [],
            "edit": true,
            "marker": {
              "shapeOptions": {
                "color": "#3388ff"
              }
            },
            "options": [
              "position"
            ],
            "polygon": {
              "shapeOptions": {}
            },
            "polyline": {
              "shapeOptions": {}
            },
            "position": "topleft",
            "rectangle": {
              "shapeOptions": {
                "color": "#3388ff"
              }
            },
            "remove": true
          }
        },
        "94712fb99cd54945b4dba0c3312142d3": {
          "model_module": "jupyter-leaflet",
          "model_name": "LeafletScaleControlModel",
          "model_module_version": "^0.18",
          "state": {
            "_model_module": "jupyter-leaflet",
            "_model_module_version": "^0.18",
            "_model_name": "LeafletScaleControlModel",
            "_view_count": null,
            "_view_module": "jupyter-leaflet",
            "_view_module_version": "^0.18",
            "_view_name": "LeafletScaleControlView",
            "imperial": true,
            "max_width": 100,
            "metric": true,
            "options": [
              "imperial",
              "max_width",
              "metric",
              "position",
              "update_when_idle"
            ],
            "position": "bottomleft",
            "update_when_idle": false
          }
        },
        "3e86d049c93342edb58aab13aa8455d5": {
          "model_module": "jupyter-leaflet",
          "model_name": "LeafletWidgetControlModel",
          "model_module_version": "^0.18",
          "state": {
            "_model_module": "jupyter-leaflet",
            "_model_module_version": "^0.18",
            "_model_name": "LeafletWidgetControlModel",
            "_view_count": null,
            "_view_module": "jupyter-leaflet",
            "_view_module_version": "^0.18",
            "_view_name": "LeafletWidgetControlView",
            "max_height": null,
            "max_width": null,
            "min_height": null,
            "min_width": null,
            "options": [
              "position",
              "transparent_bg"
            ],
            "position": "topright",
            "transparent_bg": false,
            "widget": "IPY_MODEL_02b7a20f202b4516b2f53c016994d365"
          }
        },
        "980f93f7fd284cc5aa742810413fa584": {
          "model_module": "jupyter-leaflet",
          "model_name": "LeafletAttributionControlModel",
          "model_module_version": "^0.18",
          "state": {
            "_model_module": "jupyter-leaflet",
            "_model_module_version": "^0.18",
            "_model_name": "LeafletAttributionControlModel",
            "_view_count": null,
            "_view_module": "jupyter-leaflet",
            "_view_module_version": "^0.18",
            "_view_name": "LeafletAttributionControlView",
            "options": [
              "position",
              "prefix"
            ],
            "position": "bottomright",
            "prefix": "ipyleaflet"
          }
        },
        "92c46e85f5f34d1d9d75ee6349e819bb": {
          "model_module": "jupyter-leaflet",
          "model_name": "LeafletMapStyleModel",
          "model_module_version": "^0.18",
          "state": {
            "_model_module": "jupyter-leaflet",
            "_model_module_version": "^0.18",
            "_model_name": "LeafletMapStyleModel",
            "_view_count": null,
            "_view_module": "@jupyter-widgets/base",
            "_view_module_version": "1.2.0",
            "_view_name": "StyleView",
            "cursor": "grab"
          }
        },
        "884445082ade405cbf5c9096fb3a8a18": {
          "model_module": "jupyter-leaflet",
          "model_name": "LeafletMapStyleModel",
          "model_module_version": "^0.18",
          "state": {
            "_model_module": "jupyter-leaflet",
            "_model_module_version": "^0.18",
            "_model_name": "LeafletMapStyleModel",
            "_view_count": null,
            "_view_module": "@jupyter-widgets/base",
            "_view_module_version": "1.2.0",
            "_view_name": "StyleView",
            "cursor": "move"
          }
        },
        "6be4bcc4999b4f4ea804cdf4bc591d5f": {
          "model_module": "jupyter-leaflet",
          "model_name": "LeafletTileLayerModel",
          "model_module_version": "^0.18",
          "state": {
            "_model_module": "jupyter-leaflet",
            "_model_module_version": "^0.18",
            "_model_name": "LeafletTileLayerModel",
            "_view_count": null,
            "_view_module": "jupyter-leaflet",
            "_view_module_version": "^0.18",
            "_view_name": "LeafletTileLayerView",
            "attribution": "&copy; <a href=\"https://www.openstreetmap.org/copyright\">OpenStreetMap</a> contributors",
            "base": true,
            "bottom": true,
            "bounds": null,
            "detect_retina": false,
            "loading": false,
            "max_native_zoom": null,
            "max_zoom": 19,
            "min_native_zoom": null,
            "min_zoom": 1,
            "name": "OpenStreetMap.Mapnik",
            "no_wrap": false,
            "opacity": 1,
            "options": [
              "attribution",
              "bounds",
              "detect_retina",
              "max_native_zoom",
              "max_zoom",
              "min_native_zoom",
              "min_zoom",
              "no_wrap",
              "tile_size",
              "tms",
              "zoom_offset"
            ],
            "pane": "",
            "popup": null,
            "popup_max_height": null,
            "popup_max_width": 300,
            "popup_min_width": 50,
            "show_loading": false,
            "subitems": [],
            "tile_size": 256,
            "tms": false,
            "url": "https://tile.openstreetmap.org/{z}/{x}/{y}.png",
            "visible": true,
            "zoom_offset": 0
          }
        },
        "95d930229e6b40c998800435616d8b62": {
          "model_module": "jupyter-leaflet",
          "model_name": "LeafletTileLayerModel",
          "model_module_version": "^0.18",
          "state": {
            "_model_module": "jupyter-leaflet",
            "_model_module_version": "^0.18",
            "_model_name": "LeafletTileLayerModel",
            "_view_count": null,
            "_view_module": "jupyter-leaflet",
            "_view_module_version": "^0.18",
            "_view_name": "LeafletTileLayerView",
            "attribution": "Google Earth Engine",
            "base": false,
            "bottom": true,
            "bounds": null,
            "detect_retina": false,
            "loading": false,
            "max_native_zoom": null,
            "max_zoom": 24,
            "min_native_zoom": null,
            "min_zoom": 0,
            "name": "Area of interest",
            "no_wrap": false,
            "opacity": 0.2,
            "options": [
              "attribution",
              "bounds",
              "detect_retina",
              "max_native_zoom",
              "max_zoom",
              "min_native_zoom",
              "min_zoom",
              "no_wrap",
              "tile_size",
              "tms",
              "zoom_offset"
            ],
            "pane": "",
            "popup": null,
            "popup_max_height": null,
            "popup_max_width": 300,
            "popup_min_width": 50,
            "show_loading": false,
            "subitems": [],
            "tile_size": 256,
            "tms": false,
            "url": "https://earthengine.googleapis.com/v1/projects/bc-wildfire-422905/maps/949cdc3eaef037d03d1f783d22744dda-be85a677b6f77e47eb1615187336f846/tiles/{z}/{x}/{y}",
            "visible": true,
            "zoom_offset": 0
          }
        },
        "9d53fe93fe8d46a9bc4b48853975711b": {
          "model_module": "jupyter-leaflet",
          "model_name": "LeafletTileLayerModel",
          "model_module_version": "^0.18",
          "state": {
            "_model_module": "jupyter-leaflet",
            "_model_module_version": "^0.18",
            "_model_name": "LeafletTileLayerModel",
            "_view_count": null,
            "_view_module": "jupyter-leaflet",
            "_view_module_version": "^0.18",
            "_view_name": "LeafletTileLayerView",
            "attribution": "Google Earth Engine",
            "base": false,
            "bottom": true,
            "bounds": null,
            "detect_retina": false,
            "loading": false,
            "max_native_zoom": null,
            "max_zoom": 24,
            "min_native_zoom": null,
            "min_zoom": 0,
            "name": "GOES-16 maximum confidence",
            "no_wrap": false,
            "opacity": 1,
            "options": [
              "attribution",
              "bounds",
              "detect_retina",
              "max_native_zoom",
              "max_zoom",
              "min_native_zoom",
              "min_zoom",
              "no_wrap",
              "tile_size",
              "tms",
              "zoom_offset"
            ],
            "pane": "",
            "popup": null,
            "popup_max_height": null,
            "popup_max_width": 300,
            "popup_min_width": 50,
            "show_loading": false,
            "subitems": [],
            "tile_size": 256,
            "tms": false,
            "url": "https://earthengine.googleapis.com/v1/projects/bc-wildfire-422905/maps/bd5290f286992278b7c3a17907513ef1-4affe3937d6cbffdff3fae35b9677720/tiles/{z}/{x}/{y}",
            "visible": true,
            "zoom_offset": 0
          }
        },
        "93f09d4884b54828a7ed261b9805e534": {
          "model_module": "jupyter-leaflet",
          "model_name": "LeafletTileLayerModel",
          "model_module_version": "^0.18",
          "state": {
            "_model_module": "jupyter-leaflet",
            "_model_module_version": "^0.18",
            "_model_name": "LeafletTileLayerModel",
            "_view_count": null,
            "_view_module": "jupyter-leaflet",
            "_view_module_version": "^0.18",
            "_view_name": "LeafletTileLayerView",
            "attribution": "Google Earth Engine",
            "base": false,
            "bottom": true,
            "bounds": null,
            "detect_retina": false,
            "loading": false,
            "max_native_zoom": null,
            "max_zoom": 24,
            "min_native_zoom": null,
            "min_zoom": 0,
            "name": "GOES-17 maximum confidence",
            "no_wrap": false,
            "opacity": 1,
            "options": [
              "attribution",
              "bounds",
              "detect_retina",
              "max_native_zoom",
              "max_zoom",
              "min_native_zoom",
              "min_zoom",
              "no_wrap",
              "tile_size",
              "tms",
              "zoom_offset"
            ],
            "pane": "",
            "popup": null,
            "popup_max_height": null,
            "popup_max_width": 300,
            "popup_min_width": 50,
            "show_loading": false,
            "subitems": [],
            "tile_size": 256,
            "tms": false,
            "url": "https://earthengine.googleapis.com/v1/projects/bc-wildfire-422905/maps/b456f335114c35c4960fa991a4ddb7a7-e8e582ac3f52b4ef8dc40e19dd94c592/tiles/{z}/{x}/{y}",
            "visible": true,
            "zoom_offset": 0
          }
        },
        "c1d8f93f5f0c44379f5768678b4752f0": {
          "model_module": "@jupyter-widgets/base",
          "model_name": "LayoutModel",
          "model_module_version": "1.2.0",
          "state": {
            "_model_module": "@jupyter-widgets/base",
            "_model_module_version": "1.2.0",
            "_model_name": "LayoutModel",
            "_view_count": null,
            "_view_module": "@jupyter-widgets/base",
            "_view_module_version": "1.2.0",
            "_view_name": "LayoutView",
            "align_content": null,
            "align_items": null,
            "align_self": null,
            "border": null,
            "bottom": null,
            "display": null,
            "flex": null,
            "flex_flow": null,
            "grid_area": null,
            "grid_auto_columns": null,
            "grid_auto_flow": null,
            "grid_auto_rows": null,
            "grid_column": null,
            "grid_gap": null,
            "grid_row": null,
            "grid_template_areas": null,
            "grid_template_columns": null,
            "grid_template_rows": null,
            "height": "600px",
            "justify_content": null,
            "justify_items": null,
            "left": null,
            "margin": null,
            "max_height": null,
            "max_width": null,
            "min_height": null,
            "min_width": null,
            "object_fit": null,
            "object_position": null,
            "order": null,
            "overflow": null,
            "overflow_x": null,
            "overflow_y": null,
            "padding": null,
            "right": null,
            "top": null,
            "visibility": null,
            "width": null
          }
        },
        "c7eb49b6d4314c8aa57344fa4f0e42a0": {
          "model_module": "jupyter-leaflet",
          "model_name": "LeafletMapStyleModel",
          "model_module_version": "^0.18",
          "state": {
            "_model_module": "jupyter-leaflet",
            "_model_module_version": "^0.18",
            "_model_name": "LeafletMapStyleModel",
            "_view_count": null,
            "_view_module": "@jupyter-widgets/base",
            "_view_module_version": "1.2.0",
            "_view_name": "StyleView",
            "cursor": "grab"
          }
        },
        "02b7a20f202b4516b2f53c016994d365": {
          "model_module": "@jupyter-widgets/controls",
          "model_name": "VBoxModel",
          "model_module_version": "1.5.0",
          "state": {
            "_dom_classes": [
              "geemap-colab"
            ],
            "_model_module": "@jupyter-widgets/controls",
            "_model_module_version": "1.5.0",
            "_model_name": "VBoxModel",
            "_view_count": null,
            "_view_module": "@jupyter-widgets/controls",
            "_view_module_version": "1.5.0",
            "_view_name": "VBoxView",
            "box_style": "",
            "children": [
              "IPY_MODEL_2819f6c2a54245898b9079d16904f431"
            ],
            "layout": "IPY_MODEL_a39867d24a084d94bd870fc8fd800f94"
          }
        },
        "2819f6c2a54245898b9079d16904f431": {
          "model_module": "@jupyter-widgets/controls",
          "model_name": "ToggleButtonModel",
          "model_module_version": "1.5.0",
          "state": {
            "_dom_classes": [],
            "_model_module": "@jupyter-widgets/controls",
            "_model_module_version": "1.5.0",
            "_model_name": "ToggleButtonModel",
            "_view_count": null,
            "_view_module": "@jupyter-widgets/controls",
            "_view_module_version": "1.5.0",
            "_view_name": "ToggleButtonView",
            "button_style": "",
            "description": "",
            "description_tooltip": null,
            "disabled": false,
            "icon": "wrench",
            "layout": "IPY_MODEL_6cc7c448a65b43ca8d1e287a07aa9323",
            "style": "IPY_MODEL_580118aa81ce4c35b22be7ffc226fe1c",
            "tooltip": "Toolbar",
            "value": false
          }
        },
        "a39867d24a084d94bd870fc8fd800f94": {
          "model_module": "@jupyter-widgets/base",
          "model_name": "LayoutModel",
          "model_module_version": "1.2.0",
          "state": {
            "_model_module": "@jupyter-widgets/base",
            "_model_module_version": "1.2.0",
            "_model_name": "LayoutModel",
            "_view_count": null,
            "_view_module": "@jupyter-widgets/base",
            "_view_module_version": "1.2.0",
            "_view_name": "LayoutView",
            "align_content": null,
            "align_items": null,
            "align_self": null,
            "border": null,
            "bottom": null,
            "display": null,
            "flex": null,
            "flex_flow": null,
            "grid_area": null,
            "grid_auto_columns": null,
            "grid_auto_flow": null,
            "grid_auto_rows": null,
            "grid_column": null,
            "grid_gap": null,
            "grid_row": null,
            "grid_template_areas": null,
            "grid_template_columns": null,
            "grid_template_rows": null,
            "height": null,
            "justify_content": null,
            "justify_items": null,
            "left": null,
            "margin": null,
            "max_height": null,
            "max_width": null,
            "min_height": null,
            "min_width": null,
            "object_fit": null,
            "object_position": null,
            "order": null,
            "overflow": null,
            "overflow_x": null,
            "overflow_y": null,
            "padding": null,
            "right": null,
            "top": null,
            "visibility": null,
            "width": null
          }
        },
        "6cc7c448a65b43ca8d1e287a07aa9323": {
          "model_module": "@jupyter-widgets/base",
          "model_name": "LayoutModel",
          "model_module_version": "1.2.0",
          "state": {
            "_model_module": "@jupyter-widgets/base",
            "_model_module_version": "1.2.0",
            "_model_name": "LayoutModel",
            "_view_count": null,
            "_view_module": "@jupyter-widgets/base",
            "_view_module_version": "1.2.0",
            "_view_name": "LayoutView",
            "align_content": null,
            "align_items": null,
            "align_self": null,
            "border": null,
            "bottom": null,
            "display": null,
            "flex": null,
            "flex_flow": null,
            "grid_area": null,
            "grid_auto_columns": null,
            "grid_auto_flow": null,
            "grid_auto_rows": null,
            "grid_column": null,
            "grid_gap": null,
            "grid_row": null,
            "grid_template_areas": null,
            "grid_template_columns": null,
            "grid_template_rows": null,
            "height": "28px",
            "justify_content": null,
            "justify_items": null,
            "left": null,
            "margin": null,
            "max_height": null,
            "max_width": null,
            "min_height": null,
            "min_width": null,
            "object_fit": null,
            "object_position": null,
            "order": null,
            "overflow": null,
            "overflow_x": null,
            "overflow_y": null,
            "padding": "0px 0px 0px 4px",
            "right": null,
            "top": null,
            "visibility": null,
            "width": "28px"
          }
        },
        "580118aa81ce4c35b22be7ffc226fe1c": {
          "model_module": "@jupyter-widgets/controls",
          "model_name": "DescriptionStyleModel",
          "model_module_version": "1.5.0",
          "state": {
            "_model_module": "@jupyter-widgets/controls",
            "_model_module_version": "1.5.0",
            "_model_name": "DescriptionStyleModel",
            "_view_count": null,
            "_view_module": "@jupyter-widgets/base",
            "_view_module_version": "1.2.0",
            "_view_name": "StyleView",
            "description_width": ""
          }
        },
        "d791a4b14c8743a5bb8613998635a70c": {
          "model_module": "jupyter-leaflet",
          "model_name": "LeafletMapModel",
          "model_module_version": "^0.18",
          "state": {
            "_dom_classes": [],
            "_model_module": "jupyter-leaflet",
            "_model_module_version": "^0.18",
            "_model_name": "LeafletMapModel",
            "_view_count": null,
            "_view_module": "jupyter-leaflet",
            "_view_module_version": "^0.18",
            "_view_name": "LeafletMapView",
            "bottom": 44621,
            "bounce_at_zoom_limits": true,
            "box_zoom": true,
            "center": [
              50.23128609777502,
              -121.58153879631847
            ],
            "close_popup_on_click": true,
            "controls": [
              "IPY_MODEL_b1315cc29ea946da897aa03d7c723871",
              "IPY_MODEL_7486443faf82409aa8606c97a096d556",
              "IPY_MODEL_2ab7a0cd5b1b444088a36c36da8e9fdf",
              "IPY_MODEL_5b7c776415ca42c094baff59c5a50ddd",
              "IPY_MODEL_2e17ad955ebd45a8a8f427a185e26c41",
              "IPY_MODEL_8a3e1343a64c42e4b0e3a7ac8c9e6641"
            ],
            "crs": {
              "name": "EPSG3857",
              "custom": false
            },
            "default_style": "IPY_MODEL_d15a29a487da4f5cb38443f1f03719e0",
            "double_click_zoom": true,
            "dragging": true,
            "dragging_style": "IPY_MODEL_2b93e46393a74aad88a08b63b25811c6",
            "east": -119.99816894531251,
            "fullscreen": false,
            "inertia": true,
            "inertia_deceleration": 3000,
            "inertia_max_speed": 1500,
            "interpolation": "bilinear",
            "keyboard": true,
            "keyboard_pan_offset": 80,
            "keyboard_zoom_offset": 1,
            "layers": [
              "IPY_MODEL_f883a3da98a246a995f17715fca595ab",
              "IPY_MODEL_754da57152d54e1381c49cca50be2c57",
              "IPY_MODEL_b6362ca0a9ca4750876842fc3954869c"
            ],
            "layout": "IPY_MODEL_5d528d92260d491fba990acf3e145f7f",
            "left": 20694,
            "max_zoom": null,
            "min_zoom": null,
            "modisdate": "2024-10-09",
            "north": 50.75557231232454,
            "options": [
              "bounce_at_zoom_limits",
              "box_zoom",
              "center",
              "close_popup_on_click",
              "double_click_zoom",
              "dragging",
              "fullscreen",
              "inertia",
              "inertia_deceleration",
              "inertia_max_speed",
              "interpolation",
              "keyboard",
              "keyboard_pan_offset",
              "keyboard_zoom_offset",
              "max_zoom",
              "min_zoom",
              "prefer_canvas",
              "scroll_wheel_zoom",
              "tap",
              "tap_tolerance",
              "touch_zoom",
              "world_copy_jump",
              "zoom",
              "zoom_animation_threshold",
              "zoom_delta",
              "zoom_snap"
            ],
            "panes": {},
            "prefer_canvas": false,
            "right": 21846,
            "scroll_wheel_zoom": true,
            "south": 49.70139134233472,
            "style": "IPY_MODEL_0c415d7f483f4506a42280265ae3a208",
            "tap": true,
            "tap_tolerance": 15,
            "top": 44021,
            "touch_zoom": true,
            "west": -123.16223144531251,
            "window_url": "https://2dpi66cbsyc-496ff2e9c6d22116-0-colab.googleusercontent.com/outputframe.html?vrz=colab_20241007-060114_RC01_683255037",
            "world_copy_jump": false,
            "zoom": 9,
            "zoom_animation_threshold": 4,
            "zoom_delta": 1,
            "zoom_snap": 1
          }
        },
        "b1315cc29ea946da897aa03d7c723871": {
          "model_module": "jupyter-leaflet",
          "model_name": "LeafletZoomControlModel",
          "model_module_version": "^0.18",
          "state": {
            "_model_module": "jupyter-leaflet",
            "_model_module_version": "^0.18",
            "_model_name": "LeafletZoomControlModel",
            "_view_count": null,
            "_view_module": "jupyter-leaflet",
            "_view_module_version": "^0.18",
            "_view_name": "LeafletZoomControlView",
            "options": [
              "position",
              "zoom_in_text",
              "zoom_in_title",
              "zoom_out_text",
              "zoom_out_title"
            ],
            "position": "topleft",
            "zoom_in_text": "+",
            "zoom_in_title": "Zoom in",
            "zoom_out_text": "-",
            "zoom_out_title": "Zoom out"
          }
        },
        "7486443faf82409aa8606c97a096d556": {
          "model_module": "jupyter-leaflet",
          "model_name": "LeafletFullScreenControlModel",
          "model_module_version": "^0.18",
          "state": {
            "_model_module": "jupyter-leaflet",
            "_model_module_version": "^0.18",
            "_model_name": "LeafletFullScreenControlModel",
            "_view_count": null,
            "_view_module": "jupyter-leaflet",
            "_view_module_version": "^0.18",
            "_view_name": "LeafletFullScreenControlView",
            "options": [
              "position"
            ],
            "position": "topleft"
          }
        },
        "2ab7a0cd5b1b444088a36c36da8e9fdf": {
          "model_module": "jupyter-leaflet",
          "model_name": "LeafletDrawControlModel",
          "model_module_version": "^0.18",
          "state": {
            "_model_module": "jupyter-leaflet",
            "_model_module_version": "^0.18",
            "_model_name": "LeafletDrawControlModel",
            "_view_count": null,
            "_view_module": "jupyter-leaflet",
            "_view_module_version": "^0.18",
            "_view_name": "LeafletDrawControlView",
            "circle": {},
            "circlemarker": {},
            "data": [],
            "edit": true,
            "marker": {
              "shapeOptions": {
                "color": "#3388ff"
              }
            },
            "options": [
              "position"
            ],
            "polygon": {
              "shapeOptions": {}
            },
            "polyline": {
              "shapeOptions": {}
            },
            "position": "topleft",
            "rectangle": {
              "shapeOptions": {
                "color": "#3388ff"
              }
            },
            "remove": true
          }
        },
        "5b7c776415ca42c094baff59c5a50ddd": {
          "model_module": "jupyter-leaflet",
          "model_name": "LeafletScaleControlModel",
          "model_module_version": "^0.18",
          "state": {
            "_model_module": "jupyter-leaflet",
            "_model_module_version": "^0.18",
            "_model_name": "LeafletScaleControlModel",
            "_view_count": null,
            "_view_module": "jupyter-leaflet",
            "_view_module_version": "^0.18",
            "_view_name": "LeafletScaleControlView",
            "imperial": true,
            "max_width": 100,
            "metric": true,
            "options": [
              "imperial",
              "max_width",
              "metric",
              "position",
              "update_when_idle"
            ],
            "position": "bottomleft",
            "update_when_idle": false
          }
        },
        "2e17ad955ebd45a8a8f427a185e26c41": {
          "model_module": "jupyter-leaflet",
          "model_name": "LeafletWidgetControlModel",
          "model_module_version": "^0.18",
          "state": {
            "_model_module": "jupyter-leaflet",
            "_model_module_version": "^0.18",
            "_model_name": "LeafletWidgetControlModel",
            "_view_count": null,
            "_view_module": "jupyter-leaflet",
            "_view_module_version": "^0.18",
            "_view_name": "LeafletWidgetControlView",
            "max_height": null,
            "max_width": null,
            "min_height": null,
            "min_width": null,
            "options": [
              "position",
              "transparent_bg"
            ],
            "position": "topright",
            "transparent_bg": false,
            "widget": "IPY_MODEL_bc1036dffff246f48cdc99bc8d444890"
          }
        },
        "8a3e1343a64c42e4b0e3a7ac8c9e6641": {
          "model_module": "jupyter-leaflet",
          "model_name": "LeafletAttributionControlModel",
          "model_module_version": "^0.18",
          "state": {
            "_model_module": "jupyter-leaflet",
            "_model_module_version": "^0.18",
            "_model_name": "LeafletAttributionControlModel",
            "_view_count": null,
            "_view_module": "jupyter-leaflet",
            "_view_module_version": "^0.18",
            "_view_name": "LeafletAttributionControlView",
            "options": [
              "position",
              "prefix"
            ],
            "position": "bottomright",
            "prefix": "ipyleaflet"
          }
        },
        "d15a29a487da4f5cb38443f1f03719e0": {
          "model_module": "jupyter-leaflet",
          "model_name": "LeafletMapStyleModel",
          "model_module_version": "^0.18",
          "state": {
            "_model_module": "jupyter-leaflet",
            "_model_module_version": "^0.18",
            "_model_name": "LeafletMapStyleModel",
            "_view_count": null,
            "_view_module": "@jupyter-widgets/base",
            "_view_module_version": "1.2.0",
            "_view_name": "StyleView",
            "cursor": "grab"
          }
        },
        "2b93e46393a74aad88a08b63b25811c6": {
          "model_module": "jupyter-leaflet",
          "model_name": "LeafletMapStyleModel",
          "model_module_version": "^0.18",
          "state": {
            "_model_module": "jupyter-leaflet",
            "_model_module_version": "^0.18",
            "_model_name": "LeafletMapStyleModel",
            "_view_count": null,
            "_view_module": "@jupyter-widgets/base",
            "_view_module_version": "1.2.0",
            "_view_name": "StyleView",
            "cursor": "move"
          }
        },
        "f883a3da98a246a995f17715fca595ab": {
          "model_module": "jupyter-leaflet",
          "model_name": "LeafletTileLayerModel",
          "model_module_version": "^0.18",
          "state": {
            "_model_module": "jupyter-leaflet",
            "_model_module_version": "^0.18",
            "_model_name": "LeafletTileLayerModel",
            "_view_count": null,
            "_view_module": "jupyter-leaflet",
            "_view_module_version": "^0.18",
            "_view_name": "LeafletTileLayerView",
            "attribution": "&copy; <a href=\"https://www.openstreetmap.org/copyright\">OpenStreetMap</a> contributors",
            "base": true,
            "bottom": true,
            "bounds": null,
            "detect_retina": false,
            "loading": false,
            "max_native_zoom": null,
            "max_zoom": 19,
            "min_native_zoom": null,
            "min_zoom": 1,
            "name": "OpenStreetMap.Mapnik",
            "no_wrap": false,
            "opacity": 1,
            "options": [
              "attribution",
              "bounds",
              "detect_retina",
              "max_native_zoom",
              "max_zoom",
              "min_native_zoom",
              "min_zoom",
              "no_wrap",
              "tile_size",
              "tms",
              "zoom_offset"
            ],
            "pane": "",
            "popup": null,
            "popup_max_height": null,
            "popup_max_width": 300,
            "popup_min_width": 50,
            "show_loading": false,
            "subitems": [],
            "tile_size": 256,
            "tms": false,
            "url": "https://tile.openstreetmap.org/{z}/{x}/{y}.png",
            "visible": true,
            "zoom_offset": 0
          }
        },
        "754da57152d54e1381c49cca50be2c57": {
          "model_module": "jupyter-leaflet",
          "model_name": "LeafletTileLayerModel",
          "model_module_version": "^0.18",
          "state": {
            "_model_module": "jupyter-leaflet",
            "_model_module_version": "^0.18",
            "_model_name": "LeafletTileLayerModel",
            "_view_count": null,
            "_view_module": "jupyter-leaflet",
            "_view_module_version": "^0.18",
            "_view_name": "LeafletTileLayerView",
            "attribution": "Google Earth Engine",
            "base": false,
            "bottom": true,
            "bounds": null,
            "detect_retina": false,
            "loading": false,
            "max_native_zoom": null,
            "max_zoom": 24,
            "min_native_zoom": null,
            "min_zoom": 0,
            "name": "Area of interest",
            "no_wrap": false,
            "opacity": 0.2,
            "options": [
              "attribution",
              "bounds",
              "detect_retina",
              "max_native_zoom",
              "max_zoom",
              "min_native_zoom",
              "min_zoom",
              "no_wrap",
              "tile_size",
              "tms",
              "zoom_offset"
            ],
            "pane": "",
            "popup": null,
            "popup_max_height": null,
            "popup_max_width": 300,
            "popup_min_width": 50,
            "show_loading": false,
            "subitems": [],
            "tile_size": 256,
            "tms": false,
            "url": "https://earthengine.googleapis.com/v1/projects/bc-wildfire-422905/maps/949cdc3eaef037d03d1f783d22744dda-7a8eef2f557bdffc0b4ae4f7c6003133/tiles/{z}/{x}/{y}",
            "visible": true,
            "zoom_offset": 0
          }
        },
        "b6362ca0a9ca4750876842fc3954869c": {
          "model_module": "jupyter-leaflet",
          "model_name": "LeafletTileLayerModel",
          "model_module_version": "^0.18",
          "state": {
            "_model_module": "jupyter-leaflet",
            "_model_module_version": "^0.18",
            "_model_name": "LeafletTileLayerModel",
            "_view_count": null,
            "_view_module": "jupyter-leaflet",
            "_view_module_version": "^0.18",
            "_view_name": "LeafletTileLayerView",
            "attribution": "Google Earth Engine",
            "base": false,
            "bottom": true,
            "bounds": null,
            "detect_retina": false,
            "loading": false,
            "max_native_zoom": null,
            "max_zoom": 24,
            "min_native_zoom": null,
            "min_zoom": 0,
            "name": "Combined confidence",
            "no_wrap": false,
            "opacity": 1,
            "options": [
              "attribution",
              "bounds",
              "detect_retina",
              "max_native_zoom",
              "max_zoom",
              "min_native_zoom",
              "min_zoom",
              "no_wrap",
              "tile_size",
              "tms",
              "zoom_offset"
            ],
            "pane": "",
            "popup": null,
            "popup_max_height": null,
            "popup_max_width": 300,
            "popup_min_width": 50,
            "show_loading": false,
            "subitems": [],
            "tile_size": 256,
            "tms": false,
            "url": "https://earthengine.googleapis.com/v1/projects/bc-wildfire-422905/maps/0f0175bfe543cf3b47ed509fc8b6b31f-982a9fc4e4de4ba2f69d2cbbaf353b6c/tiles/{z}/{x}/{y}",
            "visible": true,
            "zoom_offset": 0
          }
        },
        "5d528d92260d491fba990acf3e145f7f": {
          "model_module": "@jupyter-widgets/base",
          "model_name": "LayoutModel",
          "model_module_version": "1.2.0",
          "state": {
            "_model_module": "@jupyter-widgets/base",
            "_model_module_version": "1.2.0",
            "_model_name": "LayoutModel",
            "_view_count": null,
            "_view_module": "@jupyter-widgets/base",
            "_view_module_version": "1.2.0",
            "_view_name": "LayoutView",
            "align_content": null,
            "align_items": null,
            "align_self": null,
            "border": null,
            "bottom": null,
            "display": null,
            "flex": null,
            "flex_flow": null,
            "grid_area": null,
            "grid_auto_columns": null,
            "grid_auto_flow": null,
            "grid_auto_rows": null,
            "grid_column": null,
            "grid_gap": null,
            "grid_row": null,
            "grid_template_areas": null,
            "grid_template_columns": null,
            "grid_template_rows": null,
            "height": "600px",
            "justify_content": null,
            "justify_items": null,
            "left": null,
            "margin": null,
            "max_height": null,
            "max_width": null,
            "min_height": null,
            "min_width": null,
            "object_fit": null,
            "object_position": null,
            "order": null,
            "overflow": null,
            "overflow_x": null,
            "overflow_y": null,
            "padding": null,
            "right": null,
            "top": null,
            "visibility": null,
            "width": null
          }
        },
        "0c415d7f483f4506a42280265ae3a208": {
          "model_module": "jupyter-leaflet",
          "model_name": "LeafletMapStyleModel",
          "model_module_version": "^0.18",
          "state": {
            "_model_module": "jupyter-leaflet",
            "_model_module_version": "^0.18",
            "_model_name": "LeafletMapStyleModel",
            "_view_count": null,
            "_view_module": "@jupyter-widgets/base",
            "_view_module_version": "1.2.0",
            "_view_name": "StyleView",
            "cursor": "grab"
          }
        },
        "bc1036dffff246f48cdc99bc8d444890": {
          "model_module": "@jupyter-widgets/controls",
          "model_name": "VBoxModel",
          "model_module_version": "1.5.0",
          "state": {
            "_dom_classes": [
              "geemap-colab"
            ],
            "_model_module": "@jupyter-widgets/controls",
            "_model_module_version": "1.5.0",
            "_model_name": "VBoxModel",
            "_view_count": null,
            "_view_module": "@jupyter-widgets/controls",
            "_view_module_version": "1.5.0",
            "_view_name": "VBoxView",
            "box_style": "",
            "children": [
              "IPY_MODEL_03a0addb16ec462ba5335abdc543e010"
            ],
            "layout": "IPY_MODEL_bcbdf2ca55ff4df2ade5905acd409d45"
          }
        },
        "03a0addb16ec462ba5335abdc543e010": {
          "model_module": "@jupyter-widgets/controls",
          "model_name": "ToggleButtonModel",
          "model_module_version": "1.5.0",
          "state": {
            "_dom_classes": [],
            "_model_module": "@jupyter-widgets/controls",
            "_model_module_version": "1.5.0",
            "_model_name": "ToggleButtonModel",
            "_view_count": null,
            "_view_module": "@jupyter-widgets/controls",
            "_view_module_version": "1.5.0",
            "_view_name": "ToggleButtonView",
            "button_style": "",
            "description": "",
            "description_tooltip": null,
            "disabled": false,
            "icon": "wrench",
            "layout": "IPY_MODEL_d13aa9f456ea4e47bd7d2d84058daf31",
            "style": "IPY_MODEL_ea4f4a07df8e448e94fdadbd29f05778",
            "tooltip": "Toolbar",
            "value": false
          }
        },
        "bcbdf2ca55ff4df2ade5905acd409d45": {
          "model_module": "@jupyter-widgets/base",
          "model_name": "LayoutModel",
          "model_module_version": "1.2.0",
          "state": {
            "_model_module": "@jupyter-widgets/base",
            "_model_module_version": "1.2.0",
            "_model_name": "LayoutModel",
            "_view_count": null,
            "_view_module": "@jupyter-widgets/base",
            "_view_module_version": "1.2.0",
            "_view_name": "LayoutView",
            "align_content": null,
            "align_items": null,
            "align_self": null,
            "border": null,
            "bottom": null,
            "display": null,
            "flex": null,
            "flex_flow": null,
            "grid_area": null,
            "grid_auto_columns": null,
            "grid_auto_flow": null,
            "grid_auto_rows": null,
            "grid_column": null,
            "grid_gap": null,
            "grid_row": null,
            "grid_template_areas": null,
            "grid_template_columns": null,
            "grid_template_rows": null,
            "height": null,
            "justify_content": null,
            "justify_items": null,
            "left": null,
            "margin": null,
            "max_height": null,
            "max_width": null,
            "min_height": null,
            "min_width": null,
            "object_fit": null,
            "object_position": null,
            "order": null,
            "overflow": null,
            "overflow_x": null,
            "overflow_y": null,
            "padding": null,
            "right": null,
            "top": null,
            "visibility": null,
            "width": null
          }
        },
        "d13aa9f456ea4e47bd7d2d84058daf31": {
          "model_module": "@jupyter-widgets/base",
          "model_name": "LayoutModel",
          "model_module_version": "1.2.0",
          "state": {
            "_model_module": "@jupyter-widgets/base",
            "_model_module_version": "1.2.0",
            "_model_name": "LayoutModel",
            "_view_count": null,
            "_view_module": "@jupyter-widgets/base",
            "_view_module_version": "1.2.0",
            "_view_name": "LayoutView",
            "align_content": null,
            "align_items": null,
            "align_self": null,
            "border": null,
            "bottom": null,
            "display": null,
            "flex": null,
            "flex_flow": null,
            "grid_area": null,
            "grid_auto_columns": null,
            "grid_auto_flow": null,
            "grid_auto_rows": null,
            "grid_column": null,
            "grid_gap": null,
            "grid_row": null,
            "grid_template_areas": null,
            "grid_template_columns": null,
            "grid_template_rows": null,
            "height": "28px",
            "justify_content": null,
            "justify_items": null,
            "left": null,
            "margin": null,
            "max_height": null,
            "max_width": null,
            "min_height": null,
            "min_width": null,
            "object_fit": null,
            "object_position": null,
            "order": null,
            "overflow": null,
            "overflow_x": null,
            "overflow_y": null,
            "padding": "0px 0px 0px 4px",
            "right": null,
            "top": null,
            "visibility": null,
            "width": "28px"
          }
        },
        "ea4f4a07df8e448e94fdadbd29f05778": {
          "model_module": "@jupyter-widgets/controls",
          "model_name": "DescriptionStyleModel",
          "model_module_version": "1.5.0",
          "state": {
            "_model_module": "@jupyter-widgets/controls",
            "_model_module_version": "1.5.0",
            "_model_name": "DescriptionStyleModel",
            "_view_count": null,
            "_view_module": "@jupyter-widgets/base",
            "_view_module_version": "1.2.0",
            "_view_name": "StyleView",
            "description_width": ""
          }
        },
        "06ac966264944a56a287899a9137546a": {
          "model_module": "jupyter-leaflet",
          "model_name": "LeafletMapModel",
          "model_module_version": "^0.18",
          "state": {
            "_dom_classes": [],
            "_model_module": "jupyter-leaflet",
            "_model_module_version": "^0.18",
            "_model_name": "LeafletMapModel",
            "_view_count": null,
            "_view_module": "jupyter-leaflet",
            "_view_module_version": "^0.18",
            "_view_name": "LeafletMapView",
            "bottom": 44621,
            "bounce_at_zoom_limits": true,
            "box_zoom": true,
            "center": [
              50.23128609777502,
              -121.58153879631847
            ],
            "close_popup_on_click": true,
            "controls": [
              "IPY_MODEL_a4c086770a9e42b3ac20b3d5a1daa427",
              "IPY_MODEL_f372980439f14a85bd075583422ea633",
              "IPY_MODEL_3fe3040bb91349febbb17e0d8bbdac42",
              "IPY_MODEL_bc58ffa038d34d09b02393ca5aa883df",
              "IPY_MODEL_b7a842d84b954bf6bb32632998a41646",
              "IPY_MODEL_d809f446b3c44fa986228b084ffc4353"
            ],
            "crs": {
              "name": "EPSG3857",
              "custom": false
            },
            "default_style": "IPY_MODEL_d8f076997b664269bf7af09bf4ae5965",
            "double_click_zoom": true,
            "dragging": true,
            "dragging_style": "IPY_MODEL_5255d74b14904e93950defc4905def3c",
            "east": -119.99816894531251,
            "fullscreen": false,
            "inertia": true,
            "inertia_deceleration": 3000,
            "inertia_max_speed": 1500,
            "interpolation": "bilinear",
            "keyboard": true,
            "keyboard_pan_offset": 80,
            "keyboard_zoom_offset": 1,
            "layers": [
              "IPY_MODEL_6bb13b1b169c43b286e719efac3e860e",
              "IPY_MODEL_c727024c2e4048a19ce84ee3ac7cceeb",
              "IPY_MODEL_251f5c82e7404a129f123ee4771d2849"
            ],
            "layout": "IPY_MODEL_88b927518c7e4c35bb0fa0c483e01778",
            "left": 20694,
            "max_zoom": null,
            "min_zoom": null,
            "modisdate": "2024-10-09",
            "north": 50.75557231232454,
            "options": [
              "bounce_at_zoom_limits",
              "box_zoom",
              "center",
              "close_popup_on_click",
              "double_click_zoom",
              "dragging",
              "fullscreen",
              "inertia",
              "inertia_deceleration",
              "inertia_max_speed",
              "interpolation",
              "keyboard",
              "keyboard_pan_offset",
              "keyboard_zoom_offset",
              "max_zoom",
              "min_zoom",
              "prefer_canvas",
              "scroll_wheel_zoom",
              "tap",
              "tap_tolerance",
              "touch_zoom",
              "world_copy_jump",
              "zoom",
              "zoom_animation_threshold",
              "zoom_delta",
              "zoom_snap"
            ],
            "panes": {},
            "prefer_canvas": false,
            "right": 21846,
            "scroll_wheel_zoom": true,
            "south": 49.70139134233472,
            "style": "IPY_MODEL_5a6eedbfd6054827a587b4cbe5a8b93f",
            "tap": true,
            "tap_tolerance": 15,
            "top": 44021,
            "touch_zoom": true,
            "west": -123.16223144531251,
            "window_url": "https://2dpi66cbsyc-496ff2e9c6d22116-0-colab.googleusercontent.com/outputframe.html?vrz=colab_20241007-060114_RC01_683255037",
            "world_copy_jump": false,
            "zoom": 9,
            "zoom_animation_threshold": 4,
            "zoom_delta": 1,
            "zoom_snap": 1
          }
        },
        "a4c086770a9e42b3ac20b3d5a1daa427": {
          "model_module": "jupyter-leaflet",
          "model_name": "LeafletZoomControlModel",
          "model_module_version": "^0.18",
          "state": {
            "_model_module": "jupyter-leaflet",
            "_model_module_version": "^0.18",
            "_model_name": "LeafletZoomControlModel",
            "_view_count": null,
            "_view_module": "jupyter-leaflet",
            "_view_module_version": "^0.18",
            "_view_name": "LeafletZoomControlView",
            "options": [
              "position",
              "zoom_in_text",
              "zoom_in_title",
              "zoom_out_text",
              "zoom_out_title"
            ],
            "position": "topleft",
            "zoom_in_text": "+",
            "zoom_in_title": "Zoom in",
            "zoom_out_text": "-",
            "zoom_out_title": "Zoom out"
          }
        },
        "f372980439f14a85bd075583422ea633": {
          "model_module": "jupyter-leaflet",
          "model_name": "LeafletFullScreenControlModel",
          "model_module_version": "^0.18",
          "state": {
            "_model_module": "jupyter-leaflet",
            "_model_module_version": "^0.18",
            "_model_name": "LeafletFullScreenControlModel",
            "_view_count": null,
            "_view_module": "jupyter-leaflet",
            "_view_module_version": "^0.18",
            "_view_name": "LeafletFullScreenControlView",
            "options": [
              "position"
            ],
            "position": "topleft"
          }
        },
        "3fe3040bb91349febbb17e0d8bbdac42": {
          "model_module": "jupyter-leaflet",
          "model_name": "LeafletDrawControlModel",
          "model_module_version": "^0.18",
          "state": {
            "_model_module": "jupyter-leaflet",
            "_model_module_version": "^0.18",
            "_model_name": "LeafletDrawControlModel",
            "_view_count": null,
            "_view_module": "jupyter-leaflet",
            "_view_module_version": "^0.18",
            "_view_name": "LeafletDrawControlView",
            "circle": {},
            "circlemarker": {},
            "data": [],
            "edit": true,
            "marker": {
              "shapeOptions": {
                "color": "#3388ff"
              }
            },
            "options": [
              "position"
            ],
            "polygon": {
              "shapeOptions": {}
            },
            "polyline": {
              "shapeOptions": {}
            },
            "position": "topleft",
            "rectangle": {
              "shapeOptions": {
                "color": "#3388ff"
              }
            },
            "remove": true
          }
        },
        "bc58ffa038d34d09b02393ca5aa883df": {
          "model_module": "jupyter-leaflet",
          "model_name": "LeafletScaleControlModel",
          "model_module_version": "^0.18",
          "state": {
            "_model_module": "jupyter-leaflet",
            "_model_module_version": "^0.18",
            "_model_name": "LeafletScaleControlModel",
            "_view_count": null,
            "_view_module": "jupyter-leaflet",
            "_view_module_version": "^0.18",
            "_view_name": "LeafletScaleControlView",
            "imperial": true,
            "max_width": 100,
            "metric": true,
            "options": [
              "imperial",
              "max_width",
              "metric",
              "position",
              "update_when_idle"
            ],
            "position": "bottomleft",
            "update_when_idle": false
          }
        },
        "b7a842d84b954bf6bb32632998a41646": {
          "model_module": "jupyter-leaflet",
          "model_name": "LeafletWidgetControlModel",
          "model_module_version": "^0.18",
          "state": {
            "_model_module": "jupyter-leaflet",
            "_model_module_version": "^0.18",
            "_model_name": "LeafletWidgetControlModel",
            "_view_count": null,
            "_view_module": "jupyter-leaflet",
            "_view_module_version": "^0.18",
            "_view_name": "LeafletWidgetControlView",
            "max_height": null,
            "max_width": null,
            "min_height": null,
            "min_width": null,
            "options": [
              "position",
              "transparent_bg"
            ],
            "position": "topright",
            "transparent_bg": false,
            "widget": "IPY_MODEL_80f02b9c7e794a39b6ad57e5886f965d"
          }
        },
        "d809f446b3c44fa986228b084ffc4353": {
          "model_module": "jupyter-leaflet",
          "model_name": "LeafletAttributionControlModel",
          "model_module_version": "^0.18",
          "state": {
            "_model_module": "jupyter-leaflet",
            "_model_module_version": "^0.18",
            "_model_name": "LeafletAttributionControlModel",
            "_view_count": null,
            "_view_module": "jupyter-leaflet",
            "_view_module_version": "^0.18",
            "_view_name": "LeafletAttributionControlView",
            "options": [
              "position",
              "prefix"
            ],
            "position": "bottomright",
            "prefix": "ipyleaflet"
          }
        },
        "d8f076997b664269bf7af09bf4ae5965": {
          "model_module": "jupyter-leaflet",
          "model_name": "LeafletMapStyleModel",
          "model_module_version": "^0.18",
          "state": {
            "_model_module": "jupyter-leaflet",
            "_model_module_version": "^0.18",
            "_model_name": "LeafletMapStyleModel",
            "_view_count": null,
            "_view_module": "@jupyter-widgets/base",
            "_view_module_version": "1.2.0",
            "_view_name": "StyleView",
            "cursor": "grab"
          }
        },
        "5255d74b14904e93950defc4905def3c": {
          "model_module": "jupyter-leaflet",
          "model_name": "LeafletMapStyleModel",
          "model_module_version": "^0.18",
          "state": {
            "_model_module": "jupyter-leaflet",
            "_model_module_version": "^0.18",
            "_model_name": "LeafletMapStyleModel",
            "_view_count": null,
            "_view_module": "@jupyter-widgets/base",
            "_view_module_version": "1.2.0",
            "_view_name": "StyleView",
            "cursor": "move"
          }
        },
        "6bb13b1b169c43b286e719efac3e860e": {
          "model_module": "jupyter-leaflet",
          "model_name": "LeafletTileLayerModel",
          "model_module_version": "^0.18",
          "state": {
            "_model_module": "jupyter-leaflet",
            "_model_module_version": "^0.18",
            "_model_name": "LeafletTileLayerModel",
            "_view_count": null,
            "_view_module": "jupyter-leaflet",
            "_view_module_version": "^0.18",
            "_view_name": "LeafletTileLayerView",
            "attribution": "&copy; <a href=\"https://www.openstreetmap.org/copyright\">OpenStreetMap</a> contributors",
            "base": true,
            "bottom": true,
            "bounds": null,
            "detect_retina": false,
            "loading": false,
            "max_native_zoom": null,
            "max_zoom": 19,
            "min_native_zoom": null,
            "min_zoom": 1,
            "name": "OpenStreetMap.Mapnik",
            "no_wrap": false,
            "opacity": 1,
            "options": [
              "attribution",
              "bounds",
              "detect_retina",
              "max_native_zoom",
              "max_zoom",
              "min_native_zoom",
              "min_zoom",
              "no_wrap",
              "tile_size",
              "tms",
              "zoom_offset"
            ],
            "pane": "",
            "popup": null,
            "popup_max_height": null,
            "popup_max_width": 300,
            "popup_min_width": 50,
            "show_loading": false,
            "subitems": [],
            "tile_size": 256,
            "tms": false,
            "url": "https://tile.openstreetmap.org/{z}/{x}/{y}.png",
            "visible": true,
            "zoom_offset": 0
          }
        },
        "c727024c2e4048a19ce84ee3ac7cceeb": {
          "model_module": "jupyter-leaflet",
          "model_name": "LeafletTileLayerModel",
          "model_module_version": "^0.18",
          "state": {
            "_model_module": "jupyter-leaflet",
            "_model_module_version": "^0.18",
            "_model_name": "LeafletTileLayerModel",
            "_view_count": null,
            "_view_module": "jupyter-leaflet",
            "_view_module_version": "^0.18",
            "_view_name": "LeafletTileLayerView",
            "attribution": "Google Earth Engine",
            "base": false,
            "bottom": true,
            "bounds": null,
            "detect_retina": false,
            "loading": false,
            "max_native_zoom": null,
            "max_zoom": 24,
            "min_native_zoom": null,
            "min_zoom": 0,
            "name": "Area of interest",
            "no_wrap": false,
            "opacity": 0.2,
            "options": [
              "attribution",
              "bounds",
              "detect_retina",
              "max_native_zoom",
              "max_zoom",
              "min_native_zoom",
              "min_zoom",
              "no_wrap",
              "tile_size",
              "tms",
              "zoom_offset"
            ],
            "pane": "",
            "popup": null,
            "popup_max_height": null,
            "popup_max_width": 300,
            "popup_min_width": 50,
            "show_loading": false,
            "subitems": [],
            "tile_size": 256,
            "tms": false,
            "url": "https://earthengine.googleapis.com/v1/projects/bc-wildfire-422905/maps/949cdc3eaef037d03d1f783d22744dda-0ccd4c2b0d92cde4771aaf5a641cb95f/tiles/{z}/{x}/{y}",
            "visible": true,
            "zoom_offset": 0
          }
        },
        "251f5c82e7404a129f123ee4771d2849": {
          "model_module": "jupyter-leaflet",
          "model_name": "LeafletTileLayerModel",
          "model_module_version": "^0.18",
          "state": {
            "_model_module": "jupyter-leaflet",
            "_model_module_version": "^0.18",
            "_model_name": "LeafletTileLayerModel",
            "_view_count": null,
            "_view_module": "jupyter-leaflet",
            "_view_module_version": "^0.18",
            "_view_name": "LeafletTileLayerView",
            "attribution": "Google Earth Engine",
            "base": false,
            "bottom": true,
            "bounds": null,
            "detect_retina": false,
            "loading": true,
            "max_native_zoom": null,
            "max_zoom": 24,
            "min_native_zoom": null,
            "min_zoom": 0,
            "name": "Smoothed confidence",
            "no_wrap": false,
            "opacity": 1,
            "options": [
              "attribution",
              "bounds",
              "detect_retina",
              "max_native_zoom",
              "max_zoom",
              "min_native_zoom",
              "min_zoom",
              "no_wrap",
              "tile_size",
              "tms",
              "zoom_offset"
            ],
            "pane": "",
            "popup": null,
            "popup_max_height": null,
            "popup_max_width": 300,
            "popup_min_width": 50,
            "show_loading": false,
            "subitems": [],
            "tile_size": 256,
            "tms": false,
            "url": "https://earthengine.googleapis.com/v1/projects/bc-wildfire-422905/maps/982b890504097a04388b1c1bd8c36fa2-642532b4e9ae64cf6e0a1737e3dfaade/tiles/{z}/{x}/{y}",
            "visible": true,
            "zoom_offset": 0
          }
        },
        "88b927518c7e4c35bb0fa0c483e01778": {
          "model_module": "@jupyter-widgets/base",
          "model_name": "LayoutModel",
          "model_module_version": "1.2.0",
          "state": {
            "_model_module": "@jupyter-widgets/base",
            "_model_module_version": "1.2.0",
            "_model_name": "LayoutModel",
            "_view_count": null,
            "_view_module": "@jupyter-widgets/base",
            "_view_module_version": "1.2.0",
            "_view_name": "LayoutView",
            "align_content": null,
            "align_items": null,
            "align_self": null,
            "border": null,
            "bottom": null,
            "display": null,
            "flex": null,
            "flex_flow": null,
            "grid_area": null,
            "grid_auto_columns": null,
            "grid_auto_flow": null,
            "grid_auto_rows": null,
            "grid_column": null,
            "grid_gap": null,
            "grid_row": null,
            "grid_template_areas": null,
            "grid_template_columns": null,
            "grid_template_rows": null,
            "height": "600px",
            "justify_content": null,
            "justify_items": null,
            "left": null,
            "margin": null,
            "max_height": null,
            "max_width": null,
            "min_height": null,
            "min_width": null,
            "object_fit": null,
            "object_position": null,
            "order": null,
            "overflow": null,
            "overflow_x": null,
            "overflow_y": null,
            "padding": null,
            "right": null,
            "top": null,
            "visibility": null,
            "width": null
          }
        },
        "5a6eedbfd6054827a587b4cbe5a8b93f": {
          "model_module": "jupyter-leaflet",
          "model_name": "LeafletMapStyleModel",
          "model_module_version": "^0.18",
          "state": {
            "_model_module": "jupyter-leaflet",
            "_model_module_version": "^0.18",
            "_model_name": "LeafletMapStyleModel",
            "_view_count": null,
            "_view_module": "@jupyter-widgets/base",
            "_view_module_version": "1.2.0",
            "_view_name": "StyleView",
            "cursor": "grab"
          }
        },
        "80f02b9c7e794a39b6ad57e5886f965d": {
          "model_module": "@jupyter-widgets/controls",
          "model_name": "VBoxModel",
          "model_module_version": "1.5.0",
          "state": {
            "_dom_classes": [
              "geemap-colab"
            ],
            "_model_module": "@jupyter-widgets/controls",
            "_model_module_version": "1.5.0",
            "_model_name": "VBoxModel",
            "_view_count": null,
            "_view_module": "@jupyter-widgets/controls",
            "_view_module_version": "1.5.0",
            "_view_name": "VBoxView",
            "box_style": "",
            "children": [
              "IPY_MODEL_42519cf9dabc4f63b2f9c3f32c78b55a"
            ],
            "layout": "IPY_MODEL_d5951ae0e8e04415987012a800ca1589"
          }
        },
        "42519cf9dabc4f63b2f9c3f32c78b55a": {
          "model_module": "@jupyter-widgets/controls",
          "model_name": "ToggleButtonModel",
          "model_module_version": "1.5.0",
          "state": {
            "_dom_classes": [],
            "_model_module": "@jupyter-widgets/controls",
            "_model_module_version": "1.5.0",
            "_model_name": "ToggleButtonModel",
            "_view_count": null,
            "_view_module": "@jupyter-widgets/controls",
            "_view_module_version": "1.5.0",
            "_view_name": "ToggleButtonView",
            "button_style": "",
            "description": "",
            "description_tooltip": null,
            "disabled": false,
            "icon": "wrench",
            "layout": "IPY_MODEL_25fc8a037c98420f918cfee5b8e9f6f4",
            "style": "IPY_MODEL_f0445b24a9d2493fa929785be1c335dc",
            "tooltip": "Toolbar",
            "value": false
          }
        },
        "d5951ae0e8e04415987012a800ca1589": {
          "model_module": "@jupyter-widgets/base",
          "model_name": "LayoutModel",
          "model_module_version": "1.2.0",
          "state": {
            "_model_module": "@jupyter-widgets/base",
            "_model_module_version": "1.2.0",
            "_model_name": "LayoutModel",
            "_view_count": null,
            "_view_module": "@jupyter-widgets/base",
            "_view_module_version": "1.2.0",
            "_view_name": "LayoutView",
            "align_content": null,
            "align_items": null,
            "align_self": null,
            "border": null,
            "bottom": null,
            "display": null,
            "flex": null,
            "flex_flow": null,
            "grid_area": null,
            "grid_auto_columns": null,
            "grid_auto_flow": null,
            "grid_auto_rows": null,
            "grid_column": null,
            "grid_gap": null,
            "grid_row": null,
            "grid_template_areas": null,
            "grid_template_columns": null,
            "grid_template_rows": null,
            "height": null,
            "justify_content": null,
            "justify_items": null,
            "left": null,
            "margin": null,
            "max_height": null,
            "max_width": null,
            "min_height": null,
            "min_width": null,
            "object_fit": null,
            "object_position": null,
            "order": null,
            "overflow": null,
            "overflow_x": null,
            "overflow_y": null,
            "padding": null,
            "right": null,
            "top": null,
            "visibility": null,
            "width": null
          }
        },
        "25fc8a037c98420f918cfee5b8e9f6f4": {
          "model_module": "@jupyter-widgets/base",
          "model_name": "LayoutModel",
          "model_module_version": "1.2.0",
          "state": {
            "_model_module": "@jupyter-widgets/base",
            "_model_module_version": "1.2.0",
            "_model_name": "LayoutModel",
            "_view_count": null,
            "_view_module": "@jupyter-widgets/base",
            "_view_module_version": "1.2.0",
            "_view_name": "LayoutView",
            "align_content": null,
            "align_items": null,
            "align_self": null,
            "border": null,
            "bottom": null,
            "display": null,
            "flex": null,
            "flex_flow": null,
            "grid_area": null,
            "grid_auto_columns": null,
            "grid_auto_flow": null,
            "grid_auto_rows": null,
            "grid_column": null,
            "grid_gap": null,
            "grid_row": null,
            "grid_template_areas": null,
            "grid_template_columns": null,
            "grid_template_rows": null,
            "height": "28px",
            "justify_content": null,
            "justify_items": null,
            "left": null,
            "margin": null,
            "max_height": null,
            "max_width": null,
            "min_height": null,
            "min_width": null,
            "object_fit": null,
            "object_position": null,
            "order": null,
            "overflow": null,
            "overflow_x": null,
            "overflow_y": null,
            "padding": "0px 0px 0px 4px",
            "right": null,
            "top": null,
            "visibility": null,
            "width": "28px"
          }
        },
        "f0445b24a9d2493fa929785be1c335dc": {
          "model_module": "@jupyter-widgets/controls",
          "model_name": "DescriptionStyleModel",
          "model_module_version": "1.5.0",
          "state": {
            "_model_module": "@jupyter-widgets/controls",
            "_model_module_version": "1.5.0",
            "_model_name": "DescriptionStyleModel",
            "_view_count": null,
            "_view_module": "@jupyter-widgets/base",
            "_view_module_version": "1.2.0",
            "_view_name": "StyleView",
            "description_width": ""
          }
        }
      }
    }
  },
  "cells": [
    {
      "cell_type": "markdown",
      "metadata": {
        "id": "view-in-github",
        "colab_type": "text"
      },
      "source": [
        "<a href=\"https://colab.research.google.com/github/vanislekahuna/wps-research/blob/master/BC_Wildfire_Mapping.ipynb\" target=\"_parent\"><img src=\"https://colab.research.google.com/assets/colab-badge.svg\" alt=\"Open In Colab\"/></a>"
      ]
    },
    {
      "cell_type": "markdown",
      "source": [
        "# **BC Wildfire Mapping Tutorial**"
      ],
      "metadata": {
        "id": "Q4cJY74nZBVE"
      }
    },
    {
      "cell_type": "markdown",
      "source": [
        "<img src=\"https://images.squarespace-cdn.com/content/v1/5c0752d3cc8fedf5a8d40280/1654700933900-0KPHPHXUM9978DAXZ3OV/Husky_scratched_and_burned-e1633119048727.jpg?format=750w\" width=800>\n",
        "\n",
        "\n",
        "[Photo Source](https://www.huskyhavenfl.org/hhofl-blog/2022/5/2/the-abcs-of-burns-in-dogs)"
      ],
      "metadata": {
        "id": "dsujLjYRakaY"
      }
    },
    {
      "cell_type": "markdown",
      "source": [
        "## Introduction\n",
        "\n",
        "In Canada's westernmost province, British Columbia, the uptick in the severity and occurrence of wildfires have caused substantial damage to the social and ecological systems in the province. For instance, in 2023 alone, 2,245 total wildfires burned in the province amounting to 2.84 million hectares of land going up in smoke (BC Public Service, 2023). Although British Columbia is a large region in terms of land mass with diverse terrain, the total acres burnt was truly an anomaly as it had more than doubled the previous record of 1.215 million acres in 2018 (BC Public Service, 2023). As a result of these wildfires, tens of thousands of people were forced to evacuate their homes. While those fortunate were able to flee from the crisis, there were plenty of other living creatures who didn't have the means, ability, or fortune to escape such an agonizing fate. And so far, no estimates have been released on the amount of wildlife that perished in those flames.\n",
        "\n",
        "Whether a wildfire was caused through natural means like lightning strikes or by humans, detecting it and estimating its perimeter is one of the most challenging, yet impactful ways to minimize their destruction. One reason the early detection of a wildfire can be so impactful is that those that spark in remote forests can grow to unmanageable proportions before they spread close enough to an urban centre for locals to report it. Especially when we have a province as large as British Columbia with vast amounts of terrain such as dense forests, rocky mountains, or dry grasslands, communities on the ground may not be able to detect wildfires as easily if they start in a remote area until it's already burnt hundreds, or even thousands, of acres and wildlife. As an example, on May 12th, 2023, a lightning strike in [Donnie Creek](https://maps.app.goo.gl/c6zBveq2N529DkHX9) which is an area about 136 km southeast of the nearest urban centre, Fort Nelson, lit the fuse for a wildfire to burn about 5,700 square km before it was finally contained (Kulkarni, 2023).\n",
        "\n",
        "However, with the recent advances in satellite technology and remote sensing techniques, we can now combine raw images from various orbiting satellites with maps to build estimations of a wildfire perimeter. In this article, we'll use the raw images from the Sentinel-2 and the GOES-16/17 satellites stored in the [Google Cloud Earth Engine data catalogue](https://developers.google.com/earth-engine/datasets/catalog/NOAA_GOES_16_FDCF#bands) to build a wildfire perimeter that we can overlay on a map that serves as a reference point to urban centres and other significant landmarks. By accessing image data from various satellite sources, we can highlight the strengths and weaknesses of the two approaches to have a broader foundation in wildfire detection and remote-sending more broadly.\n",
        "\n",
        "Let's begin."
      ],
      "metadata": {
        "id": "TLIFDxNunvRW"
      }
    },
    {
      "cell_type": "markdown",
      "source": [
        "<img src=\"https://ichef.bbci.co.uk/news/1024/cpsprodpb/414E/production/_109781761_gettyimages-1188627293.jpg.webp\" width=800>\n",
        "\n",
        "\n",
        "[Photo Source](https://www.bbc.com/news/world-australia-50511963)"
      ],
      "metadata": {
        "id": "XpBio11WQMyF"
      }
    },
    {
      "cell_type": "markdown",
      "source": [
        "First, a bit of bookkeeping. Let's ensure that we're using the same versions of packages required in this article to ensure reproducibility and to follow coding best practices."
      ],
      "metadata": {
        "id": "YJj05qlbrwuu"
      }
    },
    {
      "cell_type": "code",
      "source": [
        "# !pip install earthengine-api==0.1.406\n",
        "# !pip install folium==0.14.0\n",
        "# !pip install geemap==0.32.1 #Backup version: 0.20.4\n",
        "# !pip install matplotlib==3.7.1\n",
        "# !pip install numpy==1.25.2\n",
        "# !pip install pandas<2.7.0"
      ],
      "metadata": {
        "id": "k_xsUtyuYs_7",
        "collapsed": true,
        "colab": {
          "base_uri": "https://localhost:8080/"
        },
        "outputId": "c69d9c31-691d-4007-eb8c-e089d6262ebd"
      },
      "execution_count": 1,
      "outputs": [
        {
          "output_type": "stream",
          "name": "stdout",
          "text": [
            "Requirement already satisfied: earthengine-api==0.1.406 in /usr/local/lib/python3.10/dist-packages (0.1.406)\n",
            "Requirement already satisfied: google-cloud-storage in /usr/local/lib/python3.10/dist-packages (from earthengine-api==0.1.406) (2.8.0)\n",
            "Requirement already satisfied: google-api-python-client>=1.12.1 in /usr/local/lib/python3.10/dist-packages (from earthengine-api==0.1.406) (2.137.0)\n",
            "Requirement already satisfied: google-auth>=1.4.1 in /usr/local/lib/python3.10/dist-packages (from earthengine-api==0.1.406) (2.27.0)\n",
            "Requirement already satisfied: google-auth-httplib2>=0.0.3 in /usr/local/lib/python3.10/dist-packages (from earthengine-api==0.1.406) (0.2.0)\n",
            "Requirement already satisfied: httplib2<1dev,>=0.9.2 in /usr/local/lib/python3.10/dist-packages (from earthengine-api==0.1.406) (0.22.0)\n",
            "Requirement already satisfied: requests in /usr/local/lib/python3.10/dist-packages (from earthengine-api==0.1.406) (2.32.3)\n",
            "Requirement already satisfied: google-api-core!=2.0.*,!=2.1.*,!=2.2.*,!=2.3.0,<3.0.0.dev0,>=1.31.5 in /usr/local/lib/python3.10/dist-packages (from google-api-python-client>=1.12.1->earthengine-api==0.1.406) (2.19.2)\n",
            "Requirement already satisfied: uritemplate<5,>=3.0.1 in /usr/local/lib/python3.10/dist-packages (from google-api-python-client>=1.12.1->earthengine-api==0.1.406) (4.1.1)\n",
            "Requirement already satisfied: cachetools<6.0,>=2.0.0 in /usr/local/lib/python3.10/dist-packages (from google-auth>=1.4.1->earthengine-api==0.1.406) (5.5.0)\n",
            "Requirement already satisfied: pyasn1-modules>=0.2.1 in /usr/local/lib/python3.10/dist-packages (from google-auth>=1.4.1->earthengine-api==0.1.406) (0.4.1)\n",
            "Requirement already satisfied: rsa<5,>=3.1.4 in /usr/local/lib/python3.10/dist-packages (from google-auth>=1.4.1->earthengine-api==0.1.406) (4.9)\n",
            "Requirement already satisfied: pyparsing!=3.0.0,!=3.0.1,!=3.0.2,!=3.0.3,<4,>=2.4.2 in /usr/local/lib/python3.10/dist-packages (from httplib2<1dev,>=0.9.2->earthengine-api==0.1.406) (3.1.4)\n",
            "Requirement already satisfied: google-cloud-core<3.0dev,>=2.3.0 in /usr/local/lib/python3.10/dist-packages (from google-cloud-storage->earthengine-api==0.1.406) (2.4.1)\n",
            "Requirement already satisfied: google-resumable-media>=2.3.2 in /usr/local/lib/python3.10/dist-packages (from google-cloud-storage->earthengine-api==0.1.406) (2.7.2)\n",
            "Requirement already satisfied: charset-normalizer<4,>=2 in /usr/local/lib/python3.10/dist-packages (from requests->earthengine-api==0.1.406) (3.3.2)\n",
            "Requirement already satisfied: idna<4,>=2.5 in /usr/local/lib/python3.10/dist-packages (from requests->earthengine-api==0.1.406) (3.10)\n",
            "Requirement already satisfied: urllib3<3,>=1.21.1 in /usr/local/lib/python3.10/dist-packages (from requests->earthengine-api==0.1.406) (2.2.3)\n",
            "Requirement already satisfied: certifi>=2017.4.17 in /usr/local/lib/python3.10/dist-packages (from requests->earthengine-api==0.1.406) (2024.8.30)\n",
            "Requirement already satisfied: googleapis-common-protos<2.0.dev0,>=1.56.2 in /usr/local/lib/python3.10/dist-packages (from google-api-core!=2.0.*,!=2.1.*,!=2.2.*,!=2.3.0,<3.0.0.dev0,>=1.31.5->google-api-python-client>=1.12.1->earthengine-api==0.1.406) (1.65.0)\n",
            "Requirement already satisfied: protobuf!=3.20.0,!=3.20.1,!=4.21.0,!=4.21.1,!=4.21.2,!=4.21.3,!=4.21.4,!=4.21.5,<6.0.0.dev0,>=3.19.5 in /usr/local/lib/python3.10/dist-packages (from google-api-core!=2.0.*,!=2.1.*,!=2.2.*,!=2.3.0,<3.0.0.dev0,>=1.31.5->google-api-python-client>=1.12.1->earthengine-api==0.1.406) (3.20.3)\n",
            "Requirement already satisfied: proto-plus<2.0.0dev,>=1.22.3 in /usr/local/lib/python3.10/dist-packages (from google-api-core!=2.0.*,!=2.1.*,!=2.2.*,!=2.3.0,<3.0.0.dev0,>=1.31.5->google-api-python-client>=1.12.1->earthengine-api==0.1.406) (1.24.0)\n",
            "Requirement already satisfied: google-crc32c<2.0dev,>=1.0 in /usr/local/lib/python3.10/dist-packages (from google-resumable-media>=2.3.2->google-cloud-storage->earthengine-api==0.1.406) (1.6.0)\n",
            "Requirement already satisfied: pyasn1<0.7.0,>=0.4.6 in /usr/local/lib/python3.10/dist-packages (from pyasn1-modules>=0.2.1->google-auth>=1.4.1->earthengine-api==0.1.406) (0.6.1)\n",
            "Requirement already satisfied: folium==0.14.0 in /usr/local/lib/python3.10/dist-packages (0.14.0)\n",
            "Requirement already satisfied: branca>=0.6.0 in /usr/local/lib/python3.10/dist-packages (from folium==0.14.0) (0.8.0)\n",
            "Requirement already satisfied: jinja2>=2.9 in /usr/local/lib/python3.10/dist-packages (from folium==0.14.0) (3.1.4)\n",
            "Requirement already satisfied: numpy in /usr/local/lib/python3.10/dist-packages (from folium==0.14.0) (1.25.2)\n",
            "Requirement already satisfied: requests in /usr/local/lib/python3.10/dist-packages (from folium==0.14.0) (2.32.3)\n",
            "Requirement already satisfied: MarkupSafe>=2.0 in /usr/local/lib/python3.10/dist-packages (from jinja2>=2.9->folium==0.14.0) (2.1.5)\n",
            "Requirement already satisfied: charset-normalizer<4,>=2 in /usr/local/lib/python3.10/dist-packages (from requests->folium==0.14.0) (3.3.2)\n",
            "Requirement already satisfied: idna<4,>=2.5 in /usr/local/lib/python3.10/dist-packages (from requests->folium==0.14.0) (3.10)\n",
            "Requirement already satisfied: urllib3<3,>=1.21.1 in /usr/local/lib/python3.10/dist-packages (from requests->folium==0.14.0) (2.2.3)\n",
            "Requirement already satisfied: certifi>=2017.4.17 in /usr/local/lib/python3.10/dist-packages (from requests->folium==0.14.0) (2024.8.30)\n",
            "Requirement already satisfied: geemap==0.32.1 in /usr/local/lib/python3.10/dist-packages (0.32.1)\n",
            "Requirement already satisfied: bqplot in /usr/local/lib/python3.10/dist-packages (from geemap==0.32.1) (0.12.43)\n",
            "Requirement already satisfied: colour in /usr/local/lib/python3.10/dist-packages (from geemap==0.32.1) (0.1.5)\n",
            "Requirement already satisfied: earthengine-api>=0.1.347 in /usr/local/lib/python3.10/dist-packages (from geemap==0.32.1) (0.1.406)\n",
            "Requirement already satisfied: eerepr>=0.0.4 in /usr/local/lib/python3.10/dist-packages (from geemap==0.32.1) (0.0.4)\n",
            "Requirement already satisfied: folium>=0.13.0 in /usr/local/lib/python3.10/dist-packages (from geemap==0.32.1) (0.14.0)\n",
            "Requirement already satisfied: geocoder in /usr/local/lib/python3.10/dist-packages (from geemap==0.32.1) (1.38.1)\n",
            "Requirement already satisfied: ipyevents in /usr/local/lib/python3.10/dist-packages (from geemap==0.32.1) (2.0.2)\n",
            "Requirement already satisfied: ipyfilechooser>=0.6.0 in /usr/local/lib/python3.10/dist-packages (from geemap==0.32.1) (0.6.0)\n",
            "Requirement already satisfied: ipyleaflet==0.18.2 in /usr/local/lib/python3.10/dist-packages (from geemap==0.32.1) (0.18.2)\n",
            "Requirement already satisfied: ipytree in /usr/local/lib/python3.10/dist-packages (from geemap==0.32.1) (0.2.2)\n",
            "Requirement already satisfied: matplotlib in /usr/local/lib/python3.10/dist-packages (from geemap==0.32.1) (3.7.1)\n",
            "Requirement already satisfied: numpy in /usr/local/lib/python3.10/dist-packages (from geemap==0.32.1) (1.25.2)\n",
            "Requirement already satisfied: pandas in /usr/local/lib/python3.10/dist-packages (from geemap==0.32.1) (2.2.2)\n",
            "Requirement already satisfied: plotly in /usr/local/lib/python3.10/dist-packages (from geemap==0.32.1) (5.24.1)\n",
            "Requirement already satisfied: pyperclip in /usr/local/lib/python3.10/dist-packages (from geemap==0.32.1) (1.9.0)\n",
            "Requirement already satisfied: pyshp>=2.1.3 in /usr/local/lib/python3.10/dist-packages (from geemap==0.32.1) (2.3.1)\n",
            "Requirement already satisfied: python-box in /usr/local/lib/python3.10/dist-packages (from geemap==0.32.1) (7.2.0)\n",
            "Requirement already satisfied: scooby in /usr/local/lib/python3.10/dist-packages (from geemap==0.32.1) (0.10.0)\n",
            "Requirement already satisfied: ipywidgets<9,>=7.6.0 in /usr/local/lib/python3.10/dist-packages (from ipyleaflet==0.18.2->geemap==0.32.1) (7.7.1)\n",
            "Requirement already satisfied: traittypes<3,>=0.2.1 in /usr/local/lib/python3.10/dist-packages (from ipyleaflet==0.18.2->geemap==0.32.1) (0.2.1)\n",
            "Requirement already satisfied: xyzservices>=2021.8.1 in /usr/local/lib/python3.10/dist-packages (from ipyleaflet==0.18.2->geemap==0.32.1) (2024.9.0)\n",
            "Requirement already satisfied: branca>=0.5.0 in /usr/local/lib/python3.10/dist-packages (from ipyleaflet==0.18.2->geemap==0.32.1) (0.8.0)\n",
            "Requirement already satisfied: google-cloud-storage in /usr/local/lib/python3.10/dist-packages (from earthengine-api>=0.1.347->geemap==0.32.1) (2.8.0)\n",
            "Requirement already satisfied: google-api-python-client>=1.12.1 in /usr/local/lib/python3.10/dist-packages (from earthengine-api>=0.1.347->geemap==0.32.1) (2.137.0)\n",
            "Requirement already satisfied: google-auth>=1.4.1 in /usr/local/lib/python3.10/dist-packages (from earthengine-api>=0.1.347->geemap==0.32.1) (2.27.0)\n",
            "Requirement already satisfied: google-auth-httplib2>=0.0.3 in /usr/local/lib/python3.10/dist-packages (from earthengine-api>=0.1.347->geemap==0.32.1) (0.2.0)\n",
            "Requirement already satisfied: httplib2<1dev,>=0.9.2 in /usr/local/lib/python3.10/dist-packages (from earthengine-api>=0.1.347->geemap==0.32.1) (0.22.0)\n",
            "Requirement already satisfied: requests in /usr/local/lib/python3.10/dist-packages (from earthengine-api>=0.1.347->geemap==0.32.1) (2.32.3)\n",
            "Requirement already satisfied: jinja2>=2.9 in /usr/local/lib/python3.10/dist-packages (from folium>=0.13.0->geemap==0.32.1) (3.1.4)\n",
            "Requirement already satisfied: traitlets>=4.3.0 in /usr/local/lib/python3.10/dist-packages (from bqplot->geemap==0.32.1) (5.7.1)\n",
            "Requirement already satisfied: python-dateutil>=2.8.2 in /usr/local/lib/python3.10/dist-packages (from pandas->geemap==0.32.1) (2.8.2)\n",
            "Requirement already satisfied: pytz>=2020.1 in /usr/local/lib/python3.10/dist-packages (from pandas->geemap==0.32.1) (2024.2)\n",
            "Requirement already satisfied: tzdata>=2022.7 in /usr/local/lib/python3.10/dist-packages (from pandas->geemap==0.32.1) (2024.2)\n",
            "Requirement already satisfied: click in /usr/local/lib/python3.10/dist-packages (from geocoder->geemap==0.32.1) (8.1.7)\n",
            "Requirement already satisfied: future in /usr/local/lib/python3.10/dist-packages (from geocoder->geemap==0.32.1) (1.0.0)\n",
            "Requirement already satisfied: ratelim in /usr/local/lib/python3.10/dist-packages (from geocoder->geemap==0.32.1) (0.1.6)\n",
            "Requirement already satisfied: six in /usr/local/lib/python3.10/dist-packages (from geocoder->geemap==0.32.1) (1.16.0)\n",
            "Requirement already satisfied: contourpy>=1.0.1 in /usr/local/lib/python3.10/dist-packages (from matplotlib->geemap==0.32.1) (1.3.0)\n",
            "Requirement already satisfied: cycler>=0.10 in /usr/local/lib/python3.10/dist-packages (from matplotlib->geemap==0.32.1) (0.12.1)\n",
            "Requirement already satisfied: fonttools>=4.22.0 in /usr/local/lib/python3.10/dist-packages (from matplotlib->geemap==0.32.1) (4.54.1)\n",
            "Requirement already satisfied: kiwisolver>=1.0.1 in /usr/local/lib/python3.10/dist-packages (from matplotlib->geemap==0.32.1) (1.4.7)\n",
            "Requirement already satisfied: packaging>=20.0 in /usr/local/lib/python3.10/dist-packages (from matplotlib->geemap==0.32.1) (24.1)\n",
            "Requirement already satisfied: pillow>=6.2.0 in /usr/local/lib/python3.10/dist-packages (from matplotlib->geemap==0.32.1) (10.4.0)\n",
            "Requirement already satisfied: pyparsing>=2.3.1 in /usr/local/lib/python3.10/dist-packages (from matplotlib->geemap==0.32.1) (3.1.4)\n",
            "Requirement already satisfied: tenacity>=6.2.0 in /usr/local/lib/python3.10/dist-packages (from plotly->geemap==0.32.1) (9.0.0)\n",
            "Requirement already satisfied: google-api-core!=2.0.*,!=2.1.*,!=2.2.*,!=2.3.0,<3.0.0.dev0,>=1.31.5 in /usr/local/lib/python3.10/dist-packages (from google-api-python-client>=1.12.1->earthengine-api>=0.1.347->geemap==0.32.1) (2.19.2)\n",
            "Requirement already satisfied: uritemplate<5,>=3.0.1 in /usr/local/lib/python3.10/dist-packages (from google-api-python-client>=1.12.1->earthengine-api>=0.1.347->geemap==0.32.1) (4.1.1)\n",
            "Requirement already satisfied: cachetools<6.0,>=2.0.0 in /usr/local/lib/python3.10/dist-packages (from google-auth>=1.4.1->earthengine-api>=0.1.347->geemap==0.32.1) (5.5.0)\n",
            "Requirement already satisfied: pyasn1-modules>=0.2.1 in /usr/local/lib/python3.10/dist-packages (from google-auth>=1.4.1->earthengine-api>=0.1.347->geemap==0.32.1) (0.4.1)\n",
            "Requirement already satisfied: rsa<5,>=3.1.4 in /usr/local/lib/python3.10/dist-packages (from google-auth>=1.4.1->earthengine-api>=0.1.347->geemap==0.32.1) (4.9)\n",
            "Requirement already satisfied: ipykernel>=4.5.1 in /usr/local/lib/python3.10/dist-packages (from ipywidgets<9,>=7.6.0->ipyleaflet==0.18.2->geemap==0.32.1) (5.5.6)\n",
            "Requirement already satisfied: ipython-genutils~=0.2.0 in /usr/local/lib/python3.10/dist-packages (from ipywidgets<9,>=7.6.0->ipyleaflet==0.18.2->geemap==0.32.1) (0.2.0)\n",
            "Requirement already satisfied: widgetsnbextension~=3.6.0 in /usr/local/lib/python3.10/dist-packages (from ipywidgets<9,>=7.6.0->ipyleaflet==0.18.2->geemap==0.32.1) (3.6.9)\n",
            "Requirement already satisfied: ipython>=4.0.0 in /usr/local/lib/python3.10/dist-packages (from ipywidgets<9,>=7.6.0->ipyleaflet==0.18.2->geemap==0.32.1) (7.34.0)\n",
            "Requirement already satisfied: jupyterlab-widgets>=1.0.0 in /usr/local/lib/python3.10/dist-packages (from ipywidgets<9,>=7.6.0->ipyleaflet==0.18.2->geemap==0.32.1) (3.0.13)\n",
            "Requirement already satisfied: MarkupSafe>=2.0 in /usr/local/lib/python3.10/dist-packages (from jinja2>=2.9->folium>=0.13.0->geemap==0.32.1) (2.1.5)\n",
            "Requirement already satisfied: google-cloud-core<3.0dev,>=2.3.0 in /usr/local/lib/python3.10/dist-packages (from google-cloud-storage->earthengine-api>=0.1.347->geemap==0.32.1) (2.4.1)\n",
            "Requirement already satisfied: google-resumable-media>=2.3.2 in /usr/local/lib/python3.10/dist-packages (from google-cloud-storage->earthengine-api>=0.1.347->geemap==0.32.1) (2.7.2)\n",
            "Requirement already satisfied: charset-normalizer<4,>=2 in /usr/local/lib/python3.10/dist-packages (from requests->earthengine-api>=0.1.347->geemap==0.32.1) (3.3.2)\n",
            "Requirement already satisfied: idna<4,>=2.5 in /usr/local/lib/python3.10/dist-packages (from requests->earthengine-api>=0.1.347->geemap==0.32.1) (3.10)\n",
            "Requirement already satisfied: urllib3<3,>=1.21.1 in /usr/local/lib/python3.10/dist-packages (from requests->earthengine-api>=0.1.347->geemap==0.32.1) (2.2.3)\n",
            "Requirement already satisfied: certifi>=2017.4.17 in /usr/local/lib/python3.10/dist-packages (from requests->earthengine-api>=0.1.347->geemap==0.32.1) (2024.8.30)\n",
            "Requirement already satisfied: decorator in /usr/local/lib/python3.10/dist-packages (from ratelim->geocoder->geemap==0.32.1) (4.4.2)\n",
            "Requirement already satisfied: googleapis-common-protos<2.0.dev0,>=1.56.2 in /usr/local/lib/python3.10/dist-packages (from google-api-core!=2.0.*,!=2.1.*,!=2.2.*,!=2.3.0,<3.0.0.dev0,>=1.31.5->google-api-python-client>=1.12.1->earthengine-api>=0.1.347->geemap==0.32.1) (1.65.0)\n",
            "Requirement already satisfied: protobuf!=3.20.0,!=3.20.1,!=4.21.0,!=4.21.1,!=4.21.2,!=4.21.3,!=4.21.4,!=4.21.5,<6.0.0.dev0,>=3.19.5 in /usr/local/lib/python3.10/dist-packages (from google-api-core!=2.0.*,!=2.1.*,!=2.2.*,!=2.3.0,<3.0.0.dev0,>=1.31.5->google-api-python-client>=1.12.1->earthengine-api>=0.1.347->geemap==0.32.1) (3.20.3)\n",
            "Requirement already satisfied: proto-plus<2.0.0dev,>=1.22.3 in /usr/local/lib/python3.10/dist-packages (from google-api-core!=2.0.*,!=2.1.*,!=2.2.*,!=2.3.0,<3.0.0.dev0,>=1.31.5->google-api-python-client>=1.12.1->earthengine-api>=0.1.347->geemap==0.32.1) (1.24.0)\n",
            "Requirement already satisfied: google-crc32c<2.0dev,>=1.0 in /usr/local/lib/python3.10/dist-packages (from google-resumable-media>=2.3.2->google-cloud-storage->earthengine-api>=0.1.347->geemap==0.32.1) (1.6.0)\n",
            "Requirement already satisfied: jupyter-client in /usr/local/lib/python3.10/dist-packages (from ipykernel>=4.5.1->ipywidgets<9,>=7.6.0->ipyleaflet==0.18.2->geemap==0.32.1) (6.1.12)\n",
            "Requirement already satisfied: tornado>=4.2 in /usr/local/lib/python3.10/dist-packages (from ipykernel>=4.5.1->ipywidgets<9,>=7.6.0->ipyleaflet==0.18.2->geemap==0.32.1) (6.3.3)\n",
            "Requirement already satisfied: setuptools>=18.5 in /usr/local/lib/python3.10/dist-packages (from ipython>=4.0.0->ipywidgets<9,>=7.6.0->ipyleaflet==0.18.2->geemap==0.32.1) (71.0.4)\n",
            "Requirement already satisfied: jedi>=0.16 in /usr/local/lib/python3.10/dist-packages (from ipython>=4.0.0->ipywidgets<9,>=7.6.0->ipyleaflet==0.18.2->geemap==0.32.1) (0.19.1)\n",
            "Requirement already satisfied: pickleshare in /usr/local/lib/python3.10/dist-packages (from ipython>=4.0.0->ipywidgets<9,>=7.6.0->ipyleaflet==0.18.2->geemap==0.32.1) (0.7.5)\n",
            "Requirement already satisfied: prompt-toolkit!=3.0.0,!=3.0.1,<3.1.0,>=2.0.0 in /usr/local/lib/python3.10/dist-packages (from ipython>=4.0.0->ipywidgets<9,>=7.6.0->ipyleaflet==0.18.2->geemap==0.32.1) (3.0.48)\n",
            "Requirement already satisfied: pygments in /usr/local/lib/python3.10/dist-packages (from ipython>=4.0.0->ipywidgets<9,>=7.6.0->ipyleaflet==0.18.2->geemap==0.32.1) (2.18.0)\n",
            "Requirement already satisfied: backcall in /usr/local/lib/python3.10/dist-packages (from ipython>=4.0.0->ipywidgets<9,>=7.6.0->ipyleaflet==0.18.2->geemap==0.32.1) (0.2.0)\n",
            "Requirement already satisfied: matplotlib-inline in /usr/local/lib/python3.10/dist-packages (from ipython>=4.0.0->ipywidgets<9,>=7.6.0->ipyleaflet==0.18.2->geemap==0.32.1) (0.1.7)\n",
            "Requirement already satisfied: pexpect>4.3 in /usr/local/lib/python3.10/dist-packages (from ipython>=4.0.0->ipywidgets<9,>=7.6.0->ipyleaflet==0.18.2->geemap==0.32.1) (4.9.0)\n",
            "Requirement already satisfied: pyasn1<0.7.0,>=0.4.6 in /usr/local/lib/python3.10/dist-packages (from pyasn1-modules>=0.2.1->google-auth>=1.4.1->earthengine-api>=0.1.347->geemap==0.32.1) (0.6.1)\n",
            "Requirement already satisfied: notebook>=4.4.1 in /usr/local/lib/python3.10/dist-packages (from widgetsnbextension~=3.6.0->ipywidgets<9,>=7.6.0->ipyleaflet==0.18.2->geemap==0.32.1) (6.5.5)\n",
            "Requirement already satisfied: parso<0.9.0,>=0.8.3 in /usr/local/lib/python3.10/dist-packages (from jedi>=0.16->ipython>=4.0.0->ipywidgets<9,>=7.6.0->ipyleaflet==0.18.2->geemap==0.32.1) (0.8.4)\n",
            "Requirement already satisfied: pyzmq<25,>=17 in /usr/local/lib/python3.10/dist-packages (from notebook>=4.4.1->widgetsnbextension~=3.6.0->ipywidgets<9,>=7.6.0->ipyleaflet==0.18.2->geemap==0.32.1) (24.0.1)\n",
            "Requirement already satisfied: argon2-cffi in /usr/local/lib/python3.10/dist-packages (from notebook>=4.4.1->widgetsnbextension~=3.6.0->ipywidgets<9,>=7.6.0->ipyleaflet==0.18.2->geemap==0.32.1) (23.1.0)\n",
            "Requirement already satisfied: jupyter-core>=4.6.1 in /usr/local/lib/python3.10/dist-packages (from notebook>=4.4.1->widgetsnbextension~=3.6.0->ipywidgets<9,>=7.6.0->ipyleaflet==0.18.2->geemap==0.32.1) (5.7.2)\n",
            "Requirement already satisfied: nbformat in /usr/local/lib/python3.10/dist-packages (from notebook>=4.4.1->widgetsnbextension~=3.6.0->ipywidgets<9,>=7.6.0->ipyleaflet==0.18.2->geemap==0.32.1) (5.10.4)\n",
            "Requirement already satisfied: nbconvert>=5 in /usr/local/lib/python3.10/dist-packages (from notebook>=4.4.1->widgetsnbextension~=3.6.0->ipywidgets<9,>=7.6.0->ipyleaflet==0.18.2->geemap==0.32.1) (6.5.4)\n",
            "Requirement already satisfied: nest-asyncio>=1.5 in /usr/local/lib/python3.10/dist-packages (from notebook>=4.4.1->widgetsnbextension~=3.6.0->ipywidgets<9,>=7.6.0->ipyleaflet==0.18.2->geemap==0.32.1) (1.6.0)\n",
            "Requirement already satisfied: Send2Trash>=1.8.0 in /usr/local/lib/python3.10/dist-packages (from notebook>=4.4.1->widgetsnbextension~=3.6.0->ipywidgets<9,>=7.6.0->ipyleaflet==0.18.2->geemap==0.32.1) (1.8.3)\n",
            "Requirement already satisfied: terminado>=0.8.3 in /usr/local/lib/python3.10/dist-packages (from notebook>=4.4.1->widgetsnbextension~=3.6.0->ipywidgets<9,>=7.6.0->ipyleaflet==0.18.2->geemap==0.32.1) (0.18.1)\n",
            "Requirement already satisfied: prometheus-client in /usr/local/lib/python3.10/dist-packages (from notebook>=4.4.1->widgetsnbextension~=3.6.0->ipywidgets<9,>=7.6.0->ipyleaflet==0.18.2->geemap==0.32.1) (0.21.0)\n",
            "Requirement already satisfied: nbclassic>=0.4.7 in /usr/local/lib/python3.10/dist-packages (from notebook>=4.4.1->widgetsnbextension~=3.6.0->ipywidgets<9,>=7.6.0->ipyleaflet==0.18.2->geemap==0.32.1) (1.1.0)\n",
            "Requirement already satisfied: ptyprocess>=0.5 in /usr/local/lib/python3.10/dist-packages (from pexpect>4.3->ipython>=4.0.0->ipywidgets<9,>=7.6.0->ipyleaflet==0.18.2->geemap==0.32.1) (0.7.0)\n",
            "Requirement already satisfied: wcwidth in /usr/local/lib/python3.10/dist-packages (from prompt-toolkit!=3.0.0,!=3.0.1,<3.1.0,>=2.0.0->ipython>=4.0.0->ipywidgets<9,>=7.6.0->ipyleaflet==0.18.2->geemap==0.32.1) (0.2.13)\n",
            "Requirement already satisfied: platformdirs>=2.5 in /usr/local/lib/python3.10/dist-packages (from jupyter-core>=4.6.1->notebook>=4.4.1->widgetsnbextension~=3.6.0->ipywidgets<9,>=7.6.0->ipyleaflet==0.18.2->geemap==0.32.1) (4.3.6)\n",
            "Requirement already satisfied: notebook-shim>=0.2.3 in /usr/local/lib/python3.10/dist-packages (from nbclassic>=0.4.7->notebook>=4.4.1->widgetsnbextension~=3.6.0->ipywidgets<9,>=7.6.0->ipyleaflet==0.18.2->geemap==0.32.1) (0.2.4)\n",
            "Requirement already satisfied: lxml in /usr/local/lib/python3.10/dist-packages (from nbconvert>=5->notebook>=4.4.1->widgetsnbextension~=3.6.0->ipywidgets<9,>=7.6.0->ipyleaflet==0.18.2->geemap==0.32.1) (4.9.4)\n",
            "Requirement already satisfied: beautifulsoup4 in /usr/local/lib/python3.10/dist-packages (from nbconvert>=5->notebook>=4.4.1->widgetsnbextension~=3.6.0->ipywidgets<9,>=7.6.0->ipyleaflet==0.18.2->geemap==0.32.1) (4.12.3)\n",
            "Requirement already satisfied: bleach in /usr/local/lib/python3.10/dist-packages (from nbconvert>=5->notebook>=4.4.1->widgetsnbextension~=3.6.0->ipywidgets<9,>=7.6.0->ipyleaflet==0.18.2->geemap==0.32.1) (6.1.0)\n",
            "Requirement already satisfied: defusedxml in /usr/local/lib/python3.10/dist-packages (from nbconvert>=5->notebook>=4.4.1->widgetsnbextension~=3.6.0->ipywidgets<9,>=7.6.0->ipyleaflet==0.18.2->geemap==0.32.1) (0.7.1)\n",
            "Requirement already satisfied: entrypoints>=0.2.2 in /usr/local/lib/python3.10/dist-packages (from nbconvert>=5->notebook>=4.4.1->widgetsnbextension~=3.6.0->ipywidgets<9,>=7.6.0->ipyleaflet==0.18.2->geemap==0.32.1) (0.4)\n",
            "Requirement already satisfied: jupyterlab-pygments in /usr/local/lib/python3.10/dist-packages (from nbconvert>=5->notebook>=4.4.1->widgetsnbextension~=3.6.0->ipywidgets<9,>=7.6.0->ipyleaflet==0.18.2->geemap==0.32.1) (0.3.0)\n",
            "Requirement already satisfied: mistune<2,>=0.8.1 in /usr/local/lib/python3.10/dist-packages (from nbconvert>=5->notebook>=4.4.1->widgetsnbextension~=3.6.0->ipywidgets<9,>=7.6.0->ipyleaflet==0.18.2->geemap==0.32.1) (0.8.4)\n",
            "Requirement already satisfied: nbclient>=0.5.0 in /usr/local/lib/python3.10/dist-packages (from nbconvert>=5->notebook>=4.4.1->widgetsnbextension~=3.6.0->ipywidgets<9,>=7.6.0->ipyleaflet==0.18.2->geemap==0.32.1) (0.10.0)\n",
            "Requirement already satisfied: pandocfilters>=1.4.1 in /usr/local/lib/python3.10/dist-packages (from nbconvert>=5->notebook>=4.4.1->widgetsnbextension~=3.6.0->ipywidgets<9,>=7.6.0->ipyleaflet==0.18.2->geemap==0.32.1) (1.5.1)\n",
            "Requirement already satisfied: tinycss2 in /usr/local/lib/python3.10/dist-packages (from nbconvert>=5->notebook>=4.4.1->widgetsnbextension~=3.6.0->ipywidgets<9,>=7.6.0->ipyleaflet==0.18.2->geemap==0.32.1) (1.3.0)\n",
            "Requirement already satisfied: fastjsonschema>=2.15 in /usr/local/lib/python3.10/dist-packages (from nbformat->notebook>=4.4.1->widgetsnbextension~=3.6.0->ipywidgets<9,>=7.6.0->ipyleaflet==0.18.2->geemap==0.32.1) (2.20.0)\n",
            "Requirement already satisfied: jsonschema>=2.6 in /usr/local/lib/python3.10/dist-packages (from nbformat->notebook>=4.4.1->widgetsnbextension~=3.6.0->ipywidgets<9,>=7.6.0->ipyleaflet==0.18.2->geemap==0.32.1) (4.23.0)\n",
            "Requirement already satisfied: argon2-cffi-bindings in /usr/local/lib/python3.10/dist-packages (from argon2-cffi->notebook>=4.4.1->widgetsnbextension~=3.6.0->ipywidgets<9,>=7.6.0->ipyleaflet==0.18.2->geemap==0.32.1) (21.2.0)\n",
            "Requirement already satisfied: attrs>=22.2.0 in /usr/local/lib/python3.10/dist-packages (from jsonschema>=2.6->nbformat->notebook>=4.4.1->widgetsnbextension~=3.6.0->ipywidgets<9,>=7.6.0->ipyleaflet==0.18.2->geemap==0.32.1) (24.2.0)\n",
            "Requirement already satisfied: jsonschema-specifications>=2023.03.6 in /usr/local/lib/python3.10/dist-packages (from jsonschema>=2.6->nbformat->notebook>=4.4.1->widgetsnbextension~=3.6.0->ipywidgets<9,>=7.6.0->ipyleaflet==0.18.2->geemap==0.32.1) (2023.12.1)\n",
            "Requirement already satisfied: referencing>=0.28.4 in /usr/local/lib/python3.10/dist-packages (from jsonschema>=2.6->nbformat->notebook>=4.4.1->widgetsnbextension~=3.6.0->ipywidgets<9,>=7.6.0->ipyleaflet==0.18.2->geemap==0.32.1) (0.35.1)\n",
            "Requirement already satisfied: rpds-py>=0.7.1 in /usr/local/lib/python3.10/dist-packages (from jsonschema>=2.6->nbformat->notebook>=4.4.1->widgetsnbextension~=3.6.0->ipywidgets<9,>=7.6.0->ipyleaflet==0.18.2->geemap==0.32.1) (0.20.0)\n",
            "Requirement already satisfied: jupyter-server<3,>=1.8 in /usr/local/lib/python3.10/dist-packages (from notebook-shim>=0.2.3->nbclassic>=0.4.7->notebook>=4.4.1->widgetsnbextension~=3.6.0->ipywidgets<9,>=7.6.0->ipyleaflet==0.18.2->geemap==0.32.1) (1.24.0)\n",
            "Requirement already satisfied: cffi>=1.0.1 in /usr/local/lib/python3.10/dist-packages (from argon2-cffi-bindings->argon2-cffi->notebook>=4.4.1->widgetsnbextension~=3.6.0->ipywidgets<9,>=7.6.0->ipyleaflet==0.18.2->geemap==0.32.1) (1.17.1)\n",
            "Requirement already satisfied: soupsieve>1.2 in /usr/local/lib/python3.10/dist-packages (from beautifulsoup4->nbconvert>=5->notebook>=4.4.1->widgetsnbextension~=3.6.0->ipywidgets<9,>=7.6.0->ipyleaflet==0.18.2->geemap==0.32.1) (2.6)\n",
            "Requirement already satisfied: webencodings in /usr/local/lib/python3.10/dist-packages (from bleach->nbconvert>=5->notebook>=4.4.1->widgetsnbextension~=3.6.0->ipywidgets<9,>=7.6.0->ipyleaflet==0.18.2->geemap==0.32.1) (0.5.1)\n",
            "Requirement already satisfied: pycparser in /usr/local/lib/python3.10/dist-packages (from cffi>=1.0.1->argon2-cffi-bindings->argon2-cffi->notebook>=4.4.1->widgetsnbextension~=3.6.0->ipywidgets<9,>=7.6.0->ipyleaflet==0.18.2->geemap==0.32.1) (2.22)\n",
            "Requirement already satisfied: anyio<4,>=3.1.0 in /usr/local/lib/python3.10/dist-packages (from jupyter-server<3,>=1.8->notebook-shim>=0.2.3->nbclassic>=0.4.7->notebook>=4.4.1->widgetsnbextension~=3.6.0->ipywidgets<9,>=7.6.0->ipyleaflet==0.18.2->geemap==0.32.1) (3.7.1)\n",
            "Requirement already satisfied: websocket-client in /usr/local/lib/python3.10/dist-packages (from jupyter-server<3,>=1.8->notebook-shim>=0.2.3->nbclassic>=0.4.7->notebook>=4.4.1->widgetsnbextension~=3.6.0->ipywidgets<9,>=7.6.0->ipyleaflet==0.18.2->geemap==0.32.1) (1.8.0)\n",
            "Requirement already satisfied: sniffio>=1.1 in /usr/local/lib/python3.10/dist-packages (from anyio<4,>=3.1.0->jupyter-server<3,>=1.8->notebook-shim>=0.2.3->nbclassic>=0.4.7->notebook>=4.4.1->widgetsnbextension~=3.6.0->ipywidgets<9,>=7.6.0->ipyleaflet==0.18.2->geemap==0.32.1) (1.3.1)\n",
            "Requirement already satisfied: exceptiongroup in /usr/local/lib/python3.10/dist-packages (from anyio<4,>=3.1.0->jupyter-server<3,>=1.8->notebook-shim>=0.2.3->nbclassic>=0.4.7->notebook>=4.4.1->widgetsnbextension~=3.6.0->ipywidgets<9,>=7.6.0->ipyleaflet==0.18.2->geemap==0.32.1) (1.2.2)\n",
            "Requirement already satisfied: matplotlib==3.7.1 in /usr/local/lib/python3.10/dist-packages (3.7.1)\n",
            "Requirement already satisfied: contourpy>=1.0.1 in /usr/local/lib/python3.10/dist-packages (from matplotlib==3.7.1) (1.3.0)\n",
            "Requirement already satisfied: cycler>=0.10 in /usr/local/lib/python3.10/dist-packages (from matplotlib==3.7.1) (0.12.1)\n",
            "Requirement already satisfied: fonttools>=4.22.0 in /usr/local/lib/python3.10/dist-packages (from matplotlib==3.7.1) (4.54.1)\n",
            "Requirement already satisfied: kiwisolver>=1.0.1 in /usr/local/lib/python3.10/dist-packages (from matplotlib==3.7.1) (1.4.7)\n",
            "Requirement already satisfied: numpy>=1.20 in /usr/local/lib/python3.10/dist-packages (from matplotlib==3.7.1) (1.25.2)\n",
            "Requirement already satisfied: packaging>=20.0 in /usr/local/lib/python3.10/dist-packages (from matplotlib==3.7.1) (24.1)\n",
            "Requirement already satisfied: pillow>=6.2.0 in /usr/local/lib/python3.10/dist-packages (from matplotlib==3.7.1) (10.4.0)\n",
            "Requirement already satisfied: pyparsing>=2.3.1 in /usr/local/lib/python3.10/dist-packages (from matplotlib==3.7.1) (3.1.4)\n",
            "Requirement already satisfied: python-dateutil>=2.7 in /usr/local/lib/python3.10/dist-packages (from matplotlib==3.7.1) (2.8.2)\n",
            "Requirement already satisfied: six>=1.5 in /usr/local/lib/python3.10/dist-packages (from python-dateutil>=2.7->matplotlib==3.7.1) (1.16.0)\n",
            "Requirement already satisfied: numpy==1.25.2 in /usr/local/lib/python3.10/dist-packages (1.25.2)\n",
            "/bin/bash: line 1: 2.7.0: No such file or directory\n"
          ]
        }
      ]
    },
    {
      "cell_type": "code",
      "source": [
        "import ee\n",
        "import folium\n",
        "import geemap.core as geemap # import geemap\n",
        "import numpy as np\n",
        "import pandas as pd\n",
        "import pprint\n",
        "import matplotlib.pyplot as plt\n",
        "from IPython.display import Image\n",
        "from datetime import datetime\n",
        "from zoneinfo import ZoneInfo"
      ],
      "metadata": {
        "id": "rilgOE8QYs6j"
      },
      "execution_count": 2,
      "outputs": []
    },
    {
      "cell_type": "markdown",
      "source": [
        "Next, we'll need to authenticate our Google accounts so that we're able to access the images and computing power associated with this task. For our teaching purposes, we should be able to access the resources we need for free. For those who don't yet have a Google cloud project set up to access the Earth Engine API, here's a [quick guide](https://medium.com/p/fe5472ddbaeb#620c-fb99daf8c065) on how to get started. We'll need a project account name associated to the Earth Engine (`ee`) library to access the compute and data required for the rest of our code to run."
      ],
      "metadata": {
        "id": "ivsdkiewzsIl"
      }
    },
    {
      "cell_type": "markdown",
      "source": [
        "Now, enter Google cloud project name credentials in the `project` argument to authenticate our Earth Engine account."
      ],
      "metadata": {
        "id": "D0yx_D8DxvBN"
      }
    },
    {
      "cell_type": "code",
      "source": [
        "# Trigger the authentication flow.\n",
        "ee.Authenticate()\n",
        "\n",
        "# Initialize the library.\n",
        "ee.Initialize(project=\"{enter-project-name}\") #My project name: \"bc-wildfire-422905\""
      ],
      "metadata": {
        "colab": {
          "base_uri": "https://localhost:8080/",
          "height": 17
        },
        "id": "b_cXIM3vYs4N",
        "outputId": "57b4470d-37e8-4179-aae3-550fa1d1b141"
      },
      "execution_count": 4,
      "outputs": [
        {
          "output_type": "display_data",
          "data": {
            "text/plain": [
              "<IPython.core.display.HTML object>"
            ],
            "text/html": [
              "\n",
              "            <style>\n",
              "                .geemap-dark {\n",
              "                    --jp-widgets-color: white;\n",
              "                    --jp-widgets-label-color: white;\n",
              "                    --jp-ui-font-color1: white;\n",
              "                    --jp-layout-color2: #454545;\n",
              "                    background-color: #383838;\n",
              "                }\n",
              "\n",
              "                .geemap-dark .jupyter-button {\n",
              "                    --jp-layout-color3: #383838;\n",
              "                }\n",
              "\n",
              "                .geemap-colab {\n",
              "                    background-color: var(--colab-primary-surface-color, white);\n",
              "                }\n",
              "\n",
              "                .geemap-colab .jupyter-button {\n",
              "                    --jp-layout-color3: var(--colab-primary-surface-color, white);\n",
              "                }\n",
              "            </style>\n",
              "            "
            ]
          },
          "metadata": {}
        }
      ]
    },
    {
      "cell_type": "markdown",
      "source": [
        "With our libraries and packages set up, let's now zoom in on a particular area of interest. One major fire we can study was the tragic [Lytton Creek wildfire](https://en.wikipedia.org/wiki/Lytton_wildfire) which began on June 30th, 2021 and ravaged for several weeks (Lindsay & Dickson, 2021). The outcome left about 2,000 residents without a home as the fire burned down the entire village and killed two people in the process (Lindsay & Dickson, 2021).\n",
        "\n",
        "The cause of the fire stemmed from a recipe of extreme climate events which severely elevated the risk of natural disasters in the area. For starters, just the day before the wildfire started, Lytton set an all-time record of having the highest temperature ever recorded in Canada with a high of 49.6$^{\\circ}$ that day. Under those extreme drought conditions with winds travelling up to 71 km an hour that day, the fire spread incredibly fast leaving residents and firefighters with little time to prepare for the fire.\n",
        "\n",
        "To get a first-hand glance at the severity of the Lytton Creek wildfire, let's start by pulling images from the Sentinel-2 satellite. For the rest of this analysis, we'll use the following latitude and longitude coordinates of the old Lytton library as the central point of our satellite data, specify a 40 km radius for GOES satellites, and a time range between `2024-06-15` and `2024-07-15` so that we have a view of Lytton before and after the fire. With our Sentinel-2 data, the 40km radius won't matter as much as when we explore the images from the GOES satellites because, as we'll see shortly, it takes large snapshots of the areas below which covers large sections of land."
      ],
      "metadata": {
        "id": "oe73qYHtZS6N"
      }
    },
    {
      "cell_type": "code",
      "source": [
        "# Getting coordinates of the point of interest\n",
        "# which is the Lytton library as the poi for the Lytton Creek wildfire that started on 2021-06-30\n",
        "lat =  50.23124506328952\n",
        "lon = -121.58154057521354\n",
        "\n",
        "# start date of range to filter for\n",
        "start_date = \"2021-06-15\"\n",
        "\n",
        "# end date\n",
        "end_date = \"2021-07-15\" #\"2021-10-31\"\n",
        "\n",
        "# radius of interest in meters\n",
        "radius_of_interest_meters = 40000\n",
        "\n",
        "# point of interest as an ee.Geometry\n",
        "poi = ee.Geometry.Point([lon, lat]).buffer(radius_of_interest_meters)\n",
        "\n",
        "datetime_format = \"%Y-%m-%d %H:%M:%S\""
      ],
      "metadata": {
        "id": "f5aWXtRJYs1q",
        "colab": {
          "base_uri": "https://localhost:8080/",
          "height": 17
        },
        "outputId": "10f91f99-e369-4ce3-fdae-c47db781a8e9"
      },
      "execution_count": 5,
      "outputs": [
        {
          "output_type": "display_data",
          "data": {
            "text/plain": [
              "<IPython.core.display.HTML object>"
            ],
            "text/html": [
              "\n",
              "            <style>\n",
              "                .geemap-dark {\n",
              "                    --jp-widgets-color: white;\n",
              "                    --jp-widgets-label-color: white;\n",
              "                    --jp-ui-font-color1: white;\n",
              "                    --jp-layout-color2: #454545;\n",
              "                    background-color: #383838;\n",
              "                }\n",
              "\n",
              "                .geemap-dark .jupyter-button {\n",
              "                    --jp-layout-color3: #383838;\n",
              "                }\n",
              "\n",
              "                .geemap-colab {\n",
              "                    background-color: var(--colab-primary-surface-color, white);\n",
              "                }\n",
              "\n",
              "                .geemap-colab .jupyter-button {\n",
              "                    --jp-layout-color3: var(--colab-primary-surface-color, white);\n",
              "                }\n",
              "            </style>\n",
              "            "
            ]
          },
          "metadata": {}
        }
      ]
    },
    {
      "cell_type": "markdown",
      "source": [
        "## Data Extraction (Part 1)"
      ],
      "metadata": {
        "id": "9oKsAcNW-wlh"
      }
    },
    {
      "cell_type": "markdown",
      "source": [
        "### Extracting Sentinel-2 satellite data\n",
        "\n",
        "Before we go further, let's do a brief overview of what Sentinel-2 is and how it differs from other satellites. **Sentinel-2** is a set of twin satellites deployed by the European Space Agency with the stated mission of gaining a \"new perspective of our land and vegetation\" through its 13 spectral bands (European Space Agency, 2024).\n",
        "\n",
        "For those new to satellite imaging or remote sensing, **spectral bands** refer to the wavelength of light that is either reflected or absorbed from the Earth's surface and can be detected through satellite sensors. Examples of bands we'll be using here include short-wave infrared (SWIR) bands, near-infrared (NIR) bands, and red, green, and blue bands. In the context of remote sensing, we can analyze the light from these bands to make inferences about the state of the Earth's surface. Not only can we use this information to determine the location of wildfires, but we can also use it to ascertain information about an area's water quality or quantify its amount of forest cover.\n",
        "\n",
        "The way that Sentinel-2 gathers data is by orbiting around the Earth and taking snapshots of the surface approximately every 5 days (European Space Agency, 2024). Each image covers about 290 km which is great because it allows us to monitor large swaths of land with just a single image, given that it's clear and largely free from clouds or smoke blocking the surface.\n",
        "\n",
        "In addition to the image data, we'll also make use of some functions written by Justin Braaten (2022) and his team at Google to aid us in our analysis. The first is the `mask_s2_cloud()` function which helps us reduce the noise from the cloud for clearer imaging (Braaten, 2022). The second is the `add_ee_layer()` which essentially allows us to overlay satellite images on top of a Google map-like interface from the `folium` package so that we're able to cross-reference our raw image data with all the symbols and markers we'd typically see on a map (Braaten, 2022)."
      ],
      "metadata": {
        "id": "dKATh27eZ_Qx"
      }
    },
    {
      "cell_type": "code",
      "source": [
        "def mask_s2_clouds(image):\n",
        "  \"\"\"Masks clouds in a Sentinel-2 image using the QA band.\n",
        "\n",
        "  Args:\n",
        "      image (ee.Image): A Sentinel-2 image.\n",
        "\n",
        "  Returns:\n",
        "      ee.Image: A cloud-masked Sentinel-2 image.\n",
        "  \"\"\"\n",
        "  qa = image.select(\"QA60\")\n",
        "\n",
        "  # Bits 10 and 11 are clouds and cirrus, respectively.\n",
        "  cloud_bit_mask = 1 << 10\n",
        "  cirrus_bit_mask = 1 << 11\n",
        "\n",
        "  # Both flags should be set to zero, indicating clear conditions.\n",
        "  mask = (\n",
        "      qa.bitwiseAnd(cloud_bit_mask)\n",
        "      .eq(0)\n",
        "      .And(qa.bitwiseAnd(cirrus_bit_mask).eq(0))\n",
        "  )\n",
        "\n",
        "  return image.updateMask(mask).divide(10000)"
      ],
      "metadata": {
        "id": "Agm19ss4Z-Cf",
        "colab": {
          "base_uri": "https://localhost:8080/",
          "height": 17
        },
        "outputId": "340cc3f1-b1b7-4122-e048-f3483e45f28e"
      },
      "execution_count": 6,
      "outputs": [
        {
          "output_type": "display_data",
          "data": {
            "text/plain": [
              "<IPython.core.display.HTML object>"
            ],
            "text/html": [
              "\n",
              "            <style>\n",
              "                .geemap-dark {\n",
              "                    --jp-widgets-color: white;\n",
              "                    --jp-widgets-label-color: white;\n",
              "                    --jp-ui-font-color1: white;\n",
              "                    --jp-layout-color2: #454545;\n",
              "                    background-color: #383838;\n",
              "                }\n",
              "\n",
              "                .geemap-dark .jupyter-button {\n",
              "                    --jp-layout-color3: #383838;\n",
              "                }\n",
              "\n",
              "                .geemap-colab {\n",
              "                    background-color: var(--colab-primary-surface-color, white);\n",
              "                }\n",
              "\n",
              "                .geemap-colab .jupyter-button {\n",
              "                    --jp-layout-color3: var(--colab-primary-surface-color, white);\n",
              "                }\n",
              "            </style>\n",
              "            "
            ]
          },
          "metadata": {}
        }
      ]
    },
    {
      "cell_type": "code",
      "source": [
        "# Google function that allows ee layers on folium\n",
        "def add_ee_layer(self, ee_image_object, vis_params, name):\n",
        "    \"\"\"\n",
        "    Adds a method for displaying Earth Engine image tiles to folium map.\n",
        "    \"\"\"\n",
        "\n",
        "    map_id_dict = ee.Image(ee_image_object).getMapId(vis_params)\n",
        "    folium.raster_layers.TileLayer(\n",
        "        tiles=map_id_dict['tile_fetcher'].url_format,\n",
        "        attr='Map Data &copy; <a href=\"https://earthengine.google.com/\">Google Earth Engine</a>',\n",
        "        name=name,\n",
        "        overlay=True,\n",
        "        control=True\n",
        "    ).add_to(self)\n",
        "\n",
        "# Add Earth Engine drawing method to folium\n",
        "folium.Map.add_ee_layer = add_ee_layer"
      ],
      "metadata": {
        "id": "POj82YNEzyE_",
        "colab": {
          "base_uri": "https://localhost:8080/",
          "height": 17
        },
        "outputId": "3574860c-e379-4b4a-b9b2-5a7e8d1875f8"
      },
      "execution_count": 7,
      "outputs": [
        {
          "output_type": "display_data",
          "data": {
            "text/plain": [
              "<IPython.core.display.HTML object>"
            ],
            "text/html": [
              "\n",
              "            <style>\n",
              "                .geemap-dark {\n",
              "                    --jp-widgets-color: white;\n",
              "                    --jp-widgets-label-color: white;\n",
              "                    --jp-ui-font-color1: white;\n",
              "                    --jp-layout-color2: #454545;\n",
              "                    background-color: #383838;\n",
              "                }\n",
              "\n",
              "                .geemap-dark .jupyter-button {\n",
              "                    --jp-layout-color3: #383838;\n",
              "                }\n",
              "\n",
              "                .geemap-colab {\n",
              "                    background-color: var(--colab-primary-surface-color, white);\n",
              "                }\n",
              "\n",
              "                .geemap-colab .jupyter-button {\n",
              "                    --jp-layout-color3: var(--colab-primary-surface-color, white);\n",
              "                }\n",
              "            </style>\n",
              "            "
            ]
          },
          "metadata": {}
        }
      ]
    },
    {
      "cell_type": "markdown",
      "source": [
        "With our date and geocoordinate parameters, we should extract about 27 [Sentinel-2](https://developers.google.com/earth-engine/datasets/catalog/COPERNICUS_S2_SR_HARMONIZED#description) satellite images from the Google Earth Engine data catalogue and store it in our `s2_dataset` object."
      ],
      "metadata": {
        "id": "tAOb4NZroFDG"
      }
    },
    {
      "cell_type": "code",
      "source": [
        "s2_dataset = ee.ImageCollection(\"COPERNICUS/S2_SR_HARMONIZED\").filterDate(start_date, end_date).filterBounds(poi).filter(ee.Filter.lt(\"CLOUDY_PIXEL_PERCENTAGE\", 20)).map(mask_s2_clouds)\n",
        "\n",
        "# how many images did we get?\n",
        "print(\"Total number:\", s2_dataset.size().getInfo())"
      ],
      "metadata": {
        "id": "yx1OYij_Z95P",
        "colab": {
          "base_uri": "https://localhost:8080/",
          "height": 34
        },
        "outputId": "acb5b8b8-2d6e-4138-81f2-4ac65bb64cf6"
      },
      "execution_count": 8,
      "outputs": [
        {
          "output_type": "display_data",
          "data": {
            "text/plain": [
              "<IPython.core.display.HTML object>"
            ],
            "text/html": [
              "\n",
              "            <style>\n",
              "                .geemap-dark {\n",
              "                    --jp-widgets-color: white;\n",
              "                    --jp-widgets-label-color: white;\n",
              "                    --jp-ui-font-color1: white;\n",
              "                    --jp-layout-color2: #454545;\n",
              "                    background-color: #383838;\n",
              "                }\n",
              "\n",
              "                .geemap-dark .jupyter-button {\n",
              "                    --jp-layout-color3: #383838;\n",
              "                }\n",
              "\n",
              "                .geemap-colab {\n",
              "                    background-color: var(--colab-primary-surface-color, white);\n",
              "                }\n",
              "\n",
              "                .geemap-colab .jupyter-button {\n",
              "                    --jp-layout-color3: var(--colab-primary-surface-color, white);\n",
              "                }\n",
              "            </style>\n",
              "            "
            ]
          },
          "metadata": {}
        },
        {
          "output_type": "stream",
          "name": "stdout",
          "text": [
            "Total number: 27\n"
          ]
        }
      ]
    },
    {
      "cell_type": "code",
      "source": [
        "# Getting a feel of the resulting data structure\n",
        "s2_dataset.first().getInfo()"
      ],
      "metadata": {
        "collapsed": true,
        "id": "2htR-4b92JLL",
        "colab": {
          "base_uri": "https://localhost:8080/",
          "height": 1000
        },
        "outputId": "ed679cae-8c28-450c-f0bd-dd6bcdd95dcc"
      },
      "execution_count": 9,
      "outputs": [
        {
          "output_type": "display_data",
          "data": {
            "text/plain": [
              "<IPython.core.display.HTML object>"
            ],
            "text/html": [
              "\n",
              "            <style>\n",
              "                .geemap-dark {\n",
              "                    --jp-widgets-color: white;\n",
              "                    --jp-widgets-label-color: white;\n",
              "                    --jp-ui-font-color1: white;\n",
              "                    --jp-layout-color2: #454545;\n",
              "                    background-color: #383838;\n",
              "                }\n",
              "\n",
              "                .geemap-dark .jupyter-button {\n",
              "                    --jp-layout-color3: #383838;\n",
              "                }\n",
              "\n",
              "                .geemap-colab {\n",
              "                    background-color: var(--colab-primary-surface-color, white);\n",
              "                }\n",
              "\n",
              "                .geemap-colab .jupyter-button {\n",
              "                    --jp-layout-color3: var(--colab-primary-surface-color, white);\n",
              "                }\n",
              "            </style>\n",
              "            "
            ]
          },
          "metadata": {}
        },
        {
          "output_type": "execute_result",
          "data": {
            "text/plain": [
              "{'type': 'Image',\n",
              " 'bands': [{'id': 'B1',\n",
              "   'data_type': {'type': 'PixelType',\n",
              "    'precision': 'float',\n",
              "    'min': 0,\n",
              "    'max': 6.553500175476074},\n",
              "   'dimensions': [1830, 1830],\n",
              "   'crs': 'EPSG:32610',\n",
              "   'crs_transform': [60, 0, 499980, 0, -60, 5600040]},\n",
              "  {'id': 'B2',\n",
              "   'data_type': {'type': 'PixelType',\n",
              "    'precision': 'float',\n",
              "    'min': 0,\n",
              "    'max': 6.553500175476074},\n",
              "   'dimensions': [10980, 10980],\n",
              "   'crs': 'EPSG:32610',\n",
              "   'crs_transform': [10, 0, 499980, 0, -10, 5600040]},\n",
              "  {'id': 'B3',\n",
              "   'data_type': {'type': 'PixelType',\n",
              "    'precision': 'float',\n",
              "    'min': 0,\n",
              "    'max': 6.553500175476074},\n",
              "   'dimensions': [10980, 10980],\n",
              "   'crs': 'EPSG:32610',\n",
              "   'crs_transform': [10, 0, 499980, 0, -10, 5600040]},\n",
              "  {'id': 'B4',\n",
              "   'data_type': {'type': 'PixelType',\n",
              "    'precision': 'float',\n",
              "    'min': 0,\n",
              "    'max': 6.553500175476074},\n",
              "   'dimensions': [10980, 10980],\n",
              "   'crs': 'EPSG:32610',\n",
              "   'crs_transform': [10, 0, 499980, 0, -10, 5600040]},\n",
              "  {'id': 'B5',\n",
              "   'data_type': {'type': 'PixelType',\n",
              "    'precision': 'float',\n",
              "    'min': 0,\n",
              "    'max': 6.553500175476074},\n",
              "   'dimensions': [5490, 5490],\n",
              "   'crs': 'EPSG:32610',\n",
              "   'crs_transform': [20, 0, 499980, 0, -20, 5600040]},\n",
              "  {'id': 'B6',\n",
              "   'data_type': {'type': 'PixelType',\n",
              "    'precision': 'float',\n",
              "    'min': 0,\n",
              "    'max': 6.553500175476074},\n",
              "   'dimensions': [5490, 5490],\n",
              "   'crs': 'EPSG:32610',\n",
              "   'crs_transform': [20, 0, 499980, 0, -20, 5600040]},\n",
              "  {'id': 'B7',\n",
              "   'data_type': {'type': 'PixelType',\n",
              "    'precision': 'float',\n",
              "    'min': 0,\n",
              "    'max': 6.553500175476074},\n",
              "   'dimensions': [5490, 5490],\n",
              "   'crs': 'EPSG:32610',\n",
              "   'crs_transform': [20, 0, 499980, 0, -20, 5600040]},\n",
              "  {'id': 'B8',\n",
              "   'data_type': {'type': 'PixelType',\n",
              "    'precision': 'float',\n",
              "    'min': 0,\n",
              "    'max': 6.553500175476074},\n",
              "   'dimensions': [10980, 10980],\n",
              "   'crs': 'EPSG:32610',\n",
              "   'crs_transform': [10, 0, 499980, 0, -10, 5600040]},\n",
              "  {'id': 'B8A',\n",
              "   'data_type': {'type': 'PixelType',\n",
              "    'precision': 'float',\n",
              "    'min': 0,\n",
              "    'max': 6.553500175476074},\n",
              "   'dimensions': [5490, 5490],\n",
              "   'crs': 'EPSG:32610',\n",
              "   'crs_transform': [20, 0, 499980, 0, -20, 5600040]},\n",
              "  {'id': 'B9',\n",
              "   'data_type': {'type': 'PixelType',\n",
              "    'precision': 'float',\n",
              "    'min': 0,\n",
              "    'max': 6.553500175476074},\n",
              "   'dimensions': [1830, 1830],\n",
              "   'crs': 'EPSG:32610',\n",
              "   'crs_transform': [60, 0, 499980, 0, -60, 5600040]},\n",
              "  {'id': 'B11',\n",
              "   'data_type': {'type': 'PixelType',\n",
              "    'precision': 'float',\n",
              "    'min': 0,\n",
              "    'max': 6.553500175476074},\n",
              "   'dimensions': [5490, 5490],\n",
              "   'crs': 'EPSG:32610',\n",
              "   'crs_transform': [20, 0, 499980, 0, -20, 5600040]},\n",
              "  {'id': 'B12',\n",
              "   'data_type': {'type': 'PixelType',\n",
              "    'precision': 'float',\n",
              "    'min': 0,\n",
              "    'max': 6.553500175476074},\n",
              "   'dimensions': [5490, 5490],\n",
              "   'crs': 'EPSG:32610',\n",
              "   'crs_transform': [20, 0, 499980, 0, -20, 5600040]},\n",
              "  {'id': 'AOT',\n",
              "   'data_type': {'type': 'PixelType',\n",
              "    'precision': 'float',\n",
              "    'min': 0,\n",
              "    'max': 6.553500175476074},\n",
              "   'dimensions': [10980, 10980],\n",
              "   'crs': 'EPSG:32610',\n",
              "   'crs_transform': [10, 0, 499980, 0, -10, 5600040]},\n",
              "  {'id': 'WVP',\n",
              "   'data_type': {'type': 'PixelType',\n",
              "    'precision': 'float',\n",
              "    'min': 0,\n",
              "    'max': 429496.75},\n",
              "   'dimensions': [10980, 10980],\n",
              "   'crs': 'EPSG:32610',\n",
              "   'crs_transform': [10, 0, 499980, 0, -10, 5600040]},\n",
              "  {'id': 'SCL',\n",
              "   'data_type': {'type': 'PixelType',\n",
              "    'precision': 'float',\n",
              "    'min': 0,\n",
              "    'max': 0.02550000138580799},\n",
              "   'dimensions': [5490, 5490],\n",
              "   'crs': 'EPSG:32610',\n",
              "   'crs_transform': [20, 0, 499980, 0, -20, 5600040]},\n",
              "  {'id': 'TCI_R',\n",
              "   'data_type': {'type': 'PixelType',\n",
              "    'precision': 'float',\n",
              "    'min': 0,\n",
              "    'max': 0.02550000138580799},\n",
              "   'dimensions': [10980, 10980],\n",
              "   'crs': 'EPSG:32610',\n",
              "   'crs_transform': [10, 0, 499980, 0, -10, 5600040]},\n",
              "  {'id': 'TCI_G',\n",
              "   'data_type': {'type': 'PixelType',\n",
              "    'precision': 'float',\n",
              "    'min': 0,\n",
              "    'max': 0.02550000138580799},\n",
              "   'dimensions': [10980, 10980],\n",
              "   'crs': 'EPSG:32610',\n",
              "   'crs_transform': [10, 0, 499980, 0, -10, 5600040]},\n",
              "  {'id': 'TCI_B',\n",
              "   'data_type': {'type': 'PixelType',\n",
              "    'precision': 'float',\n",
              "    'min': 0,\n",
              "    'max': 0.02550000138580799},\n",
              "   'dimensions': [10980, 10980],\n",
              "   'crs': 'EPSG:32610',\n",
              "   'crs_transform': [10, 0, 499980, 0, -10, 5600040]},\n",
              "  {'id': 'MSK_CLDPRB',\n",
              "   'data_type': {'type': 'PixelType',\n",
              "    'precision': 'float',\n",
              "    'min': 0,\n",
              "    'max': 0.02550000138580799},\n",
              "   'dimensions': [5490, 5490],\n",
              "   'crs': 'EPSG:32610',\n",
              "   'crs_transform': [20, 0, 499980, 0, -20, 5600040]},\n",
              "  {'id': 'MSK_SNWPRB',\n",
              "   'data_type': {'type': 'PixelType',\n",
              "    'precision': 'float',\n",
              "    'min': 0,\n",
              "    'max': 0.02550000138580799},\n",
              "   'dimensions': [5490, 5490],\n",
              "   'crs': 'EPSG:32610',\n",
              "   'crs_transform': [20, 0, 499980, 0, -20, 5600040]},\n",
              "  {'id': 'QA10',\n",
              "   'data_type': {'type': 'PixelType',\n",
              "    'precision': 'float',\n",
              "    'min': 0,\n",
              "    'max': 6.553500175476074},\n",
              "   'dimensions': [10980, 10980],\n",
              "   'crs': 'EPSG:32610',\n",
              "   'crs_transform': [10, 0, 499980, 0, -10, 5600040]},\n",
              "  {'id': 'QA20',\n",
              "   'data_type': {'type': 'PixelType',\n",
              "    'precision': 'float',\n",
              "    'min': 0,\n",
              "    'max': 429496.75},\n",
              "   'dimensions': [5490, 5490],\n",
              "   'crs': 'EPSG:32610',\n",
              "   'crs_transform': [20, 0, 499980, 0, -20, 5600040]},\n",
              "  {'id': 'QA60',\n",
              "   'data_type': {'type': 'PixelType',\n",
              "    'precision': 'float',\n",
              "    'min': 0,\n",
              "    'max': 6.553500175476074},\n",
              "   'dimensions': [1830, 1830],\n",
              "   'crs': 'EPSG:32610',\n",
              "   'crs_transform': [60, 0, 499980, 0, -60, 5600040]},\n",
              "  {'id': 'MSK_CLASSI_OPAQUE',\n",
              "   'data_type': {'type': 'PixelType',\n",
              "    'precision': 'float',\n",
              "    'min': 0,\n",
              "    'max': 0.02550000138580799},\n",
              "   'crs': 'EPSG:4326',\n",
              "   'crs_transform': [1, 0, 0, 0, 1, 0]},\n",
              "  {'id': 'MSK_CLASSI_CIRRUS',\n",
              "   'data_type': {'type': 'PixelType',\n",
              "    'precision': 'float',\n",
              "    'min': 0,\n",
              "    'max': 0.02550000138580799},\n",
              "   'crs': 'EPSG:4326',\n",
              "   'crs_transform': [1, 0, 0, 0, 1, 0]},\n",
              "  {'id': 'MSK_CLASSI_SNOW_ICE',\n",
              "   'data_type': {'type': 'PixelType',\n",
              "    'precision': 'float',\n",
              "    'min': 0,\n",
              "    'max': 0.02550000138580799},\n",
              "   'crs': 'EPSG:4326',\n",
              "   'crs_transform': [1, 0, 0, 0, 1, 0]}],\n",
              " 'properties': {'system:footprint': {'type': 'LinearRing',\n",
              "   'coordinates': [[-122.14795105746178, 49.56171188412999],\n",
              "    [-122.14790729300596, 49.561707970022596],\n",
              "    [-121.48241050636712, 49.55489352105015],\n",
              "    [-121.48226960340271, 49.55496128313161],\n",
              "    [-121.46675880041288, 50.048507122600746],\n",
              "    [-121.4508124104042, 50.54198671004312],\n",
              "    [-121.4509189803275, 50.542078108087395],\n",
              "    [-121.75711809372756, 50.54574935708296],\n",
              "    [-121.75716507148948, 50.54572402339127],\n",
              "    [-121.75723134979857, 50.54571899943225],\n",
              "    [-121.75900275964747, 50.54355299175503],\n",
              "    [-121.76260511189456, 50.53548757569572],\n",
              "    [-121.76802146843227, 50.522593146684116],\n",
              "    [-122.085461682415, 49.72846537606213],\n",
              "    [-122.092463120295, 49.71017094157173],\n",
              "    [-122.1483051727211, 49.56271071386906],\n",
              "    [-122.14831939269564, 49.5618909054019],\n",
              "    [-122.14828018587892, 49.561861416962806],\n",
              "    [-122.14827217485382, 49.56181930543502],\n",
              "    [-122.14795105746178, 49.56171188412999]]},\n",
              "  'system:index': '20210621T185921_20210621T190713_T10UEA'}}"
            ]
          },
          "metadata": {},
          "execution_count": 9
        }
      ]
    },
    {
      "cell_type": "markdown",
      "source": [
        "If we look at each of the 27 images pulled from the Earth Engine bucket, we'll find that the image quality on most of them isn't great as there are often clouds or smoke blocking our view of Lytton. Therefore, we've decided to manually select those with the best image quality, store the list in our `interesting_images` object, and display them to get a visual of the raw images we'll be working with."
      ],
      "metadata": {
        "id": "kCGgago99wLM"
      }
    },
    {
      "cell_type": "code",
      "source": [
        "s2_params = {\n",
        "      \"bands\": [\"B4\", \"B3\", \"B2\"],  # True color (RGB)\n",
        "      \"min\": 0,\n",
        "      \"max\": 0.3,  # Adjust min and max values as needed\n",
        "      \"dimensions\": 512,\n",
        "      \"region\": poi\n",
        "  }\n",
        "\n",
        "# Generating an image list for s2 data\n",
        "s2_image_list = s2_dataset.toList(s2_dataset.size())\n",
        "\n",
        "# Selecting the images with decent quality\n",
        "# To access all the scraped images, replace the following objects:\n",
        "# interesting_images = range(s2_dataset.size().getInfo())\n",
        "interesting_images = [5, 9, 11, 12, 15, 18, 26]\n",
        "\n",
        "for i in interesting_images:\n",
        "  try:\n",
        "\n",
        "    # Extract the timestamp string\n",
        "    s2_property = s2_image_list.get(i).getInfo()\n",
        "    timestamp_str = s2_property[\"properties\"][\"system:index\"].split(\"_\")[0]\n",
        "\n",
        "    # Convert to datetime object\n",
        "    datetime_obj = datetime.strptime(timestamp_str, \"%Y%m%dT%H%M%S\")\n",
        "\n",
        "    # Make the datetime timezone-aware (UTC)\n",
        "    dt_utc = datetime_obj.replace(tzinfo=ZoneInfo(\"UTC\"))\n",
        "\n",
        "    # Convert to Pacific Time\n",
        "    pacific_tz = ZoneInfo(\"America/Los_Angeles\")\n",
        "    dt_pacific = dt_utc.astimezone(pacific_tz).strftime(datetime_format)\n",
        "\n",
        "    print(f\"Image #{i} / Date: {dt_pacific} PST/PDT\")\n",
        "\n",
        "    s2_image = ee.Image(s2_image_list.get(i))\n",
        "    s2_url = s2_image.getThumbUrl(s2_params)\n",
        "    display(Image(url=s2_url))\n",
        "\n",
        "  except:\n",
        "    pass"
      ],
      "metadata": {
        "colab": {
          "base_uri": "https://localhost:8080/",
          "height": 1000
        },
        "id": "y6RumP9WIzNd",
        "outputId": "0e1131fe-7cb4-4a50-ee2b-137a10a91fd6"
      },
      "execution_count": 10,
      "outputs": [
        {
          "output_type": "display_data",
          "data": {
            "text/plain": [
              "<IPython.core.display.HTML object>"
            ],
            "text/html": [
              "\n",
              "            <style>\n",
              "                .geemap-dark {\n",
              "                    --jp-widgets-color: white;\n",
              "                    --jp-widgets-label-color: white;\n",
              "                    --jp-ui-font-color1: white;\n",
              "                    --jp-layout-color2: #454545;\n",
              "                    background-color: #383838;\n",
              "                }\n",
              "\n",
              "                .geemap-dark .jupyter-button {\n",
              "                    --jp-layout-color3: #383838;\n",
              "                }\n",
              "\n",
              "                .geemap-colab {\n",
              "                    background-color: var(--colab-primary-surface-color, white);\n",
              "                }\n",
              "\n",
              "                .geemap-colab .jupyter-button {\n",
              "                    --jp-layout-color3: var(--colab-primary-surface-color, white);\n",
              "                }\n",
              "            </style>\n",
              "            "
            ]
          },
          "metadata": {}
        },
        {
          "output_type": "stream",
          "name": "stdout",
          "text": [
            "Image #5 / Date: 2021-06-26 11:59:19 PST/PDT\n"
          ]
        },
        {
          "output_type": "display_data",
          "data": {
            "text/html": [
              "<img src=\"https://earthengine.googleapis.com/v1/projects/bc-wildfire-422905/thumbnails/889bc2b414b37fa52f737fbce1f431b8-ce1ca07ff68e4a5bd7a25969bac5d9ea:getPixels\"/>"
            ],
            "text/plain": [
              "<IPython.core.display.Image object>"
            ]
          },
          "metadata": {}
        },
        {
          "output_type": "stream",
          "name": "stdout",
          "text": [
            "Image #9 / Date: 2021-06-29 12:09:19 PST/PDT\n"
          ]
        },
        {
          "output_type": "display_data",
          "data": {
            "text/html": [
              "<img src=\"https://earthengine.googleapis.com/v1/projects/bc-wildfire-422905/thumbnails/4134d5da59f6b151c2c8c43578e7a7da-fdc4de4010a223835fa94f16a152ddc3:getPixels\"/>"
            ],
            "text/plain": [
              "<IPython.core.display.Image object>"
            ]
          },
          "metadata": {}
        },
        {
          "output_type": "stream",
          "name": "stdout",
          "text": [
            "Image #11 / Date: 2021-07-01 11:59:21 PST/PDT\n"
          ]
        },
        {
          "output_type": "display_data",
          "data": {
            "text/html": [
              "<img src=\"https://earthengine.googleapis.com/v1/projects/bc-wildfire-422905/thumbnails/2a640c357994314f82c0de94078ae742-680bb6766e3e612d3e7e25a88da22cbd:getPixels\"/>"
            ],
            "text/plain": [
              "<IPython.core.display.Image object>"
            ]
          },
          "metadata": {}
        },
        {
          "output_type": "stream",
          "name": "stdout",
          "text": [
            "Image #12 / Date: 2021-07-01 11:59:21 PST/PDT\n"
          ]
        },
        {
          "output_type": "display_data",
          "data": {
            "text/html": [
              "<img src=\"https://earthengine.googleapis.com/v1/projects/bc-wildfire-422905/thumbnails/cde34bdd71e0aaed48ab99da55c93804-b7a67ad8401a0b00ec784f3297db83f5:getPixels\"/>"
            ],
            "text/plain": [
              "<IPython.core.display.Image object>"
            ]
          },
          "metadata": {}
        },
        {
          "output_type": "stream",
          "name": "stdout",
          "text": [
            "Image #15 / Date: 2021-07-06 11:59:19 PST/PDT\n"
          ]
        },
        {
          "output_type": "display_data",
          "data": {
            "text/html": [
              "<img src=\"https://earthengine.googleapis.com/v1/projects/bc-wildfire-422905/thumbnails/c6d1a914686d0446afc1df79fdebec89-5e2907c60406db5352ae97426ab8aca6:getPixels\"/>"
            ],
            "text/plain": [
              "<IPython.core.display.Image object>"
            ]
          },
          "metadata": {}
        },
        {
          "output_type": "stream",
          "name": "stdout",
          "text": [
            "Image #18 / Date: 2021-07-09 12:09:19 PST/PDT\n"
          ]
        },
        {
          "output_type": "display_data",
          "data": {
            "text/html": [
              "<img src=\"https://earthengine.googleapis.com/v1/projects/bc-wildfire-422905/thumbnails/6648dd1a1854b13b304f158258b40470-816fe4c4f9deafdcb2bb7c0426e68f08:getPixels\"/>"
            ],
            "text/plain": [
              "<IPython.core.display.Image object>"
            ]
          },
          "metadata": {}
        },
        {
          "output_type": "stream",
          "name": "stdout",
          "text": [
            "Image #26 / Date: 2021-07-14 12:09:21 PST/PDT\n"
          ]
        },
        {
          "output_type": "display_data",
          "data": {
            "text/html": [
              "<img src=\"https://earthengine.googleapis.com/v1/projects/bc-wildfire-422905/thumbnails/3ac76d1ecaa050ca2d7f174a80b446ee-0c3795f443d3623f7b39056f003cd47a:getPixels\"/>"
            ],
            "text/plain": [
              "<IPython.core.display.Image object>"
            ]
          },
          "metadata": {}
        }
      ]
    },
    {
      "cell_type": "markdown",
      "source": [
        "### Data Transformation: Applying Normalized Burn Ratio (NBR) layers from extracted images\n",
        "\n",
        "Now that we've extracted our raw images, we can see how difficult it is to spot activity from the naked eye. This is where the importance of spectral bands comes into play. Since Sentinel-2 is capable of gathering data from shortwave infrared (SWIR) and near-infrared (NIR) bands, we can use a combination of the two to transform our image data and give us a better understanding of the area that's been burnt (or burning).\n",
        "\n",
        "What we're describing here is a **normalized burn ratio (NBR)** which uses the following formula to identify the burned areas in a particular and visually quantify the severity of the burn:\n",
        "\n",
        "$$ NBR = (NIR - SWIR) / (NIR + SWIR) $$\n",
        "\n",
        "The NBR formula uses the difference between NIR and SWIR reflectance, normalized by their sum, to quantify burned areas based on the numerical values we observe from the NIR and SWIR bands (United Nations, n.d.). Without going too deep into the maths, let's briefly describe the purpose of each underlying band.\n",
        "\n",
        "**Near-infrared (NIR)** light is often reflected the more healthier or greener the vegetation is on a given land surface. In areas that have been burnt, we'll see less of this spectral wave reflected from the Earth's surface (United Nations, n.d.).\n",
        "\n",
        "On the other hand, **short-wave infrared (SWIR)** light is reflected based on the moisture content of the underlying surface. Areas with high moisture, and presumably healthier vegetation, tend to absorb this spectral wavelength which means less of it is reflected and picked up by our satellites (United Nations, n.d.). In contrast, drier areas will reflect higher levels of SWIR light since there is less capability to absorb it.\n",
        "\n",
        "The contrast between these two bands helps us easily distinguish between areas with healthy and burnt vegetation in addition to the severity of the burn (United Nations, n.d.). The resulting NBR values we can observe from this equation range from -1 to 1 where:\n",
        "\n",
        "- Negative values often indicate bare ground or recently burned areas\n",
        "- Values close to zero indicate urban or water areas\n",
        "- Positive values typically represent vegetated areas"
      ],
      "metadata": {
        "id": "q-WxjFbC9-CR"
      }
    },
    {
      "cell_type": "code",
      "source": [
        "# Function to calculate NBR\n",
        "def calculate_nbr(image):\n",
        "  \"\"\"\n",
        "  Calculate the Normalized Burn Ratio (NBR) for a given satellite image using the Near-Infrared (NIR) and Short-Wave Infrared (SWIR) bands,\n",
        "  typically used for burn severity assessment in wildfire studies.\n",
        "\n",
        "  NBR = (NIR - SWIR) / (NIR + SWIR)\n",
        "\n",
        "  The resulting value typically range from -1 to 1, where:\n",
        "    * Negative values often indicate bare ground or recently burned areas\n",
        "    * Values close to zero indicate urban or water areas\n",
        "    * Positive values typically represent vegetated areas\n",
        "  \"\"\"\n",
        "  nbr = image.normalizedDifference([\"B8\", \"B12\"]).rename(\"NBR\")\n",
        "  return image.addBands(nbr)"
      ],
      "metadata": {
        "id": "NtWbuiUxwyAl",
        "colab": {
          "base_uri": "https://localhost:8080/",
          "height": 17
        },
        "outputId": "dd56a7bb-dbaa-4408-a156-6a25a528c403"
      },
      "execution_count": 11,
      "outputs": [
        {
          "output_type": "display_data",
          "data": {
            "text/plain": [
              "<IPython.core.display.HTML object>"
            ],
            "text/html": [
              "\n",
              "            <style>\n",
              "                .geemap-dark {\n",
              "                    --jp-widgets-color: white;\n",
              "                    --jp-widgets-label-color: white;\n",
              "                    --jp-ui-font-color1: white;\n",
              "                    --jp-layout-color2: #454545;\n",
              "                    background-color: #383838;\n",
              "                }\n",
              "\n",
              "                .geemap-dark .jupyter-button {\n",
              "                    --jp-layout-color3: #383838;\n",
              "                }\n",
              "\n",
              "                .geemap-colab {\n",
              "                    background-color: var(--colab-primary-surface-color, white);\n",
              "                }\n",
              "\n",
              "                .geemap-colab .jupyter-button {\n",
              "                    --jp-layout-color3: var(--colab-primary-surface-color, white);\n",
              "                }\n",
              "            </style>\n",
              "            "
            ]
          },
          "metadata": {}
        }
      ]
    },
    {
      "cell_type": "markdown",
      "source": [
        "### Data Visualization\n",
        "\n",
        "Now that we have a better understanding of NBR, let's apply it to each of the \"interesting images\" we've extracted from Sentinel-2 and layer them over an open-source map."
      ],
      "metadata": {
        "id": "vcqL_tgBLAnz"
      }
    },
    {
      "cell_type": "code",
      "source": [
        "# Apply NBR calculation\n",
        "s2_nbr = s2_dataset.map(calculate_nbr)\n",
        "\n",
        "# Get the first image and visualize\n",
        "s2nbr_list = s2_nbr.toList(s2_nbr.size())\n",
        "\n",
        "s2_vis_params = {\n",
        "    # B4 = Red band - useful for calculating vegetation indices\n",
        "    # B8 = Near Infrared (NIR) band - also useful for calculating vegetation and burn severity.\n",
        "    # B12 = Shortwave Infrared (SWIR) band - great for detecting fires and hot spots.\n",
        "    \"bands\": [\"B12\", \"B8\", \"B4\"], # Ash's bands: [\"B12\", \"B11\", \"B9\"]\n",
        "    \"min\": 0.0,\n",
        "    \"max\": 0.3,\n",
        "    \"gamma\": 1.4\n",
        "}\n",
        "\n",
        "\n",
        "# Create a map\n",
        "wildfire_map = folium.Map(location=[lat, lon], zoom_start=10)\n",
        "\n",
        "# Add a layer for each satellite image of interest (before, during and after)\n",
        "for i in interesting_images:\n",
        "\n",
        "  # Extract the timestamp string\n",
        "  s2nbr_list_property = s2nbr_list.get(i).getInfo()\n",
        "  timestamp_str = s2nbr_list_property[\"properties\"][\"system:index\"].split(\"_\")[0]\n",
        "\n",
        "  # Convert to datetime object\n",
        "  s2_datetime = datetime.strptime(timestamp_str, \"%Y%m%dT%H%M%S\")\n",
        "\n",
        "  # Make the datetime timezone-aware (UTC)\n",
        "  dt_utc = s2_datetime.replace(tzinfo=ZoneInfo(\"UTC\"))\n",
        "\n",
        "  # Convert to Pacific Time\n",
        "  pacific_tz = ZoneInfo(\"America/Los_Angeles\")\n",
        "  s2_datetime_pst = dt_utc.astimezone(pacific_tz).strftime(datetime_format)\n",
        "\n",
        "  # Image title\n",
        "  title = f\"Sentinel-2 SWIR Image #{i} / Date: {s2_datetime_pst} PST/PDT\"\n",
        "\n",
        "  # Extract the image from the list\n",
        "  s2_nbr_image = ee.Image(s2nbr_list.get(i))\n",
        "\n",
        "  # Add the image layerto the map\n",
        "  wildfire_map.add_ee_layer(s2_nbr_image, s2_vis_params, name=title)\n",
        "\n",
        "# Add a layer control panel to the map\n",
        "folium.LayerControl(collapsed=False).add_to(wildfire_map)\n",
        "\n",
        "# Display the map.\n",
        "display(wildfire_map)"
      ],
      "metadata": {
        "id": "opi5waGAw2Nm",
        "colab": {
          "base_uri": "https://localhost:8080/",
          "height": 711
        },
        "outputId": "fc09e0d1-5ddc-4117-895d-32aadc1e1e81"
      },
      "execution_count": 12,
      "outputs": [
        {
          "output_type": "display_data",
          "data": {
            "text/plain": [
              "<IPython.core.display.HTML object>"
            ],
            "text/html": [
              "\n",
              "            <style>\n",
              "                .geemap-dark {\n",
              "                    --jp-widgets-color: white;\n",
              "                    --jp-widgets-label-color: white;\n",
              "                    --jp-ui-font-color1: white;\n",
              "                    --jp-layout-color2: #454545;\n",
              "                    background-color: #383838;\n",
              "                }\n",
              "\n",
              "                .geemap-dark .jupyter-button {\n",
              "                    --jp-layout-color3: #383838;\n",
              "                }\n",
              "\n",
              "                .geemap-colab {\n",
              "                    background-color: var(--colab-primary-surface-color, white);\n",
              "                }\n",
              "\n",
              "                .geemap-colab .jupyter-button {\n",
              "                    --jp-layout-color3: var(--colab-primary-surface-color, white);\n",
              "                }\n",
              "            </style>\n",
              "            "
            ]
          },
          "metadata": {}
        },
        {
          "output_type": "display_data",
          "data": {
            "text/plain": [
              "<folium.folium.Map at 0x7e78ec730c10>"
            ],
            "text/html": [
              "<div style=\"width:100%;\"><div style=\"position:relative;width:100%;height:0;padding-bottom:60%;\"><span style=\"color:#565656\">Make this Notebook Trusted to load map: File -> Trust Notebook</span><iframe srcdoc=\"&lt;!DOCTYPE html&gt;\n",
              "&lt;html&gt;\n",
              "&lt;head&gt;\n",
              "    \n",
              "    &lt;meta http-equiv=&quot;content-type&quot; content=&quot;text/html; charset=UTF-8&quot; /&gt;\n",
              "    \n",
              "        &lt;script&gt;\n",
              "            L_NO_TOUCH = false;\n",
              "            L_DISABLE_3D = false;\n",
              "        &lt;/script&gt;\n",
              "    \n",
              "    &lt;style&gt;html, body {width: 100%;height: 100%;margin: 0;padding: 0;}&lt;/style&gt;\n",
              "    &lt;style&gt;#map {position:absolute;top:0;bottom:0;right:0;left:0;}&lt;/style&gt;\n",
              "    &lt;script src=&quot;https://cdn.jsdelivr.net/npm/leaflet@1.9.3/dist/leaflet.js&quot;&gt;&lt;/script&gt;\n",
              "    &lt;script src=&quot;https://code.jquery.com/jquery-1.12.4.min.js&quot;&gt;&lt;/script&gt;\n",
              "    &lt;script src=&quot;https://cdn.jsdelivr.net/npm/bootstrap@5.2.2/dist/js/bootstrap.bundle.min.js&quot;&gt;&lt;/script&gt;\n",
              "    &lt;script src=&quot;https://cdnjs.cloudflare.com/ajax/libs/Leaflet.awesome-markers/2.0.2/leaflet.awesome-markers.js&quot;&gt;&lt;/script&gt;\n",
              "    &lt;link rel=&quot;stylesheet&quot; href=&quot;https://cdn.jsdelivr.net/npm/leaflet@1.9.3/dist/leaflet.css&quot;/&gt;\n",
              "    &lt;link rel=&quot;stylesheet&quot; href=&quot;https://cdn.jsdelivr.net/npm/bootstrap@5.2.2/dist/css/bootstrap.min.css&quot;/&gt;\n",
              "    &lt;link rel=&quot;stylesheet&quot; href=&quot;https://netdna.bootstrapcdn.com/bootstrap/3.0.0/css/bootstrap.min.css&quot;/&gt;\n",
              "    &lt;link rel=&quot;stylesheet&quot; href=&quot;https://cdn.jsdelivr.net/npm/@fortawesome/fontawesome-free@6.2.0/css/all.min.css&quot;/&gt;\n",
              "    &lt;link rel=&quot;stylesheet&quot; href=&quot;https://cdnjs.cloudflare.com/ajax/libs/Leaflet.awesome-markers/2.0.2/leaflet.awesome-markers.css&quot;/&gt;\n",
              "    &lt;link rel=&quot;stylesheet&quot; href=&quot;https://cdn.jsdelivr.net/gh/python-visualization/folium/folium/templates/leaflet.awesome.rotate.min.css&quot;/&gt;\n",
              "    \n",
              "            &lt;meta name=&quot;viewport&quot; content=&quot;width=device-width,\n",
              "                initial-scale=1.0, maximum-scale=1.0, user-scalable=no&quot; /&gt;\n",
              "            &lt;style&gt;\n",
              "                #map_ac9b154397545ae81d1be84066b8a037 {\n",
              "                    position: relative;\n",
              "                    width: 100.0%;\n",
              "                    height: 100.0%;\n",
              "                    left: 0.0%;\n",
              "                    top: 0.0%;\n",
              "                }\n",
              "                .leaflet-container { font-size: 1rem; }\n",
              "            &lt;/style&gt;\n",
              "        \n",
              "&lt;/head&gt;\n",
              "&lt;body&gt;\n",
              "    \n",
              "    \n",
              "            &lt;div class=&quot;folium-map&quot; id=&quot;map_ac9b154397545ae81d1be84066b8a037&quot; &gt;&lt;/div&gt;\n",
              "        \n",
              "&lt;/body&gt;\n",
              "&lt;script&gt;\n",
              "    \n",
              "    \n",
              "            var map_ac9b154397545ae81d1be84066b8a037 = L.map(\n",
              "                &quot;map_ac9b154397545ae81d1be84066b8a037&quot;,\n",
              "                {\n",
              "                    center: [50.23124506328952, -121.58154057521354],\n",
              "                    crs: L.CRS.EPSG3857,\n",
              "                    zoom: 10,\n",
              "                    zoomControl: true,\n",
              "                    preferCanvas: false,\n",
              "                }\n",
              "            );\n",
              "\n",
              "            \n",
              "\n",
              "        \n",
              "    \n",
              "            var tile_layer_c7902a854381d3803b3c001515b595a8 = L.tileLayer(\n",
              "                &quot;https://{s}.tile.openstreetmap.org/{z}/{x}/{y}.png&quot;,\n",
              "                {&quot;attribution&quot;: &quot;Data by \\u0026copy; \\u003ca target=\\&quot;_blank\\&quot; href=\\&quot;http://openstreetmap.org\\&quot;\\u003eOpenStreetMap\\u003c/a\\u003e, under \\u003ca target=\\&quot;_blank\\&quot; href=\\&quot;http://www.openstreetmap.org/copyright\\&quot;\\u003eODbL\\u003c/a\\u003e.&quot;, &quot;detectRetina&quot;: false, &quot;maxNativeZoom&quot;: 18, &quot;maxZoom&quot;: 18, &quot;minZoom&quot;: 0, &quot;noWrap&quot;: false, &quot;opacity&quot;: 1, &quot;subdomains&quot;: &quot;abc&quot;, &quot;tms&quot;: false}\n",
              "            ).addTo(map_ac9b154397545ae81d1be84066b8a037);\n",
              "        \n",
              "    \n",
              "            var tile_layer_11289816bd06828bc35a2b4ef3f70346 = L.tileLayer(\n",
              "                &quot;https://earthengine.googleapis.com/v1/projects/bc-wildfire-422905/maps/7ff482e2dd4615aebd3a7afbfc6da688-39056458828d245a8efa5418f2db4105/tiles/{z}/{x}/{y}&quot;,\n",
              "                {&quot;attribution&quot;: &quot;Map Data \\u0026copy; \\u003ca href=\\&quot;https://earthengine.google.com/\\&quot;\\u003eGoogle Earth Engine\\u003c/a\\u003e&quot;, &quot;detectRetina&quot;: false, &quot;maxNativeZoom&quot;: 18, &quot;maxZoom&quot;: 18, &quot;minZoom&quot;: 0, &quot;noWrap&quot;: false, &quot;opacity&quot;: 1, &quot;subdomains&quot;: &quot;abc&quot;, &quot;tms&quot;: false}\n",
              "            ).addTo(map_ac9b154397545ae81d1be84066b8a037);\n",
              "        \n",
              "    \n",
              "            var tile_layer_3923c2016cbfa5b995ee8f062a760a26 = L.tileLayer(\n",
              "                &quot;https://earthengine.googleapis.com/v1/projects/bc-wildfire-422905/maps/138b3cd2da619484c51a2baf59f260d0-42fa9dff217cd46a5fbad95fbdc3a48f/tiles/{z}/{x}/{y}&quot;,\n",
              "                {&quot;attribution&quot;: &quot;Map Data \\u0026copy; \\u003ca href=\\&quot;https://earthengine.google.com/\\&quot;\\u003eGoogle Earth Engine\\u003c/a\\u003e&quot;, &quot;detectRetina&quot;: false, &quot;maxNativeZoom&quot;: 18, &quot;maxZoom&quot;: 18, &quot;minZoom&quot;: 0, &quot;noWrap&quot;: false, &quot;opacity&quot;: 1, &quot;subdomains&quot;: &quot;abc&quot;, &quot;tms&quot;: false}\n",
              "            ).addTo(map_ac9b154397545ae81d1be84066b8a037);\n",
              "        \n",
              "    \n",
              "            var tile_layer_e851c0d8cb9a90f1bf0ca4993886ebc1 = L.tileLayer(\n",
              "                &quot;https://earthengine.googleapis.com/v1/projects/bc-wildfire-422905/maps/ad133915f4faa7807bc621891306765b-70bbee47f4db69305d37bf6675574020/tiles/{z}/{x}/{y}&quot;,\n",
              "                {&quot;attribution&quot;: &quot;Map Data \\u0026copy; \\u003ca href=\\&quot;https://earthengine.google.com/\\&quot;\\u003eGoogle Earth Engine\\u003c/a\\u003e&quot;, &quot;detectRetina&quot;: false, &quot;maxNativeZoom&quot;: 18, &quot;maxZoom&quot;: 18, &quot;minZoom&quot;: 0, &quot;noWrap&quot;: false, &quot;opacity&quot;: 1, &quot;subdomains&quot;: &quot;abc&quot;, &quot;tms&quot;: false}\n",
              "            ).addTo(map_ac9b154397545ae81d1be84066b8a037);\n",
              "        \n",
              "    \n",
              "            var tile_layer_798886117a07db2a05b04d5dde4bc41d = L.tileLayer(\n",
              "                &quot;https://earthengine.googleapis.com/v1/projects/bc-wildfire-422905/maps/f64ac5f97c524c7810de7b5c2536d849-813a8c10b5e7eaecb111b58836c0182d/tiles/{z}/{x}/{y}&quot;,\n",
              "                {&quot;attribution&quot;: &quot;Map Data \\u0026copy; \\u003ca href=\\&quot;https://earthengine.google.com/\\&quot;\\u003eGoogle Earth Engine\\u003c/a\\u003e&quot;, &quot;detectRetina&quot;: false, &quot;maxNativeZoom&quot;: 18, &quot;maxZoom&quot;: 18, &quot;minZoom&quot;: 0, &quot;noWrap&quot;: false, &quot;opacity&quot;: 1, &quot;subdomains&quot;: &quot;abc&quot;, &quot;tms&quot;: false}\n",
              "            ).addTo(map_ac9b154397545ae81d1be84066b8a037);\n",
              "        \n",
              "    \n",
              "            var tile_layer_b2a06e0f56747e8b76c7e6f9624ff2d1 = L.tileLayer(\n",
              "                &quot;https://earthengine.googleapis.com/v1/projects/bc-wildfire-422905/maps/3d88cf1532db5b8ad9a8711f57c8d244-0455dae0a7869f2f13f381664c6480d3/tiles/{z}/{x}/{y}&quot;,\n",
              "                {&quot;attribution&quot;: &quot;Map Data \\u0026copy; \\u003ca href=\\&quot;https://earthengine.google.com/\\&quot;\\u003eGoogle Earth Engine\\u003c/a\\u003e&quot;, &quot;detectRetina&quot;: false, &quot;maxNativeZoom&quot;: 18, &quot;maxZoom&quot;: 18, &quot;minZoom&quot;: 0, &quot;noWrap&quot;: false, &quot;opacity&quot;: 1, &quot;subdomains&quot;: &quot;abc&quot;, &quot;tms&quot;: false}\n",
              "            ).addTo(map_ac9b154397545ae81d1be84066b8a037);\n",
              "        \n",
              "    \n",
              "            var tile_layer_989cab89a7a434328eda0d27b7a18b25 = L.tileLayer(\n",
              "                &quot;https://earthengine.googleapis.com/v1/projects/bc-wildfire-422905/maps/063ecd817f6a9eb1e8c4f950a709c0b7-13bc37f4bcb2809dff397cb2b5259d31/tiles/{z}/{x}/{y}&quot;,\n",
              "                {&quot;attribution&quot;: &quot;Map Data \\u0026copy; \\u003ca href=\\&quot;https://earthengine.google.com/\\&quot;\\u003eGoogle Earth Engine\\u003c/a\\u003e&quot;, &quot;detectRetina&quot;: false, &quot;maxNativeZoom&quot;: 18, &quot;maxZoom&quot;: 18, &quot;minZoom&quot;: 0, &quot;noWrap&quot;: false, &quot;opacity&quot;: 1, &quot;subdomains&quot;: &quot;abc&quot;, &quot;tms&quot;: false}\n",
              "            ).addTo(map_ac9b154397545ae81d1be84066b8a037);\n",
              "        \n",
              "    \n",
              "            var tile_layer_2dbaf9455deb0f83bb057db2717678ed = L.tileLayer(\n",
              "                &quot;https://earthengine.googleapis.com/v1/projects/bc-wildfire-422905/maps/b38785bc0499f284c1df63ee453276f1-b0045a13930558806688bfe0eb1ab46b/tiles/{z}/{x}/{y}&quot;,\n",
              "                {&quot;attribution&quot;: &quot;Map Data \\u0026copy; \\u003ca href=\\&quot;https://earthengine.google.com/\\&quot;\\u003eGoogle Earth Engine\\u003c/a\\u003e&quot;, &quot;detectRetina&quot;: false, &quot;maxNativeZoom&quot;: 18, &quot;maxZoom&quot;: 18, &quot;minZoom&quot;: 0, &quot;noWrap&quot;: false, &quot;opacity&quot;: 1, &quot;subdomains&quot;: &quot;abc&quot;, &quot;tms&quot;: false}\n",
              "            ).addTo(map_ac9b154397545ae81d1be84066b8a037);\n",
              "        \n",
              "    \n",
              "            var layer_control_2c3dee768cd7e49bd4296adf72b5af59 = {\n",
              "                base_layers : {\n",
              "                    &quot;openstreetmap&quot; : tile_layer_c7902a854381d3803b3c001515b595a8,\n",
              "                },\n",
              "                overlays :  {\n",
              "                    &quot;Sentinel-2 SWIR Image #5 / Date: 2021-06-26 11:59:19 PST/PDT&quot; : tile_layer_11289816bd06828bc35a2b4ef3f70346,\n",
              "                    &quot;Sentinel-2 SWIR Image #9 / Date: 2021-06-29 12:09:19 PST/PDT&quot; : tile_layer_3923c2016cbfa5b995ee8f062a760a26,\n",
              "                    &quot;Sentinel-2 SWIR Image #11 / Date: 2021-07-01 11:59:21 PST/PDT&quot; : tile_layer_e851c0d8cb9a90f1bf0ca4993886ebc1,\n",
              "                    &quot;Sentinel-2 SWIR Image #12 / Date: 2021-07-01 11:59:21 PST/PDT&quot; : tile_layer_798886117a07db2a05b04d5dde4bc41d,\n",
              "                    &quot;Sentinel-2 SWIR Image #15 / Date: 2021-07-06 11:59:19 PST/PDT&quot; : tile_layer_b2a06e0f56747e8b76c7e6f9624ff2d1,\n",
              "                    &quot;Sentinel-2 SWIR Image #18 / Date: 2021-07-09 12:09:19 PST/PDT&quot; : tile_layer_989cab89a7a434328eda0d27b7a18b25,\n",
              "                    &quot;Sentinel-2 SWIR Image #26 / Date: 2021-07-14 12:09:21 PST/PDT&quot; : tile_layer_2dbaf9455deb0f83bb057db2717678ed,\n",
              "                },\n",
              "            };\n",
              "            L.control.layers(\n",
              "                layer_control_2c3dee768cd7e49bd4296adf72b5af59.base_layers,\n",
              "                layer_control_2c3dee768cd7e49bd4296adf72b5af59.overlays,\n",
              "                {&quot;autoZIndex&quot;: true, &quot;collapsed&quot;: false, &quot;position&quot;: &quot;topright&quot;}\n",
              "            ).addTo(map_ac9b154397545ae81d1be84066b8a037);\n",
              "        \n",
              "&lt;/script&gt;\n",
              "&lt;/html&gt;\" style=\"position:absolute;width:100%;height:100%;left:0;top:0;border:none !important;\" allowfullscreen webkitallowfullscreen mozallowfullscreen></iframe></div></div>"
            ]
          },
          "metadata": {}
        }
      ]
    },
    {
      "cell_type": "markdown",
      "source": [
        "From the NBR-transformed, satellite imaging we collected of the area surrounding Lytton between June to July 15th, we can see distinct areas that were ravaged by the fires in 2021. Removing all the layers by de-selecting the images gives us a bearing on where the town of Lytton is in the satellite image.\n",
        "\n",
        "However, if we select image layers #9, 11, 12, and 26, we'll find another fire perimeter northeast of Lytton, one that looks slightly larger. Because the Sentinel-2 images cover such a large area and with some further research, we were surprisingly able to discover that the [Sparks Lake wildfire](https://www.eoas.ubc.ca/courses/atsc413/cases/sparks_lake_BC/index.html) was another natural disaster occurring the same time as our Lytton Creek wildfire on June 29th, 2021 (Watson & Lindsay, 2021). The Sparks Lake wildfire also turned out to be one of B.C.'s most devastating fires in history due to the heat dome the province experienced that year. The fire appeared to have been human-caused by a nearby marijuana growth operation which burned down about 960 km$^2$ for 69 days before firefighters eventually got control of it.\n",
        "\n",
        "\n",
        "While the data from Sentinel-2 does a fine job in identifying and mapping out burnt areas of the region, it suffers some heavy drawbacks in its inability to provide real-time information to emergency responders and members of the public. Because Sentinel-2 needs time to orbit and image other areas of the globe, there is a 2-5 day lag between every snapshot at a particular point of interest (POI), depending on how close it is to the equator (European Space Agency, 2024). In situations where a natural disaster is unfolding rapidly and emergency responders need prompt access to information for rapid and high-stakes decisions, Sentinel-2 data will not be sufficient for this purpose so we must turn to other tools to fill the gap.\n",
        "\n",
        "Additional concerns with Sentinel-2 images are the presence of clouds or smoke over our POI which can massively reduce the image quality because they limit the amount of light the Earth can reflect to its sensors. Sentinel-2 is also limited to operating during the day due to its reliance on sunlight so any opportunity to gather data at night is out of the question."
      ],
      "metadata": {
        "id": "XXkt20jFN9kV"
      }
    },
    {
      "cell_type": "markdown",
      "source": [
        "## Data Extraction (Part 2)"
      ],
      "metadata": {
        "id": "TVlUEmqih3yx"
      }
    },
    {
      "cell_type": "markdown",
      "source": [
        "### Extracting GOES-16 & GOES-17 satellite data\n",
        "\n",
        "As we've explored the strengths of the Sentinel-2 data and highlighted its weaknesses, luckily, we have other systems to shore up these vulnerabilities such as the GOES-16 and GOES-17 satellites. The [**Geostationary Operational Environmental Satellites (GOES)**](https://www.goes-r.gov/downloads/resources/documents/Beginners_Guide_to_GOES-R_Series_Data.pdf) are a set of geostationary satellites which takes high temporal resolution images every 5-15 min, with each pixel having a resolution of about 0.5 to 2 km (NOAA & NASA, 2024). When we refer to a satellite as *geostationary*, it means that it orbits the Earth in the same direction about 35,000 km above the equator and at about the same speed so that from the perspective of a ground-bound observer, the satellite appears nearly stationary. Among the two satellites we mentioned earlier, GOES-16 does the majority of the image capture over the North and South American continent while GOES-17 functions as a ready spare when necessary (NOAA & NASA, 2024).\n",
        "\n",
        "On board each GOES satellite is the [Advanced Baseline Imager (ABI)](https://www.goes-r.gov/spacesegment/abi.html) instrument for imaging the Earth's weather, oceans, and environment through its 16 different spectral bands (NOAA & NASA, n.d.). While tracking the flow of wildfire is the use case we're most interested in, these satellites can also provide independent data sources for monitoring things like cloud formation, land surface temperature, ocean dynamics, volcanic ash plumes, vegetative health and more. Because our GOES satellites can take snapshots every 5-15 minutes, decision-makers can rely on the monitoring and fire perimeter we build from this data to inform their emergency response. In contrast to Sentinel-2, GOES satellites are also capable of gathering data 24/7 through their thermal infrared bands which do not rely on sunlight (NOAA & NASA, n.d.). Additionally, it is also capable of penetrating cloud cover by snapping images during windows where the cover is less dense (NOAA & NASA, n.d.).\n",
        "\n",
        "Now that we've gotten the brief overview of the GOES-16/17 satellites out of the way, let's start extracting data again from the [Earth Engine Data Catalog](https://developers.google.com/earth-engine/datasets/catalog/NOAA_GOES_16_FDCF#bands) using the same parameters we used earlier to locate the Lytton Creek wildfire during the end of June 2021. As we can see, we extracted over 4,000 images from each satellite due to its ability to snap images in lightning-quick 5-15 minute intervals."
      ],
      "metadata": {
        "id": "ODbxX7hhcenC"
      }
    },
    {
      "cell_type": "code",
      "source": [
        "# Gathering satellite data\n",
        "goes_16 = ee.ImageCollection(\"NOAA/GOES/16/FDCF\").filterDate(start_date, end_date).filterBounds(poi)\n",
        "\n",
        "goes_17 = ee.ImageCollection(\"NOAA/GOES/17/FDCF\").filterDate(start_date, end_date).filterBounds(poi)\n",
        "\n",
        "# Example: print the number of images in the collections (optional)\n",
        "print(f\"Number of GOES-16 images: {goes_16.size().getInfo()}\")\n",
        "print(f\"Number of GOES-17 images: {goes_17.size().getInfo()}\")"
      ],
      "metadata": {
        "id": "zNMqPDWsYski",
        "colab": {
          "base_uri": "https://localhost:8080/",
          "height": 52
        },
        "outputId": "84eec2c1-2860-4a52-e415-a33ba72dab54"
      },
      "execution_count": 13,
      "outputs": [
        {
          "output_type": "display_data",
          "data": {
            "text/plain": [
              "<IPython.core.display.HTML object>"
            ],
            "text/html": [
              "\n",
              "            <style>\n",
              "                .geemap-dark {\n",
              "                    --jp-widgets-color: white;\n",
              "                    --jp-widgets-label-color: white;\n",
              "                    --jp-ui-font-color1: white;\n",
              "                    --jp-layout-color2: #454545;\n",
              "                    background-color: #383838;\n",
              "                }\n",
              "\n",
              "                .geemap-dark .jupyter-button {\n",
              "                    --jp-layout-color3: #383838;\n",
              "                }\n",
              "\n",
              "                .geemap-colab {\n",
              "                    background-color: var(--colab-primary-surface-color, white);\n",
              "                }\n",
              "\n",
              "                .geemap-colab .jupyter-button {\n",
              "                    --jp-layout-color3: var(--colab-primary-surface-color, white);\n",
              "                }\n",
              "            </style>\n",
              "            "
            ]
          },
          "metadata": {}
        },
        {
          "output_type": "stream",
          "name": "stdout",
          "text": [
            "Number of GOES-16 images: 4273\n",
            "Number of GOES-17 images: 4245\n"
          ]
        }
      ]
    },
    {
      "cell_type": "code",
      "source": [
        "# Getting a feel for the data we've extracted from the Earth Engine dataset\n",
        "pprint.pp(goes_17.first().getInfo())"
      ],
      "metadata": {
        "id": "PlFkrjw6pPhD",
        "colab": {
          "base_uri": "https://localhost:8080/",
          "height": 1000
        },
        "outputId": "933497c8-c966-47fe-e045-8bc44a90bd6d"
      },
      "execution_count": 14,
      "outputs": [
        {
          "output_type": "display_data",
          "data": {
            "text/plain": [
              "<IPython.core.display.HTML object>"
            ],
            "text/html": [
              "\n",
              "            <style>\n",
              "                .geemap-dark {\n",
              "                    --jp-widgets-color: white;\n",
              "                    --jp-widgets-label-color: white;\n",
              "                    --jp-ui-font-color1: white;\n",
              "                    --jp-layout-color2: #454545;\n",
              "                    background-color: #383838;\n",
              "                }\n",
              "\n",
              "                .geemap-dark .jupyter-button {\n",
              "                    --jp-layout-color3: #383838;\n",
              "                }\n",
              "\n",
              "                .geemap-colab {\n",
              "                    background-color: var(--colab-primary-surface-color, white);\n",
              "                }\n",
              "\n",
              "                .geemap-colab .jupyter-button {\n",
              "                    --jp-layout-color3: var(--colab-primary-surface-color, white);\n",
              "                }\n",
              "            </style>\n",
              "            "
            ]
          },
          "metadata": {}
        },
        {
          "output_type": "stream",
          "name": "stdout",
          "text": [
            "{'type': 'Image',\n",
            " 'bands': [{'id': 'Area',\n",
            "            'data_type': {'type': 'PixelType',\n",
            "                          'precision': 'int',\n",
            "                          'min': -32768,\n",
            "                          'max': 32767},\n",
            "            'dimensions': [5424, 5424],\n",
            "            'crs': 'PROJCS[\"unnamed\", \\n'\n",
            "                   '  GEOGCS[\"unknown\", \\n'\n",
            "                   '    DATUM[\"unknown\", \\n'\n",
            "                   '      SPHEROID[\"Spheroid\", 6378137.0, 298.2572221]], \\n'\n",
            "                   '    PRIMEM[\"Greenwich\", 0.0], \\n'\n",
            "                   '    UNIT[\"degree\", 0.017453292519943295], \\n'\n",
            "                   '    AXIS[\"Longitude\", EAST], \\n'\n",
            "                   '    AXIS[\"Latitude\", NORTH]], \\n'\n",
            "                   '  PROJECTION[\"GEOS\"], \\n'\n",
            "                   '  PARAMETER[\"central_meridian\", -137.0], \\n'\n",
            "                   '  PARAMETER[\"satellite_height\", 35786023.0], \\n'\n",
            "                   '  PARAMETER[\"false_easting\", 0.0], \\n'\n",
            "                   '  PARAMETER[\"false_northing\", 0.0], \\n'\n",
            "                   '  PARAMETER[\"sweep\", 0.0], \\n'\n",
            "                   '  PARAMETER[\"Option\", 0.0], \\n'\n",
            "                   '  UNIT[\"m\", 1.0], \\n'\n",
            "                   '  AXIS[\"x\", EAST], \\n'\n",
            "                   '  AXIS[\"y\", NORTH]]',\n",
            "            'crs_transform': [2004.017315487541,\n",
            "                              0,\n",
            "                              -5434894.700982174,\n",
            "                              0,\n",
            "                              2004.017315487541,\n",
            "                              -5434895.218222249]},\n",
            "           {'id': 'Temp',\n",
            "            'data_type': {'type': 'PixelType',\n",
            "                          'precision': 'int',\n",
            "                          'min': -32768,\n",
            "                          'max': 32767},\n",
            "            'dimensions': [5424, 5424],\n",
            "            'crs': 'PROJCS[\"unnamed\", \\n'\n",
            "                   '  GEOGCS[\"unknown\", \\n'\n",
            "                   '    DATUM[\"unknown\", \\n'\n",
            "                   '      SPHEROID[\"Spheroid\", 6378137.0, 298.2572221]], \\n'\n",
            "                   '    PRIMEM[\"Greenwich\", 0.0], \\n'\n",
            "                   '    UNIT[\"degree\", 0.017453292519943295], \\n'\n",
            "                   '    AXIS[\"Longitude\", EAST], \\n'\n",
            "                   '    AXIS[\"Latitude\", NORTH]], \\n'\n",
            "                   '  PROJECTION[\"GEOS\"], \\n'\n",
            "                   '  PARAMETER[\"central_meridian\", -137.0], \\n'\n",
            "                   '  PARAMETER[\"satellite_height\", 35786023.0], \\n'\n",
            "                   '  PARAMETER[\"false_easting\", 0.0], \\n'\n",
            "                   '  PARAMETER[\"false_northing\", 0.0], \\n'\n",
            "                   '  PARAMETER[\"sweep\", 0.0], \\n'\n",
            "                   '  PARAMETER[\"Option\", 0.0], \\n'\n",
            "                   '  UNIT[\"m\", 1.0], \\n'\n",
            "                   '  AXIS[\"x\", EAST], \\n'\n",
            "                   '  AXIS[\"y\", NORTH]]',\n",
            "            'crs_transform': [2004.017315487541,\n",
            "                              0,\n",
            "                              -5434894.700982174,\n",
            "                              0,\n",
            "                              2004.017315487541,\n",
            "                              -5434895.218222249]},\n",
            "           {'id': 'Mask',\n",
            "            'data_type': {'type': 'PixelType',\n",
            "                          'precision': 'int',\n",
            "                          'min': -32768,\n",
            "                          'max': 32767},\n",
            "            'dimensions': [5424, 5424],\n",
            "            'crs': 'PROJCS[\"unnamed\", \\n'\n",
            "                   '  GEOGCS[\"unknown\", \\n'\n",
            "                   '    DATUM[\"unknown\", \\n'\n",
            "                   '      SPHEROID[\"Spheroid\", 6378137.0, 298.2572221]], \\n'\n",
            "                   '    PRIMEM[\"Greenwich\", 0.0], \\n'\n",
            "                   '    UNIT[\"degree\", 0.017453292519943295], \\n'\n",
            "                   '    AXIS[\"Longitude\", EAST], \\n'\n",
            "                   '    AXIS[\"Latitude\", NORTH]], \\n'\n",
            "                   '  PROJECTION[\"GEOS\"], \\n'\n",
            "                   '  PARAMETER[\"central_meridian\", -137.0], \\n'\n",
            "                   '  PARAMETER[\"satellite_height\", 35786023.0], \\n'\n",
            "                   '  PARAMETER[\"false_easting\", 0.0], \\n'\n",
            "                   '  PARAMETER[\"false_northing\", 0.0], \\n'\n",
            "                   '  PARAMETER[\"sweep\", 0.0], \\n'\n",
            "                   '  PARAMETER[\"Option\", 0.0], \\n'\n",
            "                   '  UNIT[\"m\", 1.0], \\n'\n",
            "                   '  AXIS[\"x\", EAST], \\n'\n",
            "                   '  AXIS[\"y\", NORTH]]',\n",
            "            'crs_transform': [2004.017315487541,\n",
            "                              0,\n",
            "                              -5434894.700982174,\n",
            "                              0,\n",
            "                              2004.017315487541,\n",
            "                              -5434895.218222249]},\n",
            "           {'id': 'Power',\n",
            "            'data_type': {'type': 'PixelType', 'precision': 'float'},\n",
            "            'dimensions': [5424, 5424],\n",
            "            'crs': 'PROJCS[\"unnamed\", \\n'\n",
            "                   '  GEOGCS[\"unknown\", \\n'\n",
            "                   '    DATUM[\"unknown\", \\n'\n",
            "                   '      SPHEROID[\"Spheroid\", 6378137.0, 298.2572221]], \\n'\n",
            "                   '    PRIMEM[\"Greenwich\", 0.0], \\n'\n",
            "                   '    UNIT[\"degree\", 0.017453292519943295], \\n'\n",
            "                   '    AXIS[\"Longitude\", EAST], \\n'\n",
            "                   '    AXIS[\"Latitude\", NORTH]], \\n'\n",
            "                   '  PROJECTION[\"GEOS\"], \\n'\n",
            "                   '  PARAMETER[\"central_meridian\", -137.0], \\n'\n",
            "                   '  PARAMETER[\"satellite_height\", 35786023.0], \\n'\n",
            "                   '  PARAMETER[\"false_easting\", 0.0], \\n'\n",
            "                   '  PARAMETER[\"false_northing\", 0.0], \\n'\n",
            "                   '  PARAMETER[\"sweep\", 0.0], \\n'\n",
            "                   '  PARAMETER[\"Option\", 0.0], \\n'\n",
            "                   '  UNIT[\"m\", 1.0], \\n'\n",
            "                   '  AXIS[\"x\", EAST], \\n'\n",
            "                   '  AXIS[\"y\", NORTH]]',\n",
            "            'crs_transform': [2004.017315487541,\n",
            "                              0,\n",
            "                              -5434894.700982174,\n",
            "                              0,\n",
            "                              2004.017315487541,\n",
            "                              -5434895.218222249]},\n",
            "           {'id': 'DQF',\n",
            "            'data_type': {'type': 'PixelType',\n",
            "                          'precision': 'int',\n",
            "                          'min': -128,\n",
            "                          'max': 127},\n",
            "            'dimensions': [5424, 5424],\n",
            "            'crs': 'PROJCS[\"unnamed\", \\n'\n",
            "                   '  GEOGCS[\"unknown\", \\n'\n",
            "                   '    DATUM[\"unknown\", \\n'\n",
            "                   '      SPHEROID[\"Spheroid\", 6378137.0, 298.2572221]], \\n'\n",
            "                   '    PRIMEM[\"Greenwich\", 0.0], \\n'\n",
            "                   '    UNIT[\"degree\", 0.017453292519943295], \\n'\n",
            "                   '    AXIS[\"Longitude\", EAST], \\n'\n",
            "                   '    AXIS[\"Latitude\", NORTH]], \\n'\n",
            "                   '  PROJECTION[\"GEOS\"], \\n'\n",
            "                   '  PARAMETER[\"central_meridian\", -137.0], \\n'\n",
            "                   '  PARAMETER[\"satellite_height\", 35786023.0], \\n'\n",
            "                   '  PARAMETER[\"false_easting\", 0.0], \\n'\n",
            "                   '  PARAMETER[\"false_northing\", 0.0], \\n'\n",
            "                   '  PARAMETER[\"sweep\", 0.0], \\n'\n",
            "                   '  PARAMETER[\"Option\", 0.0], \\n'\n",
            "                   '  UNIT[\"m\", 1.0], \\n'\n",
            "                   '  AXIS[\"x\", EAST], \\n'\n",
            "                   '  AXIS[\"y\", NORTH]]',\n",
            "            'crs_transform': [2004.017315487541,\n",
            "                              0,\n",
            "                              -5434894.700982174,\n",
            "                              0,\n",
            "                              2004.017315487541,\n",
            "                              -5434895.218222249]}],\n",
            " 'version': 1623715883975148,\n",
            " 'id': 'NOAA/GOES/17/FDCF/2021166000031900000',\n",
            " 'properties': {'system:time_start': 1623715231900,\n",
            "                'system:footprint': {'type': 'LinearRing',\n",
            "                                     'coordinates': [[-180, -90],\n",
            "                                                     [180, -90],\n",
            "                                                     [180, 90],\n",
            "                                                     [-180, 90],\n",
            "                                                     [-180, -90]]},\n",
            "                'system:time_end': 1623715778600,\n",
            "                'system:asset_size': 749867,\n",
            "                'system:index': '2021166000031900000'}}\n"
          ]
        }
      ]
    },
    {
      "cell_type": "markdown",
      "source": [
        "Let's also load the `map_from_map_codes_to_confidence_values()` and `apply_scale_factors()` functions the team at Google [provided us](https://medium.com/google-earth/how-to-generate-wildfire-boundary-maps-with-earth-engine-b38eadc97a38) to process our data."
      ],
      "metadata": {
        "id": "RR1ovhHLY_pL"
      }
    },
    {
      "cell_type": "code",
      "source": [
        "def map_from_mask_codes_to_confidence_values(image):\n",
        "    return image.clip(poi).remap(fire_mask_codes, confidence_values, default_confidence_value)"
      ],
      "metadata": {
        "id": "I45V4_jnYszD",
        "colab": {
          "base_uri": "https://localhost:8080/",
          "height": 17
        },
        "outputId": "48363504-1003-4594-c050-15e7ad3958b6"
      },
      "execution_count": 15,
      "outputs": [
        {
          "output_type": "display_data",
          "data": {
            "text/plain": [
              "<IPython.core.display.HTML object>"
            ],
            "text/html": [
              "\n",
              "            <style>\n",
              "                .geemap-dark {\n",
              "                    --jp-widgets-color: white;\n",
              "                    --jp-widgets-label-color: white;\n",
              "                    --jp-ui-font-color1: white;\n",
              "                    --jp-layout-color2: #454545;\n",
              "                    background-color: #383838;\n",
              "                }\n",
              "\n",
              "                .geemap-dark .jupyter-button {\n",
              "                    --jp-layout-color3: #383838;\n",
              "                }\n",
              "\n",
              "                .geemap-colab {\n",
              "                    background-color: var(--colab-primary-surface-color, white);\n",
              "                }\n",
              "\n",
              "                .geemap-colab .jupyter-button {\n",
              "                    --jp-layout-color3: var(--colab-primary-surface-color, white);\n",
              "                }\n",
              "            </style>\n",
              "            "
            ]
          },
          "metadata": {}
        }
      ]
    },
    {
      "cell_type": "code",
      "source": [
        "# Applies scaling factors.\n",
        "def apply_scale_factors(image):\n",
        "  optical_bands = image.select(\"SR_B.\").multiply(0.0000275).add(-0.2)\n",
        "  thermal_bands = image.select(\"ST_B.*\").multiply(0.00341802).add(149.0)\n",
        "  return image.addBands(optical_bands, None, True).addBands(\n",
        "      thermal_bands, None, True\n",
        "  )"
      ],
      "metadata": {
        "id": "fFCZ5ojkYsv7",
        "colab": {
          "base_uri": "https://localhost:8080/",
          "height": 17
        },
        "outputId": "d7b6ee47-79cc-43ec-a8b1-abbcf7b70d2e"
      },
      "execution_count": 16,
      "outputs": [
        {
          "output_type": "display_data",
          "data": {
            "text/plain": [
              "<IPython.core.display.HTML object>"
            ],
            "text/html": [
              "\n",
              "            <style>\n",
              "                .geemap-dark {\n",
              "                    --jp-widgets-color: white;\n",
              "                    --jp-widgets-label-color: white;\n",
              "                    --jp-ui-font-color1: white;\n",
              "                    --jp-layout-color2: #454545;\n",
              "                    background-color: #383838;\n",
              "                }\n",
              "\n",
              "                .geemap-dark .jupyter-button {\n",
              "                    --jp-layout-color3: #383838;\n",
              "                }\n",
              "\n",
              "                .geemap-colab {\n",
              "                    background-color: var(--colab-primary-surface-color, white);\n",
              "                }\n",
              "\n",
              "                .geemap-colab .jupyter-button {\n",
              "                    --jp-layout-color3: var(--colab-primary-surface-color, white);\n",
              "                }\n",
              "            </style>\n",
              "            "
            ]
          },
          "metadata": {}
        }
      ]
    },
    {
      "cell_type": "markdown",
      "source": [
        "#### Overview of the Fire Detection Characterization (FDC) Algorithm\n",
        "\n",
        "Now that we've talked a little bit about the satellites used to generate the data, let's discuss how we are to detect the presence of wildfires based on these images. Luckily for us, Google makes this easy by giving developers easy access to the [FDC Fire Detection algorithm](https://www.star.nesdis.noaa.gov/goesr/docs/ATBD/Fire.pdf) which was developed by a research team at the University of Wisconsin-Madison.\n",
        "\n",
        "The primary objective of the **FDC Fire Detection algorithm** is to return the likelihood of a fire based on the pixel data of an input image (Restif & Hoffman, 2020). For those interested, below is a brief overview of the steps that the FDC Fire detection algorithm takes to accomplish this objective:\n",
        "\n",
        "1) First, the algorithm takes the data from the **thermal infrared (TIR)** band of the satellite sensor (band 14), as well as the **shortwave infrared (SWIR)** band (7), and converts the brightness of each pixel to a temperature;\n",
        "\n",
        "2) Next, it flags certain TIR pixels based on whether they exceed a certain threshold. Examples of such thresholds include:\n",
        "- *Absolute threshold* based on a set temperature;\n",
        "- *Relative threshold* based on the delta between a pixel's temperature and its neighbour's exceeding a set amount.\n",
        "\n",
        "3) If a pixel is flagged, it checks for false positives by evaluating the temperature of its neighbouring pixels just like in the previous step. When checking the temperature of the pixel, we can choose to apply a different threshold from step 2 if we wish. And in the case of our code example below, we do just that by applying a relative threshold instead.\n",
        "\n",
        "4) If our neighbouring pixel also exceeds the threshold, it will then apply one last check for false positives by evaluating whether the *delta/difference* between the pixel temperature produced by the TIR (band 14) and the SWIR (band 7) band exceeds a relative threshold.\n",
        "\n",
        "5) And if the difference between the TIR and SWIR pixel temperatures exceeds our relative threshold, the algorithm will return a 1 or a `True` result, confirming that the pixel in question is indeed a fire pixel.\n",
        "\n",
        "Our code below is a simplified demonstration of Steps 1-5 of the FDC algorithm. However, our explanation only covers the presence of a fire based on the pixel's brightness so the final result of our simplified FDC algorithm is a binary `True`/`False` value."
      ],
      "metadata": {
        "id": "cspKemgsvxUQ"
      }
    },
    {
      "cell_type": "code",
      "source": [
        "# Fire Detection Characterization (FDC) Algorithm example implementation\n",
        "\n",
        "# Simulated satellite image data\n",
        "def create_simulated_data(width=50, height=50):\n",
        "\n",
        "    # Create background temperature (avg 290 Kelvin or 16.85 degrees Celsius)\n",
        "    background = np.random.normal(290, 2, (height, width))\n",
        "\n",
        "    # Add some hotter spots (potential fires) with temperatures between 310 to 330 Kelvins (i.e. 36.85 to 56.85 degrees Celsius)\n",
        "    num_hotspots = 5\n",
        "    for _ in range(num_hotspots):\n",
        "        x, y = np.random.randint(0, width), np.random.randint(0, height)\n",
        "        hotspot_temp = np.random.uniform(310, 330)\n",
        "        background[y, x] = hotspot_temp\n",
        "\n",
        "    return background\n",
        "\n",
        "# Simplified FDC algorithm - our absolute thereshold is 310K or 36.85 degrees\n",
        "def simplified_fdc(image_4um, image_11um, absolute_threshold=310, relative_threshold=10):\n",
        "  height, width = image_4um.shape\n",
        "  fire_mask = np.zeros((height, width), dtype=bool)\n",
        "\n",
        "  for i in range(1, height-1):\n",
        "      for j in range(1, width-1):\n",
        "          # Step 1: Check absolute threshold\n",
        "          if image_4um[i, j] > absolute_threshold:\n",
        "              # Step 2: Calculate background\n",
        "              background = np.mean(image_4um[i-1:i+2, j-1:j+2])\n",
        "\n",
        "              # Step 3: Check relative threshold\n",
        "              if image_4um[i, j] - background > relative_threshold:\n",
        "                  # Step 4: Multi-channel confirmation\n",
        "                  if image_4um[i, j] - image_11um[i, j] > 10:\n",
        "                      fire_mask[i, j] = True\n",
        "\n",
        "  return fire_mask\n",
        "\n",
        "# Create simulated data\n",
        "image_4um = create_simulated_data()\n",
        "image_11um = image_4um - np.random.normal(10, 2, image_4um.shape)  # 11um channel is typically cooler"
      ],
      "metadata": {
        "id": "mgp4IJ_K9txq",
        "colab": {
          "base_uri": "https://localhost:8080/",
          "height": 17
        },
        "outputId": "6f8cd160-44d3-4fbc-c59e-6f91340e3720"
      },
      "execution_count": 17,
      "outputs": [
        {
          "output_type": "display_data",
          "data": {
            "text/plain": [
              "<IPython.core.display.HTML object>"
            ],
            "text/html": [
              "\n",
              "            <style>\n",
              "                .geemap-dark {\n",
              "                    --jp-widgets-color: white;\n",
              "                    --jp-widgets-label-color: white;\n",
              "                    --jp-ui-font-color1: white;\n",
              "                    --jp-layout-color2: #454545;\n",
              "                    background-color: #383838;\n",
              "                }\n",
              "\n",
              "                .geemap-dark .jupyter-button {\n",
              "                    --jp-layout-color3: #383838;\n",
              "                }\n",
              "\n",
              "                .geemap-colab {\n",
              "                    background-color: var(--colab-primary-surface-color, white);\n",
              "                }\n",
              "\n",
              "                .geemap-colab .jupyter-button {\n",
              "                    --jp-layout-color3: var(--colab-primary-surface-color, white);\n",
              "                }\n",
              "            </style>\n",
              "            "
            ]
          },
          "metadata": {}
        }
      ]
    },
    {
      "cell_type": "code",
      "source": [
        "# Apply simplified FDC algorithm\n",
        "fire_detections = simplified_fdc(image_4um, image_11um)\n",
        "\n",
        "# Visualize results\n",
        "fig, (ax1, ax2) = plt.subplots(1, 2, figsize=(12, 5))\n",
        "\n",
        "im1 = ax1.imshow(image_4um, cmap=\"hot\")\n",
        "ax1.set_title(\"Simulated 4μm Channel\")\n",
        "plt.colorbar(im1, ax=ax1, label=\"Temperature (K)\")\n",
        "\n",
        "ax2.imshow(image_4um, cmap=\"gray\")\n",
        "ax2.imshow(fire_detections, cmap=\"Reds\", alpha=0.5)\n",
        "ax2.set_title(\"FDC Algorithm Fire Detections\")\n",
        "\n",
        "plt.tight_layout()\n",
        "plt.show()\n",
        "\n",
        "print(f\"Number of fire pixels detected: {np.sum(fire_detections)}\")"
      ],
      "metadata": {
        "id": "GftMLsQZxYl5",
        "colab": {
          "base_uri": "https://localhost:8080/",
          "height": 524
        },
        "outputId": "afaffeda-4eaf-4364-c52a-72f875ab8c25"
      },
      "execution_count": 18,
      "outputs": [
        {
          "output_type": "display_data",
          "data": {
            "text/plain": [
              "<IPython.core.display.HTML object>"
            ],
            "text/html": [
              "\n",
              "            <style>\n",
              "                .geemap-dark {\n",
              "                    --jp-widgets-color: white;\n",
              "                    --jp-widgets-label-color: white;\n",
              "                    --jp-ui-font-color1: white;\n",
              "                    --jp-layout-color2: #454545;\n",
              "                    background-color: #383838;\n",
              "                }\n",
              "\n",
              "                .geemap-dark .jupyter-button {\n",
              "                    --jp-layout-color3: #383838;\n",
              "                }\n",
              "\n",
              "                .geemap-colab {\n",
              "                    background-color: var(--colab-primary-surface-color, white);\n",
              "                }\n",
              "\n",
              "                .geemap-colab .jupyter-button {\n",
              "                    --jp-layout-color3: var(--colab-primary-surface-color, white);\n",
              "                }\n",
              "            </style>\n",
              "            "
            ]
          },
          "metadata": {}
        },
        {
          "output_type": "display_data",
          "data": {
            "text/plain": [
              "<Figure size 1200x500 with 3 Axes>"
            ],
            "image/png": "[encoded data removed]"
          },
          "metadata": {}
        },
        {
          "output_type": "stream",
          "name": "stdout",
          "text": [
            "Number of fire pixels detected: 3\n"
          ]
        }
      ]
    },
    {
      "cell_type": "code",
      "source": [
        "# Visualize results\n",
        "fig1, (ax3, ax4) = plt.subplots(1, 2, figsize=(12, 5))\n",
        "\n",
        "im2 = ax3.imshow(image_11um, cmap=\"hot\")\n",
        "ax3.set_title(\"Simulated 11μm Channel\")\n",
        "plt.colorbar(im2, ax=ax3, label=\"Temperature (K)\")\n",
        "\n",
        "ax4.imshow(image_11um, cmap=\"gray\")\n",
        "ax4.imshow(fire_detections, cmap=\"Reds\", alpha=0.5)\n",
        "ax4.set_title(\"FDC Algorithm Fire Detections\")\n",
        "\n",
        "plt.tight_layout()\n",
        "plt.show()\n",
        "\n",
        "print(f\"Number of fire pixels detected: {np.sum(fire_detections)}\")"
      ],
      "metadata": {
        "id": "3ZQx_2SQdUx8",
        "colab": {
          "base_uri": "https://localhost:8080/",
          "height": 524
        },
        "outputId": "10f7e739-e423-4f8a-db58-05999ca94925"
      },
      "execution_count": 19,
      "outputs": [
        {
          "output_type": "display_data",
          "data": {
            "text/plain": [
              "<IPython.core.display.HTML object>"
            ],
            "text/html": [
              "\n",
              "            <style>\n",
              "                .geemap-dark {\n",
              "                    --jp-widgets-color: white;\n",
              "                    --jp-widgets-label-color: white;\n",
              "                    --jp-ui-font-color1: white;\n",
              "                    --jp-layout-color2: #454545;\n",
              "                    background-color: #383838;\n",
              "                }\n",
              "\n",
              "                .geemap-dark .jupyter-button {\n",
              "                    --jp-layout-color3: #383838;\n",
              "                }\n",
              "\n",
              "                .geemap-colab {\n",
              "                    background-color: var(--colab-primary-surface-color, white);\n",
              "                }\n",
              "\n",
              "                .geemap-colab .jupyter-button {\n",
              "                    --jp-layout-color3: var(--colab-primary-surface-color, white);\n",
              "                }\n",
              "            </style>\n",
              "            "
            ]
          },
          "metadata": {}
        },
        {
          "output_type": "display_data",
          "data": {
            "text/plain": [
              "<Figure size 1200x500 with 3 Axes>"
            ],
            "image/png": "[encoded data removed]"
          },
          "metadata": {}
        },
        {
          "output_type": "stream",
          "name": "stdout",
          "text": [
            "Number of fire pixels detected: 3\n"
          ]
        }
      ]
    },
    {
      "cell_type": "markdown",
      "source": [
        "### Data Transformation: Applying the Fire Detection Algorithm (FDC)\n",
        "\n",
        "There are additional steps associated with the algorithm such as estimating its **fire radiative power (FRP)** which represents the brightness or intensity of a fire in the confirmed pixel. From there, the algorithm then assigns a confidence value towards the probability of an actual fire being reflected from the pixel and plots it on a map to build a fire perimeter.\n",
        "\n",
        "For the sake of brevity, we can cover the complexities behind these confidence values in a future article so for now, take these explanations at face value. At this point in the code, we are now assigning `confidence_values` between 50-100% to the outputs produced by the algorithm. With a single output, if the algorithm returns a value of `15`, it's classifying it as a low probability fire pixel at 50% and in contrast, if it returns a value of `10`, there's a near 100% probability that it is a processed fire pixel (Restif & Hoffman, 2020). The resulting values from this process are captured in the `goes_16_confidence` and `goes_17_confidence` objects in the following code."
      ],
      "metadata": {
        "id": "pFhtnzFIjgJD"
      }
    },
    {
      "cell_type": "code",
      "source": [
        "# Conversion from mask codes to confidence values.\n",
        "fire_mask_codes = [10, 30, 11, 31, 12, 32, 13, 33, 14, 34, 15, 35]\n",
        "confidence_values = [1.0, 1.0, 0.9, 0.9, 0.8, 0.8, 0.5, 0.5, 0.3, 0.3, 0.1, 0.1]\n",
        "default_confidence_value = 0\n",
        "\n",
        "# Processing the GOES-16 satellite images\n",
        "goes_16_confidence = goes_16.select([\"Mask\"]).map(map_from_mask_codes_to_confidence_values)\n",
        "goes_16_max_confidence = goes_16_confidence.reduce(ee.Reducer.max())\n",
        "\n",
        "# Processing the GOES-17 satellite images\n",
        "goes_17_confidence = goes_17.select([\"Mask\"]).map(map_from_mask_codes_to_confidence_values)\n",
        "goes_17_max_confidence = goes_17_confidence.reduce(ee.Reducer.max())"
      ],
      "metadata": {
        "id": "Hin2lrkHYshb",
        "colab": {
          "base_uri": "https://localhost:8080/",
          "height": 17
        },
        "outputId": "4546f2ba-83b2-46d3-e4b3-e24794d12d0b"
      },
      "execution_count": 20,
      "outputs": [
        {
          "output_type": "display_data",
          "data": {
            "text/plain": [
              "<IPython.core.display.HTML object>"
            ],
            "text/html": [
              "\n",
              "            <style>\n",
              "                .geemap-dark {\n",
              "                    --jp-widgets-color: white;\n",
              "                    --jp-widgets-label-color: white;\n",
              "                    --jp-ui-font-color1: white;\n",
              "                    --jp-layout-color2: #454545;\n",
              "                    background-color: #383838;\n",
              "                }\n",
              "\n",
              "                .geemap-dark .jupyter-button {\n",
              "                    --jp-layout-color3: #383838;\n",
              "                }\n",
              "\n",
              "                .geemap-colab {\n",
              "                    background-color: var(--colab-primary-surface-color, white);\n",
              "                }\n",
              "\n",
              "                .geemap-colab .jupyter-button {\n",
              "                    --jp-layout-color3: var(--colab-primary-surface-color, white);\n",
              "                }\n",
              "            </style>\n",
              "            "
            ]
          },
          "metadata": {}
        }
      ]
    },
    {
      "cell_type": "markdown",
      "source": [
        "### Data Visualization\n",
        "\n",
        "Now, one last thing. Since the satellites collect data over a specific time range, the probability of a fire in a given pixel may vary greatly due to the evolving nature of the on-ground event. Although the temporal aspect of the data itself contains plenty of valuable information, in this instance, we're more concerned with generating a broad outline of the fire boundary. To do so, we can use the `ee.Reducer.max()` function to return the highest confidence value of each pixel within the specified time range (Restif & Hoffman, 2020). We'll apply this to both the `goes_16_confidence` and the `goes_17_confidence` objects before overlaying the specific pixel plots on our map below."
      ],
      "metadata": {
        "id": "iiq-Rd_SmZEQ"
      }
    },
    {
      "cell_type": "code",
      "source": [
        "# We can visualize that initial data processing step from each satellite, using:\n",
        "affected_area_palette = [\"white\", \"yellow\", \"orange\", \"red\", \"purple\"]\n",
        "\n",
        "earth_engine_viz = {\n",
        "    \"opacity\": 0.3,\n",
        "    \"min\": 0,\n",
        "    \"max\": 1,\n",
        "    \"palette\": affected_area_palette\n",
        "  }\n",
        "\n",
        "# Create a map.\n",
        "Map = geemap.Map()\n",
        "Map.centerObject(poi, 9)\n",
        "Map.addLayer(poi, {\"color\": \"green\"}, \"Area of interest\", True, 0.2)\n",
        "Map.addLayer(goes_16_max_confidence, earth_engine_viz, \"GOES-16 maximum confidence\")\n",
        "Map.addLayer(goes_17_max_confidence, earth_engine_viz, \"GOES-17 maximum confidence\")\n",
        "Map"
      ],
      "metadata": {
        "id": "lh4HOGb7dU-b",
        "colab": {
          "base_uri": "https://localhost:8080/",
          "height": 621,
          "referenced_widgets": [
            "2c836f2e35614aacbea91806c1239bba",
            "4ed6651272e5495c8d74843ad38c470b",
            "d1b6e668f03c4c5480024b5b6478cbdc",
            "bf2474b1f70e427bb28490053f63a4f3",
            "94712fb99cd54945b4dba0c3312142d3",
            "3e86d049c93342edb58aab13aa8455d5",
            "980f93f7fd284cc5aa742810413fa584",
            "92c46e85f5f34d1d9d75ee6349e819bb",
            "884445082ade405cbf5c9096fb3a8a18",
            "6be4bcc4999b4f4ea804cdf4bc591d5f",
            "95d930229e6b40c998800435616d8b62",
            "9d53fe93fe8d46a9bc4b48853975711b",
            "93f09d4884b54828a7ed261b9805e534",
            "c1d8f93f5f0c44379f5768678b4752f0",
            "c7eb49b6d4314c8aa57344fa4f0e42a0",
            "02b7a20f202b4516b2f53c016994d365",
            "2819f6c2a54245898b9079d16904f431",
            "a39867d24a084d94bd870fc8fd800f94",
            "6cc7c448a65b43ca8d1e287a07aa9323",
            "580118aa81ce4c35b22be7ffc226fe1c"
          ]
        },
        "outputId": "c432abc4-eb22-4fd6-f50a-9e43a5962ebe"
      },
      "execution_count": 21,
      "outputs": [
        {
          "output_type": "display_data",
          "data": {
            "text/plain": [
              "<IPython.core.display.HTML object>"
            ],
            "text/html": [
              "\n",
              "            <style>\n",
              "                .geemap-dark {\n",
              "                    --jp-widgets-color: white;\n",
              "                    --jp-widgets-label-color: white;\n",
              "                    --jp-ui-font-color1: white;\n",
              "                    --jp-layout-color2: #454545;\n",
              "                    background-color: #383838;\n",
              "                }\n",
              "\n",
              "                .geemap-dark .jupyter-button {\n",
              "                    --jp-layout-color3: #383838;\n",
              "                }\n",
              "\n",
              "                .geemap-colab {\n",
              "                    background-color: var(--colab-primary-surface-color, white);\n",
              "                }\n",
              "\n",
              "                .geemap-colab .jupyter-button {\n",
              "                    --jp-layout-color3: var(--colab-primary-surface-color, white);\n",
              "                }\n",
              "            </style>\n",
              "            "
            ]
          },
          "metadata": {}
        },
        {
          "output_type": "display_data",
          "data": {
            "text/plain": [
              "Map(center=[50.23128609777502, -121.58153879631847], controls=(ZoomControl(options=['position', 'zoom_in_text'…"
            ],
            "application/vnd.jupyter.widget-view+json": {
              "version_major": 2,
              "version_minor": 0,
              "model_id": "2c836f2e35614aacbea91806c1239bba"
            }
          },
          "metadata": {
            "application/vnd.jupyter.widget-view+json": {
              "colab": {
                "custom_widget_manager": {
                  "url": "https://ssl.gstatic.com/colaboratory-static/widgets/colab-cdn-widget-manager/2b70e893a8ba7c0f/manager.min.js"
                }
              }
            }
          }
        }
      ]
    },
    {
      "cell_type": "markdown",
      "source": [
        "From our initial results, we can see two iterations of the FDC Algorithm layered over top of each other on the map. We can combine the results of our two satellite images to increase the spatial resolution of our wildfire perimeter using the `ee.Reducer.min()` function which returns the lesser of the two confidence values where the two layers intersect (Restif & Hoffman, 2020)."
      ],
      "metadata": {
        "id": "IkWC8o-feLwz"
      }
    },
    {
      "cell_type": "code",
      "source": [
        "# Combine the confidence values from both GOES-16 and GOES-17 using the minimum reducer\n",
        "combined_confidence = ee.ImageCollection([goes_16_max_confidence, goes_17_max_confidence]).reduce(ee.Reducer.min())\n",
        "\n",
        "# Create a map\n",
        "Map = geemap.Map()\n",
        "Map.centerObject(poi, 9)\n",
        "Map.addLayer(poi, {\"color\": \"green\"}, \"Area of interest\", True, 0.2)\n",
        "Map.addLayer(combined_confidence, earth_engine_viz, \"Combined confidence\")\n",
        "\n",
        "# Display the map\n",
        "Map"
      ],
      "metadata": {
        "id": "rVEaK3EgdU7T",
        "colab": {
          "base_uri": "https://localhost:8080/",
          "height": 621,
          "referenced_widgets": [
            "d791a4b14c8743a5bb8613998635a70c",
            "b1315cc29ea946da897aa03d7c723871",
            "7486443faf82409aa8606c97a096d556",
            "2ab7a0cd5b1b444088a36c36da8e9fdf",
            "5b7c776415ca42c094baff59c5a50ddd",
            "2e17ad955ebd45a8a8f427a185e26c41",
            "8a3e1343a64c42e4b0e3a7ac8c9e6641",
            "d15a29a487da4f5cb38443f1f03719e0",
            "2b93e46393a74aad88a08b63b25811c6",
            "f883a3da98a246a995f17715fca595ab",
            "754da57152d54e1381c49cca50be2c57",
            "b6362ca0a9ca4750876842fc3954869c",
            "5d528d92260d491fba990acf3e145f7f",
            "0c415d7f483f4506a42280265ae3a208",
            "bc1036dffff246f48cdc99bc8d444890",
            "03a0addb16ec462ba5335abdc543e010",
            "bcbdf2ca55ff4df2ade5905acd409d45",
            "d13aa9f456ea4e47bd7d2d84058daf31",
            "ea4f4a07df8e448e94fdadbd29f05778"
          ]
        },
        "outputId": "0c2e6458-5f63-4915-9ba9-cbd30a7c9eaf"
      },
      "execution_count": 22,
      "outputs": [
        {
          "output_type": "display_data",
          "data": {
            "text/plain": [
              "<IPython.core.display.HTML object>"
            ],
            "text/html": [
              "\n",
              "            <style>\n",
              "                .geemap-dark {\n",
              "                    --jp-widgets-color: white;\n",
              "                    --jp-widgets-label-color: white;\n",
              "                    --jp-ui-font-color1: white;\n",
              "                    --jp-layout-color2: #454545;\n",
              "                    background-color: #383838;\n",
              "                }\n",
              "\n",
              "                .geemap-dark .jupyter-button {\n",
              "                    --jp-layout-color3: #383838;\n",
              "                }\n",
              "\n",
              "                .geemap-colab {\n",
              "                    background-color: var(--colab-primary-surface-color, white);\n",
              "                }\n",
              "\n",
              "                .geemap-colab .jupyter-button {\n",
              "                    --jp-layout-color3: var(--colab-primary-surface-color, white);\n",
              "                }\n",
              "            </style>\n",
              "            "
            ]
          },
          "metadata": {}
        },
        {
          "output_type": "display_data",
          "data": {
            "text/plain": [
              "Map(center=[50.23128609777502, -121.58153879631847], controls=(ZoomControl(options=['position', 'zoom_in_text'…"
            ],
            "application/vnd.jupyter.widget-view+json": {
              "version_major": 2,
              "version_minor": 0,
              "model_id": "d791a4b14c8743a5bb8613998635a70c"
            }
          },
          "metadata": {
            "application/vnd.jupyter.widget-view+json": {
              "colab": {
                "custom_widget_manager": {
                  "url": "https://ssl.gstatic.com/colaboratory-static/widgets/colab-cdn-widget-manager/2b70e893a8ba7c0f/manager.min.js"
                }
              }
            }
          }
        }
      ]
    },
    {
      "cell_type": "markdown",
      "source": [
        "With the results of our two satellites combined, notice how the generated boundary is highly pixelated due to the image quality of the satellites. One last thing we can do to our wildfire boundary is to smooth the boundaries between the combined fire masks using the `ee.Image.reduceNeighborhood()` function."
      ],
      "metadata": {
        "id": "ZLtAfskkgXF_"
      }
    },
    {
      "cell_type": "code",
      "source": [
        "# Define the kernel for smoothing\n",
        "kernel = ee.Kernel.square(2000, \"meters\", True)\n",
        "\n",
        "# Apply the smoothing using reduceNeighborhood with the mean reducer\n",
        "smoothed_confidence = combined_confidence.reduceNeighborhood(\n",
        "    reducer=ee.Reducer.mean(),\n",
        "    kernel=kernel,\n",
        "    optimization=\"boxcar\"\n",
        ")\n",
        "\n",
        "# Create a map\n",
        "Map = geemap.Map()\n",
        "Map.centerObject(poi, 9)\n",
        "Map.addLayer(poi, {\"color\": \"green\"}, \"Area of interest\", True, 0.2)\n",
        "Map.addLayer(smoothed_confidence, earth_engine_viz, \"Smoothed confidence\")\n",
        "\n",
        "# Display the map\n",
        "Map"
      ],
      "metadata": {
        "id": "invP31ehdU2T",
        "colab": {
          "base_uri": "https://localhost:8080/",
          "height": 621,
          "referenced_widgets": [
            "06ac966264944a56a287899a9137546a",
            "a4c086770a9e42b3ac20b3d5a1daa427",
            "f372980439f14a85bd075583422ea633",
            "3fe3040bb91349febbb17e0d8bbdac42",
            "bc58ffa038d34d09b02393ca5aa883df",
            "b7a842d84b954bf6bb32632998a41646",
            "d809f446b3c44fa986228b084ffc4353",
            "d8f076997b664269bf7af09bf4ae5965",
            "5255d74b14904e93950defc4905def3c",
            "6bb13b1b169c43b286e719efac3e860e",
            "c727024c2e4048a19ce84ee3ac7cceeb",
            "251f5c82e7404a129f123ee4771d2849",
            "88b927518c7e4c35bb0fa0c483e01778",
            "5a6eedbfd6054827a587b4cbe5a8b93f",
            "80f02b9c7e794a39b6ad57e5886f965d",
            "42519cf9dabc4f63b2f9c3f32c78b55a",
            "d5951ae0e8e04415987012a800ca1589",
            "25fc8a037c98420f918cfee5b8e9f6f4",
            "f0445b24a9d2493fa929785be1c335dc"
          ]
        },
        "outputId": "504078e9-be65-44de-aa2b-62244370e953"
      },
      "execution_count": 23,
      "outputs": [
        {
          "output_type": "display_data",
          "data": {
            "text/plain": [
              "<IPython.core.display.HTML object>"
            ],
            "text/html": [
              "\n",
              "            <style>\n",
              "                .geemap-dark {\n",
              "                    --jp-widgets-color: white;\n",
              "                    --jp-widgets-label-color: white;\n",
              "                    --jp-ui-font-color1: white;\n",
              "                    --jp-layout-color2: #454545;\n",
              "                    background-color: #383838;\n",
              "                }\n",
              "\n",
              "                .geemap-dark .jupyter-button {\n",
              "                    --jp-layout-color3: #383838;\n",
              "                }\n",
              "\n",
              "                .geemap-colab {\n",
              "                    background-color: var(--colab-primary-surface-color, white);\n",
              "                }\n",
              "\n",
              "                .geemap-colab .jupyter-button {\n",
              "                    --jp-layout-color3: var(--colab-primary-surface-color, white);\n",
              "                }\n",
              "            </style>\n",
              "            "
            ]
          },
          "metadata": {}
        },
        {
          "output_type": "display_data",
          "data": {
            "text/plain": [
              "Map(center=[50.23128609777502, -121.58153879631847], controls=(ZoomControl(options=['position', 'zoom_in_text'…"
            ],
            "application/vnd.jupyter.widget-view+json": {
              "version_major": 2,
              "version_minor": 0,
              "model_id": "06ac966264944a56a287899a9137546a"
            }
          },
          "metadata": {
            "application/vnd.jupyter.widget-view+json": {
              "colab": {
                "custom_widget_manager": {
                  "url": "https://ssl.gstatic.com/colaboratory-static/widgets/colab-cdn-widget-manager/2b70e893a8ba7c0f/manager.min.js"
                }
              }
            }
          }
        }
      ]
    },
    {
      "cell_type": "markdown",
      "source": [
        "There you have it! A near real-time wildfire boundary using Python to deploy the FDC Algorithm on GOES-16 and 17 satellite images from Google's Data Catalog platform. However, as with most technologies, the use of the FDC on GOES-16/17 images doesn't come without its weaknesses which we'll discuss to have a better understanding of the situations where other technologies would be more appropriate.\n",
        "\n",
        "One risk with using the FDC algorithm on GOES-16/17 images is its tendency to detect false positives with an image. For example, reflective surfaces from buildings in urban areas or lakes and dry vegetation in a forest may be misconstrued as a fire.\n",
        "\n",
        "Additionally, the image resolution from GOES-16/17 satellites is poorer compared to other data collection techniques. We saw this first-hand from the pixelated fire perimeter we produced in our initial effort applying the FDC algorithm. The reason why the wildfire perimeter was so pixelated is because each pixel captures anywhere between 4-36 $km^2$ depending on how far the area is from the centre of the image. Due to the spherical shape of the Earth and the satellite's position, the farther an area is from the centre of an image, the lower its image quality. For wildfire detection, what this means is that activities smaller than the pixel size may either be mischaracterized or missed completely.\n",
        "\n",
        "Another aspect to consider is the terrain of the area of interest. This risk is mostly attributed to mountainous terrain where the lee ward side of a mountain may obfuscate a satellite's view in that area.\n",
        "\n",
        "To mitigate these risks, we must use other imaging techniques and technologies alongside GOES-16/17 data to gain a clearer understanding of the ground situation. As we've previously discussed, high-resolution data from Sentinel-2 and Landsat satellites can be highly complementary when they're available as it allows us to cross-validate our resulting wildfire boundaries. On top of that, ground observations and aerial drone surveys add another layer of validation to a highly dynamic event.\n",
        "\n",
        "By executing the FDC algorithm on GOES-16/17 data, there's little doubt that this approach can be a powerful asset in helping us build wildfire perimeters in real time as part of a broader mitigation strategy with other sensory techniques."
      ],
      "metadata": {
        "id": "AgELtmT6i-re"
      }
    },
    {
      "cell_type": "markdown",
      "source": [
        "If you've made it this far, thank you as always for taking the time to read through this tutorial! We hope that we played a role in reducing the barrier to entry in remote sensing and have empowered you with the tools to get started. As our summers get warmer and the proliferation of climate emergencies increases, the work of data science professionals will only become more essential in helping emergency teams save lives, protect property, and reduce suffering."
      ],
      "metadata": {
        "id": "CyITs90YzY-I"
      }
    },
    {
      "cell_type": "markdown",
      "source": [
        "## Resources\n",
        "\n",
        "- Braaten, J. (2022, January, 7). Sentinel-2 Cloud Masking with s2cloudless. *Google Earth Engine.* https://developers.google.com/earth-engine/tutorials/community/sentinel-2-s2cloudless\n",
        "\n",
        "- BC Public Service. (2023, December 7). *Wildfire Season Summary*. https://www2.gov.bc.ca/gov/content/safety/wildfire-status/about-bcws/wildfire-history/wildfire-season-summary\n",
        "\n",
        "- European Space Agency. (2024). S2 mission. https://sentiwiki.copernicus.eu/web/s2-mission\n",
        "\n",
        "- Kulkarni, A. (2023, July 3). *What happens after the Donnie Creek wildfire, now larger than P.E.I., stops burning? CBC.* https://www.cbc.ca/news/canada/british-columbia/donnie-creek-wildfire-aftermath-1.6892294\n",
        "\n",
        "- Lindsay, B. & Dickson, C. (2021, July 1). *Village of Lytton, B.C., evacuated as mayor says 'the whole town is on fire.' CBC.* https://www.cbc.ca/news/canada/british-columbia/bc-wildfires-june-30-2021-1.6085919\n",
        "\n",
        "- National Oceananic and Atmospheric Association (NOAA) & National Aeronautics and Space Administration (NASA). (2024). Beginner's guide to GOES-R series data: How to acquire, analyze, and visualize GOES-R Series data. https://www.goes-r.gov/downloads/resources/documents/Beginners_Guide_to_GOES-R_Series_Data.pdf\n",
        "\n",
        "- National Oceananic and Atmospheric Association (NOAA) & National Aeronautics and Space Administration (NASA). (n.d.). Instruments: Advanced baseline imager (ABI). https://www.goes-r.gov/spacesegment/abi.html\n",
        "\n",
        "- Restif, C. & Hoffman, A. (2020, November 20). How to generate wildfire boundary maps with Earth Engine. *Medium*. https://medium.com/google-earth/how-to-generate-wildfire-boundary-maps-with-earth-engine-b38eadc97a38\n",
        "\n",
        "- Schmidt, C., Hoffman, J., Prins, E., & Lindstrom, S. (2012, July 30). GOES-R Advanced Baseline Imager (ABI) algorithm theoretical basis document for\n",
        "fire / hot spot characterization. NOAA NESDIS Center for Satellite Applications and Research. https://www.star.nesdis.noaa.gov/goesr/docs/ATBD/Fire.pdf\n",
        "\n",
        "- Stull, R. & Rodell, C. (2023, November 18). Case: Sparks Lake, BC. *UBC Earth, Ocean, and Atomspheric Sciences.* https://www.eoas.ubc.ca/courses/atsc413/cases/sparks_lake_BC/index.html\n",
        "\n",
        "- Watson, B. & Lindsay, B. (2021, June 29). *Homes evacuated as out-of-control wildfires grow in B.C.'s Interior CBC.* https://www.cbc.ca/news/canada/british-columbia/wildfires-interior-bc-1.6084445\n",
        "\n",
        "- United Nations: Office for Outer Space Affairs. (n.d.). Normalized Burn Ratio (NBR). https://un-spider.org/advisory-support/recommended-practices/recommended-practice-burn-severity/in-detail/normalized-burn-ratio"
      ],
      "metadata": {
        "id": "VbdqtRlgp29J"
      }
    },
    {
      "cell_type": "code",
      "source": [],
      "metadata": {
        "id": "Nnlar9EvgCfk"
      },
      "execution_count": 23,
      "outputs": []
    }
  ]
}